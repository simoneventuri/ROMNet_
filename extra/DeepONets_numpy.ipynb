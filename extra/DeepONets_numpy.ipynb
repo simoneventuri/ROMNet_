{
 "cells": [
  {
   "cell_type": "code",
   "execution_count": 1,
   "id": "d35c4045-5aa2-4381-b4d3-56ac5662e16f",
   "metadata": {},
   "outputs": [],
   "source": [
    "import numpy as np\n",
    "import time"
   ]
  },
  {
   "cell_type": "code",
   "execution_count": 2,
   "id": "34cddebd-8f4d-4e20-a76c-554234f1e2de",
   "metadata": {},
   "outputs": [],
   "source": [
    "def create_input(n_input_branch, n_input_trunk, n_batch):\n",
    "\n",
    "\treturn np.random.rand(n_batch,n_input_branch)-0.5, np.random.rand(n_batch,n_input_trunk)-0.5\n",
    "\n",
    "\n",
    "def create_params(n_input, n_neurons):\n",
    "\n",
    "\tj_neurons     = n_input\n",
    "\tA_vec         = []\n",
    "\tb_vec         = []\n",
    "\tfor i_neurons in n_neurons:\n",
    "\t\tA         = np.random.rand(j_neurons,i_neurons)\n",
    "\t\tb         = np.random.rand(1,i_neurons)\n",
    "\t\tj_neurons = i_neurons\n",
    "\t\tA_vec.append(A)\n",
    "\t\tb_vec.append(b)\n",
    "\n",
    "\treturn A_vec, b_vec"
   ]
  },
  {
   "cell_type": "code",
   "execution_count": 3,
   "id": "eddc6419-5d1d-495e-93b3-e551a4e04271",
   "metadata": {},
   "outputs": [],
   "source": [
    "def Nonef(x):\n",
    "    return x\n",
    "\n",
    "\n",
    "def softplus(x):\n",
    "    return np.log1p(np.exp(x))\n",
    "\n",
    "\n",
    "def call_layer(x, A, b, act):\n",
    "    z = np.dot(x, A) + b\n",
    "    y = act(z)\n",
    "    return y\n",
    "\n",
    "\n",
    "def call_block(x, A_vec, b_vec, acts_vec):\n",
    "    for i, A in enumerate(A_vec):\n",
    "        b   = b_vec[i]\n",
    "        act = acts_vec[i] \n",
    "        x   = call_layer(x, A, b, act)\n",
    "    return x\n",
    "\n",
    "\n",
    "def call_DeepONet(x_mat, A_mat, b_mat, acts_mat, NReps):\n",
    "    \n",
    "    t = time.time()\n",
    "    \n",
    "    for k in range(NReps):\n",
    "        \n",
    "        y_branch     = call_block(x_mat[0], A_mat[0], b_mat[0], acts_mat[0])\n",
    "        y_trunk      = call_block(x_mat[1], A_mat[1], b_mat[1], acts_mat[1])\n",
    "\n",
    "        y            = np.sum(y_branch * y_trunk, axis=1) + b_final\n",
    "        \n",
    "    elapsed      = time.time() - t\n",
    "\n",
    "    return elapsed\n",
    "\n",
    "\n",
    "def call_flexDeepONet(x_mat, A_mat, b_mat, acts_mat, NReps):\n",
    "    \n",
    "    x_branch     = x_mat[0]\n",
    "    x_trunk      = x_mat[1]\n",
    "    i            = 1\n",
    "\n",
    "    t = time.time()\n",
    "    \n",
    "#     i           += 1\n",
    "#     A_vec_rot    = A_mat[i]\n",
    "#     b_vec_rot    = b_mat[i]\n",
    "#     acts_rot     = acts_mat[i]\n",
    "#     y_rot_       = call_block(x_branch,      A_vec_rot,      b_vec_rot,    acts_rot)\n",
    "#     s_rot        = np.sin(y_rot_[:,0])\n",
    "#     c_rot        = np.cos(y_rot_[:,0])\n",
    "#     y_rot        = np.zeros_like(x_trunk)\n",
    "#     y_rot[:,0]   = x_trunk[:,0] * (c_rot+s_rot)\n",
    "#     y_rot[:,1]   = x_trunk[:,1] * (c_rot-s_rot)\n",
    "#     x_trunk      = y_rot\n",
    "    \n",
    "#     i           += 1\n",
    "#     A_vec_shift  = A_mat[i]\n",
    "#     b_vec_shift  = b_mat[i]\n",
    "#     acts_shift   = acts_mat[i]\n",
    "#     y_shift      = call_block(x_branch,    A_vec_shift,    b_vec_shift,   acts_shift)\n",
    "#     x_trunk     += y_shift \n",
    "    \n",
    "    i           += 1\n",
    "    A_vec_stretch= A_mat[i]\n",
    "    b_vec_stretch= b_mat[i]\n",
    "    acts_stretch = acts_mat[i]\n",
    "    y_stretch    = call_block(x_branch,  A_vec_stretch,  b_vec_stretch, acts_stretch)\n",
    "    x_trunk     *= y_stretch \n",
    "        \n",
    "    \n",
    "    for k in range(NReps):\n",
    "        y_branch     = call_block(x_branch, A_mat[0], b_mat[0], acts_mat[0])\n",
    "        y_trunk      = call_block(x_trunk,  A_mat[1], b_mat[1], acts_mat[1])\n",
    "    \n",
    "        y            = np.sum(y_trunk * y_branch[:,0:-1], axis=1) + y_branch[:,-1]\n",
    "\n",
    "    elapsed      = time.time() - t\n",
    "\n",
    "    return elapsed"
   ]
  },
  {
   "cell_type": "code",
   "execution_count": null,
   "id": "ca18e691-9e90-4fa8-9665-0b018fdd31f5",
   "metadata": {},
   "outputs": [],
   "source": []
  },
  {
   "cell_type": "code",
   "execution_count": 4,
   "id": "49ddb341-fe48-4bfa-bc87-432f40377c73",
   "metadata": {},
   "outputs": [],
   "source": [
    "# x = np.random.rand((100,10))\n",
    "\n",
    "# z = np.dot(x, A) + b\n",
    "# y = act(z)"
   ]
  },
  {
   "cell_type": "code",
   "execution_count": null,
   "id": "7479e7d8-632b-4aa6-b1c9-fc5c0094d1b2",
   "metadata": {},
   "outputs": [],
   "source": []
  },
  {
   "cell_type": "code",
   "execution_count": 5,
   "id": "8a8d8dbd-86c8-4a1b-981b-6856178f11fc",
   "metadata": {},
   "outputs": [],
   "source": [
    "# ################################################################################\n",
    "# n_batch           = 10000\n",
    "\n",
    "# n_input_branch    = 2\n",
    "# n_input_trunk     = 1\n",
    "\n",
    "# acts_branch       = [np.tanh, np.tanh, np.tanh, Nonef]\n",
    "# acts_trunk        = [np.tanh, np.tanh, np.tanh, Nonef]\n",
    "\n",
    "\n",
    "# n_neurons_branch  = [32, 32, 32, 2] \n",
    "# n_neurons_trunk   = [32, 32, 32, 2] \n",
    "\n",
    "# NReps             = 2\n",
    "\n",
    "# Nt                = 100\n",
    "\n",
    "\n",
    "\n",
    "# ################################################################################\n",
    "# n_batch          = 10000\n",
    "\n",
    "# n_input_branch   = 1\n",
    "# n_input_trunk    = 1\n",
    "\n",
    "# acts_branch      = [np.tanh, np.tanh, np.tanh, Nonef]\n",
    "# acts_trunk       = [np.tanh, np.tanh, np.tanh, Nonef]\n",
    "\n",
    "# n_neurons_branch = [32, 32, 32, 8] \n",
    "# n_neurons_trunk  = [32, 32, 32, 8] \n",
    "\n",
    "# NReps            = 1\n",
    "\n",
    "# Nt               = 100\n",
    "\n",
    "\n",
    "\n",
    "################################################################################\n",
    "n_batch          = 10000\n",
    "\n",
    "n_input_branch   = 19\n",
    "n_input_trunk    = 1\n",
    "\n",
    "acts_branch      = [np.tanh, np.tanh, np.tanh, np.tanh, np.tanh, Nonef]\n",
    "acts_trunk       = [np.tanh, np.tanh, np.tanh, np.tanh, np.tanh, Nonef]\n",
    "\n",
    "n_neurons_branch = [64, 64, 64, 64, 64, 32] \n",
    "n_neurons_trunk  = [64, 64, 64, 64, 64, 32] \n",
    "\n",
    "NReps            = 19\n",
    "\n",
    "Nt               = 30\n",
    "\n",
    "\n",
    "\n",
    "# ################################################################################\n",
    "# n_batch          = 100*100\n",
    "\n",
    "# n_input_branch   = 1\n",
    "# n_input_trunk    = 2\n",
    "\n",
    "# acts_branch      = [np.tanh, np.tanh, np.tanh, np.tanh, np.tanh, Nonef]\n",
    "# acts_trunk       = [np.tanh, np.tanh, np.tanh, np.tanh, np.tanh, Nonef]\n",
    "\n",
    "# n_neurons_branch = [128, 128, 128, 128, 128, 128] \n",
    "# n_neurons_trunk  = [128, 128, 128, 128, 128, 128] \n",
    "\n",
    "# NReps            = 1\n",
    "\n",
    "# Nt               = 30"
   ]
  },
  {
   "cell_type": "code",
   "execution_count": 6,
   "id": "3b516166-baf5-4c00-8b3f-97f756983d70",
   "metadata": {},
   "outputs": [],
   "source": [
    "x_mat                      = create_input(n_input_branch, n_input_trunk, n_batch)\n",
    "\n",
    "A_vec_branch, b_vec_branch = create_params(n_input_branch, n_neurons_branch)\n",
    "A_vec_trunk,  b_vec_trunk  = create_params(n_input_trunk,  n_neurons_trunk)\n",
    "b_final                    = np.random.rand()\n",
    "A_mat                      = [A_vec_branch, A_vec_trunk]\n",
    "b_mat                      = [b_vec_branch, b_vec_trunk, b_final]\n",
    "\n",
    "acts_mat                   = [acts_branch, acts_trunk]"
   ]
  },
  {
   "cell_type": "code",
   "execution_count": 7,
   "id": "b7049a30-4e07-4cd2-84d5-34ba2ba1a53a",
   "metadata": {},
   "outputs": [
    {
     "name": "stdout",
     "output_type": "stream",
     "text": [
      "[1.0692050457000732, 1.0610709190368652, 1.046180009841919, 1.0470750331878662, 1.0489699840545654, 1.072772741317749, 1.2200648784637451, 1.110745906829834, 1.0545320510864258, 1.0619797706604004, 1.0605621337890625, 1.0738859176635742, 1.0538489818572998, 1.0504779815673828, 1.0505669116973877, 1.0639119148254395, 1.0489637851715088, 1.0457298755645752, 1.0961809158325195, 1.078359842300415, 1.1614139080047607, 1.074613094329834, 1.056548833847046, 1.0558009147644043, 1.0892012119293213, 1.0842571258544922, 1.0852680206298828, 1.054198980331421, 1.090076208114624, 1.1017792224884033]\n"
     ]
    }
   ],
   "source": [
    "tVec1 = []\n",
    "for it in range(Nt):\n",
    "    t = call_DeepONet(x_mat, A_mat, b_mat, acts_mat, NReps)\n",
    "    tVec1.append(t)\n",
    "    \n",
    "print(tVec1)"
   ]
  },
  {
   "cell_type": "code",
   "execution_count": 8,
   "id": "7fb75144-55dc-4805-a912-e555b7b975a7",
   "metadata": {},
   "outputs": [
    {
     "name": "stdout",
     "output_type": "stream",
     "text": [
      "1.0798296451568603\n"
     ]
    }
   ],
   "source": [
    "tVec1_ = np.array(tVec1)[5::].mean()\n",
    "print(tVec1_)"
   ]
  },
  {
   "cell_type": "code",
   "execution_count": null,
   "id": "6238c25a-0881-4528-86d0-e8cf6090852d",
   "metadata": {},
   "outputs": [],
   "source": []
  },
  {
   "cell_type": "code",
   "execution_count": null,
   "id": "e2472713-0aa9-4c8f-88c8-a20a55a76563",
   "metadata": {},
   "outputs": [],
   "source": []
  },
  {
   "cell_type": "code",
   "execution_count": null,
   "id": "21d54526-0d3d-4ebf-9ded-00daf0c08e8e",
   "metadata": {},
   "outputs": [],
   "source": []
  },
  {
   "cell_type": "code",
   "execution_count": 9,
   "id": "56802fa5-3039-478a-9efd-9a97de79ff69",
   "metadata": {},
   "outputs": [],
   "source": [
    "# ################################################################################\n",
    "# n_batch           = 10000\n",
    "\n",
    "# n_input_branch    = 2\n",
    "# n_input_trunk     = 1\n",
    "\n",
    "# acts_branch       = [np.tanh, np.tanh, np.tanh, Nonef]\n",
    "# acts_trunk        = [np.tanh, np.tanh, np.tanh, Nonef]\n",
    "\n",
    "\n",
    "# n_neurons_branch  = [32, 32, 32, 3] \n",
    "# n_neurons_trunk   = [32, 32, 32, 2] \n",
    "\n",
    "# NReps             = 2\n",
    "\n",
    "# Nt                = 100\n",
    "\n",
    "\n",
    "\n",
    "\n",
    "# ################################################################################\n",
    "# n_batch           = 10000\n",
    "\n",
    "# n_input_branch    = 1\n",
    "# n_input_trunk     = 1\n",
    "\n",
    "# acts_branch       = [np.tanh, Nonef]\n",
    "# acts_stretch      = [Nonef]\n",
    "# acts_trunk        = [np.tanh]\n",
    "\n",
    "\n",
    "# n_neurons_branch  = [2, 2] \n",
    "# n_neurons_stretch = [1] \n",
    "# n_neurons_trunk   = [1] \n",
    "\n",
    "# NReps             = 1\n",
    "\n",
    "# Nt                = 100\n",
    "\n",
    "\n",
    "\n",
    "################################################################################\n",
    "n_batch           = 10000\n",
    "\n",
    "n_input_branch    = 19\n",
    "n_input_trunk     = 1\n",
    "\n",
    "acts_branch       = [np.tanh, np.tanh, np.tanh, Nonef]\n",
    "acts_stretch      = [np.tanh, np.tanh, np.tanh, softplus]\n",
    "acts_trunk        = [np.tanh, np.tanh, np.tanh, Nonef]\n",
    "\n",
    "\n",
    "n_neurons_branch  = [16, 16, 16, 9] \n",
    "n_neurons_stretch = [16, 16, 16, 1] \n",
    "n_neurons_trunk   = [16, 16, 16, 8] \n",
    "\n",
    "NReps             = 19\n",
    "\n",
    "Nt                = 30\n",
    "\n",
    "\n",
    "# ################################################################################\n",
    "# n_batch           = 100*100\n",
    "\n",
    "# n_input_branch    = 1\n",
    "# n_input_trunk     = 2\n",
    "\n",
    "# acts_branch       = [np.tanh, np.tanh, Nonef]\n",
    "# acts_shift        = [np.tanh, np.tanh, np.tanh, Nonef]\n",
    "# acts_stretch      = [np.tanh, np.tanh, np.tanh, Nonef]\n",
    "# acts_rot          = [np.tanh, np.tanh, np.tanh, Nonef]\n",
    "# acts_trunk        = [np.tanh, np.exp,  Nonef]\n",
    "\n",
    "\n",
    "# n_neurons_branch  = [8,   8,  2   ] \n",
    "# n_neurons_shift   = [16, 16, 16, 2] \n",
    "# n_neurons_stretch = [16, 16, 16, 1] \n",
    "# n_neurons_rot     = [16, 16, 16, 1] \n",
    "# n_neurons_trunk   = [4,   1,  1   ] \n",
    "\n",
    "# NReps             = 1\n",
    "# Nt                = 30"
   ]
  },
  {
   "cell_type": "code",
   "execution_count": 10,
   "id": "bb64383d-854b-4e47-9f16-a1e48a50fa80",
   "metadata": {},
   "outputs": [],
   "source": [
    "x_mat                        = create_input(n_input_branch, n_input_trunk, n_batch)\n",
    "\n",
    "A_vec_branch,  b_vec_branch  = create_params(n_input_branch,  n_neurons_branch)\n",
    "A_vec_stretch, b_vec_stretch = create_params(n_input_branch,  n_neurons_stretch)\n",
    "# A_vec_shift,   b_vec_shift   = create_params(n_input_branch,  n_neurons_shift)\n",
    "# A_vec_rot,     b_vec_rot     = create_params(n_input_branch,  n_neurons_rot)\n",
    "A_vec_trunk,   b_vec_trunk   = create_params(n_input_trunk,   n_neurons_trunk)\n",
    "A_mat                        = [A_vec_branch, A_vec_trunk]\n",
    "b_mat                        = [b_vec_branch, b_vec_trunk]\n",
    "acts_mat                     = [acts_branch, acts_trunk]\n",
    "\n",
    "try:\n",
    "    A_mat.append(A_vec_rot)\n",
    "    b_mat.append(b_vec_rot)\n",
    "    acts_mat.append(acts_rot)\n",
    "except:\n",
    "    pass\n",
    "\n",
    "try:\n",
    "    A_mat.append(A_vec_shift)\n",
    "    b_mat.append(b_vec_shift)\n",
    "    acts_mat.append(acts_shift)\n",
    "except:\n",
    "    pass\n",
    "\n",
    "try:\n",
    "    A_mat.append(A_vec_stretch)\n",
    "    b_mat.append(b_vec_stretch)\n",
    "    acts_mat.append(acts_stretch)\n",
    "except:\n",
    "    pass"
   ]
  },
  {
   "cell_type": "code",
   "execution_count": 11,
   "id": "c23c51b5-3546-4eaa-87ec-fdaae5575088",
   "metadata": {},
   "outputs": [
    {
     "name": "stdout",
     "output_type": "stream",
     "text": [
      "[0.30910301208496094, 0.266848087310791, 0.24950885772705078, 0.2503199577331543, 0.2466731071472168, 0.24728608131408691, 0.24574518203735352, 0.24628424644470215, 0.24599695205688477, 0.24973106384277344, 0.2492060661315918, 0.25013208389282227, 0.24915194511413574, 0.25057196617126465, 0.24915599822998047, 0.2459111213684082, 0.24931979179382324, 0.24773812294006348, 0.24901986122131348, 0.25264596939086914, 0.24670791625976562, 0.2469639778137207, 0.25000691413879395, 0.24570798873901367, 0.24579405784606934, 0.24744081497192383, 0.24708104133605957, 0.24635601043701172, 0.24851489067077637, 0.2529611587524414]\n"
     ]
    }
   ],
   "source": [
    "tVec2 = []\n",
    "for it in range(Nt):\n",
    "    t = call_flexDeepONet(x_mat, A_mat, b_mat, acts_mat, NReps)\n",
    "    tVec2.append(t)\n",
    "    \n",
    "print(tVec2)"
   ]
  },
  {
   "cell_type": "code",
   "execution_count": 12,
   "id": "537e2d70-3c4d-4550-b209-58297cd9b00c",
   "metadata": {},
   "outputs": [
    {
     "name": "stdout",
     "output_type": "stream",
     "text": [
      "0.24821724891662597\n"
     ]
    }
   ],
   "source": [
    "tVec2_ = np.array(tVec2)[5::].mean()\n",
    "print(tVec2_)"
   ]
  },
  {
   "cell_type": "code",
   "execution_count": null,
   "id": "83d57921-a185-4cf3-94bb-c2b5f30da6aa",
   "metadata": {},
   "outputs": [],
   "source": []
  },
  {
   "cell_type": "code",
   "execution_count": null,
   "id": "a2f8a7bd-85bd-4700-8661-5ffd771f4b54",
   "metadata": {},
   "outputs": [],
   "source": []
  },
  {
   "cell_type": "code",
   "execution_count": null,
   "id": "330c1c60-4aef-4322-8b11-05f67411e172",
   "metadata": {},
   "outputs": [],
   "source": []
  },
  {
   "cell_type": "code",
   "execution_count": 13,
   "id": "311ed542-cc7a-4db6-a442-b5dd96892166",
   "metadata": {},
   "outputs": [
    {
     "name": "stdout",
     "output_type": "stream",
     "text": [
      "0.22986704433417268\n"
     ]
    }
   ],
   "source": [
    "print(tVec2_/tVec1_)"
   ]
  },
  {
   "cell_type": "code",
   "execution_count": null,
   "id": "e3ef2cb1-9e6b-4a92-9e5e-45db1de272c0",
   "metadata": {},
   "outputs": [],
   "source": []
  }
 ],
 "metadata": {
  "kernelspec": {
   "display_name": "Python 3 (ipykernel)",
   "language": "python",
   "name": "python3"
  },
  "language_info": {
   "codemirror_mode": {
    "name": "ipython",
    "version": 3
   },
   "file_extension": ".py",
   "mimetype": "text/x-python",
   "name": "python",
   "nbconvert_exporter": "python",
   "pygments_lexer": "ipython3",
   "version": "3.9.12"
  }
 },
 "nbformat": 4,
 "nbformat_minor": 5
}
