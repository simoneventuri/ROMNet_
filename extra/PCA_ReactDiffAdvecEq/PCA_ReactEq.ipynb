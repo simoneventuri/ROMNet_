{
 "cells": [
  {
   "cell_type": "code",
   "execution_count": 1,
   "metadata": {},
   "outputs": [],
   "source": [
    "import os\n",
    "import sys\n",
    "\n",
    "import numpy as np\n",
    "\n",
    "import matplotlib\n",
    "from matplotlib        import pyplot as plt\n",
    "from matplotlib        import cm\n",
    "from matplotlib.ticker import LinearLocator\n",
    "\n",
    "WORKSPACE_PATH  = os.environ['WORKSPACE_PATH']\n",
    "plt.style.use(WORKSPACE_PATH+'/ROMNet/romnet/extra/postprocessing/presentation.mplstyle')\n",
    "\n",
    "import cantera         as ct\n",
    "\n",
    "from scipy.integrate import solve_ivp"
   ]
  },
  {
   "cell_type": "code",
   "execution_count": 2,
   "metadata": {},
   "outputs": [],
   "source": [
    "### Create Mixture\n",
    "gas      = ct.Solution('gri30.yaml', energy_enabled=False)\n",
    "T0       = 300.\n",
    "T        = 1000.\n",
    "P0       = 10. * ct.one_atm\n",
    "\n",
    "gas.TPX  = T0, P0, 'CH4:0.5, O2:1, N2:3.76'\n",
    "rho0     = gas.density\n",
    "y0       = gas.Y[0:-1]"
   ]
  },
  {
   "cell_type": "code",
   "execution_count": 3,
   "metadata": {},
   "outputs": [],
   "source": [
    "def IdealGasConstV_SciPY(t, y):\n",
    "    Y        = np.append(y,1.-np.sum(y))\n",
    "    \n",
    "    gas.TDY  = T, rho0, Y\n",
    "    \n",
    "    wdot     = gas.net_production_rates\n",
    "\n",
    "    ydot     = wdot * gas.molecular_weights / rho0  \n",
    "    \n",
    "    return ydot[0:-1]"
   ]
  },
  {
   "cell_type": "code",
   "execution_count": 4,
   "metadata": {},
   "outputs": [],
   "source": [
    "tMin     = 1.e-6\n",
    "tMax     = 1.e0\n",
    "dt0      = 1.e-8\n",
    "tStratch = 1.05\n",
    "tVec     = [0.0]\n",
    "t        = tMin\n",
    "dt       = dt0\n",
    "while (t <= tMax):\n",
    "    tVec.append(t)\n",
    "    t   = t + dt\n",
    "    dt *= tStratch"
   ]
  },
  {
   "cell_type": "code",
   "execution_count": 5,
   "metadata": {},
   "outputs": [
    {
     "name": "stdout",
     "output_type": "stream",
     "text": [
      "[0.         0.         0.         0.22014124 0.         0.\n",
      " 0.         0.         0.         0.         0.         0.\n",
      " 0.         0.05518667 0.         0.         0.         0.\n",
      " 0.         0.         0.         0.         0.         0.\n",
      " 0.         0.         0.         0.         0.         0.\n",
      " 0.         0.         0.         0.         0.         0.\n",
      " 0.         0.         0.         0.         0.         0.\n",
      " 0.         0.         0.         0.         0.         0.7246721\n",
      " 0.         0.         0.         0.        ]\n"
     ]
    }
   ],
   "source": [
    "rtol    = 1.e-10\n",
    "SOLVER  = 'BDF'\n",
    "\n",
    "output  = solve_ivp( IdealGasConstV_SciPY, (tVec[0],tVec[-1]), y0, method=SOLVER, t_eval=tVec, rtol=rtol )"
   ]
  },
  {
   "cell_type": "code",
   "execution_count": 6,
   "metadata": {},
   "outputs": [
    {
     "data": {
      "image/png": "[encoded data removed]",
      "text/plain": [
       "<Figure size 432x288 with 1 Axes>"
      ]
     },
     "metadata": {
      "needs_background": "light"
     },
     "output_type": "display_data"
    }
   ],
   "source": [
    "plt.plot(output.t, output.y[gas.species_names.index('CO2'),:])\n",
    "plt.xscale('log')"
   ]
  },
  {
   "cell_type": "code",
   "execution_count": null,
   "metadata": {},
   "outputs": [],
   "source": []
  }
 ],
 "metadata": {
  "kernelspec": {
   "display_name": "Python 3",
   "language": "python",
   "name": "python3"
  },
  "language_info": {
   "codemirror_mode": {
    "name": "ipython",
    "version": 3
   },
   "file_extension": ".py",
   "mimetype": "text/x-python",
   "name": "python",
   "nbconvert_exporter": "python",
   "pygments_lexer": "ipython3",
   "version": "3.8.11"
  }
 },
 "nbformat": 4,
 "nbformat_minor": 4
}
