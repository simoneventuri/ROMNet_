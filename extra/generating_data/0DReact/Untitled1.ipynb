{
 "cells": [
  {
   "cell_type": "code",
   "execution_count": 1,
   "id": "975a659c",
   "metadata": {},
   "outputs": [],
   "source": [
    "\"\"\"\n",
    "Constant-pressure, adiabatic kinetics simulation.\n",
    "\n",
    "Requires: cantera >= 2.5.0, matplotlib >= 2.0\n",
    "\"\"\"\n",
    "\n",
    "import sys\n",
    "import os\n",
    "import numpy   as np\n",
    "\n",
    "import matplotlib.pyplot as plt\n",
    "WORKSPACE_PATH  = os.environ['WORKSPACE_PATH']\n",
    "plt.style.use(WORKSPACE_PATH+'/ROMNet/romnet/extra/postprocessing/presentation.mplstyle')\n",
    "\n",
    "import cantera as ct\n",
    "\n",
    "from scipy.integrate import solve_ivp"
   ]
  },
  {
   "cell_type": "code",
   "execution_count": 2,
   "id": "6265de30",
   "metadata": {},
   "outputs": [],
   "source": [
    "##########################################################################################\n",
    "### Input Data\n",
    "\n",
    "OutputDir          = WORKSPACE_PATH + '/ROMNet/Data_100DReact/'\n",
    "FigDir             = OutputDir + '/fig/'\n",
    "\n",
    "MixtureFile        = 'gri30.yaml'\n",
    "NTs                = 10\n",
    "T0Vec              = np.logspace(np.log10(300), np.log10(3000), NTs) # [2.e-5]\n",
    "NPerT0             = 3000\n",
    "\n",
    "tStratch           = 1.\n",
    "Nt                 = NPerT0*2\n",
    "\n",
    "P0Inlet            = ct.one_atm\n",
    "EqRatioInlet       = 1.\n",
    "##########################################################################################"
   ]
  },
  {
   "cell_type": "code",
   "execution_count": 3,
   "id": "d2b2cf1c",
   "metadata": {},
   "outputs": [],
   "source": [
    "def ReactorOde_CVODE(t, y):\n",
    "    print(t)\n",
    "\n",
    "    YEnd     = np.array([1.-np.sum(y[1:])], dtype=np.float64)\n",
    "    Y        = np.concatenate((y[1:], YEnd), axis=0)\n",
    "    gas_.TPY = y[0], P_, Y\n",
    "    \n",
    "    wdot     = gas_.net_production_rates\n",
    "\n",
    "    ydot     = np.zeros_like(y, dtype=np.float64)\n",
    "    ydot[0]  = - np.dot(wdot, gas_.partial_molar_enthalpies) / gas_.cp / gas_.density\n",
    "    ydot[1:] = wdot[0:-1] * gas_.molecular_weights[0:-1] / gas_.density\n",
    "    \n",
    "    return ydot"
   ]
  },
  {
   "cell_type": "code",
   "execution_count": 4,
   "id": "84dbef99",
   "metadata": {},
   "outputs": [],
   "source": [
    "T0 = T0Vec[0]"
   ]
  },
  {
   "cell_type": "code",
   "execution_count": 5,
   "id": "c0705d49",
   "metadata": {},
   "outputs": [],
   "source": [
    "gas      = ct.Solution('gri30.yaml')\n",
    "fuel     = \"CH4\"\n",
    "oxidizer = \"O2:0.21,N2:0.77,H:0.02\"\n",
    "\n",
    "gas.TP  = 1000., ct.one_atm\n",
    "gas.set_equivalence_ratio(1., fuel, oxidizer)\n",
    "\n",
    "r       = ct.IdealGasConstPressureReactor(gas)\n",
    "gas_    = gas\n",
    "mass_   = r.mass\n",
    "P_      = ct.one_atm\n",
    "\n",
    "y0      = np.array(np.hstack((gas_.T, gas_.Y[0:-1])), dtype=np.float64)"
   ]
  },
  {
   "cell_type": "code",
   "execution_count": 6,
   "id": "fe0b2186",
   "metadata": {},
   "outputs": [
    {
     "data": {
      "text/plain": [
       "array([0.00000000e+00, 6.73011143e-04, 0.00000000e+00, 2.24323027e-01,\n",
       "       0.00000000e+00, 0.00000000e+00, 0.00000000e+00, 0.00000000e+00,\n",
       "       0.00000000e+00, 0.00000000e+00, 0.00000000e+00, 0.00000000e+00,\n",
       "       0.00000000e+00, 5.48960601e-02, 0.00000000e+00, 0.00000000e+00,\n",
       "       0.00000000e+00, 0.00000000e+00, 0.00000000e+00, 0.00000000e+00,\n",
       "       0.00000000e+00, 0.00000000e+00, 0.00000000e+00, 0.00000000e+00,\n",
       "       0.00000000e+00, 0.00000000e+00, 0.00000000e+00, 0.00000000e+00,\n",
       "       0.00000000e+00, 0.00000000e+00, 0.00000000e+00, 0.00000000e+00,\n",
       "       0.00000000e+00, 0.00000000e+00, 0.00000000e+00, 0.00000000e+00,\n",
       "       0.00000000e+00, 0.00000000e+00, 0.00000000e+00, 0.00000000e+00,\n",
       "       0.00000000e+00, 0.00000000e+00, 0.00000000e+00, 0.00000000e+00,\n",
       "       0.00000000e+00, 0.00000000e+00, 0.00000000e+00, 7.20107902e-01,\n",
       "       0.00000000e+00, 0.00000000e+00, 0.00000000e+00, 0.00000000e+00])"
      ]
     },
     "execution_count": 6,
     "metadata": {},
     "output_type": "execute_result"
    }
   ],
   "source": [
    "gas_.Y[0:-1]"
   ]
  },
  {
   "cell_type": "code",
   "execution_count": 7,
   "id": "271fdf8d",
   "metadata": {},
   "outputs": [
    {
     "data": {
      "text/plain": [
       "101325.0"
      ]
     },
     "execution_count": 7,
     "metadata": {},
     "output_type": "execute_result"
    }
   ],
   "source": [
    "ct.one_atm"
   ]
  },
  {
   "cell_type": "code",
   "execution_count": 8,
   "id": "1cf603ae",
   "metadata": {},
   "outputs": [],
   "source": [
    "dt0        = 1.e-10\n",
    "tMax       = 1.e-2\n",
    "tout       = [0.]\n",
    "tout       = np.concatenate((np.array(tout), np.logspace(np.log10(dt0), np.log10(tMax), Nt-1)), axis=0)\n",
    "rtol       = 1.e-8\n",
    "\n",
    "states     = ct.SolutionArray(gas, 1, extra={'t': [0.0]})\n",
    "SOLVER     = 'BDF'#'RK23'#'BDF'#'Radau'"
   ]
  },
  {
   "cell_type": "code",
   "execution_count": 10,
   "id": "8239ea1f",
   "metadata": {},
   "outputs": [],
   "source": [
    "### Integrate\n",
    "NTott    = len(output.t)\n",
    "#JJTauMat = np.zeros((NTott, output.y.shape[0]))\n",
    "for it in range(NTott):\n",
    "    t = output.t[it]\n",
    "    u = output.y[:,it]\n",
    "\n",
    "    Y        = np.concatenate((u[1:], [1.-np.sum(u[1:])]), axis=0)\n",
    "    gas_.TPY = u[0], P_, Y\n",
    "\n",
    "    if (t==0.):\n",
    "        Mat    = np.concatenate((y0[np.newaxis,...], [[1.-np.sum(u[1:])]]), axis=1)\n",
    "\n",
    "    else:\n",
    "        Mat    = np.concatenate((Mat, np.concatenate((u[np.newaxis,...], [[1.-np.sum(u[1:])]]), axis=1) ), axis=0)\n",
    "        states.append(gas_.state, t=t)\n",
    "\n",
    "    #JJEig          = np.linalg.eigvals(JJ)\n",
    "    #JJTauMat[it,:] = 1./np.abs(JJEig)"
   ]
  },
  {
   "cell_type": "markdown",
   "id": "61270f52",
   "metadata": {},
   "source": [
    "r."
   ]
  },
  {
   "cell_type": "code",
   "execution_count": 11,
   "id": "31719fb1",
   "metadata": {},
   "outputs": [
    {
     "data": {
      "text/plain": [
       "array([[1.00000000e+03, 0.00000000e+00, 6.73011143e-04, 0.00000000e+00,\n",
       "        2.24323027e-01, 0.00000000e+00, 0.00000000e+00, 0.00000000e+00,\n",
       "        0.00000000e+00, 0.00000000e+00, 0.00000000e+00, 0.00000000e+00,\n",
       "        0.00000000e+00, 0.00000000e+00, 5.48960601e-02, 0.00000000e+00,\n",
       "        0.00000000e+00, 0.00000000e+00, 0.00000000e+00, 0.00000000e+00,\n",
       "        0.00000000e+00, 0.00000000e+00, 0.00000000e+00, 0.00000000e+00,\n",
       "        0.00000000e+00, 0.00000000e+00, 0.00000000e+00, 0.00000000e+00,\n",
       "        0.00000000e+00, 0.00000000e+00, 0.00000000e+00, 0.00000000e+00,\n",
       "        0.00000000e+00, 0.00000000e+00, 0.00000000e+00, 0.00000000e+00,\n",
       "        0.00000000e+00, 0.00000000e+00, 0.00000000e+00, 0.00000000e+00,\n",
       "        0.00000000e+00, 0.00000000e+00, 0.00000000e+00, 0.00000000e+00,\n",
       "        0.00000000e+00, 0.00000000e+00, 0.00000000e+00, 0.00000000e+00,\n",
       "        7.20107902e-01, 0.00000000e+00, 0.00000000e+00, 0.00000000e+00,\n",
       "        0.00000000e+00]])"
      ]
     },
     "execution_count": 11,
     "metadata": {},
     "output_type": "execute_result"
    }
   ],
   "source": [
    "y0[np.newaxis,...]"
   ]
  },
  {
   "cell_type": "code",
   "execution_count": 12,
   "id": "cea326cc",
   "metadata": {},
   "outputs": [
    {
     "data": {
      "text/plain": [
       "[<matplotlib.lines.Line2D at 0x16d74aa90>]"
      ]
     },
     "execution_count": 12,
     "metadata": {},
     "output_type": "execute_result"
    },
    {
     "data": {
      "image/png": "[encoded data removed]",
      "text/plain": [
       "<Figure size 432x288 with 1 Axes>"
      ]
     },
     "metadata": {
      "needs_background": "light"
     },
     "output_type": "display_data"
    }
   ],
   "source": [
    "plt.plot(output.t, Mat[:,1])"
   ]
  },
  {
   "cell_type": "code",
   "execution_count": 13,
   "id": "7ea0f646",
   "metadata": {},
   "outputs": [
    {
     "data": {
      "text/plain": [
       "array([ 2.60364064e+03,  9.87496244e-04,  1.68323217e-04,  1.76976858e-03,\n",
       "        1.86972686e-02,  8.53889275e-03,  1.14449617e-01,  4.25503941e-06,\n",
       "        2.37261615e-07, -2.22906696e-11, -1.16170721e-10, -8.44370756e-11,\n",
       "       -7.97397566e-13, -7.24870190e-10, -1.79160787e-09,  3.19074891e-02,\n",
       "        1.00458097e-01,  1.82980108e-08,  1.81814710e-10, -1.39314804e-10,\n",
       "       -5.79374746e-10, -3.78173445e-09, -9.58379229e-10, -3.09384467e-11,\n",
       "       -5.85546890e-10, -3.41526124e-10, -1.45503950e-11, -1.98049944e-11,\n",
       "       -1.99959576e-10, -4.19151268e-08, -3.96423671e-12,  2.65573511e-07,\n",
       "        3.26034545e-08,  6.76151840e-09,  5.88020438e-09,  1.06464730e-08,\n",
       "        5.45631034e-03,  1.83625160e-06,  5.48183945e-07,  2.21110899e-07,\n",
       "        7.18392770e-12,  3.69837285e-10, -1.29175394e-11, -1.75959694e-12,\n",
       "       -3.93022648e-11,  1.98804506e-11,  3.07703707e-09,  4.60101007e-10,\n",
       "        7.17559534e-01,  0.00000000e+00, -2.55899094e-10, -1.44227369e-11,\n",
       "       -1.16434977e-07, -7.01555309e-08])"
      ]
     },
     "execution_count": 13,
     "metadata": {},
     "output_type": "execute_result"
    }
   ],
   "source": [
    "Mat[-1,:]"
   ]
  },
  {
   "cell_type": "code",
   "execution_count": null,
   "id": "f809856d",
   "metadata": {},
   "outputs": [],
   "source": []
  },
  {
   "cell_type": "code",
   "execution_count": null,
   "id": "eeb88d8c",
   "metadata": {},
   "outputs": [],
   "source": []
  }
 ],
 "metadata": {
  "kernelspec": {
   "display_name": "Python 3",
   "language": "python",
   "name": "python3"
  },
  "language_info": {
   "codemirror_mode": {
    "name": "ipython",
    "version": 3
   },
   "file_extension": ".py",
   "mimetype": "text/x-python",
   "name": "python",
   "nbconvert_exporter": "python",
   "pygments_lexer": "ipython3",
   "version": "3.8.10"
  }
 },
 "nbformat": 4,
 "nbformat_minor": 5
}
