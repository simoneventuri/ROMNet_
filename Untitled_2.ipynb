{
 "cells": [
  {
   "cell_type": "code",
   "execution_count": 1,
   "metadata": {},
   "outputs": [],
   "source": [
    "import numpy as np"
   ]
  },
  {
   "cell_type": "code",
   "execution_count": 2,
   "metadata": {},
   "outputs": [],
   "source": [
    "NRODs               = 7\n",
    "iRODSel             = range(NRODs)\n",
    "NRODsSel            = len(iRODSel)\n",
    "\n",
    "NPODs               = 8"
   ]
  },
  {
   "cell_type": "code",
   "execution_count": 65,
   "metadata": {},
   "outputs": [
    {
     "data": {
      "text/plain": [
       "{'FNN': {'FNN': ['Main']}}"
      ]
     },
     "execution_count": 65,
     "metadata": {},
     "output_type": "execute_result"
    }
   ],
   "source": [
    "#structure = {'DeepONet': {'Branch_1': ['Main'], 'Trunk_1': ['Main'], 'Rigid_1': ['Main']}}\n",
    "structure = {'FNN': {'FNN': ['Main']}}\n",
    "structure"
   ]
  },
  {
   "cell_type": "code",
   "execution_count": 20,
   "metadata": {},
   "outputs": [
    {
     "data": {
      "text/plain": [
       "{'DeepONet': 'unstacked'}"
      ]
     },
     "execution_count": 20,
     "metadata": {},
     "output_type": "execute_result"
    }
   ],
   "source": [
    "branch_to_trunk = {'DeepONet': 'unstacked'}\n",
    "branch_to_trunk "
   ]
  },
  {
   "cell_type": "code",
   "execution_count": 68,
   "metadata": {},
   "outputs": [
    {
     "data": {
      "text/plain": [
       "{'FNN': {'FNN': ['x', 'v']}}"
      ]
     },
     "execution_count": 68,
     "metadata": {},
     "output_type": "execute_result"
    }
   ],
   "source": [
    "#input_vars = {'DeepONet': {'Branch': ['PC0_'+str(i+1) for i in range(NRODs)], 'Trunk': ['t']}}\n",
    "#input_vars['DeepONet']['Rigid'] = input_vars['DeepONet']['Branch']\n",
    "input_vars = {'FNN': {'FNN': ['x','v']}}\n",
    "input_vars"
   ]
  },
  {
   "cell_type": "code",
   "execution_count": 28,
   "metadata": {},
   "outputs": [
    {
     "data": {
      "text/plain": [
       "{'DeepONet': ['POD_1',\n",
       "  'POD_2',\n",
       "  'POD_3',\n",
       "  'POD_4',\n",
       "  'POD_5',\n",
       "  'POD_6',\n",
       "  'POD_7',\n",
       "  'POD_8',\n",
       "  'C']}"
      ]
     },
     "execution_count": 28,
     "metadata": {},
     "output_type": "execute_result"
    }
   ],
   "source": [
    "#output_vars = {'DeepONet': ['PC_'+str(i+1) for i in range(NRODs)]}\n",
    "output_vars = {'DeepONet': ['POD_'+str(iPOD+1) for iPOD in range(NPODs)]+['C']}\n",
    "output_vars"
   ]
  },
  {
   "cell_type": "code",
   "execution_count": 7,
   "metadata": {},
   "outputs": [
    {
     "data": {
      "text/plain": [
       "{'DeepONet': None}"
      ]
     },
     "execution_count": 7,
     "metadata": {},
     "output_type": "execute_result"
    }
   ],
   "source": [
    "system_post_layer_flg['DeepONet'] = None\n",
    "system_post_layer_flg"
   ]
  },
  {
   "cell_type": "code",
   "execution_count": 72,
   "metadata": {},
   "outputs": [],
   "source": [
    "norm_output_flg = {'DeepONet': False}"
   ]
  },
  {
   "cell_type": "code",
   "execution_count": 31,
   "metadata": {},
   "outputs": [
    {
     "data": {
      "text/plain": [
       "{'FNN': {'FNN': True}}"
      ]
     },
     "execution_count": 31,
     "metadata": {},
     "output_type": "execute_result"
    }
   ],
   "source": [
    "#normalize_flg = {'DeepONet': {'Branch': True, 'Rigid': True, 'Trunk': True}}\n",
    "norm_input_flg = {'FNN': {'FNN': True}}\n",
    "norm_input_flg"
   ]
  },
  {
   "cell_type": "code",
   "execution_count": 42,
   "metadata": {},
   "outputs": [
    {
     "data": {
      "text/plain": [
       "{'FNN': {'FNN': {'Main': array([32, 32, 32, 10])}}}"
      ]
     },
     "execution_count": 42,
     "metadata": {},
     "output_type": "execute_result"
    }
   ],
   "source": [
    "#n_neurons = {'DeepONet': {'Branch': np.array([32,32,32,NPODs+2]), 'Rigid': np.array([32,32,32,NRODsSel]), 'Trunk': np.array([32,32,32,NPODs])}}\n",
    "n_neurons = {'FNN': {'FNN': {'Main': np.array([32,32,32,NPODs+2])}}}\n",
    "n_neurons"
   ]
  },
  {
   "cell_type": "code",
   "execution_count": 41,
   "metadata": {},
   "outputs": [
    {
     "data": {
      "text/plain": [
       "{'FNN': {'FNN': {'Main': ['tanh', 'tanh', 'tanh', 'linear']}}}"
      ]
     },
     "execution_count": 41,
     "metadata": {},
     "output_type": "execute_result"
    }
   ],
   "source": [
    "#act_fun = {'DeepONet': {'Branch': ['tanh','tanh','tanh','linear'], 'Rigid': ['tanh','tanh','tanh','linear'], 'Trunk': ['tanh','tanh','tanh','linear']}}\n",
    "act_fun = {'FNN': {'FNN': {'Main': ['tanh','tanh','tanh','linear']}}}\n",
    "act_fun"
   ]
  },
  {
   "cell_type": "code",
   "execution_count": 38,
   "metadata": {},
   "outputs": [
    {
     "data": {
      "text/plain": [
       "{'FNN': {'FNN': False}}"
      ]
     },
     "execution_count": 38,
     "metadata": {},
     "output_type": "execute_result"
    }
   ],
   "source": [
    "#softmax_flg = {'DeepONet': {'Branch': {'Main': False}}}\n",
    "softmax_flg = {'FNN': {'FNN': {'Main': False}}}\n",
    "softmax_flg"
   ]
  },
  {
   "cell_type": "code",
   "execution_count": 43,
   "metadata": {},
   "outputs": [
    {
     "data": {
      "text/plain": [
       "{'DeepONet': {'Branch': {'Main': 1e-10}}}"
      ]
     },
     "execution_count": 43,
     "metadata": {},
     "output_type": "execute_result"
    }
   ],
   "source": [
    "#dropout_rate = {'DeepONet': {'Branch': {'Main': 1.e-10}}}\n",
    "dropout_rate = {'FNN': {'FNN': {'Main': 1.e-10}}}\n",
    "dropout_rate"
   ]
  },
  {
   "cell_type": "code",
   "execution_count": 44,
   "metadata": {},
   "outputs": [
    {
     "data": {
      "text/plain": [
       "{'FNN': {'FNN': {'Main': False}}}"
      ]
     },
     "execution_count": 44,
     "metadata": {},
     "output_type": "execute_result"
    }
   ],
   "source": [
    "#dropout_pred_flg = {'DeepONet': {'Branch': {'Main': False}}}\n",
    "dropout_pred_flg = {'FNN': {'FNN': {'Main': False}}}\n",
    "dropout_pred_flg"
   ]
  },
  {
   "cell_type": "code",
   "execution_count": 14,
   "metadata": {},
   "outputs": [
    {
     "data": {
      "text/plain": [
       "array([1.e-11, 1.e-11])"
      ]
     },
     "execution_count": 14,
     "metadata": {},
     "output_type": "execute_result"
    }
   ],
   "source": [
    "weight_decay_coeffs = np.array([1.e-11,1.e-11])\n",
    "weight_decay_coeffs"
   ]
  },
  {
   "cell_type": "code",
   "execution_count": 15,
   "metadata": {},
   "outputs": [
    {
     "data": {
      "text/plain": [
       "{'log': ['t']}"
      ]
     },
     "execution_count": 15,
     "metadata": {},
     "output_type": "execute_result"
    }
   ],
   "source": [
    "trans_fun           = {'log': ['t']}\n",
    "trans_fun"
   ]
  },
  {
   "cell_type": "code",
   "execution_count": 69,
   "metadata": {},
   "outputs": [],
   "source": [
    "all_inputs = []\n",
    "for key_system, value_system in structure.items():\n",
    "    for key_comp, value_comp in structure[key_system].items():\n",
    "        key = key_comp.split('_')\n",
    "        all_inputs += input_vars[key_system][key[0]]\n",
    "all_inputs = list(set(all_inputs))"
   ]
  },
  {
   "cell_type": "code",
   "execution_count": 70,
   "metadata": {},
   "outputs": [
    {
     "data": {
      "text/plain": [
       "['v', 'x']"
      ]
     },
     "execution_count": 70,
     "metadata": {},
     "output_type": "execute_result"
    }
   ],
   "source": [
    "all_inputs"
   ]
  },
  {
   "cell_type": "code",
   "execution_count": null,
   "metadata": {},
   "outputs": [],
   "source": []
  }
 ],
 "metadata": {
  "kernelspec": {
   "display_name": "Python 3",
   "language": "python",
   "name": "python3"
  },
  "language_info": {
   "codemirror_mode": {
    "name": "ipython",
    "version": 3
   },
   "file_extension": ".py",
   "mimetype": "text/x-python",
   "name": "python",
   "nbconvert_exporter": "python",
   "pygments_lexer": "ipython3",
   "version": "3.8.12"
  }
 },
 "nbformat": 4,
 "nbformat_minor": 4
}
