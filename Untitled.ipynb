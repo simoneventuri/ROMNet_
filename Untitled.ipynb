{
 "cells": [
  {
   "cell_type": "code",
   "execution_count": 1,
   "metadata": {},
   "outputs": [],
   "source": [
    "import numpy as np"
   ]
  },
  {
   "cell_type": "code",
   "execution_count": 2,
   "metadata": {},
   "outputs": [],
   "source": [
    "NRODs               = 7\n",
    "iRODSel             = range(NRODs)\n",
    "NRODsSel            = len(iRODSel)\n",
    "\n",
    "NPODs               = 8"
   ]
  },
  {
   "cell_type": "code",
   "execution_count": 3,
   "metadata": {},
   "outputs": [
    {
     "data": {
      "text/plain": [
       "{'DeepONet': {'Branch_1': ['Main'],\n",
       "  'Branch_2': ['Main'],\n",
       "  'Trunk_1': ['Main'],\n",
       "  'Shifting': ['Main']}}"
      ]
     },
     "execution_count": 3,
     "metadata": {},
     "output_type": "execute_result"
    }
   ],
   "source": [
    "structure = {}\n",
    "structure['DeepONet'] = {}\n",
    "structure['DeepONet']['Branch_1'] = {}\n",
    "structure['DeepONet']['Branch_2'] = {}\n",
    "structure['DeepONet']['Trunk_1']  = {}\n",
    "structure['DeepONet']['Shifting'] = {}\n",
    "structure['DeepONet']['Shifting'] = ['Main']\n",
    "structure['DeepONet']['Branch_1'] = ['Main']\n",
    "structure['DeepONet']['Trunk_1']  = ['Main']\n",
    "structure['DeepONet']['Branch_2'] = ['Main']\n",
    "structure"
   ]
  },
  {
   "cell_type": "code",
   "execution_count": 4,
   "metadata": {},
   "outputs": [
    {
     "data": {
      "text/plain": [
       "{'DeepONet': 'unstacked'}"
      ]
     },
     "execution_count": 4,
     "metadata": {},
     "output_type": "execute_result"
    }
   ],
   "source": [
    "branch_to_trunk             = {}\n",
    "branch_to_trunk['DeepONet'] = 'unstacked'#/'stucked'/np.arange([0,1,1,2])\n",
    "branch_to_trunk"
   ]
  },
  {
   "cell_type": "code",
   "execution_count": 5,
   "metadata": {},
   "outputs": [
    {
     "data": {
      "text/plain": [
       "{'DeepONet': {'Branch': ['PC0_1',\n",
       "   'PC0_2',\n",
       "   'PC0_3',\n",
       "   'PC0_4',\n",
       "   'PC0_5',\n",
       "   'PC0_6',\n",
       "   'PC0_7'],\n",
       "  'Rigid': ['PC0_1', 'PC0_2', 'PC0_3', 'PC0_4', 'PC0_5', 'PC0_6', 'PC0_7'],\n",
       "  'Trunk': ['t']}}"
      ]
     },
     "execution_count": 5,
     "metadata": {},
     "output_type": "execute_result"
    }
   ],
   "source": [
    "input_vars                       = {}\n",
    "input_vars['DeepONet']           = {}\n",
    "input_vars['DeepONet']['Branch'] = ['PC0_'+str(i+1) for i in range(NRODs)]\n",
    "input_vars['DeepONet']['Rigid']  = input_vars['DeepONet']['Branch']\n",
    "input_vars['DeepONet']['Trunk']  = ['t']\n",
    "input_vars"
   ]
  },
  {
   "cell_type": "code",
   "execution_count": 6,
   "metadata": {},
   "outputs": [
    {
     "data": {
      "text/plain": [
       "{'DeepONet': ['PC_1', 'PC_2', 'PC_3', 'PC_4', 'PC_5', 'PC_6', 'PC_7']}"
      ]
     },
     "execution_count": 6,
     "metadata": {},
     "output_type": "execute_result"
    }
   ],
   "source": [
    "output_vars                       = {}\n",
    "output_vars['DeepONet']           = ['PC_'+str(i+1) for i in range(NRODs)]\n",
    "output_vars"
   ]
  },
  {
   "cell_type": "code",
   "execution_count": 7,
   "metadata": {},
   "outputs": [
    {
     "data": {
      "text/plain": [
       "{'DeepONet': None}"
      ]
     },
     "execution_count": 7,
     "metadata": {},
     "output_type": "execute_result"
    }
   ],
   "source": [
    "system_post_layer_flg             = {}\n",
    "system_post_layer_flg['DeepONet'] = None\n",
    "system_post_layer_flg"
   ]
  },
  {
   "cell_type": "code",
   "execution_count": 8,
   "metadata": {},
   "outputs": [
    {
     "data": {
      "text/plain": [
       "{'DeepONet': {'Branch': ['PC0_1',\n",
       "   'PC0_2',\n",
       "   'PC0_3',\n",
       "   'PC0_4',\n",
       "   'PC0_5',\n",
       "   'PC0_6',\n",
       "   'PC0_7'],\n",
       "  'Rigid': ['PC0_1', 'PC0_2', 'PC0_3', 'PC0_4', 'PC0_5', 'PC0_6', 'PC0_7'],\n",
       "  'Trunk': ['t']}}"
      ]
     },
     "execution_count": 8,
     "metadata": {},
     "output_type": "execute_result"
    }
   ],
   "source": [
    "normalize_flg                       = {}\n",
    "normalize_flg['DeepONet']           = {}\n",
    "normalize_flg['DeepONet']['Branch'] = ['PC0_'+str(i+1) for i in range(NRODs)]\n",
    "normalize_flg['DeepONet']['Rigid']  = normalize_flg['DeepONet']['Branch']\n",
    "normalize_flg['DeepONet']['Trunk']  = ['t']\n",
    "normalize_flg"
   ]
  },
  {
   "cell_type": "code",
   "execution_count": 9,
   "metadata": {},
   "outputs": [
    {
     "data": {
      "text/plain": [
       "{'DeepONet': {'Branch': array([32, 32, 32, 10]),\n",
       "  'Rigid': array([32, 32, 32,  7]),\n",
       "  'Trunk': array([32, 32, 32,  8])}}"
      ]
     },
     "execution_count": 9,
     "metadata": {},
     "output_type": "execute_result"
    }
   ],
   "source": [
    "n_neurons                       = {}\n",
    "n_neurons['DeepONet']           = {}\n",
    "n_neurons['DeepONet']['Branch'] = np.array([32,32,32,NPODs+2])\n",
    "n_neurons['DeepONet']['Rigid']  = np.array([32,32,32,NRODsSel])\n",
    "n_neurons['DeepONet']['Trunk']  = np.array([32,32,32,NPODs])\n",
    "n_neurons"
   ]
  },
  {
   "cell_type": "code",
   "execution_count": 10,
   "metadata": {},
   "outputs": [
    {
     "data": {
      "text/plain": [
       "{'DeepONet': {'Branch': ['tanh', 'tanh', 'tanh', 'linear'],\n",
       "  'Rigid': ['tanh', 'tanh', 'tanh', 'linear'],\n",
       "  'Trunk': ['tanh', 'tanh', 'tanh', 'linear']}}"
      ]
     },
     "execution_count": 10,
     "metadata": {},
     "output_type": "execute_result"
    }
   ],
   "source": [
    "act_fun                       = {}\n",
    "act_fun['DeepONet']           = {}\n",
    "act_fun['DeepONet']['Branch'] = ['tanh','tanh','tanh','linear']\n",
    "act_fun['DeepONet']['Rigid']  = ['tanh','tanh','tanh','linear']\n",
    "act_fun['DeepONet']['Trunk']  = ['tanh','tanh','tanh','linear']\n",
    "act_fun"
   ]
  },
  {
   "cell_type": "code",
   "execution_count": 11,
   "metadata": {},
   "outputs": [
    {
     "data": {
      "text/plain": [
       "{'DeepONet': {'Branch': {'Main': False}}}"
      ]
     },
     "execution_count": 11,
     "metadata": {},
     "output_type": "execute_result"
    }
   ],
   "source": [
    "softmax_flg                               = {}\n",
    "softmax_flg['DeepONet']                   = {}\n",
    "softmax_flg['DeepONet']['Branch']         = {}\n",
    "softmax_flg['DeepONet']['Branch']['Main'] = False\n",
    "softmax_flg"
   ]
  },
  {
   "cell_type": "code",
   "execution_count": 12,
   "metadata": {},
   "outputs": [
    {
     "data": {
      "text/plain": [
       "{'DeepONet': {'Branch': {'Main': 1e-10}}}"
      ]
     },
     "execution_count": 12,
     "metadata": {},
     "output_type": "execute_result"
    }
   ],
   "source": [
    "dropout_rate                               = {}\n",
    "dropout_rate['DeepONet']                   = {}\n",
    "dropout_rate['DeepONet']['Branch']         = {}\n",
    "dropout_rate['DeepONet']['Branch']['Main'] = 1.e-10\n",
    "dropout_rate"
   ]
  },
  {
   "cell_type": "code",
   "execution_count": 13,
   "metadata": {},
   "outputs": [
    {
     "data": {
      "text/plain": [
       "{'DeepONet': {'Branch': {'Main': False}}}"
      ]
     },
     "execution_count": 13,
     "metadata": {},
     "output_type": "execute_result"
    }
   ],
   "source": [
    "dropout_pred_flg                               = {}\n",
    "dropout_pred_flg['DeepONet']                   = {}\n",
    "dropout_pred_flg['DeepONet']['Branch']         = {}\n",
    "dropout_pred_flg['DeepONet']['Branch']['Main'] = False\n",
    "dropout_pred_flg"
   ]
  },
  {
   "cell_type": "code",
   "execution_count": 14,
   "metadata": {},
   "outputs": [
    {
     "data": {
      "text/plain": [
       "array([1.e-11, 1.e-11])"
      ]
     },
     "execution_count": 14,
     "metadata": {},
     "output_type": "execute_result"
    }
   ],
   "source": [
    "weight_decay_coeffs = np.array([1.e-11,1.e-11])\n",
    "weight_decay_coeffs"
   ]
  },
  {
   "cell_type": "code",
   "execution_count": 15,
   "metadata": {},
   "outputs": [
    {
     "data": {
      "text/plain": [
       "{'log': ['t']}"
      ]
     },
     "execution_count": 15,
     "metadata": {},
     "output_type": "execute_result"
    }
   ],
   "source": [
    "trans_fun           = {'log': ['t']}\n",
    "trans_fun"
   ]
  }
 ],
 "metadata": {
  "kernelspec": {
   "display_name": "Python 3",
   "language": "python",
   "name": "python3"
  },
  "language_info": {
   "codemirror_mode": {
    "name": "ipython",
    "version": 3
   },
   "file_extension": ".py",
   "mimetype": "text/x-python",
   "name": "python",
   "nbconvert_exporter": "python",
   "pygments_lexer": "ipython3",
   "version": "3.8.12"
  }
 },
 "nbformat": 4,
 "nbformat_minor": 4
}
