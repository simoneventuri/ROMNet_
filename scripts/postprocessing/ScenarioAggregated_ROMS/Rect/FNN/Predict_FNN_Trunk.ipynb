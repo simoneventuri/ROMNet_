{
 "cells": [
  {
   "cell_type": "markdown",
   "metadata": {},
   "source": [
    "# 0D Reactor: Postprocessing the FNN for the Trunk"
   ]
  },
  {
   "cell_type": "code",
   "execution_count": null,
   "metadata": {},
   "outputs": [],
   "source": [
    "### Importing Libraries\n",
    "\n",
    "import sys\n",
    "print(sys.version)\n",
    "import os\n",
    "import time\n",
    "\n",
    "\n",
    "### Defining WORKSPACE_PATH\n",
    "\n",
    "# WORKSPACE_PATH = os.environ['WORKSPACE_PATH']\n",
    "WORKSPACE_PATH = os.path.join(os.getcwd(), '../../../../../../../')\n",
    "ROMNet_fld     = os.path.join(WORKSPACE_PATH, 'ROMNet/romnet/')\n",
    "\n",
    "### Importing External Libraries\n",
    "\n",
    "import numpy                             as np\n",
    "import pandas                            as pd\n",
    "\n",
    "\n",
    "### Importing Matplotlib and Its Style\n",
    "\n",
    "import matplotlib.pyplot                 as plt\n",
    "\n",
    "#plt.style.use(os.path.join(WORKSPACE_PATH, 'ROMNet/romnet/extra/postprocessing/presentation.mplstyle'))\n",
    "plt.style.use(os.path.join(WORKSPACE_PATH, 'ROMNet/romnet/extra/postprocessing/zoomed.mplstyle'))\n",
    "#plt.style.use(os.path.join(WORKSPACE_PATH, 'ROMNet/romnet/extra/postprocessing/paper_1column.mplstyle'))\n",
    "#plt.style.use(os.path.join(WORKSPACE_PATH, 'ROMNet/romnet/extra/postprocessing/paper_2columns.mplstyle'))\n",
    "\n",
    "\n",
    "# from scipy.integrate import solve_ivp\n",
    "# import pyDOE\n",
    "# from PCAfold         import PCA          as PCAA\n",
    "\n",
    "\n",
    "import romnet                            as rmnt"
   ]
  },
  {
   "cell_type": "markdown",
   "metadata": {},
   "source": [
    "## Defining Input Variables"
   ]
  },
  {
   "cell_type": "code",
   "execution_count": null,
   "metadata": {},
   "outputs": [],
   "source": [
    "#PCAType         = 'All'\n",
    "\n",
    "PCAType         = 'OneByOne'\n",
    "iVar            = 1\n",
    "Vars            = ['z']\n",
    "Var             = Vars[iVar-1]\n",
    "\n",
    "\n",
    "if (PCAType == 'OneByOne'):\n",
    "    #path_to_run_fld = os.path.join(WORKSPACE_PATH, 'ROMNet/MSD_100Cases_PCA_'+str(i_red)+'_Trunk/FNN/TestCase3/')\n",
    "    path_to_run_fld = os.path.join(WORKSPACE_PATH, 'ROMNet/Rect_200Instants_TransRotScale_128PCA/Var'+str(iVar)+'_Trunk/FNN/Run_1/')\n",
    "elif (PCAType == 'All'):\n",
    "    path_to_run_fld = os.path.join(WORKSPACE_PATH, 'ROMNet/Rect_200Instants_TransRotScale_128PCA/All_Trunk/FNN/Run_1/')\n",
    "    #path_to_run_fld = os.path.join(WORKSPACE_PATH, 'ROMNet/MSD_100Cases_PCA_All_Trunk/FNN/Run_1/')\n",
    "\n",
    "FigDir          = None #os.path.join(WORKSPACE_PATH, '../Desktop/Paper_Figures_DeepONet_TEMP/')\n",
    "\n",
    "\n",
    "TrainingCases   = [0]#[0,2,4,6,8]\n",
    "TestCases       = [0,2,4]#[0,2]\n",
    "\n",
    "LineVec         = ['-',':','--','.-']*10\n",
    "ColorVec        = ['#190707', '#dd3232', '#0065a9', '#348a00','#985396','#f68b69']"
   ]
  },
  {
   "cell_type": "code",
   "execution_count": null,
   "metadata": {},
   "outputs": [],
   "source": []
  },
  {
   "cell_type": "code",
   "execution_count": null,
   "metadata": {},
   "outputs": [],
   "source": []
  },
  {
   "cell_type": "code",
   "execution_count": null,
   "metadata": {},
   "outputs": [],
   "source": []
  },
  {
   "cell_type": "markdown",
   "metadata": {},
   "source": [
    "## Loading ROMNet's Input Data File"
   ]
  },
  {
   "cell_type": "code",
   "execution_count": null,
   "metadata": {},
   "outputs": [],
   "source": [
    "np.savetxt('./iVar.csv', np.array([[iVar]], dtype=int), fmt='%i')\n",
    "\n",
    "print(\"\\n[ROMNet]: Reading Input File from: \", path_to_run_fld)\n",
    "sys.path.insert(0, path_to_run_fld)\n",
    "\n",
    "print(\"\\n[ROMNet]: Keep Loading Modules and Functions...\")\n",
    "from ROMNet_Input import inputdata\n",
    "\n",
    "print(\"\\n[ROMNet]: Initializing Input ...\")\n",
    "InputData                 = inputdata(WORKSPACE_PATH)\n",
    "\n",
    "\n",
    "InputData.InputFilePath   = path_to_run_fld+'/ROMNet_Input.py'\n",
    "InputData.train_int_flg   = 0\n",
    "InputData.path_to_run_fld = path_to_run_fld"
   ]
  },
  {
   "cell_type": "markdown",
   "metadata": {},
   "source": [
    "## Loading Tensorflow's Model for the Network "
   ]
  },
  {
   "cell_type": "code",
   "execution_count": null,
   "metadata": {},
   "outputs": [],
   "source": [
    "surrogate_type = InputData.surrogate_type\n",
    "if (surrogate_type == 'FNN-SourceTerms'):\n",
    "    surrogate_type = 'FNN'\n",
    "\n",
    "Net   = getattr(rmnt.architecture, surrogate_type)\n",
    "\n",
    "model = rmnt.model.Model_TF(InputData)\n",
    "\n",
    "if (InputData.phys_system is not None):\n",
    "    System = getattr(rmnt.pinn.system, InputData.phys_system)\n",
    "    system = System(InputData)\n",
    "    \n",
    "model.build(InputData, None, Net, system)#, loadfile_no='000027')\n",
    "\n",
    "NN    = model.net"
   ]
  },
  {
   "cell_type": "code",
   "execution_count": null,
   "metadata": {},
   "outputs": [],
   "source": []
  },
  {
   "cell_type": "code",
   "execution_count": null,
   "metadata": {},
   "outputs": [],
   "source": []
  },
  {
   "cell_type": "code",
   "execution_count": null,
   "metadata": {},
   "outputs": [],
   "source": []
  },
  {
   "cell_type": "markdown",
   "metadata": {},
   "source": [
    "## Evaluating Trunk on Test Data"
   ]
  },
  {
   "cell_type": "code",
   "execution_count": null,
   "metadata": {},
   "outputs": [],
   "source": [
    "Vars      = ['t_'+str(i_mode+1) for i_mode in range(InputData.NRODs)]\n",
    "\n",
    "FileName  = InputData.path_to_data_fld + '/test/pts/Input.csv'# + InputData.InputFile\n",
    "DataIn    = pd.read_csv(FileName, header=0)\n",
    "xVec      = DataIn['x'].to_numpy()[...,np.newaxis]\n",
    "yVec      = DataIn['y'].to_numpy()[...,np.newaxis]\n",
    "VarNames  = ['x','y']\n",
    "\n",
    "FileName  = InputData.path_to_data_fld + '/test/pts/Output.csv'# + InputData.InputFile\n",
    "DataOut   = pd.read_csv(FileName, header=0)\n",
    "zVec      = DataOut[Vars].to_numpy()\n",
    "\n",
    "zVecPred  = model.predict(DataIn[['x','y']])\n",
    "\n",
    "\n",
    "xMat      = xVec.reshape(200,200)\n",
    "yMat      = yVec.reshape(200,200)\n",
    "\n",
    "\n",
    "#for i in range(InputData.NRODs):\n",
    "for i in [100]:\n",
    "    zMat       = zVec[:,i].reshape(200,200)\n",
    "    zMatPred   = zVecPred[:,i].reshape(200,200)\n",
    "\n",
    "\n",
    "    if (i==0):\n",
    "        Label1 = 'ROM'\n",
    "        Label2 = 'FNN'\n",
    "    else:\n",
    "        Label1 = None\n",
    "        Label2 = None\n",
    "    #plt.plot(xVec, Output[:,i], '-', color=ColorVec[0], label=Label1)\n",
    "    #plt.plot(xVec,   zMat[:,i], ':', color=ColorVec[1], label=Label2)\n",
    "    \n",
    "    fig = plt.figure()\n",
    "    plt.imshow(zMat)\n",
    "    \n",
    "    fig = plt.figure()\n",
    "    plt.imshow(zMatPred)\n",
    "\n",
    "\n",
    "plt.xlabel(r'$x$')\n",
    "plt.ylabel(r'$y$')\n",
    "\n",
    "plt.legend()\n",
    "\n",
    "fig.tight_layout()  # otherwise the right y-label is slightly clipped\n",
    "\n",
    "if (FigDir):\n",
    "    if (PCAType == 'All'):\n",
    "        plt.savefig(FigDir+'/MSD_100Cases_All_Trunk.eps', format='eps', bbox_inches='tight')\n",
    "    else:\n",
    "        plt.savefig(FigDir+'/MSD_100Cases_OneByOne_Trunk_'+Var+'.eps', format='eps', bbox_inches='tight')"
   ]
  },
  {
   "cell_type": "markdown",
   "metadata": {},
   "source": [
    " "
   ]
  },
  {
   "cell_type": "code",
   "execution_count": null,
   "metadata": {},
   "outputs": [],
   "source": [
    "print('[PCA]  Max % Error = ', np.max(abs((zMat - zMatPred)/zMat)*100))\n",
    "print('[PCA]  Max      SE = ', np.max((zMat - zMatPred)**2))\n",
    "print('[PCA] Mean % Error = ', np.mean(abs((zMat - zMatPred)/zMat)*100))\n",
    "print('[PCA]          MSE = ', np.mean((zMat - zMatPred)**2))"
   ]
  },
  {
   "cell_type": "code",
   "execution_count": null,
   "metadata": {},
   "outputs": [],
   "source": []
  },
  {
   "cell_type": "code",
   "execution_count": null,
   "metadata": {},
   "outputs": [],
   "source": []
  },
  {
   "cell_type": "code",
   "execution_count": null,
   "metadata": {},
   "outputs": [],
   "source": []
  },
  {
   "cell_type": "markdown",
   "metadata": {},
   "source": [
    "## Plotting Loss Histories"
   ]
  },
  {
   "cell_type": "code",
   "execution_count": null,
   "metadata": {},
   "outputs": [],
   "source": [
    "Data = pd.read_csv(path_to_run_fld+'/Training/History.csv')\n",
    "\n",
    "fig  = plt.figure()\n",
    "plt.plot(Data['tot_loss'],     label='Training')\n",
    "plt.plot(Data['val_tot_loss'], label='Validation')\n",
    "plt.xlabel('Epoch')\n",
    "plt.ylabel('Tot. Loss [MSE]')\n",
    "plt.legend()\n",
    "plt.yscale('log')\n",
    "\n",
    "fig  = plt.figure()\n",
    "plt.plot(Data['pts_loss'],     label='Training')\n",
    "plt.plot(Data['val_pts_loss'], label='Validation')\n",
    "plt.xlabel('Epoch')\n",
    "plt.ylabel('Data Loss [MSE]')\n",
    "plt.legend()\n",
    "plt.yscale('log')\n",
    "#plt.ylim([1.e-2, 1.e0])\n",
    "\n",
    "# fig  = plt.figure(figsize=(12,8))\n",
    "# plt.plot(Data['scs_loss'],     label='Training')\n",
    "# plt.plot(Data['val_scs_loss'], label='Validation')\n",
    "# plt.xlabel('Epoch')\n",
    "# plt.ylabel('S.C.s Loss [MSE]')\n",
    "# plt.legend()\n",
    "# plt.yscale('log')\n",
    "\n",
    "# fig  = plt.figure(figsize=(12,8))\n",
    "# plt.plot(Data['ics_loss'],     label='Training')\n",
    "# plt.plot(Data['val_ics_loss'], label='Validation')\n",
    "# plt.xlabel('Epoch')\n",
    "# plt.ylabel('I.C.s Loss [MSE]')\n",
    "# plt.legend()\n",
    "# plt.yscale('log')"
   ]
  },
  {
   "cell_type": "code",
   "execution_count": null,
   "metadata": {},
   "outputs": [],
   "source": []
  },
  {
   "cell_type": "code",
   "execution_count": null,
   "metadata": {},
   "outputs": [],
   "source": []
  },
  {
   "cell_type": "code",
   "execution_count": null,
   "metadata": {},
   "outputs": [],
   "source": []
  },
  {
   "cell_type": "code",
   "execution_count": null,
   "metadata": {},
   "outputs": [],
   "source": [
    "#path_to_data_fld = InputData.path_to_data_fld\n",
    "path_to_data_fld = WORKSPACE_PATH + '/ROMNet/Data/Rect_200Instants_TransRotScale/128PCA/OneByOne/Var'+str(iVar)+'/Trunk/'"
   ]
  },
  {
   "cell_type": "code",
   "execution_count": null,
   "metadata": {},
   "outputs": [],
   "source": [
    "tVars           = ['t_'+str(i+1) for i in range(128)]\n",
    "bVars           = ['b_'+str(i+1) for i in range(128)]\n",
    "\n",
    "InputDF         = pd.read_csv(path_to_data_fld+'/test/pts/Input.csv')\n",
    "OutputDF        = pd.read_csv(path_to_data_fld+'/test/pts/Output.csv')\n",
    "\n",
    "InputDF_branch  = pd.read_csv(path_to_data_fld+'/../Branch/test/pts/Input.csv')\n",
    "OutputDF_branch = pd.read_csv(path_to_data_fld+'/../Branch/test/pts/Output.csv')"
   ]
  },
  {
   "cell_type": "code",
   "execution_count": null,
   "metadata": {},
   "outputs": [],
   "source": [
    "A               = OutputDF_branch[bVars].to_numpy()\n",
    "Psi             = OutputDF[tVars].to_numpy()\n",
    "C               = OutputDF_branch['c'].to_numpy()\n",
    "D               = OutputDF_branch['d'].to_numpy()\n",
    "\n",
    "n_scenarios     = A.shape[0]\n",
    "n_t             = Psi.shape[0]\n",
    "\n",
    "Y               = np.zeros((n_t,n_scenarios))\n",
    "YPred_          = np.zeros((n_t,n_scenarios))\n",
    "YPred           = np.zeros((1000,n_scenarios))\n",
    "for i_scenario in range(n_scenarios):\n",
    "    Y[:,i_scenario]      = np.sum(Psi      * A[i_scenario,:], axis=1) * D[i_scenario] + C[i_scenario]\n",
    "    YPred_[:,i_scenario] = np.sum(zVecPred * A[i_scenario,:], axis=1) * D[i_scenario] + C[i_scenario]\n",
    "    \n",
    "MSE  = (YPred_[1::] - Y[1::])**2\n",
    "RMSE = np.sqrt( MSE.sum() / (MSE.shape[0]) / (MSE.shape[1]) )\n",
    "print('Root Mean Squared Error = ', RMSE)"
   ]
  },
  {
   "cell_type": "code",
   "execution_count": null,
   "metadata": {},
   "outputs": [],
   "source": [
    "i_scenario = 100\n",
    "\n",
    "fig = plt.figure()\n",
    "plt.imshow(Y[:,i_scenario].reshape(200,200))\n",
    "\n",
    "fig = plt.figure()\n",
    "plt.imshow(YPred_[:,i_scenario].reshape(200,200))"
   ]
  },
  {
   "cell_type": "code",
   "execution_count": null,
   "metadata": {},
   "outputs": [],
   "source": []
  },
  {
   "cell_type": "code",
   "execution_count": null,
   "metadata": {},
   "outputs": [],
   "source": []
  }
 ],
 "metadata": {
  "kernelspec": {
   "display_name": "Python 3 (ipykernel)",
   "language": "python",
   "name": "python3"
  },
  "language_info": {
   "codemirror_mode": {
    "name": "ipython",
    "version": 3
   },
   "file_extension": ".py",
   "mimetype": "text/x-python",
   "name": "python",
   "nbconvert_exporter": "python",
   "pygments_lexer": "ipython3",
   "version": "3.9.12"
  }
 },
 "nbformat": 4,
 "nbformat_minor": 4
}
