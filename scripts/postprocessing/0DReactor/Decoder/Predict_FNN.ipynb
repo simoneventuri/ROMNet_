{
 "cells": [
  {
   "cell_type": "markdown",
   "metadata": {},
   "source": [
    "# 0D Reactor: Postprocessing the FNN for the Decoder"
   ]
  },
  {
   "cell_type": "code",
   "execution_count": 1,
   "metadata": {},
   "outputs": [
    {
     "name": "stdout",
     "output_type": "stream",
     "text": [
      "3.9.12 (main, Mar 26 2022, 15:51:13) \n",
      "[Clang 12.0.0 (clang-1200.0.32.29)]\n"
     ]
    },
    {
     "name": "stderr",
     "output_type": "stream",
     "text": [
      "Missing colon in file PosixPath('/Users/sventur/.matplotlib/stylelib/paper_2columns.mplstyle'), line 1 ('f#### MATPLOTLIBRC FORMAT')\n"
     ]
    }
   ],
   "source": [
    "### Importing Libraries\n",
    "\n",
    "import sys\n",
    "print(sys.version)\n",
    "import os\n",
    "import time\n",
    "\n",
    "\n",
    "### Defining WORKSPACE_PATH\n",
    "\n",
    "# WORKSPACE_PATH = os.environ['WORKSPACE_PATH']\n",
    "WORKSPACE_PATH = os.path.join(os.getcwd(), '../../../../../../')\n",
    "ROMNet_fld     = os.path.join(WORKSPACE_PATH, 'ROMNet/romnet/')\n",
    "\n",
    "### Importing External Libraries\n",
    "\n",
    "import numpy                             as np\n",
    "import pandas                            as pd\n",
    "\n",
    "\n",
    "### Importing Matplotlib and Its Style\n",
    "\n",
    "import matplotlib.pyplot                 as plt\n",
    "\n",
    "#plt.style.use(os.path.join(WORKSPACE_PATH, 'ROMNet/romnet/extra/postprocessing/presentation.mplstyle'))\n",
    "#plt.style.use(os.path.join(WORKSPACE_PATH, 'ROMNet/romnet/extra/postprocessing/zoomed.mplstyle'))\n",
    "#plt.style.use(os.path.join(WORKSPACE_PATH, 'ROMNet/romnet/extra/postprocessing/paper_1column.mplstyle'))\n",
    "#plt.style.use(os.path.join(WORKSPACE_PATH, 'ROMNet/romnet/extra/postprocessing/paper_2columns.mplstyle'))\n",
    "\n",
    "\n",
    "# from scipy.integrate import solve_ivp\n",
    "# import pyDOE\n",
    "# from PCAfold         import PCA          as PCAA\n",
    "\n",
    "\n",
    "import romnet                            as rmnt"
   ]
  },
  {
   "cell_type": "markdown",
   "metadata": {},
   "source": [
    "## Defining Input Data"
   ]
  },
  {
   "cell_type": "code",
   "execution_count": 2,
   "metadata": {},
   "outputs": [],
   "source": [
    "NVarsRed        = 20\n",
    "n_ics           = 500\n",
    "\n",
    "path_to_run_fld = os.path.join(WORKSPACE_PATH, 'ROMNet/0DReact_Isobaric_500Cases_CH4_Decoder_/FNN/Run_11/')\n",
    "FigDir          = None #os.path.join(WORKSPACE_PATH, '../Desktop/Paper_Figures_DeepONet_TEMP/')\n",
    "\n",
    "LineVec         = ['-',':','--','.-']*10\n",
    "ColorVec        = ['#190707', '#dd3232', '#0065a9', '#348a00','#985396','#f68b69']"
   ]
  },
  {
   "cell_type": "code",
   "execution_count": null,
   "metadata": {},
   "outputs": [],
   "source": []
  },
  {
   "cell_type": "code",
   "execution_count": null,
   "metadata": {},
   "outputs": [],
   "source": []
  },
  {
   "cell_type": "code",
   "execution_count": null,
   "metadata": {},
   "outputs": [],
   "source": []
  },
  {
   "cell_type": "markdown",
   "metadata": {},
   "source": [
    "## Loading ROMNet's Input Data File"
   ]
  },
  {
   "cell_type": "code",
   "execution_count": 3,
   "metadata": {},
   "outputs": [
    {
     "name": "stdout",
     "output_type": "stream",
     "text": [
      "\n",
      "[ROMNet]: Reading Input File from:  /Users/sventur/WORKSPACE/ROMNet/romnet/scripts/postprocessing/0DReactor/Decoder/../../../../../../ROMNet/0DReact_Isobaric_500Cases_CH4_Decoder_/FNN/Run_11/\n",
      "\n",
      "[ROMNet]: Keep Loading Modules and Functions...\n",
      "\n",
      "[ROMNet]: Initializing Input ...\n"
     ]
    }
   ],
   "source": [
    "print(\"\\n[ROMNet]: Reading Input File from: \", path_to_run_fld)\n",
    "sys.path.insert(0, path_to_run_fld)\n",
    "\n",
    "print(\"\\n[ROMNet]: Keep Loading Modules and Functions...\")\n",
    "from ROMNet_Input import inputdata\n",
    "\n",
    "print(\"\\n[ROMNet]: Initializing Input ...\")\n",
    "InputData               = inputdata(WORKSPACE_PATH)\n",
    "\n",
    "\n",
    "InputData.InputFilePath = path_to_run_fld+'/ROMNet_Input.py'\n",
    "InputData.train_int_flg = 0\n",
    "InputData.path_to_run_fld  = path_to_run_fld"
   ]
  },
  {
   "cell_type": "markdown",
   "metadata": {},
   "source": [
    "## Loading Tensorflow's Model for the Network "
   ]
  },
  {
   "cell_type": "code",
   "execution_count": 4,
   "metadata": {},
   "outputs": [
    {
     "name": "stdout",
     "output_type": "stream",
     "text": [
      "\n",
      "[ROMNet - model_tf.py    ]:   Initializing the ML Model\n",
      "\n",
      "[ROMNet - model_tf.py    ]:   Building the ML Model\n",
      "\n",
      "[ROMNet - fnn.py                    ]:   Constructing Feed-Forward Network: \n",
      "[ROMNet - system_of_components.py   ]:     Constructing System of Components: FNN\n",
      "[ROMNet - component.py              ]:       Constructing Component: FNN\n",
      "[ROMNet - sub_component.py          ]:         Constructed Sub-Component: Main with Layers:       ListWrapper([<romnet.nn.building_blocks.normalization.CustomNormalization object at 0x15fef2190>, <keras.layers.core.dense.Dense object at 0x160340e20>, <keras.layers.core.dropout.Dropout object at 0x16036beb0>, <keras.layers.core.dense.Dense object at 0x15ff37d30>, <keras.layers.core.dropout.Dropout object at 0x15ff37ac0>, <keras.layers.core.dense.Dense object at 0x160340c40>, <keras.layers.core.dropout.Dropout object at 0x15ff37160>, <keras.layers.core.dense.Dense object at 0x15feffaf0>, <keras.layers.core.dropout.Dropout object at 0x15ff82070>, <keras.layers.core.dense.Dense object at 0x15ff82bb0>])\n",
      "\n",
      "[ROMNet - model_tf.py    ]:   Loading ML Model Parameters from File:  /Users/sventur/WORKSPACE/ROMNet/romnet/scripts/postprocessing/0DReactor/Decoder/../../../../../../ROMNet/0DReact_Isobaric_500Cases_CH4_Decoder_/FNN/Run_11//Training/Params//017679.h5\n",
      "[ROMNet - hdf5_format.py            ]:     Loaded Weights for Layer  FNN-FNN_Normalization\n",
      "[ROMNet - hdf5_format.py            ]:     Loaded Weights for Layer  FNN-FNN_Normalization\n",
      "[ROMNet - hdf5_format.py            ]:     Loaded Weights for Layer  FNN-FNN_Normalization\n",
      "[ROMNet - hdf5_format.py            ]:     Loaded Weights for Layer  FNN-FNN_Normalization\n",
      "[ROMNet - hdf5_format.py            ]:     Loaded Weights for Layer  FNN-FNN_Normalization\n",
      "[ROMNet - hdf5_format.py            ]:     Loaded Weights for Layer  FNN-FNN-Main-HL_1\n",
      "[ROMNet - hdf5_format.py            ]:     Loaded Weights for Layer  FNN-FNN-Main-HL_1\n",
      "[ROMNet - hdf5_format.py            ]:     Loaded Weights for Layer  FNN-FNN-Main-HL_2\n",
      "[ROMNet - hdf5_format.py            ]:     Loaded Weights for Layer  FNN-FNN-Main-HL_2\n",
      "[ROMNet - hdf5_format.py            ]:     Loaded Weights for Layer  FNN-FNN-Main-HL_3\n",
      "[ROMNet - hdf5_format.py            ]:     Loaded Weights for Layer  FNN-FNN-Main-HL_3\n",
      "[ROMNet - hdf5_format.py            ]:     Loaded Weights for Layer  FNN-FNN-Main-HL_4\n",
      "[ROMNet - hdf5_format.py            ]:     Loaded Weights for Layer  FNN-FNN-Main-HL_4\n",
      "[ROMNet - hdf5_format.py            ]:     Loaded Weights for Layer  FNN-FNN-Main-HL_5\n",
      "[ROMNet - hdf5_format.py            ]:     Loaded Weights for Layer  FNN-FNN-Main-HL_5\n",
      "'load_params' took 0.023840 s\n",
      "\n",
      "\n",
      "[ROMNet - model_tf.py    ]:   Saving ML Model Parameters to File:  /Users/sventur/WORKSPACE/ROMNet/romnet/scripts/postprocessing/0DReactor/Decoder/../../../../../../ROMNet/0DReact_Isobaric_500Cases_CH4_Decoder_/FNN/Run_11//Model/Params/Initial.h5\n",
      "'save_params' took 0.023757 s\n",
      "\n",
      "'build' took 2.019388 s\n",
      "\n"
     ]
    }
   ],
   "source": [
    "surrogate_type = InputData.surrogate_type\n",
    "if (surrogate_type == 'FNN-SourceTerms'):\n",
    "    surrogate_type = 'FNN'\n",
    "\n",
    "Net   = getattr(rmnt.architecture, surrogate_type)\n",
    "\n",
    "model = rmnt.model.Model_TF(InputData)\n",
    "\n",
    "if (InputData.phys_system is not None):\n",
    "    System = getattr(rmnt.pinn.system, InputData.phys_system)\n",
    "    system = System(InputData)\n",
    "    \n",
    "model.build(InputData, None, Net, system)#, loadfile_no='000027')\n",
    "\n",
    "NN    = model.net"
   ]
  },
  {
   "cell_type": "code",
   "execution_count": null,
   "metadata": {},
   "outputs": [],
   "source": []
  },
  {
   "cell_type": "code",
   "execution_count": null,
   "metadata": {},
   "outputs": [],
   "source": []
  },
  {
   "cell_type": "code",
   "execution_count": null,
   "metadata": {},
   "outputs": [],
   "source": []
  },
  {
   "cell_type": "code",
   "execution_count": 5,
   "metadata": {},
   "outputs": [],
   "source": [
    "FileName = InputData.path_to_data_fld+'/../../../'+str(NVarsRed)+'PC/ROM/A.csv'\n",
    "A        = pd.read_csv(FileName, delimiter=',', header=None).to_numpy()\n",
    "AT       = A.T\n",
    "\n",
    "FileName = InputData.path_to_data_fld+'/../../../'+str(NVarsRed)+'PC/ROM/C.csv'\n",
    "C        = pd.read_csv(FileName, delimiter=',', header=None).to_numpy()\n",
    "\n",
    "FileName = InputData.path_to_data_fld+'/../../../'+str(NVarsRed)+'PC/ROM/D.csv'\n",
    "D        = pd.read_csv(FileName, delimiter=',', header=None).to_numpy()\n",
    "\n",
    "FileName    = InputData.path_to_data_fld+'/../../../'+str(NVarsRed)+'PC/ROM/ToOrig_Mask.csv'\n",
    "ToOrig_Mask = pd.read_csv(FileName, delimiter=',', header=None).to_numpy(int)[:,0]"
   ]
  },
  {
   "cell_type": "code",
   "execution_count": null,
   "metadata": {},
   "outputs": [],
   "source": []
  },
  {
   "cell_type": "code",
   "execution_count": null,
   "metadata": {},
   "outputs": [],
   "source": []
  },
  {
   "cell_type": "code",
   "execution_count": null,
   "metadata": {},
   "outputs": [],
   "source": []
  },
  {
   "cell_type": "markdown",
   "metadata": {},
   "source": [
    "## Evaluating Branch on Test Data"
   ]
  },
  {
   "cell_type": "code",
   "execution_count": 6,
   "metadata": {},
   "outputs": [],
   "source": [
    "FileName        = InputData.path_to_data_fld+'/../../CleanVars_NotToRed.csv'\n",
    "input_vars_not  = list(pd.read_csv(FileName, delimiter=',', header=None).to_numpy()[0,:])\n",
    "input_vars_     = []\n",
    "for iVars in range(1,NVarsRed+1):\n",
    "    input_vars_.append('PC_'+str(iVars))\n",
    "input_vars      = input_vars_not + input_vars_\n",
    "\n",
    "output_vars     = InputData.output_vars"
   ]
  },
  {
   "cell_type": "code",
   "execution_count": 7,
   "metadata": {},
   "outputs": [],
   "source": [
    "FileName     = InputData.path_to_data_fld+'/valid/pts/Input.csv'\n",
    "input_data   = pd.read_csv(FileName)[input_vars]\n",
    "input_data_  = pd.read_csv(FileName)[input_vars_]\n",
    "\n",
    "FileName     = InputData.path_to_data_fld+'/valid/pts/Output.csv'\n",
    "output_data  = pd.read_csv(FileName)[output_vars]"
   ]
  },
  {
   "cell_type": "code",
   "execution_count": 8,
   "metadata": {},
   "outputs": [],
   "source": [
    "yMat         = model.predict(input_data)    \n",
    "\n",
    "yMat_PCA     = input_data_.to_numpy().dot(A) * D[:,0] + C[:,0]"
   ]
  },
  {
   "cell_type": "code",
   "execution_count": 17,
   "metadata": {},
   "outputs": [
    {
     "data": {
      "text/plain": [
       "[<matplotlib.lines.Line2D at 0x160fe5160>]"
      ]
     },
     "execution_count": 17,
     "metadata": {},
     "output_type": "execute_result"
    },
    {
     "data": {
      "image/png": "[encoded data removed]",
      "text/plain": [
       "<Figure size 720x720 with 1 Axes>"
      ]
     },
     "metadata": {
      "needs_background": "light"
     },
     "output_type": "display_data"
    }
   ],
   "source": [
    "SoI          = 'CO'\n",
    "iS           = list(output_vars).index(SoI)\n",
    "\n",
    "plt.figure(figsize=(10,10))\n",
    "plt.plot(output_data[SoI], yMat[:,iS], 'ko')\n",
    "plt.plot(output_data[SoI], yMat_PCA[:,iS], 'ro')\n",
    "#plt.plot(10**(output_data[SoI]-20), 10**(yMat[:,iS]-20), 'ko')\n",
    "\n",
    "\n",
    "\n",
    "#plt.plot([yMat[:,iS].min()-0.1, yMat[:,iS].max()*1.5],[yMat[:,iS].min()-0.1, yMat[:,iS].max()*1.5], 'k-')"
   ]
  },
  {
   "cell_type": "code",
   "execution_count": 10,
   "metadata": {},
   "outputs": [
    {
     "data": {
      "text/plain": [
       "['H2',\n",
       " 'H',\n",
       " 'O',\n",
       " 'O2',\n",
       " 'H2O',\n",
       " 'HO2',\n",
       " 'H2O2',\n",
       " 'C',\n",
       " 'CH',\n",
       " 'CH2',\n",
       " 'CH2(S)',\n",
       " 'CH3',\n",
       " 'CH4',\n",
       " 'CO',\n",
       " 'CO2',\n",
       " 'HCO',\n",
       " 'CH2O',\n",
       " 'CH2OH',\n",
       " 'CH3O',\n",
       " 'CH3OH',\n",
       " 'C2H',\n",
       " 'C2H2',\n",
       " 'C2H3',\n",
       " 'C2H4',\n",
       " 'C2H5',\n",
       " 'C2H6',\n",
       " 'HCCO',\n",
       " 'CH2CO',\n",
       " 'HCCOH',\n",
       " 'N',\n",
       " 'NH',\n",
       " 'NH2',\n",
       " 'NH3',\n",
       " 'NNH',\n",
       " 'N2O',\n",
       " 'HNO',\n",
       " 'CN',\n",
       " 'HCN',\n",
       " 'H2CN',\n",
       " 'HCNN',\n",
       " 'HCNO',\n",
       " 'HOCN',\n",
       " 'HNCO',\n",
       " 'NCO',\n",
       " 'C3H7',\n",
       " 'C3H8',\n",
       " 'CH2CHO',\n",
       " 'CH3CHO']"
      ]
     },
     "execution_count": 10,
     "metadata": {},
     "output_type": "execute_result"
    }
   ],
   "source": [
    "output_vars"
   ]
  },
  {
   "cell_type": "code",
   "execution_count": null,
   "metadata": {},
   "outputs": [],
   "source": []
  },
  {
   "cell_type": "code",
   "execution_count": null,
   "metadata": {},
   "outputs": [],
   "source": []
  },
  {
   "cell_type": "markdown",
   "metadata": {},
   "source": [
    "## Plotting Loss Histories"
   ]
  },
  {
   "cell_type": "code",
   "execution_count": 11,
   "metadata": {},
   "outputs": [
    {
     "data": {
      "image/png": "[encoded data removed]",
      "text/plain": [
       "<Figure size 864x576 with 1 Axes>"
      ]
     },
     "metadata": {
      "needs_background": "light"
     },
     "output_type": "display_data"
    },
    {
     "data": {
      "image/png": "[encoded data removed]",
      "text/plain": [
       "<Figure size 864x576 with 1 Axes>"
      ]
     },
     "metadata": {
      "needs_background": "light"
     },
     "output_type": "display_data"
    }
   ],
   "source": [
    "Data    = pd.read_csv(path_to_run_fld+'/Training/History.csv')\n",
    "\n",
    "# OldRun  = 'Run_39'\n",
    "# DataOld = pd.read_csv(path_to_run_fld+'/../'+OldRun+'/Training/History.csv')\n",
    "\n",
    "fig  = plt.figure(figsize=(12,8))\n",
    "plt.plot(Data['tot_loss'],      label='Training')\n",
    "plt.plot(Data['val_tot_loss'],  label='Validation')\n",
    "# plt.plot(DataOld['tot_loss'],     label='Training, '+OldRun)\n",
    "# plt.plot(DataOld['val_tot_loss'], label='Validation, '+OldRun)\n",
    "plt.xlabel('Epoch')\n",
    "plt.ylabel('Tot. Loss [MSE]')\n",
    "plt.legend()\n",
    "plt.yscale('log')\n",
    "\n",
    "fig  = plt.figure(figsize=(12,8))\n",
    "plt.plot(Data['pts_loss'],      label='Training')\n",
    "plt.plot(Data['val_pts_loss'],  label='Validation')\n",
    "# plt.plot(DataOld['pts_loss'],     label='Training, '+OldRun)\n",
    "# plt.plot(DataOld['val_pts_loss'], label='Validation, '+OldRun)\n",
    "plt.xlabel('Epoch')\n",
    "plt.ylabel('Data Loss [MSE]')\n",
    "plt.legend()\n",
    "plt.yscale('log')\n",
    "#plt.ylim([1.e-2, 1.e0])\n",
    "\n",
    "# fig  = plt.figure(figsize=(12,8))\n",
    "# plt.plot(Data['scs_loss'],     label='Training')\n",
    "# plt.plot(Data['val_scs_loss'], label='Validation')\n",
    "# plt.xlabel('Epoch')\n",
    "# plt.ylabel('S.C.s Loss [MSE]')\n",
    "# plt.legend()\n",
    "# plt.yscale('log')\n",
    "\n",
    "# fig  = plt.figure(figsize=(12,8))\n",
    "# plt.plot(Data['ics_loss'],     label='Training')\n",
    "# plt.plot(Data['val_ics_loss'], label='Validation')\n",
    "# plt.xlabel('Epoch')\n",
    "# plt.ylabel('I.C.s Loss [MSE]')\n",
    "# plt.legend()\n",
    "# plt.yscale('log')"
   ]
  },
  {
   "cell_type": "code",
   "execution_count": null,
   "metadata": {},
   "outputs": [],
   "source": []
  },
  {
   "cell_type": "code",
   "execution_count": null,
   "metadata": {},
   "outputs": [],
   "source": []
  },
  {
   "cell_type": "code",
   "execution_count": null,
   "metadata": {},
   "outputs": [],
   "source": []
  },
  {
   "cell_type": "code",
   "execution_count": 18,
   "metadata": {},
   "outputs": [],
   "source": [
    "i_ics       = 2\n",
    "\n",
    "FileName    = InputData.path_to_data_fld+'/../../../20PC/train/ext/PC.csv.'+str(i_ics)\n",
    "xPred       = pd.read_csv(FileName, delimiter=',')\n",
    "\n",
    "FileName    = InputData.path_to_data_fld+'/../../../Orig/train/ext/y.csv.'+str(i_ics)\n",
    "yPred       = pd.read_csv(FileName, delimiter=',')"
   ]
  },
  {
   "cell_type": "code",
   "execution_count": 19,
   "metadata": {},
   "outputs": [],
   "source": [
    "yMat         = model.predict(xPred[input_vars])    "
   ]
  },
  {
   "cell_type": "code",
   "execution_count": 33,
   "metadata": {},
   "outputs": [
    {
     "data": {
      "image/png": "[encoded data removed]",
      "text/plain": [
       "<Figure size 432x288 with 1 Axes>"
      ]
     },
     "metadata": {
      "needs_background": "light"
     },
     "output_type": "display_data"
    }
   ],
   "source": [
    "SoI          = 'O'\n",
    "iS           = list(output_vars).index(SoI)\n",
    "\n",
    "plt.plot(yPred['t'], yPred[SoI],      color=ColorVec[0])\n",
    "plt.plot(xPred['t'], yMat[:,iS], ':', color=ColorVec[1])\n",
    "#plt.plot(xPred['t'], 10**(yMat[:,iS]-20), ':', color=ColorVec[1])\n",
    "plt.xscale('log')"
   ]
  },
  {
   "cell_type": "code",
   "execution_count": 21,
   "metadata": {},
   "outputs": [
    {
     "data": {
      "text/plain": [
       "['H2',\n",
       " 'H',\n",
       " 'O',\n",
       " 'O2',\n",
       " 'H2O',\n",
       " 'HO2',\n",
       " 'H2O2',\n",
       " 'C',\n",
       " 'CH',\n",
       " 'CH2',\n",
       " 'CH2(S)',\n",
       " 'CH3',\n",
       " 'CH4',\n",
       " 'CO',\n",
       " 'CO2',\n",
       " 'HCO',\n",
       " 'CH2O',\n",
       " 'CH2OH',\n",
       " 'CH3O',\n",
       " 'CH3OH',\n",
       " 'C2H',\n",
       " 'C2H2',\n",
       " 'C2H3',\n",
       " 'C2H4',\n",
       " 'C2H5',\n",
       " 'C2H6',\n",
       " 'HCCO',\n",
       " 'CH2CO',\n",
       " 'HCCOH',\n",
       " 'N',\n",
       " 'NH',\n",
       " 'NH2',\n",
       " 'NH3',\n",
       " 'NNH',\n",
       " 'N2O',\n",
       " 'HNO',\n",
       " 'CN',\n",
       " 'HCN',\n",
       " 'H2CN',\n",
       " 'HCNN',\n",
       " 'HCNO',\n",
       " 'HOCN',\n",
       " 'HNCO',\n",
       " 'NCO',\n",
       " 'C3H7',\n",
       " 'C3H8',\n",
       " 'CH2CHO',\n",
       " 'CH3CHO']"
      ]
     },
     "execution_count": 21,
     "metadata": {},
     "output_type": "execute_result"
    }
   ],
   "source": [
    "output_vars"
   ]
  },
  {
   "cell_type": "code",
   "execution_count": null,
   "metadata": {},
   "outputs": [],
   "source": []
  }
 ],
 "metadata": {
  "kernelspec": {
   "display_name": "Python 3 (ipykernel)",
   "language": "python",
   "name": "python3"
  },
  "language_info": {
   "codemirror_mode": {
    "name": "ipython",
    "version": 3
   },
   "file_extension": ".py",
   "mimetype": "text/x-python",
   "name": "python",
   "nbconvert_exporter": "python",
   "pygments_lexer": "ipython3",
   "version": "3.9.12"
  }
 },
 "nbformat": 4,
 "nbformat_minor": 4
}
