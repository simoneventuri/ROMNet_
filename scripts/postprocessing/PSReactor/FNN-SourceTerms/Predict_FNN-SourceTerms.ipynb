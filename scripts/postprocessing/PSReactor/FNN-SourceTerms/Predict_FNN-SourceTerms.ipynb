{
 "cells": [
  {
   "cell_type": "markdown",
   "metadata": {},
   "source": [
    "# Postprocessing a Feed-Forward NN Trained for the Perfectly Stirred Reactor Case"
   ]
  },
  {
   "cell_type": "code",
   "execution_count": 1,
   "metadata": {},
   "outputs": [],
   "source": [
    "### Loading Libraries\n",
    "\n",
    "import os\n",
    "import sys\n",
    "import numpy                              as np\n",
    "import pandas                             as pd\n",
    "\n",
    "import matplotlib\n",
    "from matplotlib                           import pyplot as plt\n",
    "WORKSPACE_PATH  = os.environ['WORKSPACE_PATH']\n",
    "plt.style.use(WORKSPACE_PATH+'/ROMNet/romnet/extra/postprocessing/presentation.mplstyle')"
   ]
  },
  {
   "cell_type": "code",
   "execution_count": 2,
   "metadata": {},
   "outputs": [],
   "source": [
    "### Input Data\n",
    "\n",
    "ROMNetFldr    = WORKSPACE_PATH + '/ROMNet/romnet/'\n",
    "PathToRunFld  = WORKSPACE_PATH + '/ROMNet/PSR_10Cases/FNN-SourceTerms/Deterministic/Run_1/'\n",
    "#PathToRunFld  = WORKSPACE_PATH + '/ROMNet/MSD_10Cases/FNN-SourceTerms/MCDropOut/Run_1/'\n",
    "#PathToRunFld  = WORKSPACE_PATH + '/ROMNet/MSD_10Cases/FNN-SourceTerms/BayesByBackprop/Run_1/'\n",
    "#PathToRunFld  = WORKSPACE_PATH + '/ROMNet/MSD_10Cases/FNN-SourceTerms/HamiltonianMC/Run_1/'\n",
    "\n",
    "TrainingCases = [0]#[0,2,4,6,8]\n",
    "TestCases     = [0]#[0,2]\n",
    "\n",
    "NSamples      = 1\n",
    "\n",
    "NPerRestTrain = 2000\n",
    "tStratch      = 1.\n",
    "NtTrain       = NPerRestTrain*2\n",
    "SOLVER        = 'BDF'\n",
    "rtol          = 1.e-12 #1.e-15"
   ]
  },
  {
   "cell_type": "code",
   "execution_count": 3,
   "metadata": {},
   "outputs": [
    {
     "name": "stdout",
     "output_type": "stream",
     "text": [
      "\n",
      "[ROMNet]: Reading Input File from:  /Users/sventuri/WORKSPACE//ROMNet/PSR_10Cases/FNN-SourceTerms/Deterministic/Run_1/\n",
      "\n",
      "[ROMNet]: Keep Loading Modules and Functions...\n",
      "\n",
      "[ROMNet]: Initializing Input ...\n",
      "\n",
      "[ROMNet]: Final Figures can be Found here: /Users/sventuri/WORKSPACE//ROMNet/PSR_10Cases/FNN-SourceTerms/Deterministic/Run_1//Figures/\n",
      "\n",
      "[ROMNet]: Final Parameters can be Found here: /Users/sventuri/WORKSPACE//ROMNet/PSR_10Cases/FNN-SourceTerms/Deterministic/Run_1//Params/\n"
     ]
    }
   ],
   "source": [
    "print(\"\\n[ROMNet]: Reading Input File from: \", PathToRunFld)\n",
    "sys.path.insert(0, PathToRunFld)\n",
    "\n",
    "print(\"\\n[ROMNet]: Keep Loading Modules and Functions...\")\n",
    "from ROMNet_Input import inputdata\n",
    "\n",
    "print(\"\\n[ROMNet]: Initializing Input ...\")\n",
    "InputData                 = inputdata(WORKSPACE_PATH, ROMNetFldr)\n",
    "\n",
    "InputData.PathToRunFld    = PathToRunFld\n",
    "\n",
    "InputData.PathToFigFld    = InputData.PathToRunFld+'/Figures/'\n",
    "print(\"\\n[ROMNet]: Final Figures can be Found here: \" + InputData.PathToFigFld)\n",
    "\n",
    "InputData.PathToParamsFld = InputData.PathToRunFld+'/Params/'\n",
    "print(\"\\n[ROMNet]: Final Parameters can be Found here: \" + InputData.PathToParamsFld)\n",
    "\n",
    "InputData.TBCheckpointFldr = None"
   ]
  },
  {
   "cell_type": "code",
   "execution_count": 4,
   "metadata": {},
   "outputs": [
    {
     "name": "stdout",
     "output_type": "stream",
     "text": [
      "[ROMNet]:   Defining ML Model from Scratch\n",
      "[ROMNet]:   Compiling ML Model with Loss and Optimizer\n",
      "[ROMNet]:   Saving ML Model in File: /Users/sventuri/WORKSPACE//ROMNet/PSR_10Cases/FNN-SourceTerms/Deterministic/Run_1//NNModel\n",
      "INFO:tensorflow:Assets written to: /Users/sventuri/WORKSPACE//ROMNet/PSR_10Cases/FNN-SourceTerms/Deterministic/Run_1//NNModel/assets\n",
      "[ROMNet]:   Summarizing ML Model Structure:\n",
      "Model: \"model\"\n",
      "_________________________________________________________________\n",
      "Layer (type)                 Output Shape              Param #   \n",
      "=================================================================\n",
      "input_1 (InputLayer)         [(None, 3)]               0         \n",
      "_________________________________________________________________\n",
      "normalization (Normalization (None, 3)                 7         \n",
      "_________________________________________________________________\n",
      "NN_SPC_1_HL1 (Dense)         (None, 32)                128       \n",
      "_________________________________________________________________\n",
      "dropout (Dropout)            (None, 32)                0         \n",
      "_________________________________________________________________\n",
      "NN_SPC_1_HL2 (Dense)         (None, 64)                2112      \n",
      "_________________________________________________________________\n",
      "dropout_1 (Dropout)          (None, 64)                0         \n",
      "_________________________________________________________________\n",
      "NN_SPC_1_HL3 (Dense)         (None, 128)               8320      \n",
      "_________________________________________________________________\n",
      "dropout_2 (Dropout)          (None, 128)               0         \n",
      "_________________________________________________________________\n",
      "NN_SPC_1_HL4 (Dense)         (None, 64)                8256      \n",
      "_________________________________________________________________\n",
      "dropout_3 (Dropout)          (None, 64)                0         \n",
      "_________________________________________________________________\n",
      "NN_SPC_1_HL5 (Dense)         (None, 32)                2080      \n",
      "_________________________________________________________________\n",
      "FinalScaling_1 (Dense)       (None, 3)                 99        \n",
      "=================================================================\n",
      "Total params: 21,002\n",
      "Trainable params: 20,995\n",
      "Non-trainable params: 7\n",
      "_________________________________________________________________\n",
      "[ROMNet]:   Loading ML Model Parameters from File:  /Users/sventuri/WORKSPACE//ROMNet/PSR_10Cases/FNN-SourceTerms/Deterministic/Run_1//Params//ModelCheckpoint/cp-6636.ckpt\n"
     ]
    }
   ],
   "source": [
    "### Loading Surrogate\n",
    "\n",
    "SurrogateType = InputData.SurrogateType\n",
    "if (SurrogateType == 'FNN-SourceTerms'):\n",
    "    SurrogateType = 'FNN'\n",
    "\n",
    "sys.path.insert(0, InputData.ROMNetFldr  + '/src/Model/' + SurrogateType + '/' + InputData.ProbApproach + '/')\n",
    "from Model import model\n",
    "\n",
    "InputData.TrainIntFlg = 0\n",
    "\n",
    "NN = model(InputData, InputData.PathToRunFld, None, None)\n",
    "\n",
    "NN.load_params(InputData) \n",
    "\n",
    "\n",
    "\n",
    "# ModelFile      = InputData.PathToRunFld    + '/NNModel'\n",
    "# Model          = keras.models.load_model(ModelFile, custom_objects={InputData.LossFunction: None})\n",
    "# Model.summary()\n",
    "\n",
    "# MCFile         = InputData.PathToParamsFld + \"/ModelCheckpoint/cp-{epoch:04d}.ckpt\"\n",
    "# checkpoint_dir = os.path.dirname(MCFile)\n",
    "# latest         = train.latest_checkpoint(checkpoint_dir)\n",
    "# Model.load_weights(latest)"
   ]
  },
  {
   "cell_type": "code",
   "execution_count": 5,
   "metadata": {},
   "outputs": [],
   "source": [
    "### Evaluating on Training Data\n",
    "\n",
    "FileName  = InputData.PathToTrainDataFld + '/' + InputData.InputFile\n",
    "InputDF   = pd.read_csv(FileName, header=0)\n",
    "Input     = InputDF[InputData.InputVars].to_numpy()\n",
    "VarNames  = list(InputDF.columns)\n",
    "\n",
    "\n",
    "FileName  = InputData.PathToTrainDataFld + '/' + InputData.OutputFile\n",
    "OutputDF  = pd.read_csv(FileName, header=0)\n",
    "Output    = OutputDF[InputData.OutputVars].to_numpy()"
   ]
  },
  {
   "cell_type": "code",
   "execution_count": 13,
   "metadata": {},
   "outputs": [],
   "source": [
    "# Plotting Sources vs States\n",
    "\n",
    "fig  = plt.figure(figsize=(16,12))\n",
    "ax   = plt.axes(projection='3d')\n",
    "ax.plot3D(InputDF[InputData.InputVars[0]], InputDF[InputData.InputVars[1]], OutputDF[InputData.OutputVars[0]], 'ok',  linewidth=2)\n",
    "ax.set_xlabel(InputData.InputVars[0])\n",
    "ax.set_ylabel(InputData.InputVars[1])\n",
    "ax.set_zlabel(InputData.OutputVars[0])\n",
    "\n",
    "fig  = plt.figure(figsize=(16,12))\n",
    "ax   = plt.axes(projection='3d')\n",
    "ax.plot3D(InputDF[InputData.InputVars[0]], InputDF[InputData.InputVars[1]], OutputDF[InputData.OutputVars[1]], 'ok',  linewidth=2)\n",
    "ax.set_xlabel(InputData.InputVars[0])\n",
    "ax.set_ylabel(InputData.InputVars[1])\n",
    "ax.set_zlabel(InputData.OutputVars[1])"
   ]
  },
  {
   "cell_type": "code",
   "execution_count": 14,
   "metadata": {},
   "outputs": [],
   "source": [
    "Ny   = len(InputData.OutputVars)\n",
    "ax   = []\n",
    "for iy in range(Ny):\n",
    "    fig    = plt.figure(figsize=(16,12))\n",
    "    ax.append(plt.axes())\n",
    "    xMin_  = np.amin(Output[:,iy])\n",
    "    xMax_  = np.amax(Output[:,iy])\n",
    "    ax[iy].plot([xMin_,xMax_],[xMin_,xMax_],'k-')\n",
    "    ax[iy].set_xlabel('Data, '+InputData.OutputVars[iy])\n",
    "    ax[iy].set_ylabel('Prediction, '+InputData.OutputVars[iy])\n",
    "    \n",
    "for iSample in range(NSamples):\n",
    "    yMat = NN.predict(InputDF[InputData.InputVars])\n",
    "    for iy in range(Ny):\n",
    "        ax[iy].plot(Output[:,iy], yMat[:,iy], 'ro')"
   ]
  },
  {
   "cell_type": "code",
   "execution_count": 15,
   "metadata": {},
   "outputs": [],
   "source": [
    "# Plotting Sources vs States\n",
    "\n",
    "fig  = plt.figure(figsize=(16,12))\n",
    "ax1  = plt.axes(projection='3d')\n",
    "\n",
    "fig  = plt.figure(figsize=(16,12))\n",
    "ax2   = plt.axes(projection='3d')\n",
    "\n",
    "ax1.plot3D(InputDF[InputData.InputVars[0]], InputDF[InputData.InputVars[1]], OutputDF[InputData.OutputVars[0]], 'ok',  linewidth=2)\n",
    "ax2.plot3D(InputDF[InputData.InputVars[0]], InputDF[InputData.InputVars[1]], OutputDF[InputData.OutputVars[1]], 'ok',  linewidth=2)\n",
    "\n",
    "for iSample in range(NSamples):\n",
    "    yMat = NN.predict(InputDF[InputData.InputVars])\n",
    "    ax1.plot3D(InputDF[InputData.InputVars[0]], InputDF[InputData.InputVars[1]], yMat[:,0], 'or',  linewidth=2)\n",
    "    ax2.plot3D(InputDF[InputData.InputVars[0]], InputDF[InputData.InputVars[1]], yMat[:,1], 'or',  linewidth=2)\n",
    "\n",
    "    ax1.set_xlabel(InputData.InputVars[0])\n",
    "ax1.set_ylabel(InputData.InputVars[1])\n",
    "ax1.set_zlabel(InputData.OutputVars[0])\n",
    "\n",
    "ax2.set_xlabel(InputData.InputVars[0])\n",
    "ax2.set_ylabel(InputData.InputVars[1])\n",
    "ax2.set_zlabel(InputData.OutputVars[1])"
   ]
  },
  {
   "cell_type": "code",
   "execution_count": 9,
   "metadata": {},
   "outputs": [],
   "source": [
    "### Evaluating on Test Data\n",
    "\n",
    "FileName  = InputData.PathToTestDataFld + '/' + InputData.InputFile\n",
    "InputDF   = pd.read_csv(FileName, header=0)\n",
    "Input     = InputDF[InputData.InputVars].to_numpy()\n",
    "VarNames  = list(InputDF.columns)\n",
    "\n",
    "\n",
    "FileName  = InputData.PathToTestsDataFld + '/' + InputData.OutputFile\n",
    "OutputDF  = pd.read_csv(FileName, header=0)\n",
    "Output    = OutputDF[InputData.OutputVars].to_numpy()"
   ]
  },
  {
   "cell_type": "code",
   "execution_count": 16,
   "metadata": {},
   "outputs": [],
   "source": [
    "# Plotting Sources vs States\n",
    "\n",
    "fig  = plt.figure(figsize=(16,12))\n",
    "ax1  = plt.axes(projection='3d')\n",
    "\n",
    "fig  = plt.figure(figsize=(16,12))\n",
    "ax2   = plt.axes(projection='3d')\n",
    "\n",
    "ax1.plot3D(InputDF[InputData.InputVars[0]], InputDF[InputData.InputVars[1]], OutputDF[InputData.OutputVars[0]], 'ok',  linewidth=2)\n",
    "ax2.plot3D(InputDF[InputData.InputVars[0]], InputDF[InputData.InputVars[1]], OutputDF[InputData.OutputVars[1]], 'ok',  linewidth=2)\n",
    "\n",
    "for iSample in range(NSamples):\n",
    "    yMat = NN.predict(InputDF[InputData.InputVars])\n",
    "    ax1.plot3D(InputDF[InputData.InputVars[0]], InputDF[InputData.InputVars[1]], yMat[:,0], 'or',  linewidth=2)\n",
    "    ax2.plot3D(InputDF[InputData.InputVars[0]], InputDF[InputData.InputVars[1]], yMat[:,1], 'or',  linewidth=2)\n",
    "\n",
    "    ax1.set_xlabel(InputData.InputVars[0])\n",
    "ax1.set_ylabel(InputData.InputVars[1])\n",
    "ax1.set_zlabel(InputData.OutputVars[0])\n",
    "\n",
    "ax2.set_xlabel(InputData.InputVars[0])\n",
    "ax2.set_ylabel(InputData.InputVars[1])\n",
    "ax2.set_zlabel(InputData.OutputVars[1])"
   ]
  },
  {
   "cell_type": "code",
   "execution_count": null,
   "metadata": {},
   "outputs": [],
   "source": []
  },
  {
   "cell_type": "code",
   "execution_count": 11,
   "metadata": {},
   "outputs": [],
   "source": [
    "### Defining Surrogate ODE\n",
    "\n",
    "def f_NN(t, y):\n",
    "    #print(t)\n",
    "    dydt = NN.predict(y[np.newaxis,...])\n",
    "    return dydt[0,:]"
   ]
  },
  {
   "cell_type": "code",
   "execution_count": 12,
   "metadata": {},
   "outputs": [
    {
     "ename": "NameError",
     "evalue": "name 'u' is not defined",
     "output_type": "error",
     "traceback": [
      "\u001b[0;31m---------------------------------------------------------------------------\u001b[0m",
      "\u001b[0;31mNameError\u001b[0m                                 Traceback (most recent call last)",
      "\u001b[0;32m<ipython-input-12-536529daafb1>\u001b[0m in \u001b[0;36m<module>\u001b[0;34m\u001b[0m\n\u001b[1;32m     11\u001b[0m \u001b[0;34m\u001b[0m\u001b[0m\n\u001b[1;32m     12\u001b[0m \u001b[0;32mfor\u001b[0m \u001b[0miTraining\u001b[0m \u001b[0;32min\u001b[0m \u001b[0mTrainingCases\u001b[0m\u001b[0;34m:\u001b[0m\u001b[0;34m\u001b[0m\u001b[0;34m\u001b[0m\u001b[0m\n\u001b[0;32m---> 13\u001b[0;31m     \u001b[0mprint\u001b[0m\u001b[0;34m(\u001b[0m\u001b[0;34m'u0 = '\u001b[0m\u001b[0;34m,\u001b[0m \u001b[0mu\u001b[0m\u001b[0;34m[\u001b[0m\u001b[0miTraining\u001b[0m\u001b[0;34m,\u001b[0m\u001b[0;34m:\u001b[0m\u001b[0;34m]\u001b[0m\u001b[0;34m)\u001b[0m\u001b[0;34m\u001b[0m\u001b[0;34m\u001b[0m\u001b[0m\n\u001b[0m\u001b[1;32m     14\u001b[0m \u001b[0;34m\u001b[0m\u001b[0m\n\u001b[1;32m     15\u001b[0m     \u001b[0mfig\u001b[0m \u001b[0;34m=\u001b[0m \u001b[0mplt\u001b[0m\u001b[0;34m.\u001b[0m\u001b[0mfigure\u001b[0m\u001b[0;34m(\u001b[0m\u001b[0mfigsize\u001b[0m\u001b[0;34m=\u001b[0m\u001b[0;34m(\u001b[0m\u001b[0;36m16\u001b[0m\u001b[0;34m,\u001b[0m \u001b[0;36m12\u001b[0m\u001b[0;34m)\u001b[0m\u001b[0;34m)\u001b[0m\u001b[0;34m\u001b[0m\u001b[0;34m\u001b[0m\u001b[0m\n",
      "\u001b[0;31mNameError\u001b[0m: name 'u' is not defined"
     ]
    }
   ],
   "source": [
    "### Evaluating on Test Data\n",
    "\n",
    "FileName       = TestDir + '/orig_data/RestVecTot.csv'\n",
    "Data           = pd.read_csv(FileName, header=None)\n",
    "RestValVecTest = np.log10(Data.to_numpy())\n",
    "\n",
    "iPC = 0\n",
    "\n",
    "fig = plt.figure(figsize=(16,12))\n",
    "for iTest in range(1):\n",
    "\n",
    "    FileName     = TestDir+'/pc_data_'+str(NVarsRed)+'/PC.csv.'+str(iTest+1)\n",
    "    Data         = pd.read_csv(FileName, header=0)\n",
    "    tVec         = Data.to_numpy()[:,0]\n",
    "    yMat_pca     = Data[Vars].to_numpy()\n",
    "    y0_pca       = yMat_pca[0,:]\n",
    "    print('y0_pca = ', y0_pca)\n",
    "    \n",
    "    RestVal      = RestValVecTest[iTest]\n",
    "    \n",
    "    plt.plot(tVec, yMat_pca[:,iPC], '-k', label='From ODE', lw=2)\n",
    "    \n",
    "    output       = solve_ivp( fOrig_NN, tVec[[0,-1]], y0_pca, method='RK45', t_eval=tVec, atol=1.e-8 )\n",
    "    tNN          = output.t\n",
    "    yMat_pca_    = output.y.T\n",
    "    \n",
    "    plt.plot(tNN, yMat_pca_[:,iPC], ':r', label='From Surrogate Source Term', lw=2)\n",
    "\n",
    "plt.xscale('log')\n",
    "plt.xlabel('time [s]')\n",
    "plt.ylabel('PC_'+str(iPC+1))\n",
    "plt.legend()"
   ]
  },
  {
   "cell_type": "code",
   "execution_count": null,
   "metadata": {},
   "outputs": [],
   "source": [
    "iPC = 0\n",
    "\n",
    "fig = plt.figure(figsize=(16,12))\n",
    "plt.plot(tVec, yMat_pca[:,iPC], '-k', label='From ODE',                   lw=2)\n",
    "plt.plot(tNN, yMat_pca_[:,iPC], ':r', label='From Surrogate Source Term', lw=2)\n",
    "plt.xscale('log')\n",
    "plt.xlabel('time [s]')\n",
    "plt.ylabel('$PC_'+str(iPC+1)+'$')\n",
    "plt.legend()\n",
    "#plt.ylim([-2000.0, 2500.])"
   ]
  },
  {
   "cell_type": "code",
   "execution_count": null,
   "metadata": {},
   "outputs": [],
   "source": [
    "FileName = OutputDir+'/pca_'+str(NVarsRed)+'/A.csv'\n",
    "A        = pd.read_csv(FileName, delimiter=',', header=None).to_numpy()\n",
    "\n",
    "FileName = OutputDir+'/pca_'+str(NVarsRed)+'/C.csv'\n",
    "C        = pd.read_csv(FileName, delimiter=',', header=None).to_numpy()\n",
    "\n",
    "FileName = OutputDir+'/pca_'+str(NVarsRed)+'/D.csv'\n",
    "D        = pd.read_csv(FileName, delimiter=',', header=None).to_numpy()"
   ]
  },
  {
   "cell_type": "code",
   "execution_count": null,
   "metadata": {},
   "outputs": [],
   "source": [
    "yMat_    = (yMat_pca_.dot(A))*D[:,0] + C[:,0]"
   ]
  },
  {
   "cell_type": "code",
   "execution_count": null,
   "metadata": {},
   "outputs": [],
   "source": [
    "VarOI = 'CO'\n",
    "for iVar in range(1,len(VarNames)):\n",
    "    if (VarNames[iVar] == VarOI):\n",
    "        print('iVar = ', iVar)\n",
    "        break\n",
    "        \n",
    "fig = plt.figure(figsize=(16,12))\n",
    "for iTest in range(1):\n",
    "\n",
    "    FileName     = TestDir+'/orig_data/y.csv.'+str(iTest+1)\n",
    "    Data         = pd.read_csv(FileName, header=0)\n",
    "    tVec         = Data.to_numpy()[:,0]\n",
    "    yMat         = Data.to_numpy()[:,1:]\n",
    "        \n",
    "    plt.plot(tVec, yMat[:,iVar-1], '-k', label='From ODE',                   lw=2)\n",
    "    plt.plot(tNN, yMat_[:,iVar-1], ':r', label='From Surrogate Source Term', lw=2)\n",
    "\n",
    "plt.xscale('log')\n",
    "plt.xlabel('time [s]')\n",
    "plt.ylabel(VarOI)\n",
    "plt.legend()"
   ]
  },
  {
   "cell_type": "code",
   "execution_count": null,
   "metadata": {},
   "outputs": [],
   "source": []
  },
  {
   "cell_type": "code",
   "execution_count": null,
   "metadata": {},
   "outputs": [],
   "source": []
  },
  {
   "cell_type": "code",
   "execution_count": null,
   "metadata": {},
   "outputs": [],
   "source": []
  },
  {
   "cell_type": "code",
   "execution_count": null,
   "metadata": {},
   "outputs": [],
   "source": []
  },
  {
   "cell_type": "code",
   "execution_count": null,
   "metadata": {},
   "outputs": [],
   "source": []
  }
 ],
 "metadata": {
  "kernelspec": {
   "display_name": "Python 3",
   "language": "python",
   "name": "python3"
  },
  "language_info": {
   "codemirror_mode": {
    "name": "ipython",
    "version": 3
   },
   "file_extension": ".py",
   "mimetype": "text/x-python",
   "name": "python",
   "nbconvert_exporter": "python",
   "pygments_lexer": "ipython3",
   "version": "3.8.9"
  }
 },
 "nbformat": 4,
 "nbformat_minor": 4
}
