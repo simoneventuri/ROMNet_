{
 "cells": [
  {
   "cell_type": "code",
   "execution_count": 1,
   "metadata": {},
   "outputs": [],
   "source": [
    "### Loading Libraries\n",
    "\n",
    "import os\n",
    "import sys\n",
    "import numpy                              as np\n",
    "import pandas                             as pd\n",
    "\n",
    "import matplotlib\n",
    "from matplotlib                           import pyplot as plt\n",
    "WORKSPACE_PATH  = os.environ['WORKSPACE_PATH']\n",
    "plt.style.use(WORKSPACE_PATH+'/ROMNet/romnet/extra/postprocessing/presentation.mplstyle')\n",
    "\n",
    "from tensorflow                           import keras\n",
    "\n",
    "import romnet                             as rmnt\n",
    "\n",
    "import cantera                            as ct"
   ]
  },
  {
   "cell_type": "code",
   "execution_count": 2,
   "metadata": {},
   "outputs": [],
   "source": [
    "PathToDataFld  = WORKSPACE_PATH + '/ROMNet/Data/PSR_10Cases/3PC/'"
   ]
  },
  {
   "cell_type": "code",
   "execution_count": 3,
   "metadata": {},
   "outputs": [],
   "source": [
    "class PSR(object):\n",
    "\n",
    "    #===========================================================================\n",
    "    def __init__(\n",
    "        self,\n",
    "        PathToDataFld\n",
    "    ):\n",
    "        PathToParams   = PathToDataFld + '/ROM/'\n",
    "\n",
    "        \n",
    "        self.mixture_file = 'gri30.yaml'\n",
    "        self.fuel         = 'CH4:1.0'\n",
    "        self.oxidizer     = 'O2:1.0, N2:0.0'\n",
    "        self.T0_in        = 300.\n",
    "        self.P0_in        = ct.one_atm\n",
    "        self.eq_ratio_in  = 1.\n",
    "        self.v            = 1.0\n",
    "\n",
    "        \n",
    "        \n",
    "        gas                  = ct.Solution(self.mixture_file)\n",
    "        self.n_species       = gas.n_species\n",
    "\n",
    "        ### Create Inlet\n",
    "        gas.TP               = self.T0_in, self.P0_in \n",
    "        gas.set_equivalence_ratio(self.eq_ratio_in, self.fuel, self.oxidizer, basis='mass')\n",
    "        self.y_in            = gas.Y\n",
    "        self.h_in            = np.dot(gas.X/gas.volume_mole, gas.partial_molar_enthalpies) / gas.density\n",
    "\n",
    "        ### Create Combustor\n",
    "        gas.equilibrate('HP')\n",
    "        self.gas             = gas\n",
    "        self.P               = gas.P\n",
    "        self.h0              = np.dot(gas.X/gas.volume_mole, gas.partial_molar_enthalpies)/gas.density\n",
    "        self.gas.HP          = self.h0, gas.P\n",
    "\n",
    "        self.density_times_v = gas.density * self.v\n",
    "        \n",
    "        \n",
    "        \n",
    "        \n",
    "        self.A         = pd.read_csv(PathToParams+'/A.csv', header=None).to_numpy()\n",
    "        self.C         = pd.read_csv(PathToParams+'/C.csv', header=None).to_numpy().T\n",
    "        self.D         = pd.read_csv(PathToParams+'/D.csv', header=None).to_numpy().T\n",
    "        self.AT        = self.A.T\n",
    "        self.n_pc      = self.A.shape[0]\n",
    "\n",
    "        self.to_orig   = pd.read_csv(PathToParams+'/ToOrig_Mask.csv',   header=None).to_numpy(int)[:,0]\n",
    "    \n",
    "    \n",
    "    #===========================================================================\n",
    "    def f(self, t, y_orig, rest):\n",
    "        n_points   = y_orig.shape[0]\n",
    "\n",
    "        mass       = np.sum(y_orig[:,1:], axis=1)\n",
    "        print(mass)\n",
    "\n",
    "        dy_orig_dt = np.zeros_like(y_orig)\n",
    "        for i_point in range(n_points):\n",
    "            mass_i = mass[i_point]\n",
    "            H_i    = y_orig[i_point,0]\n",
    "            Y_i    = y_orig[i_point,1:]\n",
    "            rest_i = 10.**rest[i_point,0]\n",
    "            \n",
    "            self.gas.HPY         = H_i/mass_i, self.P, Y_i/mass_i\n",
    "\n",
    "            rho                  = self.gas.density\n",
    "            wdot                 = self.gas.net_production_rates\n",
    "            mdot                 = self.density_times_v / rest_i\n",
    "\n",
    "            dy_orig_dt[i_point,0]  = (mass*self.h_in - H_i) / rest_i\n",
    "            dy_orig_dt[i_point,1:] = wdot * self.gas.molecular_weights * self.v + (self.y_in - Y_i) * mdot\n",
    "\n",
    "        return dy_orig_dt\n",
    "\n",
    "    #===========================================================================\n",
    "    \n",
    "    \n",
    "    #===========================================================================\n",
    "    def f_pc(self, t, y_pc, rest):\n",
    "        n_points               = y_pc.shape[0]\n",
    "\n",
    "        y_masked               = np.matmul(y_pc, self.A) * self.D + self.C\n",
    "        \n",
    "        y_orig                 = np.zeros((n_points,self.n_species+1))\n",
    "        y_orig[:,self.to_orig] = y_masked\n",
    "        mass                   = np.sum(y_orig[:,1:], axis=1)\n",
    "\n",
    "        dy_orig_dt             = np.zeros_like(y_orig)\n",
    "        for i_point in range(n_points):\n",
    "            mass_i = mass[i_point]\n",
    "            H_i    = y_orig[i_point,0]\n",
    "            Y_i    = y_orig[i_point,1:]\n",
    "            rest_i = 10.**rest[i_point,0]\n",
    "\n",
    "            self.gas.HPY           = H_i/mass_i, self.P, Y_i/mass_i\n",
    "  \n",
    "            rho                    = self.gas.density\n",
    "            wdot                   = self.gas.net_production_rates\n",
    "            mdot                   = self.density_times_v/rest_i\n",
    "  \n",
    "            dy_orig_dt[i_point,0]  = (mass_i*self.h_in - H_i) / rest_i\n",
    "            dy_orig_dt[i_point,1:] = wdot * self.gas.molecular_weights * self.v + (self.y_in - Y_i) * mdot\n",
    "   \n",
    "        dy_masked_dt           = dy_orig_dt[:,self.to_orig]\n",
    "        dy_pc_dt               = np.matmul(dy_masked_dt/self.D, self.AT)\n",
    "\n",
    "        return dy_masked_dt\n",
    "\n",
    "    #==========================================================================="
   ]
  },
  {
   "cell_type": "code",
   "execution_count": 4,
   "metadata": {},
   "outputs": [],
   "source": [
    "psr = PSR(PathToDataFld)"
   ]
  },
  {
   "cell_type": "code",
   "execution_count": 5,
   "metadata": {},
   "outputs": [],
   "source": [
    "y_pc = np.array([[2.701695105597581801e+02,-1.300384270965107732e-02,1.610054189797738592e-03]])\n",
    "rest = np.array([[-5.0]])\n",
    "\n",
    "dy_pc_dt = psr.f_pc(0., y_pc, rest)"
   ]
  },
  {
   "cell_type": "code",
   "execution_count": 6,
   "metadata": {},
   "outputs": [
    {
     "name": "stdout",
     "output_type": "stream",
     "text": [
      "[0.08583121]\n"
     ]
    }
   ],
   "source": [
    "y = np.array([[-7.981068568233224505e+04,5.827182460449132576e-04,2.003427880503316424e-04,2.493209523303316615e-03,1.069026308759098848e-02,6.333282060477100732e-03,2.828378328089143842e-02,6.108147167037001482e-06,2.910253397740119434e-07,9.171447794173098643e-13,1.103246270992535423e-13,6.872751591885412603e-14,7.146550692306891988e-15,5.812122470788831218e-14,5.807865636787473064e-15,1.742430508657903318e-02,1.981683879413244018e-02,6.597986952301323895e-08,5.560989260158240537e-10,3.230620077177212643e-14,8.318985469617597448e-16,7.833837161088560628e-16,3.567364201523519105e-18,2.923413390857086344e-17,2.602236329091941748e-21,3.390220294702945527e-22,4.375660056672233501e-26,7.753952612727701069e-28,1.134659916105115042e-15,2.626311961698442590e-16,1.844178372486215513e-18,0.000000000000000000e+00,0.000000000000000000e+00,0.000000000000000000e+00,0.000000000000000000e+00,0.000000000000000000e+00,0.000000000000000000e+00,0.000000000000000000e+00,0.000000000000000000e+00,0.000000000000000000e+00,0.000000000000000000e+00,0.000000000000000000e+00,0.000000000000000000e+00,0.000000000000000000e+00,0.000000000000000000e+00,0.000000000000000000e+00,0.000000000000000000e+00,0.000000000000000000e+00,0.000000000000000000e+00,0.000000000000000000e+00,1.138433842707861858e-38,1.846575768272914103e-40,1.369751160838939878e-20,7.704398002861705803e-22]])\n",
    "rest = np.array([[-5.0]])\n",
    "\n",
    "dy_dt = psr.f(0., y, rest)"
   ]
  },
  {
   "cell_type": "code",
   "execution_count": 7,
   "metadata": {},
   "outputs": [
    {
     "data": {
      "text/plain": [
       "array([[-6.33907912e+00, -5.00152913e+00, -1.71957091e+00,\n",
       "        -2.13994880e+01,  6.77096619e+03, -5.43593707e+01,\n",
       "        -2.42763169e+02, -5.24223892e-02, -2.50687552e-03,\n",
       "        -7.87165031e-09, -9.46922582e-10, -1.94239549e-07,\n",
       "        -6.69702821e-09, -3.18507260e-07,  1.72039890e+03,\n",
       "        -1.49554911e+02, -1.70090329e+02, -5.66256309e-04,\n",
       "        -4.73340691e-06, -2.77295203e-10, -7.14058038e-12,\n",
       "        -6.72401859e-12, -3.06187464e-14, -2.50904512e-13,\n",
       "        -2.23353898e-17, -2.90991999e-18, -3.75583956e-22,\n",
       "        -6.65548274e-24, -9.73884737e-12, -2.25420213e-12,\n",
       "        -1.58282676e-14,  0.00000000e+00,  0.00000000e+00,\n",
       "         0.00000000e+00,  0.00000000e+00,  0.00000000e+00,\n",
       "         0.00000000e+00,  0.00000000e+00,  0.00000000e+00,\n",
       "         0.00000000e+00,  0.00000000e+00,  0.00000000e+00,\n",
       "         0.00000000e+00,  0.00000000e+00,  0.00000000e+00,\n",
       "         0.00000000e+00,  0.00000000e+00,  0.00000000e+00,\n",
       "         0.00000000e+00,  0.00000000e+00, -1.48488521e-34,\n",
       "        -1.58496302e-36, -3.20491386e-13, -5.43058899e-15]])"
      ]
     },
     "execution_count": 7,
     "metadata": {},
     "output_type": "execute_result"
    }
   ],
   "source": [
    "dy_dt"
   ]
  },
  {
   "cell_type": "code",
   "execution_count": 8,
   "metadata": {},
   "outputs": [
    {
     "data": {
      "text/plain": [
       "array([[-1.48546350e+06,  2.78429695e+00, -3.20127056e+00,\n",
       "        -4.35671908e+01,  6.73768905e+03, -8.98811192e+01,\n",
       "        -1.69757767e+02,  2.47212524e+00, -1.65862361e+00,\n",
       "         2.61024039e-01, -8.28008171e-02,  1.39045612e+00,\n",
       "        -4.94811050e-02,  3.28490230e+01,  1.64141833e+03,\n",
       "        -5.33101528e+01, -2.23915687e+02,  2.16854050e+00,\n",
       "         1.03422197e+01,  6.34359789e-01,  7.29458968e-03,\n",
       "         9.24338350e-02,  6.06647595e-05,  1.66380599e-03,\n",
       "         5.00304495e-04,  5.77288560e-03,  1.31232976e+00,\n",
       "        -1.35955459e+00,  2.53615436e-01,  1.38101547e-02,\n",
       "         3.88900267e-06, -5.86395575e-01, -4.29338888e-02,\n",
       "         1.52133883e-04,  2.22548217e-05]])"
      ]
     },
     "execution_count": 8,
     "metadata": {},
     "output_type": "execute_result"
    }
   ],
   "source": [
    "dy_pc_dt"
   ]
  },
  {
   "cell_type": "code",
   "execution_count": null,
   "metadata": {},
   "outputs": [],
   "source": []
  }
 ],
 "metadata": {
  "kernelspec": {
   "display_name": "Python 3",
   "language": "python",
   "name": "python3"
  },
  "language_info": {
   "codemirror_mode": {
    "name": "ipython",
    "version": 3
   },
   "file_extension": ".py",
   "mimetype": "text/x-python",
   "name": "python",
   "nbconvert_exporter": "python",
   "pygments_lexer": "ipython3",
   "version": "3.8.12"
  }
 },
 "nbformat": 4,
 "nbformat_minor": 4
}
