{
 "cells": [
  {
   "cell_type": "markdown",
   "metadata": {},
   "source": [
    "# Postprocessing a DeepONet Trained for a Mass-Spring-Damper System "
   ]
  },
  {
   "cell_type": "code",
   "execution_count": 1,
   "metadata": {},
   "outputs": [],
   "source": [
    "### Loading Libraries\n",
    "\n",
    "import os\n",
    "import sys\n",
    "import numpy                              as np\n",
    "import pandas                             as pd\n",
    "\n",
    "import matplotlib\n",
    "from matplotlib                           import pyplot as plt\n",
    "WORKSPACE_PATH  = os.environ['WORKSPACE_PATH']\n",
    "plt.style.use(WORKSPACE_PATH+'/ROMNet/romnet/extra/postprocessing/presentation.mplstyle')\n",
    "\n",
    "from tensorflow                           import keras\n",
    "\n",
    "import romnet                             as rmnt"
   ]
  },
  {
   "cell_type": "code",
   "execution_count": 2,
   "metadata": {},
   "outputs": [],
   "source": [
    "### Defining ODE and its Parameters\n",
    "\n",
    "from scipy.integrate import solve_ivp\n",
    "\n",
    "def fOrig(t, y):\n",
    "    return [y[1], -Params[2]/Params[0]*y[0]-Params[1]/Params[0]*y[1]]\n",
    "\n",
    "def fOrig_Source(t, y):\n",
    "    return [y[1], -Params[2]/Params[0]*y[0]-Params[1]/Params[0]*y[1]]\n",
    "\n",
    "Params = np.array([1.0, 0.5, 3.0], dtype=np.float64)"
   ]
  },
  {
   "cell_type": "code",
   "execution_count": 3,
   "metadata": {},
   "outputs": [],
   "source": [
    "### Input Data\n",
    "\n",
    "ROMNetFldr    = WORKSPACE_PATH + '/ROMNet/romnet/'\n",
    "PathToRunFld  = WORKSPACE_PATH + '/ROMNet/MSD_10Cases/DeepONet/Deterministic/Run_3/'\n",
    "#PathToRunFld  = WORKSPACE_PATH + '/ROMNet/MSD_10Cases/DeepONet/MCDropOut/Run_1/'\n",
    "#PathToRunFld  = WORKSPACE_PATH + '/ROMNet/MSD_10Cases/DeepONet/BayesByBackprop/Run_2/'\n",
    "\n",
    "TrainingCases = [0]#[0,2,4,6,8]\n",
    "TestCases     = [0,2,4]#[0,2]\n",
    "\n",
    "NSamples      = 100\n",
    "\n",
    "Nt            = 100\n",
    "tout          = np.linspace(0.,15.,Nt)\n",
    "SOLVER        = 'Radau'\n",
    "\n",
    "LineTypeVec   = ['-',':','--','.-']*10"
   ]
  },
  {
   "cell_type": "code",
   "execution_count": 4,
   "metadata": {},
   "outputs": [
    {
     "name": "stdout",
     "output_type": "stream",
     "text": [
      "\n",
      "[ROMNet]: Reading Input File from:  /Users/sventuri/WORKSPACE//ROMNet/MSD_10Cases/DeepONet/Deterministic/Run_3/\n",
      "\n",
      "[ROMNet]: Keep Loading Modules and Functions...\n",
      "\n",
      "[ROMNet]: Initializing Input ...\n"
     ]
    }
   ],
   "source": [
    "print(\"\\n[ROMNet]: Reading Input File from: \", PathToRunFld)\n",
    "sys.path.insert(0, PathToRunFld)\n",
    "\n",
    "print(\"\\n[ROMNet]: Keep Loading Modules and Functions...\")\n",
    "from ROMNet_Input import inputdata\n",
    "\n",
    "print(\"\\n[ROMNet]: Initializing Input ...\")\n",
    "InputData               = inputdata(WORKSPACE_PATH, ROMNetFldr)\n",
    "\n",
    "\n",
    "InputData.InputFilePath = PathToRunFld+'/ROMNet_Input.py'\n",
    "InputData.TrainIntFlg   = 0\n",
    "InputData.PathToRunFld  = PathToRunFld"
   ]
  },
  {
   "cell_type": "code",
   "execution_count": 5,
   "metadata": {},
   "outputs": [
    {
     "name": "stdout",
     "output_type": "stream",
     "text": [
      "\n",
      "[ROMNet]:   Initializing the ML Model\n",
      "\n",
      "[ROMNet]:   Building the ML Model\n"
     ]
    },
    {
     "ename": "AttributeError",
     "evalue": "'inputdata' object has no attribute 'TransFun'",
     "output_type": "error",
     "traceback": [
      "\u001b[0;31m---------------------------------------------------------------------------\u001b[0m",
      "\u001b[0;31mAttributeError\u001b[0m                            Traceback (most recent call last)",
      "\u001b[0;32m<ipython-input-5-86eba510973f>\u001b[0m in \u001b[0;36m<module>\u001b[0;34m\u001b[0m\n\u001b[1;32m      7\u001b[0m \u001b[0mmodel\u001b[0m \u001b[0;34m=\u001b[0m \u001b[0mrmnt\u001b[0m\u001b[0;34m.\u001b[0m\u001b[0mmodel\u001b[0m\u001b[0;34m.\u001b[0m\u001b[0mModel_Deterministic\u001b[0m\u001b[0;34m(\u001b[0m\u001b[0mInputData\u001b[0m\u001b[0;34m)\u001b[0m\u001b[0;34m\u001b[0m\u001b[0;34m\u001b[0m\u001b[0m\n\u001b[1;32m      8\u001b[0m \u001b[0;34m\u001b[0m\u001b[0m\n\u001b[0;32m----> 9\u001b[0;31m \u001b[0mmodel\u001b[0m\u001b[0;34m.\u001b[0m\u001b[0mbuild\u001b[0m\u001b[0;34m(\u001b[0m\u001b[0mInputData\u001b[0m\u001b[0;34m,\u001b[0m \u001b[0;32mNone\u001b[0m\u001b[0;34m,\u001b[0m \u001b[0mNet\u001b[0m\u001b[0;34m)\u001b[0m\u001b[0;34m\u001b[0m\u001b[0;34m\u001b[0m\u001b[0m\n\u001b[0m\u001b[1;32m     10\u001b[0m \u001b[0;34m\u001b[0m\u001b[0m\n\u001b[1;32m     11\u001b[0m \u001b[0mNN\u001b[0m    \u001b[0;34m=\u001b[0m \u001b[0mmodel\u001b[0m\u001b[0;34m.\u001b[0m\u001b[0mnet\u001b[0m\u001b[0;34m\u001b[0m\u001b[0;34m\u001b[0m\u001b[0m\n",
      "\u001b[0;32m/usr/local/lib/python3.8/site-packages/ROMNet-0.0.1-py3.8.egg/romnet/utils/internal.py\u001b[0m in \u001b[0;36mwrapper\u001b[0;34m(*args, **kwargs)\u001b[0m\n\u001b[1;32m     24\u001b[0m     \u001b[0;32mdef\u001b[0m \u001b[0mwrapper\u001b[0m\u001b[0;34m(\u001b[0m\u001b[0;34m*\u001b[0m\u001b[0margs\u001b[0m\u001b[0;34m,\u001b[0m \u001b[0;34m**\u001b[0m\u001b[0mkwargs\u001b[0m\u001b[0;34m)\u001b[0m\u001b[0;34m:\u001b[0m\u001b[0;34m\u001b[0m\u001b[0;34m\u001b[0m\u001b[0m\n\u001b[1;32m     25\u001b[0m         \u001b[0mts\u001b[0m \u001b[0;34m=\u001b[0m \u001b[0mtimeit\u001b[0m\u001b[0;34m.\u001b[0m\u001b[0mdefault_timer\u001b[0m\u001b[0;34m(\u001b[0m\u001b[0;34m)\u001b[0m\u001b[0;34m\u001b[0m\u001b[0;34m\u001b[0m\u001b[0m\n\u001b[0;32m---> 26\u001b[0;31m         \u001b[0mresult\u001b[0m \u001b[0;34m=\u001b[0m \u001b[0mf\u001b[0m\u001b[0;34m(\u001b[0m\u001b[0;34m*\u001b[0m\u001b[0margs\u001b[0m\u001b[0;34m,\u001b[0m \u001b[0;34m**\u001b[0m\u001b[0mkwargs\u001b[0m\u001b[0;34m)\u001b[0m\u001b[0;34m\u001b[0m\u001b[0;34m\u001b[0m\u001b[0m\n\u001b[0m\u001b[1;32m     27\u001b[0m         \u001b[0mte\u001b[0m \u001b[0;34m=\u001b[0m \u001b[0mtimeit\u001b[0m\u001b[0;34m.\u001b[0m\u001b[0mdefault_timer\u001b[0m\u001b[0;34m(\u001b[0m\u001b[0;34m)\u001b[0m\u001b[0;34m\u001b[0m\u001b[0;34m\u001b[0m\u001b[0m\n\u001b[1;32m     28\u001b[0m         \u001b[0mprint\u001b[0m\u001b[0;34m(\u001b[0m\u001b[0;34m\"%r took %f s\\n\"\u001b[0m \u001b[0;34m%\u001b[0m \u001b[0;34m(\u001b[0m\u001b[0mf\u001b[0m\u001b[0;34m.\u001b[0m\u001b[0m__name__\u001b[0m\u001b[0;34m,\u001b[0m \u001b[0mte\u001b[0m \u001b[0;34m-\u001b[0m \u001b[0mts\u001b[0m\u001b[0;34m)\u001b[0m\u001b[0;34m)\u001b[0m\u001b[0;34m\u001b[0m\u001b[0;34m\u001b[0m\u001b[0m\n",
      "\u001b[0;32m/usr/local/lib/python3.8/site-packages/ROMNet-0.0.1-py3.8.egg/romnet/model/model_deterministic.py\u001b[0m in \u001b[0;36mbuild\u001b[0;34m(self, InputData, data, Net)\u001b[0m\n\u001b[1;32m    147\u001b[0m             \u001b[0mself\u001b[0m\u001b[0;34m.\u001b[0m\u001b[0mxnorm\u001b[0m \u001b[0;34m=\u001b[0m \u001b[0;32mNone\u001b[0m\u001b[0;34m\u001b[0m\u001b[0;34m\u001b[0m\u001b[0m\n\u001b[1;32m    148\u001b[0m \u001b[0;34m\u001b[0m\u001b[0m\n\u001b[0;32m--> 149\u001b[0;31m         \u001b[0mself\u001b[0m\u001b[0;34m.\u001b[0m\u001b[0mnet\u001b[0m \u001b[0;34m=\u001b[0m \u001b[0mNet\u001b[0m\u001b[0;34m(\u001b[0m\u001b[0mInputData\u001b[0m\u001b[0;34m,\u001b[0m \u001b[0mself\u001b[0m\u001b[0;34m.\u001b[0m\u001b[0mxnorm\u001b[0m\u001b[0;34m,\u001b[0m \u001b[0mself\u001b[0m\u001b[0;34m.\u001b[0m\u001b[0mNN_Transfer_Model\u001b[0m\u001b[0;34m,\u001b[0m \u001b[0;32mNone\u001b[0m\u001b[0;34m,\u001b[0m \u001b[0;32mNone\u001b[0m\u001b[0;34m)\u001b[0m\u001b[0;34m\u001b[0m\u001b[0;34m\u001b[0m\u001b[0m\n\u001b[0m\u001b[1;32m    150\u001b[0m         \u001b[0mself\u001b[0m\u001b[0;34m.\u001b[0m\u001b[0mnet\u001b[0m\u001b[0;34m.\u001b[0m\u001b[0mbuild\u001b[0m\u001b[0;34m(\u001b[0m\u001b[0;34m(\u001b[0m\u001b[0;36m1\u001b[0m\u001b[0;34m,\u001b[0m\u001b[0mself\u001b[0m\u001b[0;34m.\u001b[0m\u001b[0mnet\u001b[0m\u001b[0;34m.\u001b[0m\u001b[0mNVarsx\u001b[0m\u001b[0;34m)\u001b[0m\u001b[0;34m)\u001b[0m\u001b[0;34m\u001b[0m\u001b[0;34m\u001b[0m\u001b[0m\n\u001b[1;32m    151\u001b[0m         \u001b[0;31m#-----------------------------------------------------------------------\u001b[0m\u001b[0;34m\u001b[0m\u001b[0;34m\u001b[0m\u001b[0;34m\u001b[0m\u001b[0m\n",
      "\u001b[0;32m/usr/local/lib/python3.8/site-packages/ROMNet-0.0.1-py3.8.egg/romnet/nn/deeponet.py\u001b[0m in \u001b[0;36m__init__\u001b[0;34m(self, InputData, xnorm, NN_Transfer_Model, fInputTrans, fOutputTrans)\u001b[0m\n\u001b[1;32m     52\u001b[0m         \u001b[0mself\u001b[0m\u001b[0;34m.\u001b[0m\u001b[0mFinalLayerFlg\u001b[0m        \u001b[0;34m=\u001b[0m \u001b[0mInputData\u001b[0m\u001b[0;34m.\u001b[0m\u001b[0mFinalLayerFlg\u001b[0m\u001b[0;34m\u001b[0m\u001b[0;34m\u001b[0m\u001b[0m\n\u001b[1;32m     53\u001b[0m \u001b[0;34m\u001b[0m\u001b[0m\n\u001b[0;32m---> 54\u001b[0;31m         \u001b[0mself\u001b[0m\u001b[0;34m.\u001b[0m\u001b[0mTransFun\u001b[0m             \u001b[0;34m=\u001b[0m \u001b[0mInputData\u001b[0m\u001b[0;34m.\u001b[0m\u001b[0mTransFun\u001b[0m\u001b[0;34m\u001b[0m\u001b[0;34m\u001b[0m\u001b[0m\n\u001b[0m\u001b[1;32m     55\u001b[0m \u001b[0;34m\u001b[0m\u001b[0m\n\u001b[1;32m     56\u001b[0m         \u001b[0;32mif\u001b[0m \u001b[0;34m(\u001b[0m\u001b[0mnp\u001b[0m\u001b[0;34m.\u001b[0m\u001b[0msum\u001b[0m\u001b[0;34m(\u001b[0m\u001b[0mnp\u001b[0m\u001b[0;34m.\u001b[0m\u001b[0marray\u001b[0m\u001b[0;34m(\u001b[0m\u001b[0mself\u001b[0m\u001b[0;34m.\u001b[0m\u001b[0mWeightDecay\u001b[0m\u001b[0;34m)\u001b[0m\u001b[0;34m)\u001b[0m \u001b[0;34m>\u001b[0m \u001b[0;36m0.\u001b[0m\u001b[0;34m)\u001b[0m\u001b[0;34m:\u001b[0m\u001b[0;34m\u001b[0m\u001b[0;34m\u001b[0m\u001b[0m\n",
      "\u001b[0;31mAttributeError\u001b[0m: 'inputdata' object has no attribute 'TransFun'"
     ]
    }
   ],
   "source": [
    "SurrogateType = InputData.SurrogateType\n",
    "if (SurrogateType == 'FNN-SourceTerms'):\n",
    "    SurrogateType = 'FNN'\n",
    "\n",
    "Net   = getattr(rmnt.nn, SurrogateType)\n",
    "\n",
    "model = rmnt.model.Model_Deterministic(InputData)\n",
    "\n",
    "model.build(InputData, None, Net)\n",
    "\n",
    "NN    = model.net"
   ]
  },
  {
   "cell_type": "code",
   "execution_count": null,
   "metadata": {},
   "outputs": [],
   "source": [
    "# LName   = 'Trunk_1_HL' + str(len(InputData.TrunkActFun[0]))\n",
    "\n",
    "# Trunk = keras.Model(NN.inputs, NN.get_layer(LName).output)\n",
    "# Trunk.summary()"
   ]
  },
  {
   "cell_type": "code",
   "execution_count": null,
   "metadata": {},
   "outputs": [],
   "source": [
    "# LName   = 'Branch_'+InputData.BranchVars[0]+'_HL' + str(len(InputData.TrunkActFun[0]))\n",
    "# '_HL' + str(len(InputData.BranchActFun[0]))\n",
    "\n",
    "# Branch1 = keras.Model(NN.Model.inputs, NN.Model.get_layer(LName).output)\n",
    "# Branch1.summary()"
   ]
  },
  {
   "cell_type": "code",
   "execution_count": null,
   "metadata": {},
   "outputs": [],
   "source": [
    "# LName   = 'Branch_'+InputData.BranchVars[1]+'_HL' + str(len(InputData.BranchActFun[1]))\n",
    "\n",
    "# Branch2 = keras.Model(NN.Model.inputs, NN.Model.get_layer(LName).output)\n",
    "# Branch2.summary()"
   ]
  },
  {
   "cell_type": "code",
   "execution_count": null,
   "metadata": {},
   "outputs": [],
   "source": [
    "# ### Evaluating on Training Data\n",
    "\n",
    "# FileName  = InputData.PathToDataFld + '/' + InputData.InputFile\n",
    "# Data      = pd.read_csv(FileName, header=0)\n",
    "# Input     = Data[InputData.BranchVars].to_numpy()\n",
    "# VarNames  = list(Data.columns)\n",
    "# Nu        = Input.shape[1]\n",
    "# u         = []\n",
    "# for iu in range(Nu):\n",
    "#     u.append(np.unique(Input[:,iu]))\n",
    "# u         = np.stack(u, axis=0).T\n",
    "\n",
    "\n",
    "# ## Variable to Be Visualized\n",
    "# VarOI     = 'x'\n",
    "# for iVar in range(1,len(VarNames)):\n",
    "#     if (VarNames[iVar] == VarOI):\n",
    "#         print('iVar = ', iVar)\n",
    "#         break\n",
    "\n",
    "        \n",
    "# for iTraining in TrainingCases:\n",
    "\n",
    "#     print('u0 = ', u[iTraining,:])\n",
    "\n",
    "#     ### Generating Data  \n",
    "#     output     = solve_ivp( fOrig, tout[[0,-1]], u[iTraining,:], method=SOLVER, t_eval=tout, rtol=1.e-15, atol=1.e-10 )\n",
    "#     tOrig      = tout\n",
    "#     yMatOrig   = output.y.T\n",
    "    \n",
    "#     ### Creating NN Input\n",
    "#     tPred     = tOrig[...,np.newaxis]\n",
    "#     Nt        = len(tPred)\n",
    "#     uPred     = u[iTraining,:]*np.ones((Nt,2))\n",
    "#     InputPred = np.concatenate((uPred,tPred), axis=1)\n",
    "    \n",
    "#     if (InputData.ProbApproach == 'Deterministic') or (NSamples == 1):\n",
    "    \n",
    "#         yMat       = NN.predict(InputPred)    \n",
    "#         yTrunk     = Trunk.predict(InputPred)\n",
    "        \n",
    "#         ## Plotting\n",
    "#         fig = plt.figure(figsize=(16, 12))\n",
    "#         plt.plot(tOrig, yMatOrig[:,iVar-1],  'k-', label='Data')\n",
    "#         plt.plot(tPred, yMat[:,iVar-1],      'b-', label='DeepONet')\n",
    "#         plt.xlabel('t')\n",
    "#         plt.ylabel(VarOI)\n",
    "#         plt.legend()\n",
    "#         plt.show()\n",
    "        \n",
    "#     else:\n",
    "        \n",
    "#         ### Sampling NN\n",
    "#         yMat_sum   = np.zeros((yMatOrig.shape[0], yMatOrig.shape[1]))\n",
    "#         yMat_sqr   = np.zeros((yMatOrig.shape[0], yMatOrig.shape[1]))\n",
    "#         yTrunk_sum = np.zeros((yMatOrig.shape[0], 32))\n",
    "#         yTrunk_sqr = np.zeros((yMatOrig.shape[0], 32))\n",
    "\n",
    "#         for iSample in range(NSamples):\n",
    "#             yMat      = NN.predict(InputPred)    \n",
    "#             yMat_sum += yMat\n",
    "#             yMat_sqr += yMat**2\n",
    "\n",
    "#             yTrunk      = Trunk.predict(InputPred)\n",
    "#             yTrunk_sum += yTrunk\n",
    "#             yTrunk_sqr += yTrunk**2\n",
    "\n",
    "#         yTrunk_mean = yTrunk_sum/NSamples\n",
    "#         yTrunk_std  = np.sqrt( yTrunk_sqr/NSamples - yTrunk_mean**2 )\n",
    "#         yTrunk_p1   = yTrunk_mean + 1.*yTrunk_std\n",
    "#         yTrunk_m1   = yTrunk_mean - 1.*yTrunk_std\n",
    "#         yTrunk_p2   = yTrunk_mean + 2.*yTrunk_std\n",
    "#         yTrunk_m2   = yTrunk_mean - 2.*yTrunk_std\n",
    "#         yTrunk_p3   = yTrunk_mean + 3.*yTrunk_std\n",
    "#         yTrunk_m3   = yTrunk_mean - 3.*yTrunk_std\n",
    "\n",
    "\n",
    "#         yMat_mean = yMat_sum/NSamples\n",
    "#         yMat_std  = np.sqrt( yMat_sqr/NSamples - yMat_mean**2 )\n",
    "#         yMat_p1   = yMat_mean + 1.*yMat_std\n",
    "#         yMat_m1   = yMat_mean - 1.*yMat_std\n",
    "#         yMat_p2   = yMat_mean + 2.*yMat_std\n",
    "#         yMat_m2   = yMat_mean - 2.*yMat_std\n",
    "#         yMat_p3   = yMat_mean + 3.*yMat_std\n",
    "#         yMat_m3   = yMat_mean - 3.*yMat_std\n",
    "\n",
    "\n",
    "#         ## Plotting\n",
    "#         fig = plt.figure(figsize=(16, 12))\n",
    "#         plt.plot(tOrig, yMatOrig[:,iVar-1],  'k-', label='Data')\n",
    "#         plt.plot(tPred, yMat_mean[:,iVar-1], 'b-', label=r'DeepONet, $\\mu$')\n",
    "#         plt.plot(tPred, yMat_p3[:,iVar-1],   'b:', label=r'DeepONet, $\\mu+3\\sigma$')\n",
    "#         plt.plot(tPred, yMat_m3[:,iVar-1],   'b:', label=r'DeepONet, $\\mu-3\\sigma$')\n",
    "#         plt.xlabel('t')\n",
    "#         plt.ylabel(VarOI)\n",
    "#         plt.legend()\n",
    "#         plt.show()"
   ]
  },
  {
   "cell_type": "code",
   "execution_count": null,
   "metadata": {},
   "outputs": [],
   "source": [
    "# ### Evaluating Trunk's Last Layer on Training Data\n",
    "\n",
    "# ## Neuron of Interest for Trunk's Last Layer\n",
    "# iN  = 4\n",
    "\n",
    "# if (InputData.ProbApproach == 'Deterministic') or (NSamples == 1):\n",
    "    \n",
    "#     fig = plt.figure(figsize=(16, 12))\n",
    "#     plt.plot(tPred, yTrunk[:,iN], 'b-', label=r'TrunkNet')\n",
    "#     plt.xlabel('t')\n",
    "#     plt.ylabel(VarOI)\n",
    "#     plt.legend()\n",
    "#     plt.show()\n",
    "    \n",
    "# else:\n",
    "    \n",
    "#     fig = plt.figure(figsize=(16, 12))\n",
    "#     plt.plot(tPred, yTrunk_mean[:,iN], 'b-', label=r'TrunkNet, $\\mu$')\n",
    "#     plt.plot(tPred, yTrunk_p3[:,iN],   'b:', label=r'TrunkNet, $\\mu+3\\sigma$')\n",
    "#     plt.plot(tPred, yTrunk_m3[:,iN],   'b:', label=r'TrunkNet, $\\mu-3\\sigma$')\n",
    "#     plt.xlabel('t')\n",
    "#     plt.ylabel(VarOI)\n",
    "#     plt.legend()\n",
    "#     plt.show()"
   ]
  },
  {
   "cell_type": "code",
   "execution_count": null,
   "metadata": {},
   "outputs": [],
   "source": [
    "### Evaluating on Test Data\n",
    "\n",
    "FileName  = InputData.PathToDataFld + '/test/ext/Input.csv'# + InputData.InputFile\n",
    "Data      = pd.read_csv(FileName, header=0)\n",
    "Input     = Data[InputData.BranchVars].to_numpy()\n",
    "VarNames  = list(Data.columns)\n",
    "Nu        = Input.shape[1]\n",
    "u         = []\n",
    "for iu in range(Nu):\n",
    "    u.append(np.unique(Input[:,iu]))\n",
    "u         = np.stack(u, axis=0).T\n",
    "\n",
    "\n",
    "## Variable to Be Visualized\n",
    "VarOI     = 'v'\n",
    "for iVar in range(1,len(VarNames)):\n",
    "    if (VarNames[iVar] == VarOI):\n",
    "        print('iVar = ', iVar)\n",
    "        break\n",
    "\n",
    "iSim = 0\n",
    "for iTest in TestCases:\n",
    "    \n",
    "    print('u0 = ', u[iTest,:])\n",
    "\n",
    "    ### Generating Data  \n",
    "    output     = solve_ivp( fOrig, tout[[0,-1]], u[iTest,:], method=SOLVER, t_eval=tout, rtol=1.e-15, atol=1.e-10 )\n",
    "    tOrig      = tout\n",
    "    yMatOrig   = output.y.T\n",
    "    \n",
    "    ### Creating NN Input\n",
    "    tPred     = tOrig[...,np.newaxis]\n",
    "    Nt        = len(tPred)\n",
    "    uPred     = u[iTest,:]*np.ones((Nt,2))\n",
    "    InputPred = np.concatenate((tPred,uPred), axis=1)\n",
    "    \n",
    "    if (InputData.ProbApproach == 'Deterministic') or (NSamples == 1):\n",
    "        \n",
    "        yMat = NN.predict(InputPred)    \n",
    "        \n",
    "        ## Plotting\n",
    "        \n",
    "        if (iSim == 0):\n",
    "            fig    = plt.figure(figsize=(16, 12))\n",
    "            Label1 = 'Data'\n",
    "            Label2 = 'DeepONet'\n",
    "        else:\n",
    "            Label1 = None\n",
    "            Label2 = None\n",
    "    \n",
    "        plt.plot(tOrig, yMatOrig[:,iVar-1],  'k'+LineTypeVec[iSim], label=Label1)\n",
    "        plt.plot(tPred, yMat[:,iVar-1],      'b'+LineTypeVec[iSim], label=Label2)\n",
    "        plt.xlabel('t')\n",
    "        plt.ylabel(VarOI)\n",
    "        plt.legend()\n",
    "        #plt.show()\n",
    "        \n",
    "    else:\n",
    "\n",
    "        ### Sampling NN\n",
    "        yMat_sum = np.zeros((yMatOrig.shape[0], yMatOrig.shape[1]))\n",
    "        yMat_sqr = np.zeros((yMatOrig.shape[0], yMatOrig.shape[1]))\n",
    "\n",
    "        for iSample in range(NSamples):\n",
    "            yMat_ = NN.predict(InputPred)    \n",
    "            yMat_sum += yMat_\n",
    "            yMat_sqr += yMat_**2\n",
    "\n",
    "        yMat_mean = yMat_sum/NSamples\n",
    "        yMat_std  = np.sqrt( yMat_sqr/NSamples - yMat_mean**2 )\n",
    "        yMat_p1   = yMat_mean + 1.*yMat_std\n",
    "        yMat_m1   = yMat_mean - 1.*yMat_std\n",
    "        yMat_p2   = yMat_mean + 2.*yMat_std\n",
    "        yMat_m2   = yMat_mean - 2.*yMat_std\n",
    "        yMat_p3   = yMat_mean + 3.*yMat_std\n",
    "        yMat_m3   = yMat_mean - 3.*yMat_std\n",
    "\n",
    "\n",
    "        ## Plotting\n",
    "        fig = plt.figure(figsize=(16, 12))\n",
    "        plt.plot(tOrig, yMatOrig[:,iVar-1],  'k-', label='Data')\n",
    "        plt.plot(tPred, yMat_mean[:,iVar-1], 'b-', label=r'DeepONet, $\\mu$')\n",
    "        plt.plot(tPred, yMat_p3[:,iVar-1],   'b:', label=r'DeepONet, $\\mu+3\\sigma$')\n",
    "        plt.plot(tPred, yMat_m3[:,iVar-1],   'b:', label=r'DeepONet, $\\mu-3\\sigma$')\n",
    "        plt.xlabel('t')\n",
    "        plt.ylabel(VarOI)\n",
    "        plt.legend()\n",
    "        plt.show()\n",
    "        \n",
    "    iSim += 1"
   ]
  },
  {
   "cell_type": "markdown",
   "metadata": {},
   "source": [
    " "
   ]
  },
  {
   "cell_type": "code",
   "execution_count": null,
   "metadata": {},
   "outputs": [],
   "source": []
  },
  {
   "cell_type": "code",
   "execution_count": null,
   "metadata": {},
   "outputs": [],
   "source": []
  },
  {
   "cell_type": "code",
   "execution_count": null,
   "metadata": {},
   "outputs": [],
   "source": [
    "Input   = {}\n",
    "Weights = {}\n",
    "for data_id in InputData.NTrain.keys():\n",
    "    FileName         = InputData.PathToDataFld + '/train/'+data_id+'/Input.csv'\n",
    "    Data             = pd.read_csv(FileName)\n",
    "    Input[data_id]   = Data\n",
    "    \n",
    "    FileName         = InputData.PathToRunFld + '/Training/LossWeights/'+data_id+'_9100.csv'\n",
    "    Data             = pd.read_csv(FileName, header=None)\n",
    "    Weights[data_id] = Data"
   ]
  },
  {
   "cell_type": "code",
   "execution_count": null,
   "metadata": {},
   "outputs": [],
   "source": [
    "#%matplotlib qt\n",
    "\n",
    "data_id = 'ics'\n",
    "\n",
    "# fig = plt.figure()\n",
    "# ax  = fig.add_subplot(projection='3d')\n",
    "# ax.scatter(Input[data_id]['x'], Input[data_id]['v'], Weights[data_id][1])\n",
    "# ax.set_xlabel('x')\n",
    "# ax.set_ylabel('y')\n",
    "\n",
    "fig = plt.figure()\n",
    "plt.scatter(Input[data_id]['x'], Weights[data_id][0])\n",
    "plt.xlabel('x')\n",
    "\n",
    "fig = plt.figure()\n",
    "plt.scatter(Input[data_id]['v'], Weights[data_id][1])\n",
    "plt.xlabel('v')"
   ]
  },
  {
   "cell_type": "code",
   "execution_count": null,
   "metadata": {},
   "outputs": [],
   "source": [
    "%matplotlib qt\n",
    "\n",
    "data_id = 'res'\n",
    "\n",
    "fig = plt.figure()\n",
    "ax  = fig.add_subplot(projection='3d')\n",
    "ax.scatter(Input[data_id]['t'], Input[data_id]['x'], Weights[data_id][1])\n",
    "ax.set_xlabel('t')\n",
    "ax.set_ylabel('x')\n",
    "\n",
    "# fig = plt.figure()\n",
    "# plt.scatter(Input[data_id]['t'], Weights[data_id][0])\n",
    "# plt.xlabel('t')\n",
    "\n",
    "# fig = plt.figure()\n",
    "# plt.scatter(Input[data_id]['t'], Weights[data_id][1])\n",
    "# plt.xlabel('t')"
   ]
  },
  {
   "cell_type": "code",
   "execution_count": null,
   "metadata": {},
   "outputs": [],
   "source": []
  },
  {
   "cell_type": "code",
   "execution_count": null,
   "metadata": {},
   "outputs": [],
   "source": [
    "import tensorflow as tf"
   ]
  },
  {
   "cell_type": "code",
   "execution_count": null,
   "metadata": {},
   "outputs": [],
   "source": [
    "class TransLayer(tf.keras.layers.Layer):\n",
    "    def __init__(self, f, indxs):\n",
    "        super(TransLayer, self).__init__()\n",
    "        self.f           = f\n",
    "        self.indxs       = indxs\n",
    "\n",
    "    def call(self, inputs):\n",
    "        inputs_unpack = tf.unstack(inputs, axis=1)\n",
    "        for indx in self.indxs:\n",
    "            inputs_unpack[indx] = self.f(inputs_unpack[indx])\n",
    "        inputs_mod    = tf.stack(inputs_unpack, axis=1)\n",
    "        return inputs_mod"
   ]
  },
  {
   "cell_type": "code",
   "execution_count": null,
   "metadata": {},
   "outputs": [],
   "source": [
    "layer = TransLayer(tf.math.sin, [1,2])"
   ]
  },
  {
   "cell_type": "code",
   "execution_count": null,
   "metadata": {},
   "outputs": [],
   "source": [
    "aa = layer()"
   ]
  },
  {
   "cell_type": "code",
   "execution_count": null,
   "metadata": {},
   "outputs": [],
   "source": [
    "A = np.random.rand(3,20)"
   ]
  },
  {
   "cell_type": "code",
   "execution_count": null,
   "metadata": {},
   "outputs": [],
   "source": [
    "tf.matmul(tf.ones([3,1]), A, transpose_a=True)"
   ]
  },
  {
   "cell_type": "code",
   "execution_count": null,
   "metadata": {},
   "outputs": [],
   "source": [
    "B = tf.ones([10,3])"
   ]
  },
  {
   "cell_type": "code",
   "execution_count": null,
   "metadata": {},
   "outputs": [],
   "source": [
    "C = tf.expand_dims(B[2,:],axis=0)"
   ]
  },
  {
   "cell_type": "code",
   "execution_count": null,
   "metadata": {},
   "outputs": [],
   "source": [
    "C.numpy()"
   ]
  },
  {
   "cell_type": "code",
   "execution_count": null,
   "metadata": {},
   "outputs": [],
   "source": []
  }
 ],
 "metadata": {
  "kernelspec": {
   "display_name": "Python 3",
   "language": "python",
   "name": "python3"
  },
  "language_info": {
   "codemirror_mode": {
    "name": "ipython",
    "version": 3
   },
   "file_extension": ".py",
   "mimetype": "text/x-python",
   "name": "python",
   "nbconvert_exporter": "python",
   "pygments_lexer": "ipython3",
   "version": "3.8.12"
  }
 },
 "nbformat": 4,
 "nbformat_minor": 4
}
