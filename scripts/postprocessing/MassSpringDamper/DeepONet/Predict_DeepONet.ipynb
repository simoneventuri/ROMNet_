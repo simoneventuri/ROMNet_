{
 "cells": [
  {
   "cell_type": "markdown",
   "metadata": {},
   "source": [
    "# Postprocessing a DeepONet Trained for a Mass-Spring-Damper System "
   ]
  },
  {
   "cell_type": "code",
   "execution_count": 1,
   "metadata": {},
   "outputs": [],
   "source": [
    "### Loading Libraries\n",
    "\n",
    "import os\n",
    "import sys\n",
    "import numpy                              as np\n",
    "import pandas                             as pd\n",
    "\n",
    "import matplotlib\n",
    "from matplotlib                           import pyplot as plt\n",
    "WORKSPACE_PATH  = os.environ['WORKSPACE_PATH']\n",
    "plt.style.use(WORKSPACE_PATH+'/ROMNet/romnet/extra/postprocessing/presentation.mplstyle')\n",
    "\n",
    "from tensorflow                           import keras\n",
    "\n",
    "import romnet                             as rmnt"
   ]
  },
  {
   "cell_type": "code",
   "execution_count": 2,
   "metadata": {},
   "outputs": [],
   "source": [
    "### Defining ODE and its Parameters\n",
    "\n",
    "from scipy.integrate import solve_ivp\n",
    "\n",
    "def fOrig(t, y):\n",
    "    return [y[1], -Params[2]/Params[0]*y[0]-Params[1]/Params[0]*y[1]]\n",
    "\n",
    "def fOrig_Source(t, y):\n",
    "    return [y[1], -Params[2]/Params[0]*y[0]-Params[1]/Params[0]*y[1]]\n",
    "\n",
    "Params = np.array([1.0, 0.5, 3.0], dtype=np.float64)"
   ]
  },
  {
   "cell_type": "code",
   "execution_count": 3,
   "metadata": {},
   "outputs": [],
   "source": [
    "### Input Data\n",
    "\n",
    "ROMNetFldr    = WORKSPACE_PATH + '/ROMNet/romnet/'\n",
    "PathToRunFld  = WORKSPACE_PATH + '/ROMNet/MSD_100Cases_All/DeepONet/Deterministic/Run_1/'\n",
    "#PathToRunFld  = WORKSPACE_PATH + '/ROMNet/MSD_10Cases/DeepONet/MCDropOut/Run_1/'\n",
    "#PathToRunFld  = WORKSPACE_PATH + '/ROMNet/MSD_10Cases/DeepONet/BayesByBackprop/Run_2/'\n",
    "\n",
    "TrainingCases = [0]#[0,2,4,6,8]\n",
    "TestCases     = [0,2,4]#[0,2]\n",
    "\n",
    "NSamples      = 100\n",
    "\n",
    "Nt            = 100\n",
    "tout          = np.linspace(0.,15.,Nt)\n",
    "SOLVER        = 'Radau'\n",
    "\n",
    "LineTypeVec   = ['-',':','--','.-']*10"
   ]
  },
  {
   "cell_type": "code",
   "execution_count": 4,
   "metadata": {},
   "outputs": [
    {
     "name": "stdout",
     "output_type": "stream",
     "text": [
      "\n",
      "[ROMNet]: Reading Input File from:  /Users/sventuri/WORKSPACE//ROMNet/MSD_100Cases_All/DeepONet/Deterministic/Run_1/\n",
      "\n",
      "[ROMNet]: Keep Loading Modules and Functions...\n",
      "\n",
      "[ROMNet]: Initializing Input ...\n"
     ]
    }
   ],
   "source": [
    "print(\"\\n[ROMNet]: Reading Input File from: \", PathToRunFld)\n",
    "sys.path.insert(0, PathToRunFld)\n",
    "\n",
    "print(\"\\n[ROMNet]: Keep Loading Modules and Functions...\")\n",
    "from ROMNet_Input import inputdata\n",
    "\n",
    "print(\"\\n[ROMNet]: Initializing Input ...\")\n",
    "InputData               = inputdata(WORKSPACE_PATH, ROMNetFldr)\n",
    "\n",
    "\n",
    "InputData.InputFilePath = PathToRunFld+'/ROMNet_Input.py'\n",
    "InputData.TrainIntFlg   = 0\n",
    "InputData.PathToRunFld  = PathToRunFld"
   ]
  },
  {
   "cell_type": "code",
   "execution_count": 5,
   "metadata": {},
   "outputs": [
    {
     "name": "stdout",
     "output_type": "stream",
     "text": [
      "\n",
      "[ROMNet]:   Initializing the ML Model\n",
      "\n",
      "[ROMNet]:   Building the ML Model\n",
      "\n",
      "\n",
      "\n",
      "[ROMNet]:   Loading ML Model Parameters from File:  /Users/sventuri/WORKSPACE//ROMNet/MSD_100Cases_All/DeepONet/Deterministic/Run_1//Training/Params//000001.h5\n",
      "'load_params' took 0.067674 s\n",
      "\n",
      "\n",
      "[ROMNet]:   Saving ML Model Parameters to File:  /Users/sventuri/WORKSPACE//ROMNet/MSD_100Cases_All/DeepONet/Deterministic/Run_1//Model/Params/Initial.h5\n",
      "'save_params' took 0.056803 s\n",
      "\n",
      "'build' took 3.151800 s\n",
      "\n"
     ]
    }
   ],
   "source": [
    "SurrogateType = InputData.SurrogateType\n",
    "if (SurrogateType == 'FNN-SourceTerms'):\n",
    "    SurrogateType = 'FNN'\n",
    "\n",
    "Net   = getattr(rmnt.nn, SurrogateType)\n",
    "\n",
    "model = rmnt.model.Model_Deterministic(InputData)\n",
    "\n",
    "model.build(InputData, None, Net)#, loadfile_no='000001')\n",
    "\n",
    "NN    = model.net"
   ]
  },
  {
   "cell_type": "code",
   "execution_count": 6,
   "metadata": {},
   "outputs": [],
   "source": [
    "# LName   = 'Trunk_1_HL' + str(len(InputData.TrunkActFun[0]))\n",
    "\n",
    "# Trunk = keras.Model(NN.inputs, NN.get_layer(LName).output)\n",
    "# Trunk.summary()"
   ]
  },
  {
   "cell_type": "code",
   "execution_count": 7,
   "metadata": {},
   "outputs": [],
   "source": [
    "# LName   = 'Branch_'+InputData.BranchVars[0]+'_HL' + str(len(InputData.TrunkActFun[0]))\n",
    "# '_HL' + str(len(InputData.BranchActFun[0]))\n",
    "\n",
    "# Branch1 = keras.Model(NN.Model.inputs, NN.Model.get_layer(LName).output)\n",
    "# Branch1.summary()"
   ]
  },
  {
   "cell_type": "code",
   "execution_count": 8,
   "metadata": {},
   "outputs": [],
   "source": [
    "# LName   = 'Branch_'+InputData.BranchVars[1]+'_HL' + str(len(InputData.BranchActFun[1]))\n",
    "\n",
    "# Branch2 = keras.Model(NN.Model.inputs, NN.Model.get_layer(LName).output)\n",
    "# Branch2.summary()"
   ]
  },
  {
   "cell_type": "code",
   "execution_count": 9,
   "metadata": {},
   "outputs": [],
   "source": [
    "# ### Evaluating on Training Data\n",
    "\n",
    "# FileName  = InputData.PathToDataFld + '/' + InputData.InputFile\n",
    "# Data      = pd.read_csv(FileName, header=0)\n",
    "# Input     = Data[InputData.BranchVars].to_numpy()\n",
    "# VarNames  = list(Data.columns)\n",
    "# Nu        = Input.shape[1]\n",
    "# u         = []\n",
    "# for iu in range(Nu):\n",
    "#     u.append(np.unique(Input[:,iu]))\n",
    "# u         = np.stack(u, axis=0).T\n",
    "\n",
    "\n",
    "# ## Variable to Be Visualized\n",
    "# VarOI     = 'x'\n",
    "# for iVar in range(1,len(VarNames)):\n",
    "#     if (VarNames[iVar] == VarOI):\n",
    "#         print('iVar = ', iVar)\n",
    "#         break\n",
    "\n",
    "        \n",
    "# for iTraining in TrainingCases:\n",
    "\n",
    "#     print('u0 = ', u[iTraining,:])\n",
    "\n",
    "#     ### Generating Data  \n",
    "#     output     = solve_ivp( fOrig, tout[[0,-1]], u[iTraining,:], method=SOLVER, t_eval=tout, rtol=1.e-15, atol=1.e-10 )\n",
    "#     tOrig      = tout\n",
    "#     yMatOrig   = output.y.T\n",
    "    \n",
    "#     ### Creating NN Input\n",
    "#     tPred     = tOrig[...,np.newaxis]\n",
    "#     Nt        = len(tPred)\n",
    "#     uPred     = u[iTraining,:]*np.ones((Nt,2))\n",
    "#     InputPred = np.concatenate((uPred,tPred), axis=1)\n",
    "    \n",
    "#     if (InputData.ProbApproach == 'Deterministic') or (NSamples == 1):\n",
    "    \n",
    "#         yMat       = NN.predict(InputPred)    \n",
    "#         yTrunk     = Trunk.predict(InputPred)\n",
    "        \n",
    "#         ## Plotting\n",
    "#         fig = plt.figure(figsize=(16, 12))\n",
    "#         plt.plot(tOrig, yMatOrig[:,iVar-1],  'k-', label='Data')\n",
    "#         plt.plot(tPred, yMat[:,iVar-1],      'b-', label='DeepONet')\n",
    "#         plt.xlabel('t')\n",
    "#         plt.ylabel(VarOI)\n",
    "#         plt.legend()\n",
    "#         plt.show()\n",
    "        \n",
    "#     else:\n",
    "        \n",
    "#         ### Sampling NN\n",
    "#         yMat_sum   = np.zeros((yMatOrig.shape[0], yMatOrig.shape[1]))\n",
    "#         yMat_sqr   = np.zeros((yMatOrig.shape[0], yMatOrig.shape[1]))\n",
    "#         yTrunk_sum = np.zeros((yMatOrig.shape[0], 32))\n",
    "#         yTrunk_sqr = np.zeros((yMatOrig.shape[0], 32))\n",
    "\n",
    "#         for iSample in range(NSamples):\n",
    "#             yMat      = NN.predict(InputPred)    \n",
    "#             yMat_sum += yMat\n",
    "#             yMat_sqr += yMat**2\n",
    "\n",
    "#             yTrunk      = Trunk.predict(InputPred)\n",
    "#             yTrunk_sum += yTrunk\n",
    "#             yTrunk_sqr += yTrunk**2\n",
    "\n",
    "#         yTrunk_mean = yTrunk_sum/NSamples\n",
    "#         yTrunk_std  = np.sqrt( yTrunk_sqr/NSamples - yTrunk_mean**2 )\n",
    "#         yTrunk_p1   = yTrunk_mean + 1.*yTrunk_std\n",
    "#         yTrunk_m1   = yTrunk_mean - 1.*yTrunk_std\n",
    "#         yTrunk_p2   = yTrunk_mean + 2.*yTrunk_std\n",
    "#         yTrunk_m2   = yTrunk_mean - 2.*yTrunk_std\n",
    "#         yTrunk_p3   = yTrunk_mean + 3.*yTrunk_std\n",
    "#         yTrunk_m3   = yTrunk_mean - 3.*yTrunk_std\n",
    "\n",
    "\n",
    "#         yMat_mean = yMat_sum/NSamples\n",
    "#         yMat_std  = np.sqrt( yMat_sqr/NSamples - yMat_mean**2 )\n",
    "#         yMat_p1   = yMat_mean + 1.*yMat_std\n",
    "#         yMat_m1   = yMat_mean - 1.*yMat_std\n",
    "#         yMat_p2   = yMat_mean + 2.*yMat_std\n",
    "#         yMat_m2   = yMat_mean - 2.*yMat_std\n",
    "#         yMat_p3   = yMat_mean + 3.*yMat_std\n",
    "#         yMat_m3   = yMat_mean - 3.*yMat_std\n",
    "\n",
    "\n",
    "#         ## Plotting\n",
    "#         fig = plt.figure(figsize=(16, 12))\n",
    "#         plt.plot(tOrig, yMatOrig[:,iVar-1],  'k-', label='Data')\n",
    "#         plt.plot(tPred, yMat_mean[:,iVar-1], 'b-', label=r'DeepONet, $\\mu$')\n",
    "#         plt.plot(tPred, yMat_p3[:,iVar-1],   'b:', label=r'DeepONet, $\\mu+3\\sigma$')\n",
    "#         plt.plot(tPred, yMat_m3[:,iVar-1],   'b:', label=r'DeepONet, $\\mu-3\\sigma$')\n",
    "#         plt.xlabel('t')\n",
    "#         plt.ylabel(VarOI)\n",
    "#         plt.legend()\n",
    "#         plt.show()"
   ]
  },
  {
   "cell_type": "code",
   "execution_count": 10,
   "metadata": {},
   "outputs": [],
   "source": [
    "# ### Evaluating Trunk's Last Layer on Training Data\n",
    "\n",
    "# ## Neuron of Interest for Trunk's Last Layer\n",
    "# iN  = 4\n",
    "\n",
    "# if (InputData.ProbApproach == 'Deterministic') or (NSamples == 1):\n",
    "    \n",
    "#     fig = plt.figure(figsize=(16, 12))\n",
    "#     plt.plot(tPred, yTrunk[:,iN], 'b-', label=r'TrunkNet')\n",
    "#     plt.xlabel('t')\n",
    "#     plt.ylabel(VarOI)\n",
    "#     plt.legend()\n",
    "#     plt.show()\n",
    "    \n",
    "# else:\n",
    "    \n",
    "#     fig = plt.figure(figsize=(16, 12))\n",
    "#     plt.plot(tPred, yTrunk_mean[:,iN], 'b-', label=r'TrunkNet, $\\mu$')\n",
    "#     plt.plot(tPred, yTrunk_p3[:,iN],   'b:', label=r'TrunkNet, $\\mu+3\\sigma$')\n",
    "#     plt.plot(tPred, yTrunk_m3[:,iN],   'b:', label=r'TrunkNet, $\\mu-3\\sigma$')\n",
    "#     plt.xlabel('t')\n",
    "#     plt.ylabel(VarOI)\n",
    "#     plt.legend()\n",
    "#     plt.show()"
   ]
  },
  {
   "cell_type": "code",
   "execution_count": 11,
   "metadata": {},
   "outputs": [
    {
     "data": {
      "text/plain": [
       "array([[-3.6, -3.6],\n",
       "       [-2.8, -2.8],\n",
       "       [-2. , -2. ],\n",
       "       [-1.2, -1.2],\n",
       "       [-0.4, -0.4],\n",
       "       [ 0.4,  0.4],\n",
       "       [ 1.2,  1.2],\n",
       "       [ 2. ,  2. ],\n",
       "       [ 2.8,  2.8],\n",
       "       [ 3.6,  3.6]])"
      ]
     },
     "execution_count": 11,
     "metadata": {},
     "output_type": "execute_result"
    }
   ],
   "source": [
    "FileName  = '/Users/sventuri/WORKSPACE/ROMNet/Data/MSD_100Cases/Orig/test/ext/Input.csv'# + InputData.InputFile\n",
    "Data      = pd.read_csv(FileName, header=0)\n",
    "Input     = Data[InputData.BranchVars].to_numpy()\n",
    "VarNames  = list(Data.columns)\n",
    "Nu        = Input.shape[1]\n",
    "u         = []\n",
    "for iu in range(Nu):\n",
    "    u.append(np.unique(Input[:,iu]))\n",
    "u         = np.stack(u, axis=0).T\n",
    "u"
   ]
  },
  {
   "cell_type": "code",
   "execution_count": 30,
   "metadata": {},
   "outputs": [
    {
     "name": "stdout",
     "output_type": "stream",
     "text": [
      "iVar =  2\n",
      "u0 =  [-3.6 -3.6]\n"
     ]
    },
    {
     "name": "stderr",
     "output_type": "stream",
     "text": [
      "/usr/local/lib/python3.8/site-packages/scipy/integrate/_ivp/common.py:47: UserWarning: `rtol` is too low, setting to 2.220446049250313e-14\n",
      "  warn(\"`rtol` is too low, setting to {}\".format(100 * EPS))\n"
     ]
    },
    {
     "name": "stdout",
     "output_type": "stream",
     "text": [
      "u0 =  [-2.8 -2.8]\n"
     ]
    },
    {
     "name": "stderr",
     "output_type": "stream",
     "text": [
      "/usr/local/lib/python3.8/site-packages/scipy/integrate/_ivp/common.py:47: UserWarning: `rtol` is too low, setting to 2.220446049250313e-14\n",
      "  warn(\"`rtol` is too low, setting to {}\".format(100 * EPS))\n"
     ]
    },
    {
     "name": "stdout",
     "output_type": "stream",
     "text": [
      "u0 =  [-2. -2.]\n"
     ]
    },
    {
     "name": "stderr",
     "output_type": "stream",
     "text": [
      "/usr/local/lib/python3.8/site-packages/scipy/integrate/_ivp/common.py:47: UserWarning: `rtol` is too low, setting to 2.220446049250313e-14\n",
      "  warn(\"`rtol` is too low, setting to {}\".format(100 * EPS))\n"
     ]
    },
    {
     "name": "stdout",
     "output_type": "stream",
     "text": [
      "u0 =  [-1.2 -1.2]\n"
     ]
    },
    {
     "name": "stderr",
     "output_type": "stream",
     "text": [
      "/usr/local/lib/python3.8/site-packages/scipy/integrate/_ivp/common.py:47: UserWarning: `rtol` is too low, setting to 2.220446049250313e-14\n",
      "  warn(\"`rtol` is too low, setting to {}\".format(100 * EPS))\n"
     ]
    },
    {
     "name": "stdout",
     "output_type": "stream",
     "text": [
      "u0 =  [-0.4 -0.4]\n"
     ]
    },
    {
     "name": "stderr",
     "output_type": "stream",
     "text": [
      "/usr/local/lib/python3.8/site-packages/scipy/integrate/_ivp/common.py:47: UserWarning: `rtol` is too low, setting to 2.220446049250313e-14\n",
      "  warn(\"`rtol` is too low, setting to {}\".format(100 * EPS))\n"
     ]
    },
    {
     "data": {
      "image/png": "[encoded data removed]",
      "text/plain": [
       "<Figure size 1152x864 with 1 Axes>"
      ]
     },
     "metadata": {
      "needs_background": "light"
     },
     "output_type": "display_data"
    }
   ],
   "source": [
    "### Evaluating on Test Data\n",
    "\n",
    "FileName  = '/Users/sventuri/WORKSPACE/ROMNet/Data/MSD_100Cases/Orig/test/ext/Input.csv'# + InputData.InputFile\n",
    "Data      = pd.read_csv(FileName, header=0)\n",
    "Input     = Data[InputData.BranchVars].to_numpy()\n",
    "VarNames  = list(Data.columns)\n",
    "Nu        = Input.shape[1]\n",
    "u         = []\n",
    "for iu in range(Nu):\n",
    "    u.append(np.unique(Input[:,iu]))\n",
    "u         = np.stack(u, axis=0).T\n",
    "\n",
    "\n",
    "## Variable to Be Visualized\n",
    "VarOI     = 'v'\n",
    "for iVar in range(1,len(VarNames)):\n",
    "    if (VarNames[iVar] == VarOI):\n",
    "        print('iVar = ', iVar)\n",
    "        break\n",
    "\n",
    "iSim = 0\n",
    "for iTest in [0,1,2,3,4]:\n",
    "    \n",
    "    print('u0 = ', u[iTest,:])\n",
    "\n",
    "    ### Generating Data  \n",
    "    output     = solve_ivp( fOrig, tout[[0,-1]], u[iTest,:], method=SOLVER, t_eval=tout, rtol=1.e-15, atol=1.e-10 )\n",
    "    tOrig      = tout\n",
    "    yMatOrig   = output.y.T\n",
    "    \n",
    "    ### Creating NN Input\n",
    "    tPred     = tOrig[...,np.newaxis]\n",
    "    Nt        = len(tPred)\n",
    "    uPred     = u[iTest,:]*np.ones((Nt,2))\n",
    "    InputPred = np.concatenate((uPred,tPred), axis=1)\n",
    "    \n",
    "    if (InputData.ProbApproach == 'Deterministic') or (NSamples == 1):\n",
    "        \n",
    "        yMat      = NN.predict(InputPred) \n",
    "        \n",
    "        tLoop         = np.linspace(0.,15.,3)\n",
    "        yMatLoop      = np.zeros((len(tLoop),2))\n",
    "        InputPredLoop = np.concatenate([uPred[0,:][np.newaxis,...], (tLoop[0])[np.newaxis,np.newaxis]], axis=1)\n",
    "        yMatLoop[0,:] = NN.predict(InputPredLoop)\n",
    "        for it, tLoop_ in enumerate(tLoop[1:]):\n",
    "            InputPredLoop    = np.concatenate([yMatLoop[it,:][np.newaxis,...], (tLoop[it+1]-tLoop[it])[np.newaxis,np.newaxis]], axis=1)\n",
    "            yMatLoop[it+1,:] = NN.predict(InputPredLoop)\n",
    "        \n",
    "        ## Plotting\n",
    "        \n",
    "        if (iSim == 0):\n",
    "            fig    = plt.figure(figsize=(16, 12))\n",
    "            Label1 = 'Data'\n",
    "            Label2 = 'DeepONet'\n",
    "            Label3 = 'DeepONet, Iterative'\n",
    "        else:\n",
    "            Label1 = None\n",
    "            Label2 = None\n",
    "            Label3 = None\n",
    "    \n",
    "        plt.plot(tOrig, yMatOrig[:,iVar-1],  'k', label=Label1)\n",
    "        plt.plot(tPred, yMat[:,iVar-1],      'r', label=Label2)\n",
    "        #plt.plot(tLoop, yMatLoop[:,iVar-1],  'ob', label=Label3)\n",
    "        plt.xlabel('t')\n",
    "        plt.ylabel(VarOI)\n",
    "        plt.legend()\n",
    "        #plt.show()\n",
    "        \n",
    "    else:\n",
    "\n",
    "        ### Sampling NN\n",
    "        yMat_sum = np.zeros((yMatOrig.shape[0], yMatOrig.shape[1]))\n",
    "        yMat_sqr = np.zeros((yMatOrig.shape[0], yMatOrig.shape[1]))\n",
    "\n",
    "        for iSample in range(NSamples):\n",
    "            yMat_ = NN.predict(InputPred)    \n",
    "            yMat_sum += yMat_\n",
    "            yMat_sqr += yMat_**2\n",
    "\n",
    "        yMat_mean = yMat_sum/NSamples\n",
    "        yMat_std  = np.sqrt( yMat_sqr/NSamples - yMat_mean**2 )\n",
    "        yMat_p1   = yMat_mean + 1.*yMat_std\n",
    "        yMat_m1   = yMat_mean - 1.*yMat_std\n",
    "        yMat_p2   = yMat_mean + 2.*yMat_std\n",
    "        yMat_m2   = yMat_mean - 2.*yMat_std\n",
    "        yMat_p3   = yMat_mean + 3.*yMat_std\n",
    "        yMat_m3   = yMat_mean - 3.*yMat_std\n",
    "\n",
    "\n",
    "        ## Plotting\n",
    "        fig = plt.figure(figsize=(16, 12))\n",
    "        plt.plot(tOrig, yMatOrig[:,iVar-1],  'k-', label='Data')\n",
    "        plt.plot(tPred, yMat_mean[:,iVar-1], 'b-', label=r'DeepONet, $\\mu$')\n",
    "        plt.plot(tPred, yMat_p3[:,iVar-1],   'b:', label=r'DeepONet, $\\mu+3\\sigma$')\n",
    "        plt.plot(tPred, yMat_m3[:,iVar-1],   'b:', label=r'DeepONet, $\\mu-3\\sigma$')\n",
    "        plt.xlabel('t')\n",
    "        plt.ylabel(VarOI)\n",
    "        plt.legend()\n",
    "        plt.show()\n",
    "        \n",
    "    iSim += 1"
   ]
  },
  {
   "cell_type": "code",
   "execution_count": 13,
   "metadata": {},
   "outputs": [],
   "source": [
    "### Evaluating on Test Data\n",
    "\n",
    "FileName  = '/Users/sventuri/WORKSPACE/ROMNet/Data/MSD_100Cases/Orig/test/ext/Input.csv'# + InputData.InputFile\n",
    "Data      = pd.read_csv(FileName, header=0)\n",
    "Input     = Data[InputData.BranchVars].to_numpy()\n",
    "VarNames  = list(Data.columns)\n",
    "Nu        = Input.shape[1]\n",
    "u         = []\n",
    "for iu in range(Nu):\n",
    "    u.append(np.unique(Input[:,iu]))\n",
    "u         = np.stack(u, axis=0).T\n",
    "\n",
    "\n",
    "import time"
   ]
  },
  {
   "cell_type": "code",
   "execution_count": 14,
   "metadata": {},
   "outputs": [
    {
     "name": "stdout",
     "output_type": "stream",
     "text": [
      "u0 =  [-3.6 -3.6]\n"
     ]
    },
    {
     "name": "stderr",
     "output_type": "stream",
     "text": [
      "/usr/local/lib/python3.8/site-packages/scipy/integrate/_ivp/common.py:47: UserWarning: `rtol` is too low, setting to 2.220446049250313e-14\n",
      "  warn(\"`rtol` is too low, setting to {}\".format(100 * EPS))\n"
     ]
    },
    {
     "name": "stdout",
     "output_type": "stream",
     "text": [
      "u0 =  [-2.8 -2.8]\n",
      "u0 =  [-2. -2.]\n",
      "u0 =  [-1.2 -1.2]\n",
      "u0 =  [-0.4 -0.4]\n"
     ]
    }
   ],
   "source": [
    "CostVec_Int = []\n",
    "\n",
    "iSim = 0\n",
    "for iTest in [0,1,2,3,4]:\n",
    "    \n",
    "    print('u0 = ', u[iTest,:])\n",
    "    \n",
    "    t0 = time.time()\n",
    "    ### Generating Data  \n",
    "    output     = solve_ivp( fOrig, tout[[0,-1]], u[iTest,:], method=SOLVER, t_eval=tout, rtol=1.e-15, atol=1.e-10 )\n",
    "    t1 = time.time()\n",
    "    CostVec_Int.append(t1-t0)\n",
    "    \n",
    "\n",
    "    iSim += 1"
   ]
  },
  {
   "cell_type": "code",
   "execution_count": 15,
   "metadata": {},
   "outputs": [
    {
     "name": "stdout",
     "output_type": "stream",
     "text": [
      "u0 =  [-3.6 -3.6]\n"
     ]
    },
    {
     "name": "stderr",
     "output_type": "stream",
     "text": [
      "No handles with labels found to put in legend.\n"
     ]
    },
    {
     "name": "stdout",
     "output_type": "stream",
     "text": [
      "u0 =  [-2.8 -2.8]\n"
     ]
    },
    {
     "name": "stderr",
     "output_type": "stream",
     "text": [
      "No handles with labels found to put in legend.\n"
     ]
    },
    {
     "name": "stdout",
     "output_type": "stream",
     "text": [
      "u0 =  [-2. -2.]\n"
     ]
    },
    {
     "name": "stderr",
     "output_type": "stream",
     "text": [
      "No handles with labels found to put in legend.\n"
     ]
    },
    {
     "name": "stdout",
     "output_type": "stream",
     "text": [
      "u0 =  [-1.2 -1.2]\n"
     ]
    },
    {
     "name": "stderr",
     "output_type": "stream",
     "text": [
      "No handles with labels found to put in legend.\n"
     ]
    },
    {
     "name": "stdout",
     "output_type": "stream",
     "text": [
      "u0 =  [-0.4 -0.4]\n"
     ]
    },
    {
     "name": "stderr",
     "output_type": "stream",
     "text": [
      "No handles with labels found to put in legend.\n"
     ]
    },
    {
     "data": {
      "image/png": "[encoded data removed]",
      "text/plain": [
       "<Figure size 432x288 with 1 Axes>"
      ]
     },
     "metadata": {
      "needs_background": "light"
     },
     "output_type": "display_data"
    }
   ],
   "source": [
    "CostVec_Loop = []\n",
    "\n",
    "iTestVec     = [0,1,2,3,4]\n",
    "\n",
    "tLoop        = np.linspace(0.,15.,3)\n",
    "\n",
    "iSim = 0\n",
    "for iTest in iTestVec:\n",
    "    \n",
    "    print('u0 = ', u[iTest,:])\n",
    "    \n",
    "    t0 = time.time()\n",
    "    yMatLoop      = np.zeros((len(tLoop),2))\n",
    "    InputPredLoop = np.concatenate([u[iTest,:][np.newaxis,...], (tLoop[0])[np.newaxis,np.newaxis]], axis=1)\n",
    "    yMatLoop[0,:] = NN.predict(InputPredLoop)\n",
    "    for it, tLoop_ in enumerate(tLoop[1:]):\n",
    "        InputPredLoop    = np.concatenate([yMatLoop[it,:][np.newaxis,...], (tLoop[it+1]-tout[it])[np.newaxis,np.newaxis]], axis=1)\n",
    "        yMatLoop[it+1,:] = NN.predict(InputPredLoop)\n",
    "\n",
    "    t1 = time.time()\n",
    "    CostVec_Loop.append(t1-t0)\n",
    "    \n",
    "    plt.plot(tLoop, yMatLoop[:,iVar-1], 'b')\n",
    "    plt.xlabel('t')\n",
    "    plt.ylabel(VarOI)\n",
    "    plt.legend()\n",
    "    #plt.show()\n",
    "    \n",
    "    iSim += 1"
   ]
  },
  {
   "cell_type": "code",
   "execution_count": 16,
   "metadata": {},
   "outputs": [],
   "source": [
    "Cost_Loop     = 0.\n",
    "\n",
    "iTestVec      = [0,1,2,3,4]*10\n",
    "NTest         = len(iTestVec)\n",
    "    \n",
    "\n",
    "\n",
    "InputPredLoop = np.concatenate([u[iTestVec,:], np.array([tLoop[0]]*NTest)[...,np.newaxis]], axis=1)\n",
    "yMatLoop      = NN.predict(InputPredLoop)\n",
    "yMatLoopAll   = []\n",
    "for it, tLoop_ in enumerate(tLoop[1:]):\n",
    "    InputPredLoop = np.concatenate([yMatLoop, np.array([tLoop[it+1]-tLoop[it]]*NTest)[...,np.newaxis]], axis=1)\n",
    "    t0            = time.time()\n",
    "    yMatLoop      = NN.predict(InputPredLoop)\n",
    "    t1            = time.time()\n",
    "    Cost_Loop    += t1-t0\n",
    "    yMatLoopAll.append(yMatLoop)\n",
    "\n"
   ]
  },
  {
   "cell_type": "code",
   "execution_count": 17,
   "metadata": {},
   "outputs": [
    {
     "data": {
      "text/plain": [
       "[2.177966833114624,\n",
       " 2.0090138912200928,\n",
       " 1.5773098468780518,\n",
       " 1.289416790008545,\n",
       " 0.9706802368164062]"
      ]
     },
     "execution_count": 17,
     "metadata": {},
     "output_type": "execute_result"
    }
   ],
   "source": [
    "CostVec_Int"
   ]
  },
  {
   "cell_type": "code",
   "execution_count": 18,
   "metadata": {},
   "outputs": [
    {
     "data": {
      "text/plain": [
       "[0.25445008277893066,\n",
       " 0.24947023391723633,\n",
       " 0.25496792793273926,\n",
       " 0.24778485298156738,\n",
       " 0.2818169593811035]"
      ]
     },
     "execution_count": 18,
     "metadata": {},
     "output_type": "execute_result"
    }
   ],
   "source": [
    "CostVec_Loop"
   ]
  },
  {
   "cell_type": "code",
   "execution_count": 19,
   "metadata": {},
   "outputs": [
    {
     "data": {
      "text/plain": [
       "0.1654679775238037"
      ]
     },
     "execution_count": 19,
     "metadata": {},
     "output_type": "execute_result"
    }
   ],
   "source": [
    "Cost_Loop"
   ]
  },
  {
   "cell_type": "code",
   "execution_count": null,
   "metadata": {},
   "outputs": [],
   "source": []
  },
  {
   "cell_type": "code",
   "execution_count": null,
   "metadata": {},
   "outputs": [],
   "source": []
  },
  {
   "cell_type": "code",
   "execution_count": null,
   "metadata": {},
   "outputs": [],
   "source": []
  },
  {
   "cell_type": "code",
   "execution_count": 20,
   "metadata": {},
   "outputs": [
    {
     "data": {
      "image/png": "[encoded data removed]",
      "text/plain": [
       "<Figure size 864x576 with 1 Axes>"
      ]
     },
     "metadata": {
      "needs_background": "light"
     },
     "output_type": "display_data"
    },
    {
     "data": {
      "image/png": "[encoded data removed]",
      "text/plain": [
       "<Figure size 864x576 with 1 Axes>"
      ]
     },
     "metadata": {
      "needs_background": "light"
     },
     "output_type": "display_data"
    }
   ],
   "source": [
    "Data = pd.read_csv(PathToRunFld+'/Training/History.csv')\n",
    "\n",
    "fig  = plt.figure(figsize=(12,8))\n",
    "plt.plot(Data['tot_loss'],     label='Training')\n",
    "plt.plot(Data['val_tot_loss'], label='Validation')\n",
    "plt.xlabel('Epoch')\n",
    "plt.ylabel('Tot. Loss [MSE]')\n",
    "plt.legend()\n",
    "plt.yscale('log')\n",
    "\n",
    "\n",
    "fig  = plt.figure(figsize=(12,8))\n",
    "plt.plot(Data['pts_loss'],     label='Training')\n",
    "plt.plot(Data['val_pts_loss'], label='Validation')\n",
    "plt.xlabel('Epoch')\n",
    "plt.ylabel('Data Loss [MSE]')\n",
    "plt.legend()\n",
    "plt.yscale('log')\n",
    "#plt.ylim([1.e-2, 1.e0])\n",
    "# fig  = plt.figure(figsize=(12,8))\n",
    "# plt.plot(Data['scs_loss'],     label='Training')\n",
    "# plt.plot(Data['val_scs_loss'], label='Validation')\n",
    "# plt.xlabel('Epoch')\n",
    "# plt.ylabel('S.C.s Loss [MSE]')\n",
    "# plt.legend()\n",
    "# plt.yscale('log')\n",
    "\n",
    "# fig  = plt.figure(figsize=(12,8))\n",
    "# plt.plot(Data['ics_loss'],     label='Training')\n",
    "# plt.plot(Data['val_ics_loss'], label='Validation')\n",
    "# plt.xlabel('Epoch')\n",
    "# plt.ylabel('I.C.s Loss [MSE]')\n",
    "# plt.legend()\n",
    "# plt.yscale('log')"
   ]
  },
  {
   "cell_type": "code",
   "execution_count": null,
   "metadata": {},
   "outputs": [],
   "source": []
  },
  {
   "cell_type": "code",
   "execution_count": null,
   "metadata": {},
   "outputs": [],
   "source": []
  },
  {
   "cell_type": "code",
   "execution_count": null,
   "metadata": {},
   "outputs": [],
   "source": []
  },
  {
   "cell_type": "code",
   "execution_count": 21,
   "metadata": {},
   "outputs": [],
   "source": [
    "FileName   = InputData.PathToDataFld + '/test/ext/Input.csv'# + InputData.InputFile\n",
    "DataIn     = pd.read_csv(FileName, header=0)\n",
    "Input_     = DataIn.to_numpy()\n",
    "VarNames   = list(DataIn.columns)\n",
    "\n",
    "FileName   = InputData.PathToDataFld + '/test/ext/Output.csv'# + InputData.InputFile\n",
    "Data       = pd.read_csv(FileName, header=0)\n",
    "Output_    = Data.to_numpy()"
   ]
  },
  {
   "cell_type": "code",
   "execution_count": 22,
   "metadata": {},
   "outputs": [],
   "source": [
    "import tensorflow as tf"
   ]
  },
  {
   "cell_type": "code",
   "execution_count": 23,
   "metadata": {},
   "outputs": [
    {
     "ename": "KeyError",
     "evalue": "1",
     "output_type": "error",
     "traceback": [
      "\u001b[0;31m---------------------------------------------------------------------------\u001b[0m",
      "\u001b[0;31mKeyError\u001b[0m                                  Traceback (most recent call last)",
      "\u001b[0;32m<ipython-input-23-9400c15471a6>\u001b[0m in \u001b[0;36m<module>\u001b[0;34m\u001b[0m\n\u001b[1;32m     23\u001b[0m \u001b[0minputs\u001b[0m         \u001b[0;34m=\u001b[0m \u001b[0mtf\u001b[0m\u001b[0;34m.\u001b[0m\u001b[0mkeras\u001b[0m\u001b[0;34m.\u001b[0m\u001b[0mInput\u001b[0m\u001b[0;34m(\u001b[0m\u001b[0mshape\u001b[0m\u001b[0;34m=\u001b[0m\u001b[0;34m(\u001b[0m\u001b[0;36m1\u001b[0m\u001b[0;34m,\u001b[0m\u001b[0;34m)\u001b[0m\u001b[0;34m)\u001b[0m\u001b[0;34m\u001b[0m\u001b[0;34m\u001b[0m\u001b[0m\n\u001b[1;32m     24\u001b[0m \u001b[0mOutput_Trunk_v\u001b[0m \u001b[0;34m=\u001b[0m \u001b[0minputs\u001b[0m\u001b[0;34m\u001b[0m\u001b[0;34m\u001b[0m\u001b[0m\n\u001b[0;32m---> 25\u001b[0;31m \u001b[0;32mfor\u001b[0m \u001b[0mi\u001b[0m \u001b[0;32min\u001b[0m \u001b[0mrange\u001b[0m\u001b[0;34m(\u001b[0m\u001b[0mlen\u001b[0m\u001b[0;34m(\u001b[0m\u001b[0mmodel\u001b[0m\u001b[0;34m.\u001b[0m\u001b[0mnet\u001b[0m\u001b[0;34m.\u001b[0m\u001b[0mTrunkLayersVecs\u001b[0m\u001b[0;34m[\u001b[0m\u001b[0miVar\u001b[0m\u001b[0;34m]\u001b[0m\u001b[0;34m)\u001b[0m\u001b[0;34m)\u001b[0m\u001b[0;34m:\u001b[0m\u001b[0;34m\u001b[0m\u001b[0;34m\u001b[0m\u001b[0m\n\u001b[0m\u001b[1;32m     26\u001b[0m     \u001b[0mLayer_Trunk_v\u001b[0m  \u001b[0;34m=\u001b[0m \u001b[0mmodel\u001b[0m\u001b[0;34m.\u001b[0m\u001b[0mnet\u001b[0m\u001b[0;34m.\u001b[0m\u001b[0mTrunkLayersVecs\u001b[0m\u001b[0;34m[\u001b[0m\u001b[0miVar\u001b[0m\u001b[0;34m]\u001b[0m\u001b[0;34m[\u001b[0m\u001b[0mi\u001b[0m\u001b[0;34m]\u001b[0m\u001b[0;34m\u001b[0m\u001b[0;34m\u001b[0m\u001b[0m\n\u001b[1;32m     27\u001b[0m     \u001b[0mOutput_Trunk_v\u001b[0m \u001b[0;34m=\u001b[0m \u001b[0mLayer_Trunk_v\u001b[0m\u001b[0;34m(\u001b[0m\u001b[0mOutput_Trunk_v\u001b[0m\u001b[0;34m)\u001b[0m\u001b[0;34m\u001b[0m\u001b[0;34m\u001b[0m\u001b[0m\n",
      "\u001b[0;31mKeyError\u001b[0m: 1"
     ]
    }
   ],
   "source": [
    "iVar           = 0\n",
    "\n",
    "inputs         = tf.keras.Input(shape=(1,))\n",
    "Output_Trunk_x = inputs\n",
    "for i in range(len(model.net.TrunkLayersVecs[iVar])):\n",
    "    Layer_Trunk_x  = model.net.TrunkLayersVecs[iVar][i]\n",
    "    Output_Trunk_x = Layer_Trunk_x(Output_Trunk_x)\n",
    "Trunk_x = keras.Model(inputs=inputs, outputs=Output_Trunk_x)\n",
    "#Trunk.summary()\n",
    "\n",
    "inputs   = tf.keras.Input(shape=(2,))\n",
    "Output_x = inputs\n",
    "for i in range(len(model.net.BranchLayersVecs[iVar])):\n",
    "    Layer_x  = model.net.BranchLayersVecs[iVar][i]\n",
    "    Output_x = Layer_x(Output_x)\n",
    "Branch_x = keras.Model(inputs=inputs, outputs=Output_x)\n",
    "#Branch_x.summary()\n",
    "\n",
    "\n",
    "\n",
    "iVar           = 1\n",
    "\n",
    "inputs         = tf.keras.Input(shape=(1,))\n",
    "Output_Trunk_v = inputs\n",
    "for i in range(len(model.net.TrunkLayersVecs[iVar])):\n",
    "    Layer_Trunk_v  = model.net.TrunkLayersVecs[iVar][i]\n",
    "    Output_Trunk_v = Layer_Trunk_v(Output_Trunk_v)\n",
    "Trunk_v = keras.Model(inputs=inputs, outputs=Output_Trunk_v)\n",
    "#Trunk.summary()\n",
    "\n",
    "inputs   = tf.keras.Input(shape=(2,))\n",
    "Output_v = inputs\n",
    "for i in range(len(model.net.BranchLayersVecs[iVar])):\n",
    "    Layer_v  = model.net.BranchLayersVecs[iVar][i]\n",
    "    Output_v = Layer_v(Output_v)\n",
    "Branch_v = keras.Model(inputs=inputs, outputs=Output_v)\n",
    "#Branch_v.summary()"
   ]
  },
  {
   "cell_type": "code",
   "execution_count": null,
   "metadata": {},
   "outputs": [],
   "source": [
    "tVec            = Input_[:,0]\n",
    "\n",
    "output_Trunk_x  = Trunk_x.predict(tVec[...,np.newaxis])\n",
    "output_Branch_x = Branch_x.predict(Input_[:,1::])\n",
    "output_x        = np.sum(output_Trunk_x * output_Branch_x[:,0:-1], axis=1) + output_Branch_x[:,-1]\n",
    "\n",
    "output_Trunk_v  = Trunk_v.predict(tVec[...,np.newaxis])\n",
    "output_Branch_v = Branch_v.predict(Input_[:,1::])\n",
    "output_v        = np.sum(output_Trunk_v * output_Branch_v[:,0:-1], axis=1) + output_Branch_v[:,-1]\n",
    "\n",
    "fig = plt.figure(figsize=(10,6))\n",
    "plt.plot(tVec, output_Trunk_x[:,0])\n",
    "fig = plt.figure(figsize=(10,6))\n",
    "plt.plot(Input_[:,1], output_Branch_x, 'o')\n",
    "\n",
    "fig = plt.figure(figsize=(10,6))\n",
    "plt.plot(tVec, output_Trunk_v[:,0])\n",
    "fig = plt.figure(figsize=(10,6))\n",
    "plt.plot(Input_[:,1], output_Branch_v, 'o')"
   ]
  },
  {
   "cell_type": "code",
   "execution_count": null,
   "metadata": {},
   "outputs": [],
   "source": [
    "fig = plt.figure(figsize=(12,8))\n",
    "plt.plot(tVec, output_x, 'r-')\n",
    "plt.plot(tVec, output_v, 'k-')\n",
    "plt.ylim([-6.,6.])"
   ]
  },
  {
   "cell_type": "code",
   "execution_count": null,
   "metadata": {},
   "outputs": [],
   "source": []
  },
  {
   "cell_type": "code",
   "execution_count": null,
   "metadata": {},
   "outputs": [],
   "source": []
  },
  {
   "cell_type": "code",
   "execution_count": null,
   "metadata": {},
   "outputs": [],
   "source": []
  },
  {
   "cell_type": "code",
   "execution_count": null,
   "metadata": {},
   "outputs": [],
   "source": [
    "Input   = {}\n",
    "Weights = {}\n",
    "for data_id in InputData.NTrain.keys():\n",
    "    FileName         = InputData.PathToDataFld + '/train/'+data_id+'/Input.csv'\n",
    "    Data             = pd.read_csv(FileName)\n",
    "    Input[data_id]   = Data\n",
    "    \n",
    "    FileName         = InputData.PathToRunFld + '/Training/LossWeights/'+data_id+'_9100.csv'\n",
    "    Data             = pd.read_csv(FileName, header=None)\n",
    "    Weights[data_id] = Data"
   ]
  },
  {
   "cell_type": "code",
   "execution_count": null,
   "metadata": {},
   "outputs": [],
   "source": [
    "#%matplotlib qt\n",
    "\n",
    "data_id = 'ics'\n",
    "\n",
    "# fig = plt.figure()\n",
    "# ax  = fig.add_subplot(projection='3d')\n",
    "# ax.scatter(Input[data_id]['x'], Input[data_id]['v'], Weights[data_id][1])\n",
    "# ax.set_xlabel('x')\n",
    "# ax.set_ylabel('y')\n",
    "\n",
    "fig = plt.figure()\n",
    "plt.scatter(Input[data_id]['x'], Weights[data_id][0])\n",
    "plt.xlabel('x')\n",
    "\n",
    "fig = plt.figure()\n",
    "plt.scatter(Input[data_id]['v'], Weights[data_id][1])\n",
    "plt.xlabel('v')"
   ]
  },
  {
   "cell_type": "code",
   "execution_count": null,
   "metadata": {},
   "outputs": [],
   "source": [
    "%matplotlib qt\n",
    "\n",
    "data_id = 'res'\n",
    "\n",
    "fig = plt.figure()\n",
    "ax  = fig.add_subplot(projection='3d')\n",
    "ax.scatter(Input[data_id]['t'], Input[data_id]['x'], Weights[data_id][1])\n",
    "ax.set_xlabel('t')\n",
    "ax.set_ylabel('x')\n",
    "\n",
    "# fig = plt.figure()\n",
    "# plt.scatter(Input[data_id]['t'], Weights[data_id][0])\n",
    "# plt.xlabel('t')\n",
    "\n",
    "# fig = plt.figure()\n",
    "# plt.scatter(Input[data_id]['t'], Weights[data_id][1])\n",
    "# plt.xlabel('t')"
   ]
  },
  {
   "cell_type": "code",
   "execution_count": null,
   "metadata": {},
   "outputs": [],
   "source": []
  },
  {
   "cell_type": "code",
   "execution_count": null,
   "metadata": {},
   "outputs": [],
   "source": []
  }
 ],
 "metadata": {
  "kernelspec": {
   "display_name": "Python 3",
   "language": "python",
   "name": "python3"
  },
  "language_info": {
   "codemirror_mode": {
    "name": "ipython",
    "version": 3
   },
   "file_extension": ".py",
   "mimetype": "text/x-python",
   "name": "python",
   "nbconvert_exporter": "python",
   "pygments_lexer": "ipython3",
   "version": "3.8.12"
  }
 },
 "nbformat": 4,
 "nbformat_minor": 4
}
