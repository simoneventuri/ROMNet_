{
 "cells": [
  {
   "cell_type": "code",
   "execution_count": 50,
   "metadata": {},
   "outputs": [],
   "source": [
    "import numpy as np"
   ]
  },
  {
   "cell_type": "code",
   "execution_count": 51,
   "metadata": {},
   "outputs": [],
   "source": [
    "NRODs               = 7\n",
    "iRODSel             = range(NRODs)\n",
    "NRODsSel            = len(iRODSel)\n",
    "\n",
    "NPODs               = 8"
   ]
  },
  {
   "cell_type": "code",
   "execution_count": null,
   "metadata": {},
   "outputs": [],
   "source": [
    "structure = {}\n",
    "structure['DeepONet'] = {}\n",
    "structure['DeepONet']['Branch_1'] = {}\n",
    "structure['DeepONet']['Branch_2'] = {}\n",
    "structure['DeepONet']['Trunk_1']  = {}\n",
    "structure['DeepONet']['Shifting'] = {}\n",
    "structure['DeepONet']['Shifting'] = ['Main']\n",
    "structure['DeepONet']['Branch_1'] = ['Main']\n",
    "structure['DeepONet']['Trunk_1']  = ['Main']\n",
    "structure['DeepONet']['Branch_2'] = ['Main']"
   ]
  },
  {
   "cell_type": "code",
   "execution_count": 17,
   "metadata": {},
   "outputs": [],
   "source": [
    "branch_to_trunk             = {}\n",
    "branch_to_trunk['DeepONet'] = 'unstacked'/'stucked'/np.arange([0,1,1,2])"
   ]
  },
  {
   "cell_type": "code",
   "execution_count": 19,
   "metadata": {},
   "outputs": [],
   "source": [
    "input_vars                       = {}\n",
    "input_vars['DeepONet']           = {}\n",
    "input_vars['DeepONet']['Branch'] = ['PC0_'+str(i+1) for i in range(NRODs)]\n",
    "input_vars['DeepONet']['Rigid']  = input_vars['DeepONet']['Branch']\n",
    "input_vars['DeepONet']['Trunk']  = ['t']"
   ]
  },
  {
   "cell_type": "code",
   "execution_count": 46,
   "metadata": {},
   "outputs": [],
   "source": [
    "output_vars                       = {}\n",
    "output_vars['DeepONet']           = ['PC_'+str(i+1) for i in range(NRODs)]"
   ]
  },
  {
   "cell_type": "code",
   "execution_count": 20,
   "metadata": {},
   "outputs": [
    {
     "data": {
      "text/plain": [
       "{'DeepONet': {'Branch': ['PC0_1',\n",
       "   'PC0_2',\n",
       "   'PC0_3',\n",
       "   'PC0_4',\n",
       "   'PC0_5',\n",
       "   'PC0_6',\n",
       "   'PC0_7'],\n",
       "  'Trunk': ['t']}}"
      ]
     },
     "execution_count": 20,
     "metadata": {},
     "output_type": "execute_result"
    }
   ],
   "source": [
    "system_post_layer_flg['DeepONet'] = None"
   ]
  },
  {
   "cell_type": "code",
   "execution_count": 21,
   "metadata": {},
   "outputs": [],
   "source": [
    "normalize_flg                       = {}\n",
    "normalize_flg['DeepONet']           = {}\n",
    "normalize_flg['DeepONet']['Branch'] = ['PC0_'+str(i+1) for i in range(NRODs)]\n",
    "normalize_flg['DeepONet']['Rigid']  = normalize_flg['DeepONet']['Branch']\n",
    "normalize_flg['DeepONet']['Trunk']  = ['t']"
   ]
  },
  {
   "cell_type": "code",
   "execution_count": 52,
   "metadata": {},
   "outputs": [],
   "source": [
    "n_neurons                       = {}\n",
    "n_neurons['DeepONet']           = {}\n",
    "n_neurons['DeepONet']['Branch'] = np.array([32,32,32,NPODs+2])\n",
    "n_neurons['DeepONet']['Rigid']  = np.array([32,32,32,NRODsSel])\n",
    "n_neurons['DeepONet']['Trunk']  = np.array([32,32,32,NPODs])"
   ]
  },
  {
   "cell_type": "code",
   "execution_count": 53,
   "metadata": {},
   "outputs": [
    {
     "data": {
      "text/plain": [
       "{'DeepONet': {'Branch': array([32, 32, 32, 10]),\n",
       "  'Rigid': array([32, 32, 32,  7]),\n",
       "  'Trunk': array([32, 32, 32,  8])}}"
      ]
     },
     "execution_count": 53,
     "metadata": {},
     "output_type": "execute_result"
    }
   ],
   "source": [
    "act_fun                       = {}\n",
    "act_fun['DeepONet']           = {}\n",
    "act_fun['DeepONet']['Branch'] = ['tanh','tanh','tanh','linear']\n",
    "act_fun['DeepONet']['Rigid']  = ['tanh','tanh','tanh','linear']\n",
    "act_fun['DeepONet']['Trunk']  = ['tanh','tanh','tanh','linear']"
   ]
  },
  {
   "cell_type": "code",
   "execution_count": null,
   "metadata": {},
   "outputs": [],
   "source": []
  }
 ],
 "metadata": {
  "kernelspec": {
   "display_name": "Python 3",
   "language": "python",
   "name": "python3"
  },
  "language_info": {
   "codemirror_mode": {
    "name": "ipython",
    "version": 3
   },
   "file_extension": ".py",
   "mimetype": "text/x-python",
   "name": "python",
   "nbconvert_exporter": "python",
   "pygments_lexer": "ipython3",
   "version": "3.8.12"
  }
 },
 "nbformat": 4,
 "nbformat_minor": 4
}
