{
 "cells": [
  {
   "cell_type": "code",
   "execution_count": 62,
   "id": "2614fd62",
   "metadata": {},
   "outputs": [
    {
     "name": "stdout",
     "output_type": "stream",
     "text": [
      "2.7.0\n"
     ]
    }
   ],
   "source": [
    "import os\n",
    "import pandas as pd\n",
    "import numpy  as np\n",
    "\n",
    "import tensorflow as tf\n",
    "\n",
    "from tensorflow import keras\n",
    "from tensorflow.keras import layers\n",
    "\n",
    "print(tf.__version__)\n",
    "\n",
    "import matplotlib\n",
    "from matplotlib                           import pyplot as plt\n",
    "WORKSPACE_PATH  = os.environ['WORKSPACE_PATH']\n",
    "plt.style.use(WORKSPACE_PATH+'/ROMNet/romnet/extra/postprocessing/presentation.mplstyle')"
   ]
  },
  {
   "cell_type": "code",
   "execution_count": 63,
   "id": "a85a7c6a",
   "metadata": {},
   "outputs": [],
   "source": [
    "xData  = pd.read_csv('/Users/sventur/WORKSPACE/ROMNet/Data/PSR_10Cases/10PC/train/pts/Input.csv')\n",
    "x      = xData.to_numpy()\n",
    "x[:,0] = np.log10(x[:,0] + 1.e-15)\n",
    "\n",
    "yData  = pd.read_csv('/Users/sventur/WORKSPACE/ROMNet/Data/PSR_10Cases/10PC/train/pts/Output.csv')\n",
    "y      = yData.to_numpy()\n",
    "y      = y[:,4]"
   ]
  },
  {
   "cell_type": "code",
   "execution_count": 64,
   "id": "5fcea74c",
   "metadata": {},
   "outputs": [
    {
     "data": {
      "text/plain": [
       "[<matplotlib.lines.Line2D at 0x18e89fd00>]"
      ]
     },
     "execution_count": 64,
     "metadata": {},
     "output_type": "execute_result"
    },
    {
     "data": {
      "image/png": "[encoded data removed]",
      "text/plain": [
       "<Figure size 864x576 with 1 Axes>"
      ]
     },
     "metadata": {
      "needs_background": "light"
     },
     "output_type": "display_data"
    }
   ],
   "source": [
    "fig = plt.figure(figsize=(12,8))\n",
    "plt.plot(x[:,0], y, 'o', markersize=2)"
   ]
  },
  {
   "cell_type": "code",
   "execution_count": 65,
   "id": "8dbd8aea",
   "metadata": {},
   "outputs": [
    {
     "name": "stdout",
     "output_type": "stream",
     "text": [
      "Epoch 1/100\n",
      "600/600 [==============================] - 1s 886us/step - loss: 0.0196 - val_loss: 0.0126\n",
      "Epoch 2/100\n",
      "600/600 [==============================] - 0s 775us/step - loss: 0.0145 - val_loss: 0.0079\n",
      "Epoch 3/100\n",
      "600/600 [==============================] - 0s 774us/step - loss: 0.0133 - val_loss: 0.0090\n",
      "Epoch 4/100\n",
      "600/600 [==============================] - 0s 795us/step - loss: 0.0123 - val_loss: 0.0040\n",
      "Epoch 5/100\n",
      "600/600 [==============================] - 1s 909us/step - loss: 0.0123 - val_loss: 0.0031\n",
      "Epoch 6/100\n",
      "600/600 [==============================] - 0s 786us/step - loss: 0.0102 - val_loss: 0.0022\n",
      "Epoch 7/100\n",
      "600/600 [==============================] - 0s 780us/step - loss: 0.0109 - val_loss: 0.0084\n",
      "Epoch 8/100\n",
      "600/600 [==============================] - 0s 770us/step - loss: 0.0105 - val_loss: 0.0060\n",
      "Epoch 9/100\n",
      "600/600 [==============================] - 0s 776us/step - loss: 0.0083 - val_loss: 0.0044\n",
      "Epoch 10/100\n",
      "600/600 [==============================] - 0s 771us/step - loss: 0.0078 - val_loss: 0.0032\n",
      "Epoch 11/100\n",
      "600/600 [==============================] - 0s 781us/step - loss: 0.0072 - val_loss: 0.0017\n",
      "Epoch 12/100\n",
      "600/600 [==============================] - 0s 777us/step - loss: 0.0061 - val_loss: 0.0062\n",
      "Epoch 13/100\n",
      "600/600 [==============================] - 0s 783us/step - loss: 0.0065 - val_loss: 0.0027\n",
      "Epoch 14/100\n",
      "600/600 [==============================] - 0s 787us/step - loss: 0.0058 - val_loss: 0.0072\n",
      "Epoch 15/100\n",
      "600/600 [==============================] - 1s 883us/step - loss: 0.0052 - val_loss: 0.0035\n",
      "Epoch 16/100\n",
      "600/600 [==============================] - 0s 783us/step - loss: 0.0051 - val_loss: 5.8543e-04\n",
      "Epoch 17/100\n",
      "600/600 [==============================] - 0s 782us/step - loss: 0.0046 - val_loss: 0.0145\n",
      "Epoch 18/100\n",
      "600/600 [==============================] - 0s 810us/step - loss: 0.0052 - val_loss: 0.0039\n",
      "Epoch 19/100\n",
      "600/600 [==============================] - 0s 778us/step - loss: 0.0042 - val_loss: 0.0032\n",
      "Epoch 20/100\n",
      "600/600 [==============================] - 0s 790us/step - loss: 0.0044 - val_loss: 0.0043\n",
      "Epoch 21/100\n",
      "600/600 [==============================] - 0s 802us/step - loss: 0.0037 - val_loss: 0.0033\n",
      "Epoch 22/100\n",
      "600/600 [==============================] - 0s 800us/step - loss: 0.0028 - val_loss: 0.0016\n",
      "Epoch 23/100\n",
      "600/600 [==============================] - 0s 799us/step - loss: 0.0036 - val_loss: 0.0034\n",
      "Epoch 24/100\n",
      "600/600 [==============================] - 0s 821us/step - loss: 0.0030 - val_loss: 4.6267e-04\n",
      "Epoch 25/100\n",
      "600/600 [==============================] - 0s 822us/step - loss: 0.0023 - val_loss: 0.0062\n",
      "Epoch 26/100\n",
      "600/600 [==============================] - 1s 839us/step - loss: 0.0024 - val_loss: 0.0028\n",
      "Epoch 27/100\n",
      "600/600 [==============================] - 1s 852us/step - loss: 0.0022 - val_loss: 0.0024\n",
      "Epoch 28/100\n",
      "600/600 [==============================] - 1s 861us/step - loss: 0.0020 - val_loss: 4.1841e-04\n",
      "Epoch 29/100\n",
      "600/600 [==============================] - 0s 822us/step - loss: 0.0021 - val_loss: 0.0021\n",
      "Epoch 30/100\n",
      "600/600 [==============================] - 0s 793us/step - loss: 0.0021 - val_loss: 0.0011\n",
      "Epoch 31/100\n",
      "600/600 [==============================] - 0s 805us/step - loss: 0.0016 - val_loss: 0.0026\n",
      "Epoch 32/100\n",
      "600/600 [==============================] - 0s 803us/step - loss: 0.0016 - val_loss: 0.0025\n",
      "Epoch 33/100\n",
      "600/600 [==============================] - 0s 801us/step - loss: 0.0017 - val_loss: 9.6341e-04\n",
      "Epoch 34/100\n",
      "600/600 [==============================] - 0s 786us/step - loss: 0.0018 - val_loss: 0.0015\n",
      "Epoch 35/100\n",
      "600/600 [==============================] - 0s 784us/step - loss: 0.0016 - val_loss: 0.0030\n",
      "Epoch 36/100\n",
      "600/600 [==============================] - 0s 806us/step - loss: 0.0017 - val_loss: 0.0028\n",
      "Epoch 37/100\n",
      "600/600 [==============================] - 0s 803us/step - loss: 0.0014 - val_loss: 0.0018\n",
      "Epoch 38/100\n",
      "600/600 [==============================] - 1s 969us/step - loss: 0.0014 - val_loss: 7.4047e-04\n",
      "Epoch 39/100\n",
      "600/600 [==============================] - 0s 811us/step - loss: 0.0013 - val_loss: 4.3158e-04\n",
      "Epoch 40/100\n",
      "600/600 [==============================] - 0s 829us/step - loss: 0.0012 - val_loss: 0.0010\n",
      "Epoch 41/100\n",
      "600/600 [==============================] - 1s 877us/step - loss: 0.0011 - val_loss: 0.0027\n",
      "Epoch 42/100\n",
      "600/600 [==============================] - 0s 791us/step - loss: 0.0012 - val_loss: 0.0010\n",
      "Epoch 43/100\n",
      "600/600 [==============================] - 0s 799us/step - loss: 0.0012 - val_loss: 4.5232e-04\n",
      "Epoch 44/100\n",
      "600/600 [==============================] - 0s 806us/step - loss: 8.0259e-04 - val_loss: 0.0011\n",
      "Epoch 45/100\n",
      "600/600 [==============================] - 0s 793us/step - loss: 9.7733e-04 - val_loss: 3.7411e-04\n",
      "Epoch 46/100\n",
      "600/600 [==============================] - 0s 818us/step - loss: 7.7608e-04 - val_loss: 3.5145e-04\n",
      "Epoch 47/100\n",
      "600/600 [==============================] - 1s 1ms/step - loss: 7.9041e-04 - val_loss: 9.7571e-04\n",
      "Epoch 48/100\n",
      "600/600 [==============================] - 1s 841us/step - loss: 7.4689e-04 - val_loss: 8.1192e-04\n",
      "Epoch 49/100\n",
      "600/600 [==============================] - 0s 825us/step - loss: 7.5197e-04 - val_loss: 5.3922e-04\n",
      "Epoch 50/100\n",
      "600/600 [==============================] - 0s 797us/step - loss: 6.9000e-04 - val_loss: 0.0020\n",
      "Epoch 51/100\n",
      "600/600 [==============================] - 0s 802us/step - loss: 5.3472e-04 - val_loss: 3.6720e-04\n",
      "Epoch 52/100\n",
      "600/600 [==============================] - 0s 815us/step - loss: 4.5220e-04 - val_loss: 2.2660e-04\n",
      "Epoch 53/100\n",
      "600/600 [==============================] - 0s 825us/step - loss: 4.6406e-04 - val_loss: 9.1986e-04\n",
      "Epoch 54/100\n",
      "600/600 [==============================] - 0s 826us/step - loss: 4.4356e-04 - val_loss: 5.5588e-04\n",
      "Epoch 55/100\n",
      "600/600 [==============================] - 0s 813us/step - loss: 4.5797e-04 - val_loss: 4.5749e-04\n",
      "Epoch 56/100\n",
      "600/600 [==============================] - 1s 882us/step - loss: 3.9889e-04 - val_loss: 1.9389e-04\n",
      "Epoch 57/100\n",
      "600/600 [==============================] - 0s 798us/step - loss: 4.0783e-04 - val_loss: 2.0401e-04\n",
      "Epoch 58/100\n",
      "600/600 [==============================] - 0s 793us/step - loss: 3.4842e-04 - val_loss: 5.6064e-04\n",
      "Epoch 59/100\n",
      "600/600 [==============================] - 0s 803us/step - loss: 3.0463e-04 - val_loss: 2.1265e-04\n",
      "Epoch 60/100\n",
      "600/600 [==============================] - 0s 788us/step - loss: 2.9794e-04 - val_loss: 2.3931e-04\n",
      "Epoch 61/100\n",
      "600/600 [==============================] - 0s 799us/step - loss: 2.9188e-04 - val_loss: 1.2930e-04\n",
      "Epoch 62/100\n",
      "600/600 [==============================] - 0s 789us/step - loss: 2.4742e-04 - val_loss: 1.0862e-04\n",
      "Epoch 63/100\n",
      "600/600 [==============================] - 0s 787us/step - loss: 2.4646e-04 - val_loss: 1.7893e-04\n",
      "Epoch 64/100\n",
      "600/600 [==============================] - 0s 788us/step - loss: 2.3931e-04 - val_loss: 1.0563e-04\n",
      "Epoch 65/100\n",
      "600/600 [==============================] - 0s 796us/step - loss: 2.3267e-04 - val_loss: 8.6526e-05\n",
      "Epoch 66/100\n",
      "600/600 [==============================] - 0s 789us/step - loss: 1.8826e-04 - val_loss: 3.6136e-04\n",
      "Epoch 67/100\n",
      "600/600 [==============================] - 0s 794us/step - loss: 2.0173e-04 - val_loss: 1.0969e-04\n",
      "Epoch 68/100\n",
      "600/600 [==============================] - 0s 794us/step - loss: 1.6873e-04 - val_loss: 1.0257e-04\n",
      "Epoch 69/100\n",
      "600/600 [==============================] - 0s 825us/step - loss: 1.6398e-04 - val_loss: 6.4015e-05\n",
      "Epoch 70/100\n",
      "600/600 [==============================] - 1s 870us/step - loss: 1.5235e-04 - val_loss: 1.0717e-04\n",
      "Epoch 71/100\n",
      "600/600 [==============================] - 0s 816us/step - loss: 1.5989e-04 - val_loss: 2.8310e-04\n",
      "Epoch 72/100\n",
      "600/600 [==============================] - 1s 2ms/step - loss: 1.6353e-04 - val_loss: 1.0582e-04\n",
      "Epoch 73/100\n",
      "600/600 [==============================] - 1s 2ms/step - loss: 1.4736e-04 - val_loss: 1.7643e-04\n",
      "Epoch 74/100\n",
      "600/600 [==============================] - 1s 945us/step - loss: 1.4233e-04 - val_loss: 1.3005e-04\n",
      "Epoch 75/100\n",
      "600/600 [==============================] - 0s 783us/step - loss: 1.3450e-04 - val_loss: 1.4173e-04\n",
      "Epoch 76/100\n",
      "600/600 [==============================] - 0s 794us/step - loss: 1.3094e-04 - val_loss: 1.5490e-04\n",
      "Epoch 77/100\n"
     ]
    },
    {
     "name": "stdout",
     "output_type": "stream",
     "text": [
      "600/600 [==============================] - 0s 806us/step - loss: 1.1324e-04 - val_loss: 7.1099e-05\n",
      "Epoch 78/100\n",
      "600/600 [==============================] - 1s 836us/step - loss: 1.2682e-04 - val_loss: 2.0905e-04\n",
      "Epoch 79/100\n",
      "600/600 [==============================] - 0s 779us/step - loss: 1.3341e-04 - val_loss: 9.9757e-05\n",
      "Epoch 80/100\n",
      "600/600 [==============================] - 0s 770us/step - loss: 1.3398e-04 - val_loss: 1.5745e-04\n",
      "Epoch 81/100\n",
      "600/600 [==============================] - 0s 792us/step - loss: 1.1063e-04 - val_loss: 1.5409e-04\n",
      "Epoch 82/100\n",
      "600/600 [==============================] - 0s 790us/step - loss: 1.0951e-04 - val_loss: 5.7586e-05\n",
      "Epoch 83/100\n",
      "600/600 [==============================] - 1s 984us/step - loss: 1.0844e-04 - val_loss: 6.6921e-05\n",
      "Epoch 84/100\n",
      "600/600 [==============================] - 0s 773us/step - loss: 1.1661e-04 - val_loss: 1.1989e-04\n",
      "Epoch 85/100\n",
      "600/600 [==============================] - 0s 811us/step - loss: 1.1765e-04 - val_loss: 1.0832e-04\n",
      "Epoch 86/100\n",
      "600/600 [==============================] - 0s 795us/step - loss: 1.0960e-04 - val_loss: 9.5446e-05\n",
      "Epoch 87/100\n",
      "600/600 [==============================] - 1s 913us/step - loss: 1.0552e-04 - val_loss: 1.3606e-04\n",
      "Epoch 88/100\n",
      "600/600 [==============================] - 0s 782us/step - loss: 1.2242e-04 - val_loss: 3.0752e-04\n",
      "Epoch 89/100\n",
      "600/600 [==============================] - 0s 776us/step - loss: 1.1927e-04 - val_loss: 9.9509e-05\n",
      "Epoch 90/100\n",
      "600/600 [==============================] - 0s 777us/step - loss: 1.0717e-04 - val_loss: 1.1329e-04\n",
      "Epoch 91/100\n",
      "600/600 [==============================] - 0s 785us/step - loss: 1.0687e-04 - val_loss: 1.2943e-04\n",
      "Epoch 92/100\n",
      "600/600 [==============================] - 0s 783us/step - loss: 1.0566e-04 - val_loss: 1.0511e-04\n",
      "Epoch 93/100\n",
      "600/600 [==============================] - 0s 769us/step - loss: 1.0457e-04 - val_loss: 8.3878e-05\n",
      "Epoch 94/100\n",
      "600/600 [==============================] - 0s 769us/step - loss: 1.0856e-04 - val_loss: 2.2538e-04\n",
      "Epoch 95/100\n",
      "600/600 [==============================] - 0s 807us/step - loss: 1.1712e-04 - val_loss: 9.9135e-05\n",
      "Epoch 96/100\n",
      "600/600 [==============================] - 0s 831us/step - loss: 1.1109e-04 - val_loss: 1.1862e-04\n",
      "Epoch 97/100\n",
      "600/600 [==============================] - 0s 808us/step - loss: 1.1166e-04 - val_loss: 1.5496e-04\n",
      "Epoch 98/100\n",
      "600/600 [==============================] - 0s 782us/step - loss: 1.0585e-04 - val_loss: 1.2305e-04\n",
      "Epoch 99/100\n",
      "600/600 [==============================] - 1s 887us/step - loss: 1.1668e-04 - val_loss: 1.0511e-04\n",
      "Epoch 100/100\n",
      "600/600 [==============================] - 1s 893us/step - loss: 1.0658e-04 - val_loss: 5.6511e-05\n"
     ]
    }
   ],
   "source": [
    "model = keras.Sequential([\n",
    "  layers.Dense(64, activation='relu'),\n",
    "  layers.Dense(64, activation='relu'),\n",
    "  layers.Dense(1)\n",
    "])\n",
    "\n",
    "model.compile(loss='mean_absolute_error', optimizer=tf.keras.optimizers.Adam(0.001))\n",
    "\n",
    "#model.summary()\n",
    "\n",
    "history = model.fit(x, y, validation_split=0.2, verbose=1, epochs=100)"
   ]
  },
  {
   "cell_type": "code",
   "execution_count": 66,
   "id": "b1eea0c9",
   "metadata": {},
   "outputs": [],
   "source": [
    "y_pred = model.predict(x)"
   ]
  },
  {
   "cell_type": "code",
   "execution_count": 67,
   "id": "76da7f1c",
   "metadata": {},
   "outputs": [
    {
     "data": {
      "text/plain": [
       "[<matplotlib.lines.Line2D at 0x18ea2cf10>]"
      ]
     },
     "execution_count": 67,
     "metadata": {},
     "output_type": "execute_result"
    },
    {
     "data": {
      "image/png": "[encoded data removed]",
      "text/plain": [
       "<Figure size 864x576 with 1 Axes>"
      ]
     },
     "metadata": {
      "needs_background": "light"
     },
     "output_type": "display_data"
    }
   ],
   "source": [
    "fig = plt.figure(figsize=(12,8))\n",
    "plt.plot(x[:,0], y, 'o', markersize=2)\n",
    "plt.plot(x[:,0], y_pred, 'o', markersize=2)"
   ]
  },
  {
   "cell_type": "code",
   "execution_count": null,
   "id": "6ed41158",
   "metadata": {},
   "outputs": [],
   "source": []
  }
 ],
 "metadata": {
  "kernelspec": {
   "display_name": "Python 3",
   "language": "python",
   "name": "python3"
  },
  "language_info": {
   "codemirror_mode": {
    "name": "ipython",
    "version": 3
   },
   "file_extension": ".py",
   "mimetype": "text/x-python",
   "name": "python",
   "nbconvert_exporter": "python",
   "pygments_lexer": "ipython3",
   "version": "3.8.11"
  }
 },
 "nbformat": 4,
 "nbformat_minor": 5
}
