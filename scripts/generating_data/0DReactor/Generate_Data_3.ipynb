{
 "cells": [
  {
   "cell_type": "markdown",
   "metadata": {},
   "source": [
    "# Combustion Chemistry in Isobaric Reactor: Generatign Training Database in the Original State Space"
   ]
  },
  {
   "cell_type": "code",
   "execution_count": 1,
   "metadata": {},
   "outputs": [
    {
     "name": "stdout",
     "output_type": "stream",
     "text": [
      "3.9.12 (main, Mar 26 2022, 15:51:13) \n",
      "[Clang 12.0.0 (clang-1200.0.32.29)]\n"
     ]
    },
    {
     "name": "stderr",
     "output_type": "stream",
     "text": [
      "Missing colon in file PosixPath('/Users/sventur/.matplotlib/stylelib/paper_2columns.mplstyle'), line 1 ('f#### MATPLOTLIBRC FORMAT')\n"
     ]
    }
   ],
   "source": [
    "### Importing Libraries\n",
    "\n",
    "import sys\n",
    "print(sys.version)\n",
    "import os\n",
    "import time\n",
    "\n",
    "\n",
    "### Defining WORKSPACE_PATH\n",
    "\n",
    "# WORKSPACE_PATH = os.environ['WORKSPACE_PATH']\n",
    "WORKSPACE_PATH = os.path.join(os.getcwd(), '../../../../../')\n",
    "ROMNet_fld     = os.path.join(WORKSPACE_PATH, 'ROMNet/romnet/')\n",
    "\n",
    "\n",
    "### Importing External Libraries\n",
    "\n",
    "import numpy                             as np\n",
    "import pandas                            as pd\n",
    "\n",
    "\n",
    "### Importing Matplotlib and Its Style\n",
    "\n",
    "import matplotlib.pyplot                 as plt\n",
    "\n",
    "#plt.style.use(os.path.join(WORKSPACE_PATH, 'ROMNet/romnet/extra/postprocessing/presentation.mplstyle'))\n",
    "#plt.style.use(os.path.join(WORKSPACE_PATH, 'ROMNet/romnet/extra/postprocessing/zoomed.mplstyle'))\n",
    "plt.style.use(os.path.join(WORKSPACE_PATH, 'ROMNet/romnet/extra/postprocessing/paper_1column.mplstyle'))\n",
    "#plt.style.use(os.path.join(WORKSPACE_PATH, 'ROMNet/romnet/extra/postprocessing/paper_2columns.mplstyle'))\n",
    "\n",
    "\n",
    "# from scipy.integrate import solve_ivp\n",
    "# import pyDOE    \n",
    "# from PCAfold         import PCA          as PCAA"
   ]
  },
  {
   "cell_type": "markdown",
   "metadata": {},
   "source": [
    "## Defining Input Variables"
   ]
  },
  {
   "cell_type": "code",
   "execution_count": 2,
   "metadata": {},
   "outputs": [],
   "source": [
    "OutputDir    = os.path.join(WORKSPACE_PATH, 'ROMNet/Data/0DReact_Isobaric_500Cases_H2/')\n",
    "FigDir       = None #os.path.join(WORKSPACE_PATH, '../Desktop/Paper_Figures_DeepONet/')\n",
    "\n",
    "\n",
    "tStratch     = 1.\n",
    "SOLVER       = 'BDF'\n",
    "\n",
    "valid_perc   = 20.\n",
    "\n",
    "FixedMinVal  = 1.e-32\n",
    "\n",
    "\n",
    "ColorVec     = ['#190707', '#dd3232', '#0065a9', '#348a00','#985396','#f68b69']\n",
    "\n",
    "try:\n",
    "    os.makedirs(OutputDir)\n",
    "except OSError as e:\n",
    "    pass"
   ]
  },
  {
   "cell_type": "code",
   "execution_count": null,
   "metadata": {},
   "outputs": [],
   "source": []
  },
  {
   "cell_type": "code",
   "execution_count": null,
   "metadata": {},
   "outputs": [],
   "source": []
  },
  {
   "cell_type": "code",
   "execution_count": null,
   "metadata": {},
   "outputs": [],
   "source": []
  },
  {
   "cell_type": "markdown",
   "metadata": {},
   "source": [
    "## Reading Data"
   ]
  },
  {
   "cell_type": "code",
   "execution_count": 3,
   "metadata": {},
   "outputs": [],
   "source": [
    "FileName = os.path.join(OutputDir, 'Orig/train/ext/CleanVars.csv')\n",
    "Vars     = pd.read_csv(FileName, header=None)\n",
    "Vars     = list(Vars.to_numpy()[0,:])\n",
    "Vars0    = [Vars[i]+'0' for i in range(len(Vars))]\n",
    "Var0Dic  = {}\n",
    "for Var in Vars:\n",
    "    Var0Dic[Var] = Var+'0'\n",
    "InputVar     = ['t'] + Vars0\n",
    "\n",
    "\n",
    "    \n",
    "# FileName     = os.path.join(OutputDir, 'Orig/train/ext/SimIdxs.csv')\n",
    "# Data         = pd.read_csv(FileName, header=0)\n",
    "# SimIdxs      = Data.to_numpy(int)\n",
    "\n",
    "FileName     = os.path.join(OutputDir, 'Orig/train/ext/ICs.csv')\n",
    "Data         = pd.read_csv(FileName)\n",
    "ICVecs       = Data.to_numpy()\n",
    "n_ics        = len(ICVecs)\n",
    "\n",
    "# P0Vec        = []\n",
    "# EqRatio0Vec  = []\n",
    "# T0Vec        = []\n",
    "# for iC in range(n_ics):\n",
    "#     Nts      = SimIdxs[iC,1]-SimIdxs[iC,0]\n",
    "#     P0Vec.append(       np.ones(1, dtype=np.float64)*ICVecs[iC,0])\n",
    "#     EqRatio0Vec.append( np.ones(1, dtype=np.float64)*ICVecs[iC,1])\n",
    "#     T0Vec.append(       np.ones(1, dtype=np.float64)*ICVecs[iC,2])\n",
    "# P0Vec        = np.concatenate(P0Vec)[...,np.newaxis]\n",
    "# EqRatio0Vec  = np.concatenate(EqRatio0Vec)[...,np.newaxis]\n",
    "# T0Vec        = np.concatenate(T0Vec)[...,np.newaxis]\n",
    "\n",
    "\n",
    "# FileName     = os.path.join(OutputDir, 'Orig/test/ext/SimIdxs.csv')\n",
    "# Data         = pd.read_csv(FileName, header=0)\n",
    "# SimIdxsTest  = Data.to_numpy(int)\n",
    "\n",
    "FileName     = os.path.join(OutputDir, 'Orig/test/ext/ICs.csv')\n",
    "Data         = pd.read_csv(FileName)\n",
    "ICVecsTest   = Data.to_numpy()\n",
    "n_ics_test   = len(ICVecsTest)\n",
    "\n",
    "# P0VecTest       = []\n",
    "# EqRatio0VecTest = []\n",
    "# T0VecTest       = []\n",
    "# for iC in range(n_ics_test):\n",
    "#     NtsTest      = SimIdxsTest[iC,1]-SimIdxsTest[iC,0]\n",
    "#     P0VecTest.append(       np.ones(1, dtype=np.float64)*ICVecsTest[iC,0])\n",
    "#     EqRatio0VecTest.append( np.ones(1, dtype=np.float64)*ICVecsTest[iC,1])\n",
    "#     T0VecTest.append(       np.ones(1, dtype=np.float64)*ICVecsTest[iC,2])\n",
    "# P0VecTest        = np.concatenate(P0VecTest)[...,np.newaxis]\n",
    "# EqRatio0VecTest  = np.concatenate(EqRatio0VecTest)[...,np.newaxis]\n",
    "# T0VecTest        = np.concatenate(T0VecTest)[...,np.newaxis]\n",
    "\n",
    "\n",
    "# fig = plt.figure()\n",
    "# plt.scatter(EqRatio0Vec,     T0Vec,                    label='Training')\n",
    "# plt.scatter(EqRatio0VecTest, T0VecTest, c=ColorVec[1], label='Test')\n",
    "# plt.xlabel('Equivalence Ratio')\n",
    "# plt.ylabel('Temperature [K]')\n",
    "# plt.legend(loc=4)\n",
    "\n",
    "# if (FigDir):\n",
    "#     plt.savefig(FigDir+'/0DReact_ICs.eps', format='eps', bbox_inches='tight')"
   ]
  },
  {
   "cell_type": "code",
   "execution_count": null,
   "metadata": {},
   "outputs": [],
   "source": []
  },
  {
   "cell_type": "code",
   "execution_count": 4,
   "metadata": {},
   "outputs": [],
   "source": [
    "\n",
    "# # for iC in range(n_ics):\n",
    "# #     Nts              = SimIdxs[iC,1]-SimIdxs[iC,0]\n",
    "# #     FileName         = OutputDir+'/'+str(NVarsRed)+'PC/train/ext/PC.csv.'+str(iC+1)\n",
    "# #     DataTemp         = pd.read_csv(FileName, header=0)\n",
    "# #     DataTemp         = DataTemp[DataTemp['t'] == 0.][Vars]\n",
    "# #     DataTemp         = DataTemp.loc[DataTemp.index.repeat(Nts)]\n",
    "# #     if (iC==0):\n",
    "# #         Data0        = DataTemp\n",
    "# #     else:\n",
    "# #         Data0        = pd.concat([Data0, DataTemp], axis=0)\n",
    "# # Data0.columns = Vars0\n",
    "# # Data0.reset_index(drop=True, inplace=True)\n",
    "# for iC in range(n_ics):\n",
    "        \n",
    "#     Nts                  = SimIdxs[iC,1]-SimIdxs[iC,0]\n",
    "#     NtsNow               = Nts\n",
    "\n",
    "    \n",
    "\n",
    "#     FileName             = OutputDir+'/Orig/train/ext/y.csv.'+str(iC+1)\n",
    "#     DataTemp             = pd.read_csv(FileName, header=0)\n",
    "#     tVec                 = DataTemp['t']\n",
    "#     DataTemp             = DataTemp.iloc[[0]][Vars] #DataTemp.iloc[1][Vars]\n",
    "#     DataTemp.rename(columns=Var0Dic, errors=\"raise\")\n",
    "#     #tVec[tVec<FixedMinVal] = FixedMinVal\n",
    "#     DataTemp['t']        = tVec\n",
    "#     DataTemp['log(t)']   = np.log(tVec)\n",
    "#     DataTemp['log10(t)'] = np.log10(tVec)\n",
    "#     DataTemp['Phi0']     = ICVecs[iC,1]\n",
    "#     DataTemp['T0']       = ICVecs[iC,2]\n",
    "#     DataTemp['P0']       = ICVecs[iC,0]\n",
    "#     DataTemp             = DataTemp.loc[DataTemp.index.repeat(NtsNow)] # DataTemp.loc[DataTemp.index.repeat(Nts)]\n",
    "#     DataTemp.reset_index(drop=True, inplace=True)\n",
    "    \n",
    "#     if (iC==0):\n",
    "#         DataInput        = DataTemp\n",
    "#     else:\n",
    "#         DataInput        = pd.concat([DataInput, DataTemp], axis=0)\n",
    "\n",
    "        \n",
    "\n",
    "#     FileName             = OutputDir+'/Orig/train/ext/y.csv.'+str(iC+1)\n",
    "#     DataTemp             = pd.read_csv(FileName, header=0)\n",
    "#     tVec                 = DataTemp['t']\n",
    "#     #tVec[tVec<FixedMinVal] = FixedMinVal\n",
    "#     #DataTemp             = DataTemp[DataTemp.t > FixedMinVal][Vars]\n",
    "#     DataTemp['t']        = tVec\n",
    "#     DataTemp['log(t)']   = np.log(tVec)\n",
    "#     DataTemp['log10(t)'] = np.log10(tVec)\n",
    "#     DataTemp['Phi0']     = np.ones(NtsNow)*ICVecs[iC,1]\n",
    "#     DataTemp['T0']       = np.ones(NtsNow)*ICVecs[iC,2]\n",
    "#     DataTemp['P0']       = np.ones(NtsNow)*ICVecs[iC,0]\n",
    "#     DataTemp.reset_index(drop=True, inplace=True)\n",
    "\n",
    "#     if (iC==0):\n",
    "#         DataOutput        = DataTemp\n",
    "#     else:\n",
    "#         DataOutput        = pd.concat([DataOutput, DataTemp], axis=0)\n",
    "    \n",
    "# DataInput.reset_index(drop=True, inplace=True)\n",
    "# DataOutput.reset_index(drop=True, inplace=True)\n",
    "\n",
    "\n",
    "\n",
    "for iC in range(n_ics):\n",
    "    FileName         = OutputDir+'/Orig/train/ext/y.csv.'+str(iC+1)\n",
    "    DataNew          = pd.read_csv(FileName, header=0)\n",
    "    Nts              = len(DataNew)\n",
    "    DataTemp         = DataNew.iloc[[0]][Vars] #DataTemp.iloc[1][Vars]\n",
    "    DataTemp         = DataTemp.loc[DataTemp.index.repeat(Nts)]\n",
    "    DataTemp.reset_index(drop=True, inplace=True)\n",
    "    DataNew[Vars0]   = DataTemp\n",
    "    DataTemp['t']    = DataNew['t']\n",
    "    DataNew['t']     = np.maximum(DataNew['t'].to_numpy() - DataTemp['t'].iloc[[0]].to_numpy(), FixedMinVal)\n",
    "    if (iC==0):\n",
    "        Data         = DataNew\n",
    "    else:\n",
    "        Data         = pd.concat([Data, DataNew], axis=0)\n",
    "Data.reset_index(drop=True, inplace=True)"
   ]
  },
  {
   "cell_type": "code",
   "execution_count": 5,
   "metadata": {},
   "outputs": [],
   "source": [
    "# ### Writing Input\n",
    "# DataInput.to_csv(OutputDir+'/Orig/train/ext/Input.csv', index=False)\n",
    "# tVec                = DataInput.t.to_numpy()\n",
    "\n",
    "# ### Writing PCs\n",
    "# DataOutput.to_csv(OutputDir+'/Orig/train/ext/Output.csv', index=False)\n",
    "\n",
    "# Data_MinMax         = pd.concat([DataOutput[Vars].min(), DataOutput[Vars].max()], axis=1)\n",
    "# Data_MinMax.columns = ['Min','Max']\n",
    "# Data_MinMax.to_csv(OutputDir+'/Orig/train/ext/Output_MinMax.csv', index=False)"
   ]
  },
  {
   "cell_type": "code",
   "execution_count": 6,
   "metadata": {},
   "outputs": [],
   "source": [
    "MinVal = []\n",
    "MaxVal = []\n",
    "for i in range(len(Vars)):\n",
    "    MinVal.append(np.min([Data[Vars0[i]].min(), DataNew[Vars[i]].min()])*(0.9))\n",
    "    MaxVal.append(np.max([Data[Vars0[i]].max(), DataNew[Vars[i]].max()])*(1.1))\n",
    "MinVal = np.array(MinVal)\n",
    "MaxVal = np.array(MaxVal)\n",
    "DataDF = np.concatenate([MinVal[np.newaxis,...],MaxVal[np.newaxis,...]], axis=0)\n",
    "DataDF = pd.DataFrame(DataDF, columns=Vars)\n",
    "DataDF = DataDF.clip(lower=1.e-30)\n",
    "\n",
    "ExtsFile = OutputDir+'/Orig/MinMax.csv'\n",
    "DataDF.to_csv(ExtsFile, index=False)"
   ]
  },
  {
   "cell_type": "code",
   "execution_count": null,
   "metadata": {},
   "outputs": [],
   "source": []
  },
  {
   "cell_type": "code",
   "execution_count": null,
   "metadata": {},
   "outputs": [],
   "source": []
  },
  {
   "cell_type": "code",
   "execution_count": null,
   "metadata": {},
   "outputs": [],
   "source": []
  },
  {
   "cell_type": "markdown",
   "metadata": {},
   "source": [
    "## Splitting Data and Writing Database "
   ]
  },
  {
   "cell_type": "code",
   "execution_count": 7,
   "metadata": {},
   "outputs": [],
   "source": [
    "from sklearn.model_selection import train_test_split\n",
    "\n",
    "try:\n",
    "    os.makedirs(OutputDir+'/Orig/train/')\n",
    "except:\n",
    "    pass\n",
    "try:\n",
    "    os.makedirs(OutputDir+'/Orig/valid/')\n",
    "except:\n",
    "    pass"
   ]
  },
  {
   "cell_type": "code",
   "execution_count": 8,
   "metadata": {},
   "outputs": [],
   "source": [
    "data_id    = 'pts'\n",
    "\n",
    "DataNoZero           = Data[Data['t'] >= FixedMinVal]\n",
    "n_points             = len(DataNoZero)\n",
    "\n",
    "idx                  = np.arange(n_points)\n",
    "train_idx, valid_idx = train_test_split(idx, test_size=valid_perc/100, random_state=42)\n",
    "\n",
    "n_valid              = len(valid_idx)\n",
    "n_train              = len(train_idx)\n",
    "\n",
    "try:\n",
    "    os.makedirs(OutputDir+'/Orig/train/'+data_id+'/')\n",
    "except:\n",
    "    pass\n",
    "try:\n",
    "    os.makedirs(OutputDir+'/Orig/valid/'+data_id+'/')\n",
    "except:\n",
    "    pass\n",
    "\n",
    "DataInput  = DataNoZero[InputVar]\n",
    "DataInput.iloc[train_idx].to_csv(OutputDir+'/Orig/train/'+data_id+'/Input.csv', index=False)\n",
    "DataInput.iloc[valid_idx].to_csv(OutputDir+'/Orig/valid/'+data_id+'/Input.csv', index=False)\n",
    "\n",
    "DataOutput = DataNoZero[['t'] + Vars]\n",
    "DataOutput.iloc[train_idx].to_csv(OutputDir+'/Orig/train/'+data_id+'/Output.csv', index=False)\n",
    "DataOutput.iloc[valid_idx].to_csv(OutputDir+'/Orig/valid/'+data_id+'/Output.csv', index=False)"
   ]
  },
  {
   "cell_type": "code",
   "execution_count": 9,
   "metadata": {},
   "outputs": [
    {
     "name": "stderr",
     "output_type": "stream",
     "text": [
      "/var/folders/09/5pnsdvfx78nbjmwff3_24d540000gp/T/ipykernel_43061/3647220390.py:26: SettingWithCopyWarning: \n",
      "A value is trying to be set on a copy of a slice from a DataFrame.\n",
      "Try using .loc[row_indexer,col_indexer] = value instead\n",
      "\n",
      "See the caveats in the documentation: https://pandas.pydata.org/pandas-docs/stable/user_guide/indexing.html#returning-a-view-versus-a-copy\n",
      "  DataOutput[Vars] = DataOutput[Vars].to_numpy() * 0.\n"
     ]
    }
   ],
   "source": [
    "data_id    = 'res'\n",
    "\n",
    "DataNoZero           = Data[Data['t'] >= FixedMinVal]\n",
    "n_points             = len(DataNoZero)\n",
    "\n",
    "idx                  = np.arange(n_points)\n",
    "train_idx, valid_idx = train_test_split(idx, test_size=valid_perc/100, random_state=42)\n",
    "\n",
    "n_valid              = len(valid_idx)\n",
    "n_train              = len(train_idx)\n",
    "\n",
    "try:\n",
    "    os.makedirs(OutputDir+'/Orig/train/'+data_id+'/')\n",
    "except:\n",
    "    pass\n",
    "try:\n",
    "    os.makedirs(OutputDir+'/Orig/valid/'+data_id+'/')\n",
    "except:\n",
    "    pass\n",
    "\n",
    "DataInput  = DataNoZero[InputVar]\n",
    "DataInput.iloc[train_idx].to_csv(OutputDir+'/Orig/train/'+data_id+'/Input.csv', index=False)\n",
    "DataInput.iloc[valid_idx].to_csv(OutputDir+'/Orig/valid/'+data_id+'/Input.csv', index=False)\n",
    "\n",
    "DataOutput       = DataNoZero[['t'] + Vars]\n",
    "DataOutput[Vars] = DataOutput[Vars].to_numpy() * 0.\n",
    "DataOutput.iloc[train_idx].to_csv(OutputDir+'/Orig/train/'+data_id+'/Output.csv', index=False)\n",
    "DataOutput.iloc[valid_idx].to_csv(OutputDir+'/Orig/valid/'+data_id+'/Output.csv', index=False)"
   ]
  },
  {
   "cell_type": "code",
   "execution_count": 10,
   "metadata": {},
   "outputs": [],
   "source": [
    "data_id = 'ics'\n",
    "\n",
    "Data_ics                     = Data[Data['t'] == FixedMinVal]\n",
    "n_points_ics                 = len(Data_ics)\n",
    "\n",
    "idx_ics                      = np.arange(n_points_ics)\n",
    "train_idx_ics, valid_idx_ics = train_test_split(idx_ics, test_size=valid_perc/100, random_state=41)\n",
    "\n",
    "n_valid                      = len(valid_idx)\n",
    "n_train                      = len(train_idx)\n",
    "\n",
    "try:\n",
    "    os.makedirs(OutputDir+'/Orig/train/'+data_id+'/')\n",
    "except:\n",
    "    pass\n",
    "try:\n",
    "    os.makedirs(OutputDir+'/Orig/valid/'+data_id+'/')\n",
    "except:\n",
    "    pass\n",
    "\n",
    "DataInput  = Data_ics[InputVar]\n",
    "DataInput.iloc[train_idx_ics].to_csv(OutputDir+'/Orig/train/'+data_id+'/Input.csv', index=False)\n",
    "DataInput.iloc[valid_idx_ics].to_csv(OutputDir+'/Orig/valid/'+data_id+'/Input.csv', index=False)\n",
    "\n",
    "DataOutput = Data_ics[['t'] + Vars]\n",
    "DataOutput.iloc[train_idx_ics].to_csv(OutputDir+'/Orig/train/'+data_id+'/Output.csv', index=False)\n",
    "DataOutput.iloc[valid_idx_ics].to_csv(OutputDir+'/Orig/valid/'+data_id+'/Output.csv', index=False)"
   ]
  },
  {
   "cell_type": "code",
   "execution_count": 11,
   "metadata": {},
   "outputs": [],
   "source": [
    "# data_id = 'scs'\n",
    "\n",
    "# Mask                         = [i for i in range(1,len(Data)-1) if Data.iloc[i-51]['t'] == FixedMinVal]\n",
    "# Data_ics                     = Data.iloc[Mask]\n",
    "# n_points_ics                 = len(Data_ics)\n",
    "# idx_ics                      = np.arange(n_points_ics)\n",
    "# train_idx_ics, valid_idx_ics = train_test_split(idx_ics, test_size=valid_perc/100, random_state=41)\n",
    "\n",
    "# try:\n",
    "#     os.makedirs(OutputDir+'/'+str(NVarsRed)+'PC/train/'+data_id+'/')\n",
    "# except:\n",
    "#     pass\n",
    "# try:\n",
    "#     os.makedirs(OutputDir+'/'+str(NVarsRed)+'PC/valid/'+data_id+'/')\n",
    "# except:\n",
    "#     pass\n",
    "\n",
    "# DataInput      = Data_ics[InputVar]\n",
    "# DataInput.iloc[train_idx_ics].to_csv(OutputDir+'/'+str(NVarsRed)+'PC/train/'+data_id+'/Input.csv', index=False)\n",
    "# DataInput.iloc[valid_idx_ics].to_csv(OutputDir+'/'+str(NVarsRed)+'PC/valid/'+data_id+'/Input.csv', index=False)\n",
    "\n",
    "# DataOutput     = Data_ics[['t'] + Vars]\n",
    "# DataOutput.iloc[train_idx_ics].to_csv(OutputDir+'/'+str(NVarsRed)+'PC/train/'+data_id+'/Output.csv', index=False)\n",
    "# DataOutput.iloc[valid_idx_ics].to_csv(OutputDir+'/'+str(NVarsRed)+'PC/valid/'+data_id+'/Output.csv', index=False)"
   ]
  },
  {
   "cell_type": "code",
   "execution_count": 12,
   "metadata": {},
   "outputs": [],
   "source": [
    "# data_id = 'fcs'\n",
    "\n",
    "# Mask                         = [i for i in range(-1,len(Data)-1) if Data.iloc[i+1]['t'] == FixedMinVal]\n",
    "# Data_ics                     = Data.iloc[Mask]\n",
    "\n",
    "# n_points_ics                 = len(Data_ics)\n",
    "# idx_ics                      = np.arange(n_points_ics)\n",
    "# train_idx_ics, valid_idx_ics = train_test_split(idx_ics, test_size=valid_perc/100, random_state=43)\n",
    "\n",
    "# try:\n",
    "#     os.makedirs(OutputDir+'/'+str(NVarsRed)+'PC/train/'+data_id+'/')\n",
    "# except:\n",
    "#     pass\n",
    "# try:\n",
    "#     os.makedirs(OutputDir+'/'+str(NVarsRed)+'PC/valid/'+data_id+'/')\n",
    "# except:\n",
    "#     pass\n",
    "\n",
    "# DataInput      = Data_ics[InputVar]\n",
    "# DataInput.iloc[train_idx_ics].to_csv(OutputDir+'/'+str(NVarsRed)+'PC/train/'+data_id+'/Input.csv', index=False)\n",
    "# DataInput.iloc[valid_idx_ics].to_csv(OutputDir+'/'+str(NVarsRed)+'PC/valid/'+data_id+'/Input.csv', index=False)\n",
    "\n",
    "# DataOutput       = Data_ics[['t'] + Vars]\n",
    "# DataOutput.iloc[train_idx_ics].to_csv(OutputDir+'/'+str(NVarsRed)+'PC/train/'+data_id+'/Output.csv', index=False)\n",
    "# DataOutput.iloc[valid_idx_ics].to_csv(OutputDir+'/'+str(NVarsRed)+'PC/valid/'+data_id+'/Output.csv', index=False)"
   ]
  },
  {
   "cell_type": "code",
   "execution_count": null,
   "metadata": {},
   "outputs": [],
   "source": []
  },
  {
   "cell_type": "code",
   "execution_count": 13,
   "metadata": {},
   "outputs": [
    {
     "data": {
      "text/plain": [
       "-0.1688217311097456"
      ]
     },
     "execution_count": 13,
     "metadata": {},
     "output_type": "execute_result"
    }
   ],
   "source": [
    "np.log10(0.6779197225119026)"
   ]
  },
  {
   "cell_type": "code",
   "execution_count": 14,
   "metadata": {},
   "outputs": [
    {
     "data": {
      "text/plain": [
       "0.9029489479960353"
      ]
     },
     "execution_count": 14,
     "metadata": {},
     "output_type": "execute_result"
    }
   ],
   "source": [
    "10**(-4.433680365148028740e-02)"
   ]
  },
  {
   "cell_type": "code",
   "execution_count": null,
   "metadata": {},
   "outputs": [],
   "source": []
  }
 ],
 "metadata": {
  "kernelspec": {
   "display_name": "Python 3 (ipykernel)",
   "language": "python",
   "name": "python3"
  },
  "language_info": {
   "codemirror_mode": {
    "name": "ipython",
    "version": 3
   },
   "file_extension": ".py",
   "mimetype": "text/x-python",
   "name": "python",
   "nbconvert_exporter": "python",
   "pygments_lexer": "ipython3",
   "version": "3.9.12"
  }
 },
 "nbformat": 4,
 "nbformat_minor": 4
}
