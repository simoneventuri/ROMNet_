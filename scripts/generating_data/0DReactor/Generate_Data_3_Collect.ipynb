{
 "cells": [
  {
   "cell_type": "markdown",
   "metadata": {},
   "source": [
    "# Combustion Chemistry in Isobaric Reactor: Generatign Training Database in the Original State Space"
   ]
  },
  {
   "cell_type": "code",
   "execution_count": 1,
   "metadata": {},
   "outputs": [
    {
     "name": "stdout",
     "output_type": "stream",
     "text": [
      "3.9.12 (main, Mar 26 2022, 15:51:13) \n",
      "[Clang 12.0.0 (clang-1200.0.32.29)]\n"
     ]
    },
    {
     "name": "stderr",
     "output_type": "stream",
     "text": [
      "Missing colon in file PosixPath('/Users/sventur/.matplotlib/stylelib/paper_2columns.mplstyle'), line 1 ('f#### MATPLOTLIBRC FORMAT')\n"
     ]
    }
   ],
   "source": [
    "### Importing Libraries\n",
    "\n",
    "import sys\n",
    "print(sys.version)\n",
    "import os\n",
    "import time\n",
    "\n",
    "\n",
    "### Defining WORKSPACE_PATH\n",
    "\n",
    "# WORKSPACE_PATH = os.environ['WORKSPACE_PATH']\n",
    "WORKSPACE_PATH = os.path.join(os.getcwd(), '../../../../../')\n",
    "ROMNet_fld     = os.path.join(WORKSPACE_PATH, 'ROMNet/romnet/')\n",
    "\n",
    "\n",
    "### Importing External Libraries\n",
    "\n",
    "import numpy                             as np\n",
    "import pandas                            as pd\n",
    "\n",
    "\n",
    "### Importing Matplotlib and Its Style\n",
    "\n",
    "import matplotlib.pyplot                 as plt\n",
    "\n",
    "#plt.style.use(os.path.join(WORKSPACE_PATH, 'ROMNet/romnet/extra/postprocessing/presentation.mplstyle'))\n",
    "#plt.style.use(os.path.join(WORKSPACE_PATH, 'ROMNet/romnet/extra/postprocessing/zoomed.mplstyle'))\n",
    "plt.style.use(os.path.join(WORKSPACE_PATH, 'ROMNet/romnet/extra/postprocessing/paper_1column.mplstyle'))\n",
    "#plt.style.use(os.path.join(WORKSPACE_PATH, 'ROMNet/romnet/extra/postprocessing/paper_2columns.mplstyle'))\n",
    "\n",
    "\n",
    "# from scipy.integrate import solve_ivp\n",
    "# import pyDOE    \n",
    "# from PCAfold         import PCA          as PCAA"
   ]
  },
  {
   "cell_type": "markdown",
   "metadata": {},
   "source": [
    "## Defining Input Variables"
   ]
  },
  {
   "cell_type": "code",
   "execution_count": 2,
   "metadata": {},
   "outputs": [],
   "source": [
    "OutputDir    = os.path.join(WORKSPACE_PATH, 'ROMNet/Data/0DReact_Isobaric_2Cases_H2_SmallSteps/')\n",
    "FigDir       = None #os.path.join(WORKSPACE_PATH, '../Desktop/Paper_Figures_DeepONet/')\n",
    "\n",
    "\n",
    "tStratch     = 1.\n",
    "SOLVER       = 'BDF'\n",
    "\n",
    "valid_perc   = 20.\n",
    "\n",
    "FixedMinVal  = 1.e-14\n",
    "\n",
    "\n",
    "ColorVec     = ['#190707', '#dd3232', '#0065a9', '#348a00','#985396','#f68b69']\n",
    "\n",
    "NProcs       = 1\n",
    "\n",
    "try:\n",
    "    os.makedirs(OutputDir)\n",
    "except OSError as e:\n",
    "    pass"
   ]
  },
  {
   "cell_type": "code",
   "execution_count": null,
   "metadata": {},
   "outputs": [],
   "source": []
  },
  {
   "cell_type": "code",
   "execution_count": null,
   "metadata": {},
   "outputs": [],
   "source": []
  },
  {
   "cell_type": "code",
   "execution_count": null,
   "metadata": {},
   "outputs": [],
   "source": []
  },
  {
   "cell_type": "markdown",
   "metadata": {},
   "source": [
    "## Reading Data"
   ]
  },
  {
   "cell_type": "code",
   "execution_count": 4,
   "metadata": {},
   "outputs": [],
   "source": [
    "j=0\n",
    "for i in range(NProcs):\n",
    "    Data0_             = pd.read_csv(OutputDir+'/Orig/train_file/ext/y0.csv.'+str(i+1),   header=None, skiprows=1)\n",
    "    Data_              = pd.read_csv(OutputDir+'/Orig/train_file/ext/yEnd.csv.'+str(i+1), header=None, skiprows=1)\n",
    "    if (j==0):\n",
    "        Columns0       = list(pd.read_csv(OutputDir+'/Orig/train_file/ext/y0.csv.'+str(i+1), header=0).columns)\n",
    "        Columns0[0]    = 't0'\n",
    "        Columns        = list(pd.read_csv(OutputDir+'/Orig/train_file/ext/yEnd.csv.'+str(i+1),  header=0).columns)\n",
    "    Data0_.columns         = Columns0\n",
    "    Data_.columns          = Columns\n",
    "    if (j==0):\n",
    "        Data0          = Data0_.copy()\n",
    "        DataEnd        = Data_.copy()\n",
    "    else:\n",
    "        Data0          = pd.concat([Data0, Data0_],  axis=0, ignore_index=True)\n",
    "        DataEnd        = pd.concat([DataEnd, Data_], axis=0, ignore_index=True)\n",
    "    j+=1\n",
    "    \n",
    "Data  = pd.concat([Data0, DataEnd], axis=1)"
   ]
  },
  {
   "cell_type": "code",
   "execution_count": 5,
   "metadata": {},
   "outputs": [],
   "source": [
    "# iNeg = []\n",
    "# for i in range(len(Data)):\n",
    "#     if any(Data.iloc[i] < 0):\n",
    "#         iNeg.append(i)\n",
    "\n",
    "# Data  = Data.clip(1.e-30, 1.e10)\n",
    "# Data  = Data.drop(iNeg)"
   ]
  },
  {
   "cell_type": "code",
   "execution_count": 6,
   "metadata": {},
   "outputs": [],
   "source": [
    "Data[Columns0[1::]] = np.log10(Data[Columns0[1::]]) #+ 30.\n",
    "Data[Columns[1::]]  = np.log10(Data[Columns[1::]])  #+ 30."
   ]
  },
  {
   "cell_type": "code",
   "execution_count": 7,
   "metadata": {},
   "outputs": [],
   "source": [
    "Data        = Data.dropna(axis=0)"
   ]
  },
  {
   "cell_type": "code",
   "execution_count": 8,
   "metadata": {},
   "outputs": [],
   "source": [
    "InputVar    = Columns0\n",
    "InputVar[0] = 't'\n",
    "Vars        = Columns"
   ]
  },
  {
   "cell_type": "code",
   "execution_count": 9,
   "metadata": {},
   "outputs": [],
   "source": [
    "XX = Data.to_numpy()"
   ]
  },
  {
   "cell_type": "code",
   "execution_count": 10,
   "metadata": {},
   "outputs": [
    {
     "data": {
      "text/plain": [
       "array([22, 22,  0, ...,  8,  8,  8], dtype=int32)"
      ]
     },
     "execution_count": 10,
     "metadata": {},
     "output_type": "execute_result"
    }
   ],
   "source": [
    "# from sklearn.cluster import KMeans\n",
    "\n",
    "# kmeans = KMeans(n_clusters=30, random_state=0).fit(XX)\n",
    "# kmeans.labels_"
   ]
  },
  {
   "cell_type": "code",
   "execution_count": null,
   "metadata": {},
   "outputs": [],
   "source": [
    "# plt.scatter(kmeans.cluster_centers_[:,1], kmeans.cluster_centers_[:,10])"
   ]
  },
  {
   "cell_type": "code",
   "execution_count": null,
   "metadata": {},
   "outputs": [],
   "source": [
    "# plt.scatter(Data['T0'][kmeans.labels_==0], Data['N'][kmeans.labels_==0])\n",
    "# plt.scatter(Data['T0'][kmeans.labels_==1], Data['N'][kmeans.labels_==1])"
   ]
  },
  {
   "cell_type": "code",
   "execution_count": null,
   "metadata": {},
   "outputs": [],
   "source": []
  },
  {
   "cell_type": "code",
   "execution_count": null,
   "metadata": {},
   "outputs": [],
   "source": []
  },
  {
   "cell_type": "markdown",
   "metadata": {},
   "source": [
    "## Splitting Data and Writing Database "
   ]
  },
  {
   "cell_type": "code",
   "execution_count": 11,
   "metadata": {},
   "outputs": [],
   "source": [
    "from sklearn.model_selection import train_test_split\n",
    "\n",
    "try:\n",
    "    os.makedirs(OutputDir+'/Orig/train/')\n",
    "except:\n",
    "    pass\n",
    "try:\n",
    "    os.makedirs(OutputDir+'/Orig/valid/')\n",
    "except:\n",
    "    pass"
   ]
  },
  {
   "cell_type": "code",
   "execution_count": 12,
   "metadata": {},
   "outputs": [],
   "source": [
    "data_id    = 'pts'\n",
    "\n",
    "DataNoZero           = Data #[kmeans.labels_ == 0]\n",
    "n_points             = len(DataNoZero)\n",
    "\n",
    "idx                  = np.arange(n_points)\n",
    "train_idx, valid_idx = train_test_split(idx, test_size=valid_perc/100, random_state=42)\n",
    "\n",
    "n_valid              = len(valid_idx)\n",
    "n_train              = len(train_idx)\n",
    "\n",
    "try:\n",
    "    os.makedirs(OutputDir+'/Orig/train/'+data_id+'/')\n",
    "except:\n",
    "    pass\n",
    "try:\n",
    "    os.makedirs(OutputDir+'/Orig/valid/'+data_id+'/')\n",
    "except:\n",
    "    pass\n",
    "\n",
    "DataInput  = DataNoZero[InputVar]\n",
    "DataInput.iloc[train_idx].to_csv(OutputDir+'/Orig/train/'+data_id+'/Input.csv', index=False)\n",
    "DataInput.iloc[valid_idx].to_csv(OutputDir+'/Orig/valid/'+data_id+'/Input.csv', index=False)\n",
    "\n",
    "DataOutput = DataNoZero[Vars]\n",
    "DataOutput.iloc[train_idx].to_csv(OutputDir+'/Orig/train/'+data_id+'/Output.csv', index=False)\n",
    "DataOutput.iloc[valid_idx].to_csv(OutputDir+'/Orig/valid/'+data_id+'/Output.csv', index=False)"
   ]
  },
  {
   "cell_type": "code",
   "execution_count": null,
   "metadata": {},
   "outputs": [],
   "source": []
  },
  {
   "cell_type": "code",
   "execution_count": null,
   "metadata": {},
   "outputs": [],
   "source": []
  }
 ],
 "metadata": {
  "kernelspec": {
   "display_name": "Python 3 (ipykernel)",
   "language": "python",
   "name": "python3"
  },
  "language_info": {
   "codemirror_mode": {
    "name": "ipython",
    "version": 3
   },
   "file_extension": ".py",
   "mimetype": "text/x-python",
   "name": "python",
   "nbconvert_exporter": "python",
   "pygments_lexer": "ipython3",
   "version": "3.9.12"
  }
 },
 "nbformat": 4,
 "nbformat_minor": 4
}
