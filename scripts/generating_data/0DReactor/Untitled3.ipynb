{
 "cells": [
  {
   "cell_type": "code",
   "execution_count": 1,
   "metadata": {},
   "outputs": [],
   "source": [
    "\"\"\"\n",
    "Constant-pressure, adiabatic kinetics simulation.\n",
    "\n",
    "Requires: cantera >= 2.5.0, matplotlib >= 2.0\n",
    "\"\"\"\n",
    "\n",
    "import sys\n",
    "import matplotlib.pyplot as plt\n",
    "import numpy   as np\n",
    "import cantera as ct"
   ]
  },
  {
   "cell_type": "code",
   "execution_count": 2,
   "metadata": {},
   "outputs": [],
   "source": [
    "def ReactorOde_CVODE(t, y):\n",
    "    print(t)\n",
    "\n",
    "    #YEnd     = np.array([1.-np.sum(y[1:])], dtype=np.float64)\n",
    "    #Y        = np.concatenate((y[1:], YEnd), axis=0)\n",
    "    Y        = y[1:]\n",
    "\n",
    "    gas_.TPY = y[0], P0, Y\n",
    "    wdot     = gas_.net_production_rates\n",
    "\n",
    "    ydot     = np.zeros_like(y, dtype=np.float64)\n",
    "    ydot[0]  = - np.dot(wdot, gas_.partial_molar_enthalpies) / gas_.cp / gas_.density\n",
    "    #ydot[1:] = wdot[0:-1] * gas_.molecular_weights[0:-1] / gas_.density\n",
    "    ydot[1:] = wdot * gas_.molecular_weights / gas_.density\n",
    "\n",
    "    return ydot"
   ]
  },
  {
   "cell_type": "code",
   "execution_count": null,
   "metadata": {},
   "outputs": [],
   "source": []
  }
 ],
 "metadata": {
  "kernelspec": {
   "display_name": "Python 3",
   "language": "python",
   "name": "python3"
  },
  "language_info": {
   "codemirror_mode": {
    "name": "ipython",
    "version": 3
   },
   "file_extension": ".py",
   "mimetype": "text/x-python",
   "name": "python",
   "nbconvert_exporter": "python",
   "pygments_lexer": "ipython3",
   "version": "3.8.9"
  }
 },
 "nbformat": 4,
 "nbformat_minor": 4
}
