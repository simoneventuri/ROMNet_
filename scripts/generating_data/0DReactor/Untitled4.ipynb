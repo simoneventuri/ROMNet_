{
 "cells": [
  {
   "cell_type": "code",
   "execution_count": 2,
   "metadata": {},
   "outputs": [],
   "source": [
    "import sys\n",
    "import os\n",
    "import numpy   as np\n",
    "\n",
    "import matplotlib.pyplot as plt\n",
    "WORKSPACE_PATH  = os.environ['WORKSPACE_PATH']\n",
    "plt.style.use(WORKSPACE_PATH+'/ROMNet/romnet/extra/postprocessing/presentation.mplstyle')\n",
    "\n",
    "import cantera as ct"
   ]
  },
  {
   "cell_type": "code",
   "execution_count": 3,
   "metadata": {},
   "outputs": [],
   "source": [
    "gas = ct.Solution('gri30.cti')\n",
    "gas.TPX = 1250, ct.one_atm, 'CH4:0.5, O2:1, N2:3.76'"
   ]
  },
  {
   "cell_type": "code",
   "execution_count": 4,
   "metadata": {},
   "outputs": [],
   "source": [
    "# Initial temperatures\n",
    "Temperature_range = list(range(800, 1700, 100))\n",
    "\n",
    "# Specify the number of time steps and the time step size\n",
    "nt = 100000\n",
    "dt = 1.e-4  # s\n",
    "\n",
    "# Storing auto ignitions\n",
    "auto_ignitions = []"
   ]
  },
  {
   "cell_type": "code",
   "execution_count": 5,
   "metadata": {},
   "outputs": [
    {
     "name": "stdout",
     "output_type": "stream",
     "text": [
      "For T = 800, Autoignition time = 9.999999999990033 s\n",
      "For T = 900, Autoignition time = 7.055299999996896 s\n",
      "For T = 1000, Autoignition time = 1.066899999999899 s\n",
      "For T = 1100, Autoignition time = 0.19789999999999452 s\n",
      "For T = 1200, Autoignition time = 0.043400000000000216 s\n",
      "For T = 1300, Autoignition time = 0.011099999999999988 s\n",
      "For T = 1400, Autoignition time = 0.0032999999999999982 s\n",
      "For T = 1500, Autoignition time = 0.0011000000000000003 s\n",
      "For T = 1600, Autoignition time = 0.0004 s\n"
     ]
    }
   ],
   "source": [
    "for index, Temperature in enumerate(Temperature_range):\n",
    "    #################################################################\n",
    "    # Initial temperature, Pressure and stoichiometry\n",
    "    gas.TPX = Temperature, ct.one_atm, 'CH4:0.5, O2:1, N2:3.76'\n",
    "    # Create the batch reactor\n",
    "    r = ct.IdealGasReactor(gas)\n",
    "    # Now create a reactor network consisting of the single batch reactor\n",
    "    sim = ct.ReactorNet([r])\n",
    "    # Storage space\n",
    "    mfrac = []\n",
    "    # ...\n",
    "    time = []\n",
    "    temperature = []\n",
    "    HR = []\n",
    "    # Run the simulation\n",
    "    # Initial simulation time\n",
    "    current_time = 0.0\n",
    "    # Loop for nt time steps of dt seconds.\n",
    "    for n in range(nt):\n",
    "        current_time += dt\n",
    "        sim.advance(current_time)\n",
    "        time.append(current_time)\n",
    "        temperature.append(r.T)\n",
    "        mfrac.append(r.thermo.Y)\n",
    "        HR.append(- np.dot(gas.net_production_rates, gas.partial_molar_enthalpies))\n",
    "    #################################################################\n",
    "    # Catch the autoignition timing\n",
    "    #################################################################\n",
    "    # Get the ignition delay time by the maximum value of the Heat Release rate\n",
    "    auto_ignition = time[HR.index(max(HR))]\n",
    "    print('For T = ' + str(Temperature) + ', Autoignition time = ' + str(auto_ignition) + ' s')\n",
    "    # Posterity\n",
    "    FinalTemp = temperature[nt - 1]\n",
    "    auto_ignitions.append(auto_ignition)\n",
    "    # #################################################################\n",
    "    # # Save results\n",
    "    # #################################################################\n",
    "    # # write output CSV file for importing into Excel\n",
    "    # csv_file = '3-Output/Phi-1_P-1_T-' + str(Temperature) + '_UV.csv'\n",
    "    # with open(csv_file, 'w') as outfile:\n",
    "    # writer = csv.writer(outfile)\n",
    "    # writer.writerow(['Auto ignition time [s]', 'Final Temperature [K]'] + gas.species_names)\n",
    "    # writer.writerow([auto_ignition, FinalTemp] + list(mfrac[:]))\n",
    "    # print('output written to ' + csv_file)\n",
    "T_invert = [1000 / Temperature for Temperature in Temperature_range]"
   ]
  },
  {
   "cell_type": "code",
   "execution_count": 7,
   "metadata": {},
   "outputs": [
    {
     "data": {
      "image/png": "[encoded data removed]",
      "text/plain": [
       "<Figure size 432x288 with 1 Axes>"
      ]
     },
     "metadata": {
      "needs_background": "light"
     },
     "output_type": "display_data"
    }
   ],
   "source": [
    "#################################################################\n",
    "# Plot results\n",
    "#################################################################\n",
    "# create plot\n",
    "plt.plot(Temperature_range, auto_ignitions, 'b-o')\n",
    "plt.xlabel(r'Temperature [K]', fontsize=20)\n",
    "plt.ylabel(\"Auto ignition [s]\", fontsize=20)\n",
    "plt.yscale('log')\n",
    "plt.title(r'Autoignition of $CH_{4}$ + Air mixture at $\\Phi$ = 1, and P = 1 bar',\n",
    "fontsize=22, horizontalalignment='center')\n",
    "#plt.axis(fontsize=20)\n",
    "plt.grid()\n",
    "plt.show()"
   ]
  },
  {
   "cell_type": "code",
   "execution_count": null,
   "metadata": {},
   "outputs": [],
   "source": []
  }
 ],
 "metadata": {
  "kernelspec": {
   "display_name": "Python 3",
   "language": "python",
   "name": "python3"
  },
  "language_info": {
   "codemirror_mode": {
    "name": "ipython",
    "version": 3
   },
   "file_extension": ".py",
   "mimetype": "text/x-python",
   "name": "python",
   "nbconvert_exporter": "python",
   "pygments_lexer": "ipython3",
   "version": "3.8.9"
  }
 },
 "nbformat": 4,
 "nbformat_minor": 4
}
