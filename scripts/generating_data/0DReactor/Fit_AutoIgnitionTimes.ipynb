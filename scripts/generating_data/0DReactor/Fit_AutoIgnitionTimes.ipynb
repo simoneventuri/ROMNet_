{
 "cells": [
  {
   "cell_type": "code",
   "execution_count": 1,
   "metadata": {},
   "outputs": [],
   "source": [
    "import pandas as pd\n",
    "import numpy as np\n",
    "import os\n",
    "\n",
    "import matplotlib.pyplot as plt\n",
    "WORKSPACE_PATH  = os.environ['WORKSPACE_PATH']\n",
    "plt.style.use(WORKSPACE_PATH+'/ROMNet/romnet/extra/postprocessing/presentation.mplstyle')\n",
    "\n",
    "from numpy import diff\n",
    "\n",
    "import cantera as ct"
   ]
  },
  {
   "cell_type": "code",
   "execution_count": 2,
   "metadata": {},
   "outputs": [],
   "source": [
    "Delays = np.array([[900.0,  3.0208704759503364],\n",
    "[1100.0, 0.07815089747404498],\n",
    "[1300.0, 0.004359084560585947],\n",
    "[1500.0, 0.00044742086313481386],\n",
    "[1700.0, 8.338499818903706e-05]])\n",
    "\n",
    "Delayss      = Delays\n",
    "Delayss[:,1] = np.log10(Delays[:,1])"
   ]
  },
  {
   "cell_type": "code",
   "execution_count": 3,
   "metadata": {},
   "outputs": [],
   "source": [
    "from scipy.optimize import curve_fit\n",
    "\n",
    "def lin(x, a, b):\n",
    "    return a*x + b\n",
    "\n",
    "pars, cov = curve_fit(f=lin, xdata=1000/Delayss[:,0], ydata=Delayss[:,1], p0=[0, 0], bounds=(-np.inf, np.inf))"
   ]
  },
  {
   "cell_type": "code",
   "execution_count": null,
   "metadata": {},
   "outputs": [],
   "source": [
    "one_over = 1000./np.linspace(900, 1700, 100)\n",
    "y_pred   = one_over*pars[0] + pars[1]\n",
    "\n",
    "plt.plot(1000/Delays[:,0], Delays[:,1])\n",
    "plt.plot(one_over, y_pred)"
   ]
  }
 ],
 "metadata": {
  "kernelspec": {
   "display_name": "Python 3",
   "language": "python",
   "name": "python3"
  },
  "language_info": {
   "codemirror_mode": {
    "name": "ipython",
    "version": 3
   },
   "file_extension": ".py",
   "mimetype": "text/x-python",
   "name": "python",
   "nbconvert_exporter": "python",
   "pygments_lexer": "ipython3",
   "version": "3.8.12"
  }
 },
 "nbformat": 4,
 "nbformat_minor": 4
}
