{
 "cells": [
  {
   "cell_type": "markdown",
   "metadata": {},
   "source": [
    "## Finilizing Data Generation for 0D Reactor"
   ]
  },
  {
   "cell_type": "code",
   "execution_count": 1,
   "metadata": {},
   "outputs": [
    {
     "name": "stdout",
     "output_type": "stream",
     "text": [
      "3.8.11 (default, Jun 29 2021, 03:17:05) \n",
      "[Clang 12.0.0 (clang-1200.0.32.29)]\n"
     ]
    }
   ],
   "source": [
    "### Importing Libraries\n",
    "\n",
    "import sys\n",
    "print(sys.version)\n",
    "import os\n",
    "import numpy as np\n",
    "import pandas as pd\n",
    "import time\n",
    "\n",
    "import matplotlib.pyplot as plt\n",
    "WORKSPACE_PATH  = os.environ['WORKSPACE_PATH']\n",
    "plt.style.use(WORKSPACE_PATH+'/ROMNet/romnet/extra/postprocessing/presentation.mplstyle')\n",
    "\n",
    "from scipy.integrate import solve_ivp\n",
    "\n",
    "pd.options.mode.chained_assignment = None  # default='warn'"
   ]
  },
  {
   "cell_type": "code",
   "execution_count": 2,
   "metadata": {},
   "outputs": [],
   "source": [
    "### Input Data\n",
    "\n",
    "OutputDir  = WORKSPACE_PATH+'/ROMNet/Data/0DReact_Isobaric_2000Cases_New/'\n",
    "# TestDir    = WORKSPACE_PATH+'/ROMNet/Data/0DReact_Isobaric_100Cases_Test/'\n",
    "try:\n",
    "    os.makedirs(OutputDir)\n",
    "except OSError as e:\n",
    "    pass\n",
    "# try:\n",
    "#     os.makedirs(TestDir)\n",
    "# except OSError as e:\n",
    "#     pass\n",
    "\n",
    "NVarsRed           = 7\n",
    "\n",
    "tStratch           = 1.\n",
    "SOLVER             = 'BDF'\n",
    "\n",
    "ValidPerc          = 20.\n",
    "\n",
    "FixedMinVal        = 1.e-14\n",
    "\n",
    "\n",
    "NNew               = 1000"
   ]
  },
  {
   "cell_type": "code",
   "execution_count": 3,
   "metadata": {},
   "outputs": [],
   "source": [
    "Vars = []\n",
    "for iVars in range(1,NVarsRed+1):\n",
    "    Vars.append('PC_'+str(iVars))\n",
    "\n",
    "Vars0 = []\n",
    "for iVars in range(1,NVarsRed+1):\n",
    "    Vars0.append('PC0_'+str(iVars))\n",
    "    \n",
    "SVars = []\n",
    "for iVars in range(1,NVarsRed+1):\n",
    "    SVars.append('SPC_'+str(iVars))\n",
    "    \n",
    "\n",
    "FileName     = OutputDir + '/Orig/train/ext/SimIdxs.csv'\n",
    "Data         = pd.read_csv(FileName, header=0)\n",
    "SimIdxs      = Data.to_numpy(int)\n",
    "\n",
    "\n",
    "FileName     = OutputDir + '/Orig/train/ext/ICs.csv'\n",
    "Data         = pd.read_csv(FileName)\n",
    "ICVecs       = Data.to_numpy()\n",
    "NICs         = len(ICVecs)\n",
    "\n",
    "\n",
    "P0Vec        = []\n",
    "EqRatio0Vec  = []\n",
    "T0Vec        = []\n",
    "for iC in range(NICs):\n",
    "    Nts      = SimIdxs[iC,1]-SimIdxs[iC,0]\n",
    "    P0Vec.append(       np.ones(Nts, dtype=np.float64)*ICVecs[iC,0])\n",
    "    EqRatio0Vec.append( np.ones(Nts, dtype=np.float64)*ICVecs[iC,1])\n",
    "    T0Vec.append(       np.ones(Nts, dtype=np.float64)*ICVecs[iC,2])\n",
    "P0Vec        = np.concatenate(P0Vec)[...,np.newaxis]\n",
    "EqRatio0Vec  = np.concatenate(EqRatio0Vec)[...,np.newaxis]\n",
    "T0Vec        = np.concatenate(T0Vec)[...,np.newaxis]"
   ]
  },
  {
   "cell_type": "code",
   "execution_count": 4,
   "metadata": {},
   "outputs": [],
   "source": [
    "# for iC in range(NICs):\n",
    "    \n",
    "#     Nts                = SimIdxs[iC,1]-SimIdxs[iC,0]\n",
    "#     FileName           = OutputDir+'/'+str(NVarsRed)+'PC/train/ext/PC.csv.'+str(iC+1)\n",
    "#     DataRead           = pd.read_csv(FileName, header=0)\n",
    "\n",
    "#     indxs              = np.random.randint(0, high=len(DataRead), size=(NNew,2), dtype=int)\n",
    "#     indxs              = np.sort(indxs)\n",
    "#     DataSampled        = DataRead[Vars].loc[indxs[:,1]].reset_index(drop=True)\n",
    "#     DataSampled[Vars0] = DataRead[Vars].loc[indxs[:,0]].reset_index(drop=True)\n",
    "#     DataSampled['t']   = DataRead['t'].loc[indxs[:,1]].to_numpy() - DataRead['t'].loc[indxs[:,0]].to_numpy()  \n",
    "    \n",
    "#     Data0              = DataRead.iloc[[0]][Vars]\n",
    "#     Data0              = Data0.loc[Data0.index.repeat(Nts)]\n",
    "#     Data0.reset_index(drop=True, inplace=True)\n",
    "#     DataRead[Vars0]    = Data0\n",
    "    \n",
    "#     if (iC==0):\n",
    "#         DataAll        = pd.concat([DataRead, DataSampled], axis=0)\n",
    "#     else:\n",
    "#         DataAll        = pd.concat([DataAll, DataRead, DataSampled], axis=0)\n",
    "        \n",
    "# DataAll = DataAll.reset_index(drop=True)"
   ]
  },
  {
   "cell_type": "code",
   "execution_count": 5,
   "metadata": {},
   "outputs": [],
   "source": [
    "for iC in range(NICs):\n",
    "    \n",
    "    Nts                = SimIdxs[iC,1]-SimIdxs[iC,0]\n",
    "    FileName           = OutputDir+'/'+str(NVarsRed)+'PC/train/ext/PC.csv.'+str(iC+1)\n",
    "    DataRead           = pd.read_csv(FileName, header=0)\n",
    "\n",
    "    indxs              = np.random.randint(0, high=len(DataRead), dtype=int)\n",
    "    DataSampled        = DataRead[Vars].reset_index(drop=True)\n",
    "    DataSampled[Vars0] = DataRead[Vars].loc[indxs].reset_index(drop=True)\n",
    "    DataSampled['t']   = DataRead['t'].to_numpy() - DataRead['t'].loc[indxs]\n",
    "    DataSampled        = DataSampled.drop(DataSampled[DataSampled['t'] < 1.e-10].index)\n",
    "    \n",
    "    Data0              = DataRead.iloc[[0]][Vars]\n",
    "    Data0              = Data0.loc[Data0.index.repeat(Nts)]\n",
    "    Data0.reset_index(drop=True, inplace=True)\n",
    "    DataRead[Vars0]    = Data0\n",
    "    \n",
    "#     if (iC==0):\n",
    "#         DataAll        = pd.concat([DataSampled], axis=0)\n",
    "#     else:\n",
    "#         DataAll        = pd.concat([DataAll, DataSampled], axis=0)\n",
    "    if (iC==0):\n",
    "        DataAll        = pd.concat([DataRead, DataSampled], axis=0)\n",
    "    else:\n",
    "        DataAll        = pd.concat([DataAll, DataRead, DataSampled], axis=0)\n",
    "        \n",
    "DataAll = DataAll.reset_index(drop=True)"
   ]
  },
  {
   "cell_type": "code",
   "execution_count": 6,
   "metadata": {},
   "outputs": [],
   "source": [
    "#DataAll.iloc[DataAll[DataAll['t'] < 1.e-14].index]\n",
    "#DataAll[DataAll['t'] < 1.e-14]\n",
    "#DataAll[DataAll['t'] < 1.e-14].index\n",
    "#DataAll.index"
   ]
  },
  {
   "cell_type": "code",
   "execution_count": 7,
   "metadata": {},
   "outputs": [],
   "source": [
    "# plt.plot(DataAll['t'], DataAll['PC_1'], 'o')\n",
    "# plt.xscale('log')"
   ]
  },
  {
   "cell_type": "code",
   "execution_count": null,
   "metadata": {},
   "outputs": [],
   "source": []
  },
  {
   "cell_type": "code",
   "execution_count": null,
   "metadata": {},
   "outputs": [],
   "source": []
  },
  {
   "cell_type": "code",
   "execution_count": null,
   "metadata": {},
   "outputs": [],
   "source": []
  },
  {
   "cell_type": "code",
   "execution_count": 8,
   "metadata": {},
   "outputs": [],
   "source": [
    "from sklearn.model_selection import train_test_split\n",
    "\n",
    "try:\n",
    "    os.makedirs(OutputDir+'/'+str(NVarsRed)+'PC/train/')\n",
    "except:\n",
    "    pass\n",
    "try:\n",
    "    os.makedirs(OutputDir+'/'+str(NVarsRed)+'PC/valid/')\n",
    "except:\n",
    "    pass"
   ]
  },
  {
   "cell_type": "code",
   "execution_count": 9,
   "metadata": {},
   "outputs": [],
   "source": [
    "data_id    = 'pts'\n",
    "\n",
    "n_points             = len(DataAll)\n",
    "\n",
    "idx                  = np.arange(n_points)\n",
    "train_idx, valid_idx = train_test_split(idx, test_size=ValidPerc/100, random_state=42)\n",
    "\n",
    "n_valid              = len(valid_idx)\n",
    "n_train              = len(train_idx)\n",
    "\n",
    "try:\n",
    "    os.makedirs(OutputDir+'/'+str(NVarsRed)+'PC/train/'+data_id+'/')\n",
    "except:\n",
    "    pass\n",
    "try:\n",
    "    os.makedirs(OutputDir+'/'+str(NVarsRed)+'PC/valid/'+data_id+'/')\n",
    "except:\n",
    "    pass\n",
    "\n",
    "DataInput  = DataAll[['t'] + Vars0]\n",
    "DataInput.iloc[train_idx].to_csv(OutputDir+'/'+str(NVarsRed)+'PC/train/'+data_id+'/Input.csv', index=False)\n",
    "DataInput.iloc[valid_idx].to_csv(OutputDir+'/'+str(NVarsRed)+'PC/valid/'+data_id+'/Input.csv', index=False)\n",
    "\n",
    "DataOutput = DataAll[['t'] + Vars]\n",
    "DataOutput.iloc[train_idx].to_csv(OutputDir+'/'+str(NVarsRed)+'PC/train/'+data_id+'/Output.csv', index=False)\n",
    "DataOutput.iloc[valid_idx].to_csv(OutputDir+'/'+str(NVarsRed)+'PC/valid/'+data_id+'/Output.csv', index=False)"
   ]
  },
  {
   "cell_type": "code",
   "execution_count": null,
   "metadata": {},
   "outputs": [],
   "source": []
  },
  {
   "cell_type": "code",
   "execution_count": 10,
   "metadata": {},
   "outputs": [],
   "source": [
    "#pd.plotting.scatter_matrix(DataAll[Vars0], alpha=0.2)"
   ]
  },
  {
   "cell_type": "code",
   "execution_count": null,
   "metadata": {},
   "outputs": [],
   "source": []
  }
 ],
 "metadata": {
  "kernelspec": {
   "display_name": "Python 3",
   "language": "python",
   "name": "python3"
  },
  "language_info": {
   "codemirror_mode": {
    "name": "ipython",
    "version": 3
   },
   "file_extension": ".py",
   "mimetype": "text/x-python",
   "name": "python",
   "nbconvert_exporter": "python",
   "pygments_lexer": "ipython3",
   "version": "3.8.11"
  }
 },
 "nbformat": 4,
 "nbformat_minor": 4
}
