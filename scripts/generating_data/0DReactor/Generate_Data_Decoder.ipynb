{
 "cells": [
  {
   "cell_type": "markdown",
   "metadata": {},
   "source": [
    "# Combustion Chemistry in Isobaric Reactor: Generatign Training Database in the Principal Component Space"
   ]
  },
  {
   "cell_type": "code",
   "execution_count": 1,
   "metadata": {},
   "outputs": [
    {
     "name": "stdout",
     "output_type": "stream",
     "text": [
      "3.9.12 (main, Mar 26 2022, 15:51:13) \n",
      "[Clang 12.0.0 (clang-1200.0.32.29)]\n"
     ]
    },
    {
     "name": "stderr",
     "output_type": "stream",
     "text": [
      "Missing colon in file PosixPath('/Users/sventur/.matplotlib/stylelib/paper_2columns.mplstyle'), line 1 ('f#### MATPLOTLIBRC FORMAT')\n"
     ]
    }
   ],
   "source": [
    "### Importing Libraries\n",
    "\n",
    "import sys\n",
    "print(sys.version)\n",
    "import os\n",
    "import time\n",
    "\n",
    "\n",
    "### Defining WORKSPACE_PATH\n",
    "\n",
    "# WORKSPACE_PATH = os.environ['WORKSPACE_PATH']\n",
    "WORKSPACE_PATH = os.path.join(os.getcwd(), '../../../../../')\n",
    "ROMNet_fld     = os.path.join(WORKSPACE_PATH, 'ROMNet/romnet/')\n",
    "\n",
    "\n",
    "### Importing External Libraries\n",
    "\n",
    "import numpy                             as np\n",
    "import pandas                            as pd\n",
    "pd.options.mode.chained_assignment = None  # default='warn'\n",
    "\n",
    "\n",
    "### Importing Matplotlib and Its Style\n",
    "\n",
    "import matplotlib.pyplot                 as plt\n",
    "\n",
    "#plt.style.use(os.path.join(WORKSPACE_PATH, 'ROMNet/romnet/extra/postprocessing/presentation.mplstyle'))\n",
    "#plt.style.use(os.path.join(WORKSPACE_PATH, 'ROMNet/romnet/extra/postprocessing/zoomed.mplstyle'))\n",
    "plt.style.use(os.path.join(WORKSPACE_PATH, 'ROMNet/romnet/extra/postprocessing/paper_1column.mplstyle'))\n",
    "#plt.style.use(os.path.join(WORKSPACE_PATH, 'ROMNet/romnet/extra/postprocessing/paper_2columns.mplstyle'))\n",
    "\n",
    "\n",
    "# from scipy.integrate import solve_ivp\n",
    "# import pyDOE    \n",
    "# from PCAfold         import PCA          as PCAA"
   ]
  },
  {
   "cell_type": "markdown",
   "metadata": {},
   "source": [
    "## Defining Input Variables"
   ]
  },
  {
   "cell_type": "code",
   "execution_count": 2,
   "metadata": {},
   "outputs": [],
   "source": [
    "NVarsRed     = 20\n",
    "\n",
    "OutputDir    = os.path.join(WORKSPACE_PATH, 'ROMNet/Data/0DReact_Isobaric_500Cases_CH4_/')\n",
    "WriteDir     = OutputDir + '/'+str(NVarsRed)+'PC/ROM/Decoder/'\n",
    "\n",
    "valid_perc   = 20.\n",
    "\n",
    "FixedMinVal  = 1.e-14\n",
    "\n",
    "n_ics        = 500\n",
    "\n",
    "\n",
    "ColorVec     = ['#190707', '#dd3232', '#0065a9', '#348a00','#985396','#f68b69']\n",
    "\n",
    "try:\n",
    "    os.makedirs(OutputDir)\n",
    "except OSError as e:\n",
    "    pass\n",
    "try:\n",
    "    os.makedirs(WriteDir)\n",
    "except OSError as e:\n",
    "    pass\n",
    "# try:\n",
    "#     os.makedirs(TestDir)\n",
    "# except OSError as e:\n",
    "#     pass"
   ]
  },
  {
   "cell_type": "code",
   "execution_count": 3,
   "metadata": {},
   "outputs": [],
   "source": [
    "FileName    = WriteDir+'/../../CleanVars_NotToRed.csv'\n",
    "input_vars  = list(pd.read_csv(FileName, delimiter=',', header=None).to_numpy()[0,:])\n",
    "for iVars in range(1,NVarsRed+1):\n",
    "    input_vars.append('PC_'+str(iVars))\n",
    "\n",
    "FileName    = WriteDir+'/../../CleanVars_ToRed.csv'\n",
    "output_vars = pd.read_csv(FileName, delimiter=',', header=None).to_numpy()[0,:]"
   ]
  },
  {
   "cell_type": "code",
   "execution_count": 4,
   "metadata": {},
   "outputs": [],
   "source": [
    "FileName     = OutputDir + '/'+str(NVarsRed)+'PC/train/ext/PC.csv'\n",
    "input_data   = pd.read_csv(FileName)[input_vars]\n",
    "\n",
    "j_ics        = 0\n",
    "for i_ics in range(n_ics):\n",
    "    FileName = OutputDir + '/Orig/train/ext/y.csv.'+str(i_ics+1)\n",
    "    if (j_ics == 0):\n",
    "        output_data = pd.read_csv(FileName)\n",
    "    else:\n",
    "        output_data = pd.concat([output_data, pd.read_csv(FileName)], ignore_index=True)\n",
    "    j_ics  += 1\n",
    "output_data = output_data[output_vars]"
   ]
  },
  {
   "cell_type": "code",
   "execution_count": null,
   "metadata": {},
   "outputs": [],
   "source": []
  },
  {
   "cell_type": "code",
   "execution_count": null,
   "metadata": {},
   "outputs": [],
   "source": []
  },
  {
   "cell_type": "code",
   "execution_count": null,
   "metadata": {},
   "outputs": [],
   "source": []
  },
  {
   "cell_type": "code",
   "execution_count": 5,
   "metadata": {},
   "outputs": [],
   "source": [
    "from sklearn.model_selection import train_test_split\n",
    "\n",
    "try:\n",
    "    os.makedirs(WriteDir+'/train/')\n",
    "except:\n",
    "    pass\n",
    "try:\n",
    "    os.makedirs(WriteDir+'/valid/')\n",
    "except:\n",
    "    pass"
   ]
  },
  {
   "cell_type": "code",
   "execution_count": 6,
   "metadata": {},
   "outputs": [],
   "source": [
    "data_id              = 'pts'\n",
    "\n",
    "try:\n",
    "    os.makedirs(WriteDir+'/train/'+data_id+'/')\n",
    "except:\n",
    "    pass\n",
    "try:\n",
    "    os.makedirs(WriteDir+'/valid/'+data_id+'/')\n",
    "except:\n",
    "    pass\n",
    "\n",
    "\n",
    "DataOutput = output_data.copy()\n",
    "# numerics   = ['int16', 'int32', 'int64', 'float16', 'float32', 'float64']\n",
    "# for c in [c for c in DataOutput.columns if DataOutput[c].dtype in numerics]:\n",
    "#     DataOutput[c] = np.log10(DataOutput[c] + 1.e-20) + 20.\n",
    "Idxs       = DataOutput.isna().any(axis=1) == True\n",
    "DataOutput.drop(DataOutput[Idxs].index, inplace=True)\n",
    "\n",
    "DataInput  = input_data.copy()\n",
    "DataInput.drop(DataInput[Idxs].index, inplace=True)\n",
    "\n",
    "\n",
    "\n",
    "n_points             = len(DataOutput)\n",
    "\n",
    "idx                  = np.arange(n_points)\n",
    "train_idx, valid_idx = train_test_split(idx, test_size=valid_perc/100, random_state=42)\n",
    "\n",
    "n_valid              = len(valid_idx)\n",
    "n_train              = len(train_idx)\n",
    "\n",
    "\n",
    "DataInput.iloc[train_idx].to_csv(WriteDir+'/train/'+data_id+'/Input.csv', index=False)\n",
    "DataInput.iloc[valid_idx].to_csv(WriteDir+'/valid/'+data_id+'/Input.csv', index=False)\n",
    "\n",
    "DataOutput.iloc[train_idx].to_csv(WriteDir+'/train/'+data_id+'/Output.csv', index=False)\n",
    "DataOutput.iloc[valid_idx].to_csv(WriteDir+'/valid/'+data_id+'/Output.csv', index=False)"
   ]
  },
  {
   "cell_type": "code",
   "execution_count": null,
   "metadata": {},
   "outputs": [],
   "source": []
  },
  {
   "cell_type": "code",
   "execution_count": null,
   "metadata": {},
   "outputs": [],
   "source": []
  },
  {
   "cell_type": "code",
   "execution_count": null,
   "metadata": {},
   "outputs": [],
   "source": []
  }
 ],
 "metadata": {
  "kernelspec": {
   "display_name": "Python 3 (ipykernel)",
   "language": "python",
   "name": "python3"
  },
  "language_info": {
   "codemirror_mode": {
    "name": "ipython",
    "version": 3
   },
   "file_extension": ".py",
   "mimetype": "text/x-python",
   "name": "python",
   "nbconvert_exporter": "python",
   "pygments_lexer": "ipython3",
   "version": "3.9.12"
  }
 },
 "nbformat": 4,
 "nbformat_minor": 4
}
