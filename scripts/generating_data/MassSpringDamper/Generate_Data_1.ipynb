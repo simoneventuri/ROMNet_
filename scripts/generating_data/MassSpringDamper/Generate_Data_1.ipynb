{
 "cells": [
  {
   "cell_type": "markdown",
   "metadata": {},
   "source": [
    "## Generating Training and Test Data for the Mass-Spring-Damper Model "
   ]
  },
  {
   "cell_type": "code",
   "execution_count": 1,
   "metadata": {},
   "outputs": [
    {
     "name": "stdout",
     "output_type": "stream",
     "text": [
      "3.8.11 (default, Jun 29 2021, 03:17:05) \n",
      "[Clang 12.0.0 (clang-1200.0.32.29)]\n"
     ]
    }
   ],
   "source": [
    "### Importing Libraries\n",
    "\n",
    "import sys\n",
    "print(sys.version)\n",
    "import os\n",
    "import numpy as np\n",
    "import pandas as pd\n",
    "import time\n",
    "\n",
    "import matplotlib.pyplot as plt\n",
    "WORKSPACE_PATH  = os.environ['WORKSPACE_PATH']\n",
    "plt.style.use(WORKSPACE_PATH+'/ROMNet/romnet/extra/postprocessing/presentation.mplstyle')\n",
    "\n",
    "import cantera as ct\n",
    "from scipy.integrate import solve_ivp\n",
    "\n",
    "import pyDOE"
   ]
  },
  {
   "cell_type": "code",
   "execution_count": 2,
   "metadata": {},
   "outputs": [],
   "source": [
    "### Input Data\n",
    "\n",
    "OutputDir  = WORKSPACE_PATH+'/ROMNet/Data/MSD_100Cases/'\n",
    "\n",
    "NTraining  = 100\n",
    "NTest      = 10  \n",
    "Nt         = 500\n",
    "tout       = np.linspace(0.,15.,Nt)\n",
    "SOLVER     = 'Radau'\n",
    "\n",
    "MinVals    = [-4., -4.]\n",
    "MaxVals    = [4., 4.]\n",
    "\n",
    "\n",
    "try:\n",
    "    os.makedirs(OutputDir)\n",
    "except OSError as e:\n",
    "    pass\n",
    "\n",
    "OutputDir += '/Orig/'\n",
    "try:\n",
    "    os.makedirs(OutputDir)\n",
    "except OSError as e:\n",
    "    pass\n",
    "\n",
    "TestDir = OutputDir+'/test/'\n",
    "try:\n",
    "    os.makedirs(TestDir)\n",
    "except OSError as e:\n",
    "    pass\n",
    "\n",
    "TestDir = OutputDir+'/ext/'\n",
    "try:\n",
    "    os.makedirs(TestDir)\n",
    "except OSError as e:\n",
    "    pass\n",
    "\n",
    "OutputDir += '/train/'\n",
    "try:\n",
    "    os.makedirs(OutputDir)\n",
    "except OSError as e:\n",
    "    pass\n",
    "\n",
    "OutputDir += '/ext/'\n",
    "try:\n",
    "    os.makedirs(OutputDir)\n",
    "except OSError as e:\n",
    "    pass"
   ]
  },
  {
   "cell_type": "code",
   "execution_count": 3,
   "metadata": {},
   "outputs": [],
   "source": [
    "### Defining ODE and its Parameters\n",
    "\n",
    "def fOrig(t, y):\n",
    "    return [y[1], -Params[2]/Params[0]*y[0]-Params[1]/Params[0]*y[1]]\n",
    "\n",
    "def fOrig_Source(t, y):\n",
    "    return [y[1], -Params[2]/Params[0]*y[0]-Params[1]/Params[0]*y[1]]\n",
    "\n",
    "def fOrig_Jacobian(t, y):\n",
    "\n",
    "    Eps = 1e-6\n",
    "    J   = np.zeros([len(y), len(y)], dtype = np.float)\n",
    "\n",
    "    for i in range(len(y)):\n",
    "        y1 = y.copy()\n",
    "        y2 = y.copy()\n",
    "\n",
    "        y1[i] += Eps\n",
    "        y2[i] -= Eps\n",
    "\n",
    "        f1 = np.array(fOrig(t, y1))\n",
    "        f2 = np.array(fOrig(t, y2))\n",
    "\n",
    "        J[ : , i] = (f1 - f2) / (2. * Eps)\n",
    "\n",
    "    return J\n",
    "\n",
    "Params = np.array([1.0, 0.5, 3.0], dtype=np.float64)"
   ]
  },
  {
   "cell_type": "code",
   "execution_count": null,
   "metadata": {},
   "outputs": [],
   "source": []
  },
  {
   "cell_type": "code",
   "execution_count": 11,
   "metadata": {},
   "outputs": [
    {
     "data": {
      "text/plain": [
       "array([[0.775, 0.315],\n",
       "       [0.895, 0.445],\n",
       "       [0.835, 0.605],\n",
       "       [0.945, 0.985],\n",
       "       [0.445, 0.825],\n",
       "       [0.145, 0.325],\n",
       "       [0.015, 0.055],\n",
       "       [0.795, 0.835],\n",
       "       [0.585, 0.765],\n",
       "       [0.005, 0.945],\n",
       "       [0.565, 0.645],\n",
       "       [0.185, 0.905],\n",
       "       [0.755, 0.245],\n",
       "       [0.605, 0.725],\n",
       "       [0.575, 0.525],\n",
       "       [0.725, 0.045],\n",
       "       [0.505, 0.265],\n",
       "       [0.665, 0.845],\n",
       "       [0.555, 0.815],\n",
       "       [0.855, 0.915],\n",
       "       [0.455, 0.625],\n",
       "       [0.415, 0.465],\n",
       "       [0.785, 0.455],\n",
       "       [0.955, 0.105],\n",
       "       [0.885, 0.225],\n",
       "       [0.335, 0.655],\n",
       "       [0.805, 0.165],\n",
       "       [0.215, 0.565],\n",
       "       [0.155, 0.555],\n",
       "       [0.845, 0.955],\n",
       "       [0.425, 0.865],\n",
       "       [0.815, 0.255],\n",
       "       [0.975, 0.505],\n",
       "       [0.085, 0.635],\n",
       "       [0.685, 0.715],\n",
       "       [0.235, 0.295],\n",
       "       [0.435, 0.035],\n",
       "       [0.545, 0.145],\n",
       "       [0.595, 0.015],\n",
       "       [0.635, 0.095],\n",
       "       [0.875, 0.615],\n",
       "       [0.275, 0.215],\n",
       "       [0.135, 0.345],\n",
       "       [0.315, 0.755],\n",
       "       [0.705, 0.125],\n",
       "       [0.675, 0.285],\n",
       "       [0.695, 0.535],\n",
       "       [0.255, 0.935],\n",
       "       [0.035, 0.495],\n",
       "       [0.385, 0.075],\n",
       "       [0.075, 0.395],\n",
       "       [0.495, 0.425],\n",
       "       [0.625, 0.415],\n",
       "       [0.965, 0.205],\n",
       "       [0.205, 0.185],\n",
       "       [0.105, 0.085],\n",
       "       [0.225, 0.485],\n",
       "       [0.395, 0.305],\n",
       "       [0.405, 0.115],\n",
       "       [0.475, 0.195],\n",
       "       [0.735, 0.855],\n",
       "       [0.525, 0.685],\n",
       "       [0.375, 0.745],\n",
       "       [0.515, 0.965],\n",
       "       [0.365, 0.405],\n",
       "       [0.995, 0.355],\n",
       "       [0.045, 0.995],\n",
       "       [0.655, 0.695],\n",
       "       [0.465, 0.335],\n",
       "       [0.645, 0.475],\n",
       "       [0.325, 0.435],\n",
       "       [0.095, 0.175],\n",
       "       [0.295, 0.155],\n",
       "       [0.125, 0.135],\n",
       "       [0.285, 0.885],\n",
       "       [0.615, 0.875],\n",
       "       [0.925, 0.375],\n",
       "       [0.935, 0.385],\n",
       "       [0.055, 0.925],\n",
       "       [0.345, 0.235],\n",
       "       [0.485, 0.275],\n",
       "       [0.175, 0.735],\n",
       "       [0.825, 0.515],\n",
       "       [0.065, 0.805],\n",
       "       [0.915, 0.065],\n",
       "       [0.245, 0.585],\n",
       "       [0.865, 0.575],\n",
       "       [0.025, 0.895],\n",
       "       [0.905, 0.785],\n",
       "       [0.985, 0.795],\n",
       "       [0.765, 0.025],\n",
       "       [0.115, 0.705],\n",
       "       [0.355, 0.775],\n",
       "       [0.535, 0.005],\n",
       "       [0.715, 0.665],\n",
       "       [0.165, 0.545],\n",
       "       [0.745, 0.365],\n",
       "       [0.305, 0.675],\n",
       "       [0.195, 0.975],\n",
       "       [0.265, 0.595]])"
      ]
     },
     "execution_count": 11,
     "metadata": {},
     "output_type": "execute_result"
    }
   ],
   "source": [
    "y0Mat"
   ]
  },
  {
   "cell_type": "code",
   "execution_count": 4,
   "metadata": {},
   "outputs": [],
   "source": [
    "# Sampling Initial Conditions\n",
    "\n",
    "# y0Mat      = np.zeros((NTraining,2))\n",
    "# y0Mat[:,0] = np.random.rand(NTraining)*4. - 2.0\n",
    "# y0Mat[:,1] = np.random.rand(NTraining)*4. - 2.0\n",
    "y0Mat     = pyDOE.lhs(2, samples=NTraining, criterion='center')\n",
    "for i in range(2):\n",
    "    y0Mat[:,i] = y0Mat[:,i] * (MaxVals[i] - MinVals[i]) + MinVals[i]\n",
    "    \n",
    "# y0MatTest      = np.zeros((NTest,2))\n",
    "# y0MatTest[:,0] = np.random.rand(NTest)*4. - 2.0\n",
    "# y0MatTest[:,1] = np.random.rand(NTest)*2. - 1.0\n",
    "y0MatTest     = pyDOE.lhs(2, samples=NTest, criterion='center')\n",
    "for i in range(2):\n",
    "    y0MatTest[:,i] = y0MatTest[:,i] * (MaxVals[i] - MinVals[i]) + MinVals[i]"
   ]
  },
  {
   "cell_type": "code",
   "execution_count": 5,
   "metadata": {},
   "outputs": [
    {
     "data": {
      "text/plain": [
       "<matplotlib.legend.Legend at 0x1635139d0>"
      ]
     },
     "execution_count": 5,
     "metadata": {},
     "output_type": "execute_result"
    },
    {
     "data": {
      "image/png": "[encoded data removed]",
      "text/plain": [
       "<Figure size 720x720 with 1 Axes>"
      ]
     },
     "metadata": {
      "needs_background": "light"
     },
     "output_type": "display_data"
    }
   ],
   "source": [
    "plt.figure(figsize=(10,10))\n",
    "plt.plot(y0Mat[:,0],     y0Mat[:,1],     'ko', label='Training')\n",
    "plt.plot(y0MatTest[:,0], y0MatTest[:,1], 'ro', label='Test')\n",
    "plt.xlabel('x [m]')\n",
    "plt.ylabel('v [m/s]')\n",
    "plt.legend()"
   ]
  },
  {
   "cell_type": "code",
   "execution_count": null,
   "metadata": {},
   "outputs": [],
   "source": []
  },
  {
   "cell_type": "code",
   "execution_count": null,
   "metadata": {},
   "outputs": [],
   "source": []
  },
  {
   "cell_type": "code",
   "execution_count": 6,
   "metadata": {},
   "outputs": [
    {
     "data": {
      "text/plain": [
       "array([[-2.36,  0.2 ],\n",
       "       [-0.76, -3.8 ],\n",
       "       [-3.48, -3.08],\n",
       "       [ 0.2 ,  2.92],\n",
       "       [-1.  , -1.48],\n",
       "       [ 3.64, -3.4 ],\n",
       "       [-3.56, -3.64],\n",
       "       [ 1.16, -0.6 ],\n",
       "       [-0.6 ,  3.24],\n",
       "       [ 1.64, -3.88],\n",
       "       [ 2.92,  3.56],\n",
       "       [ 3.96,  3.64],\n",
       "       [-1.88,  2.52],\n",
       "       [-3.96,  3.4 ],\n",
       "       [-1.96,  3.48],\n",
       "       [ 0.44,  0.52],\n",
       "       [ 1.4 , -1.72],\n",
       "       [ 0.28, -0.12],\n",
       "       [-3.4 , -3.96],\n",
       "       [ 3.4 , -3.32],\n",
       "       [ 1.72, -2.68],\n",
       "       [-1.16, -1.24],\n",
       "       [-0.52,  0.6 ],\n",
       "       [ 0.52,  3.96],\n",
       "       [ 3.88, -2.2 ],\n",
       "       [ 2.6 , -1.08],\n",
       "       [-3.72, -2.12],\n",
       "       [ 0.84,  1.56],\n",
       "       [ 1.08,  1.4 ],\n",
       "       [-2.84, -3.16],\n",
       "       [ 2.04,  1.88],\n",
       "       [ 3.56,  3.08],\n",
       "       [-0.84,  2.04],\n",
       "       [ 1.88,  2.2 ],\n",
       "       [-0.28,  1.24],\n",
       "       [-0.36, -2.44],\n",
       "       [-2.2 ,  1.16],\n",
       "       [ 0.68,  0.68],\n",
       "       [-2.28,  3.72],\n",
       "       [-0.12, -0.92],\n",
       "       [ 2.68,  0.36],\n",
       "       [-2.44, -2.6 ],\n",
       "       [ 1.24, -1.88],\n",
       "       [-0.68, -1.4 ],\n",
       "       [ 3.16,  0.04],\n",
       "       [-3.  , -3.48],\n",
       "       [ 2.84,  2.6 ],\n",
       "       [ 2.36, -2.84],\n",
       "       [-2.68,  3.88],\n",
       "       [ 3.24,  1.64],\n",
       "       [ 3.32,  2.12],\n",
       "       [ 2.52, -0.52],\n",
       "       [-1.4 , -1.32],\n",
       "       [-0.04,  0.76],\n",
       "       [-0.44,  2.76],\n",
       "       [-2.04, -0.04],\n",
       "       [-1.8 , -0.68],\n",
       "       [ 3.  , -2.28],\n",
       "       [ 1.  , -3.  ],\n",
       "       [-3.88,  2.36],\n",
       "       [ 0.92, -1.  ],\n",
       "       [ 1.96, -2.76],\n",
       "       [ 0.76, -2.36],\n",
       "       [-0.2 , -0.36],\n",
       "       [-2.92,  2.84],\n",
       "       [-3.8 ,  2.44],\n",
       "       [ 3.72, -3.24],\n",
       "       [-2.52, -2.52],\n",
       "       [-2.76,  1.  ],\n",
       "       [-1.56, -1.16],\n",
       "       [-0.92,  0.44],\n",
       "       [ 1.56, -2.04],\n",
       "       [ 2.12,  1.08],\n",
       "       [ 2.44,  1.32],\n",
       "       [ 2.28,  1.72],\n",
       "       [-1.48, -3.56],\n",
       "       [ 3.8 , -0.2 ],\n",
       "       [ 0.04, -0.28],\n",
       "       [-3.24,  3.8 ],\n",
       "       [ 2.76,  3.32],\n",
       "       [-2.6 ,  0.28],\n",
       "       [ 1.32, -0.76],\n",
       "       [ 0.36,  1.8 ],\n",
       "       [-3.08, -1.56],\n",
       "       [-3.32,  1.96],\n",
       "       [ 3.48, -1.64],\n",
       "       [ 1.48,  1.48],\n",
       "       [-1.32, -1.96],\n",
       "       [ 0.12,  0.92],\n",
       "       [-1.64, -2.92],\n",
       "       [ 1.8 ,  3.  ],\n",
       "       [-2.12,  0.12],\n",
       "       [-3.16,  2.28],\n",
       "       [-3.64,  2.68],\n",
       "       [ 0.6 , -3.72],\n",
       "       [ 2.2 , -1.8 ],\n",
       "       [-1.72,  0.84],\n",
       "       [ 3.08, -0.44],\n",
       "       [-1.24,  3.16],\n",
       "       [-1.08, -0.84]])"
      ]
     },
     "execution_count": 6,
     "metadata": {},
     "output_type": "execute_result"
    }
   ],
   "source": [
    "y0Mat"
   ]
  },
  {
   "cell_type": "code",
   "execution_count": 7,
   "metadata": {},
   "outputs": [
    {
     "name": "stdout",
     "output_type": "stream",
     "text": [
      "y0 =  [-2.36  0.2 ]\n"
     ]
    },
    {
     "name": "stderr",
     "output_type": "stream",
     "text": [
      "/usr/local/lib/python3.8/site-packages/scipy/integrate/_ivp/common.py:47: UserWarning: `rtol` is too low, setting to 2.220446049250313e-14\n",
      "  warn(\"`rtol` is too low, setting to {}\".format(100 * EPS))\n"
     ]
    },
    {
     "name": "stdout",
     "output_type": "stream",
     "text": [
      "y0 =  [-0.76 -3.8 ]\n"
     ]
    },
    {
     "name": "stderr",
     "output_type": "stream",
     "text": [
      "/usr/local/lib/python3.8/site-packages/scipy/integrate/_ivp/common.py:47: UserWarning: `rtol` is too low, setting to 2.220446049250313e-14\n",
      "  warn(\"`rtol` is too low, setting to {}\".format(100 * EPS))\n"
     ]
    },
    {
     "name": "stdout",
     "output_type": "stream",
     "text": [
      "y0 =  [-3.48 -3.08]\n"
     ]
    },
    {
     "name": "stderr",
     "output_type": "stream",
     "text": [
      "/usr/local/lib/python3.8/site-packages/scipy/integrate/_ivp/common.py:47: UserWarning: `rtol` is too low, setting to 2.220446049250313e-14\n",
      "  warn(\"`rtol` is too low, setting to {}\".format(100 * EPS))\n"
     ]
    },
    {
     "name": "stdout",
     "output_type": "stream",
     "text": [
      "y0 =  [0.2  2.92]\n"
     ]
    },
    {
     "name": "stderr",
     "output_type": "stream",
     "text": [
      "/usr/local/lib/python3.8/site-packages/scipy/integrate/_ivp/common.py:47: UserWarning: `rtol` is too low, setting to 2.220446049250313e-14\n",
      "  warn(\"`rtol` is too low, setting to {}\".format(100 * EPS))\n"
     ]
    },
    {
     "name": "stdout",
     "output_type": "stream",
     "text": [
      "y0 =  [-1.   -1.48]\n"
     ]
    },
    {
     "name": "stderr",
     "output_type": "stream",
     "text": [
      "/usr/local/lib/python3.8/site-packages/scipy/integrate/_ivp/common.py:47: UserWarning: `rtol` is too low, setting to 2.220446049250313e-14\n",
      "  warn(\"`rtol` is too low, setting to {}\".format(100 * EPS))\n"
     ]
    },
    {
     "name": "stdout",
     "output_type": "stream",
     "text": [
      "y0 =  [ 3.64 -3.4 ]\n"
     ]
    },
    {
     "name": "stderr",
     "output_type": "stream",
     "text": [
      "/usr/local/lib/python3.8/site-packages/scipy/integrate/_ivp/common.py:47: UserWarning: `rtol` is too low, setting to 2.220446049250313e-14\n",
      "  warn(\"`rtol` is too low, setting to {}\".format(100 * EPS))\n"
     ]
    },
    {
     "name": "stdout",
     "output_type": "stream",
     "text": [
      "y0 =  [-3.56 -3.64]\n"
     ]
    },
    {
     "name": "stderr",
     "output_type": "stream",
     "text": [
      "/usr/local/lib/python3.8/site-packages/scipy/integrate/_ivp/common.py:47: UserWarning: `rtol` is too low, setting to 2.220446049250313e-14\n",
      "  warn(\"`rtol` is too low, setting to {}\".format(100 * EPS))\n"
     ]
    },
    {
     "name": "stdout",
     "output_type": "stream",
     "text": [
      "y0 =  [ 1.16 -0.6 ]\n"
     ]
    },
    {
     "name": "stderr",
     "output_type": "stream",
     "text": [
      "/usr/local/lib/python3.8/site-packages/scipy/integrate/_ivp/common.py:47: UserWarning: `rtol` is too low, setting to 2.220446049250313e-14\n",
      "  warn(\"`rtol` is too low, setting to {}\".format(100 * EPS))\n"
     ]
    },
    {
     "name": "stdout",
     "output_type": "stream",
     "text": [
      "y0 =  [-0.6   3.24]\n"
     ]
    },
    {
     "name": "stderr",
     "output_type": "stream",
     "text": [
      "/usr/local/lib/python3.8/site-packages/scipy/integrate/_ivp/common.py:47: UserWarning: `rtol` is too low, setting to 2.220446049250313e-14\n",
      "  warn(\"`rtol` is too low, setting to {}\".format(100 * EPS))\n"
     ]
    },
    {
     "name": "stdout",
     "output_type": "stream",
     "text": [
      "y0 =  [ 1.64 -3.88]\n"
     ]
    },
    {
     "name": "stderr",
     "output_type": "stream",
     "text": [
      "/usr/local/lib/python3.8/site-packages/scipy/integrate/_ivp/common.py:47: UserWarning: `rtol` is too low, setting to 2.220446049250313e-14\n",
      "  warn(\"`rtol` is too low, setting to {}\".format(100 * EPS))\n"
     ]
    },
    {
     "name": "stdout",
     "output_type": "stream",
     "text": [
      "y0 =  [2.92 3.56]\n"
     ]
    },
    {
     "name": "stderr",
     "output_type": "stream",
     "text": [
      "/usr/local/lib/python3.8/site-packages/scipy/integrate/_ivp/common.py:47: UserWarning: `rtol` is too low, setting to 2.220446049250313e-14\n",
      "  warn(\"`rtol` is too low, setting to {}\".format(100 * EPS))\n"
     ]
    },
    {
     "name": "stdout",
     "output_type": "stream",
     "text": [
      "y0 =  [3.96 3.64]\n"
     ]
    },
    {
     "name": "stderr",
     "output_type": "stream",
     "text": [
      "/usr/local/lib/python3.8/site-packages/scipy/integrate/_ivp/common.py:47: UserWarning: `rtol` is too low, setting to 2.220446049250313e-14\n",
      "  warn(\"`rtol` is too low, setting to {}\".format(100 * EPS))\n"
     ]
    },
    {
     "name": "stdout",
     "output_type": "stream",
     "text": [
      "y0 =  [-1.88  2.52]\n"
     ]
    },
    {
     "name": "stderr",
     "output_type": "stream",
     "text": [
      "/usr/local/lib/python3.8/site-packages/scipy/integrate/_ivp/common.py:47: UserWarning: `rtol` is too low, setting to 2.220446049250313e-14\n",
      "  warn(\"`rtol` is too low, setting to {}\".format(100 * EPS))\n"
     ]
    },
    {
     "name": "stdout",
     "output_type": "stream",
     "text": [
      "y0 =  [-3.96  3.4 ]\n"
     ]
    },
    {
     "name": "stderr",
     "output_type": "stream",
     "text": [
      "/usr/local/lib/python3.8/site-packages/scipy/integrate/_ivp/common.py:47: UserWarning: `rtol` is too low, setting to 2.220446049250313e-14\n",
      "  warn(\"`rtol` is too low, setting to {}\".format(100 * EPS))\n"
     ]
    },
    {
     "name": "stdout",
     "output_type": "stream",
     "text": [
      "y0 =  [-1.96  3.48]\n"
     ]
    },
    {
     "name": "stderr",
     "output_type": "stream",
     "text": [
      "/usr/local/lib/python3.8/site-packages/scipy/integrate/_ivp/common.py:47: UserWarning: `rtol` is too low, setting to 2.220446049250313e-14\n",
      "  warn(\"`rtol` is too low, setting to {}\".format(100 * EPS))\n"
     ]
    },
    {
     "name": "stdout",
     "output_type": "stream",
     "text": [
      "y0 =  [0.44 0.52]\n"
     ]
    },
    {
     "name": "stderr",
     "output_type": "stream",
     "text": [
      "/usr/local/lib/python3.8/site-packages/scipy/integrate/_ivp/common.py:47: UserWarning: `rtol` is too low, setting to 2.220446049250313e-14\n",
      "  warn(\"`rtol` is too low, setting to {}\".format(100 * EPS))\n"
     ]
    },
    {
     "name": "stdout",
     "output_type": "stream",
     "text": [
      "y0 =  [ 1.4  -1.72]\n"
     ]
    },
    {
     "name": "stderr",
     "output_type": "stream",
     "text": [
      "/usr/local/lib/python3.8/site-packages/scipy/integrate/_ivp/common.py:47: UserWarning: `rtol` is too low, setting to 2.220446049250313e-14\n",
      "  warn(\"`rtol` is too low, setting to {}\".format(100 * EPS))\n"
     ]
    },
    {
     "name": "stdout",
     "output_type": "stream",
     "text": [
      "y0 =  [ 0.28 -0.12]\n"
     ]
    },
    {
     "name": "stderr",
     "output_type": "stream",
     "text": [
      "/usr/local/lib/python3.8/site-packages/scipy/integrate/_ivp/common.py:47: UserWarning: `rtol` is too low, setting to 2.220446049250313e-14\n",
      "  warn(\"`rtol` is too low, setting to {}\".format(100 * EPS))\n"
     ]
    },
    {
     "name": "stdout",
     "output_type": "stream",
     "text": [
      "y0 =  [-3.4  -3.96]\n"
     ]
    },
    {
     "name": "stderr",
     "output_type": "stream",
     "text": [
      "/usr/local/lib/python3.8/site-packages/scipy/integrate/_ivp/common.py:47: UserWarning: `rtol` is too low, setting to 2.220446049250313e-14\n",
      "  warn(\"`rtol` is too low, setting to {}\".format(100 * EPS))\n"
     ]
    },
    {
     "name": "stdout",
     "output_type": "stream",
     "text": [
      "y0 =  [ 3.4  -3.32]\n"
     ]
    },
    {
     "name": "stderr",
     "output_type": "stream",
     "text": [
      "/usr/local/lib/python3.8/site-packages/scipy/integrate/_ivp/common.py:47: UserWarning: `rtol` is too low, setting to 2.220446049250313e-14\n",
      "  warn(\"`rtol` is too low, setting to {}\".format(100 * EPS))\n"
     ]
    },
    {
     "name": "stdout",
     "output_type": "stream",
     "text": [
      "y0 =  [ 1.72 -2.68]\n"
     ]
    },
    {
     "name": "stderr",
     "output_type": "stream",
     "text": [
      "/usr/local/lib/python3.8/site-packages/scipy/integrate/_ivp/common.py:47: UserWarning: `rtol` is too low, setting to 2.220446049250313e-14\n",
      "  warn(\"`rtol` is too low, setting to {}\".format(100 * EPS))\n"
     ]
    },
    {
     "name": "stdout",
     "output_type": "stream",
     "text": [
      "y0 =  [-1.16 -1.24]\n"
     ]
    },
    {
     "name": "stderr",
     "output_type": "stream",
     "text": [
      "/usr/local/lib/python3.8/site-packages/scipy/integrate/_ivp/common.py:47: UserWarning: `rtol` is too low, setting to 2.220446049250313e-14\n",
      "  warn(\"`rtol` is too low, setting to {}\".format(100 * EPS))\n"
     ]
    },
    {
     "name": "stdout",
     "output_type": "stream",
     "text": [
      "y0 =  [-0.52  0.6 ]\n"
     ]
    },
    {
     "name": "stderr",
     "output_type": "stream",
     "text": [
      "/usr/local/lib/python3.8/site-packages/scipy/integrate/_ivp/common.py:47: UserWarning: `rtol` is too low, setting to 2.220446049250313e-14\n",
      "  warn(\"`rtol` is too low, setting to {}\".format(100 * EPS))\n"
     ]
    },
    {
     "name": "stdout",
     "output_type": "stream",
     "text": [
      "y0 =  [0.52 3.96]\n"
     ]
    },
    {
     "name": "stderr",
     "output_type": "stream",
     "text": [
      "/usr/local/lib/python3.8/site-packages/scipy/integrate/_ivp/common.py:47: UserWarning: `rtol` is too low, setting to 2.220446049250313e-14\n",
      "  warn(\"`rtol` is too low, setting to {}\".format(100 * EPS))\n"
     ]
    },
    {
     "name": "stdout",
     "output_type": "stream",
     "text": [
      "y0 =  [ 3.88 -2.2 ]\n"
     ]
    },
    {
     "name": "stderr",
     "output_type": "stream",
     "text": [
      "/usr/local/lib/python3.8/site-packages/scipy/integrate/_ivp/common.py:47: UserWarning: `rtol` is too low, setting to 2.220446049250313e-14\n",
      "  warn(\"`rtol` is too low, setting to {}\".format(100 * EPS))\n"
     ]
    },
    {
     "name": "stdout",
     "output_type": "stream",
     "text": [
      "y0 =  [ 2.6  -1.08]\n"
     ]
    },
    {
     "name": "stderr",
     "output_type": "stream",
     "text": [
      "/usr/local/lib/python3.8/site-packages/scipy/integrate/_ivp/common.py:47: UserWarning: `rtol` is too low, setting to 2.220446049250313e-14\n",
      "  warn(\"`rtol` is too low, setting to {}\".format(100 * EPS))\n"
     ]
    },
    {
     "name": "stdout",
     "output_type": "stream",
     "text": [
      "y0 =  [-3.72 -2.12]\n"
     ]
    },
    {
     "name": "stderr",
     "output_type": "stream",
     "text": [
      "/usr/local/lib/python3.8/site-packages/scipy/integrate/_ivp/common.py:47: UserWarning: `rtol` is too low, setting to 2.220446049250313e-14\n",
      "  warn(\"`rtol` is too low, setting to {}\".format(100 * EPS))\n"
     ]
    },
    {
     "name": "stdout",
     "output_type": "stream",
     "text": [
      "y0 =  [0.84 1.56]\n"
     ]
    },
    {
     "name": "stderr",
     "output_type": "stream",
     "text": [
      "/usr/local/lib/python3.8/site-packages/scipy/integrate/_ivp/common.py:47: UserWarning: `rtol` is too low, setting to 2.220446049250313e-14\n",
      "  warn(\"`rtol` is too low, setting to {}\".format(100 * EPS))\n"
     ]
    },
    {
     "name": "stdout",
     "output_type": "stream",
     "text": [
      "y0 =  [1.08 1.4 ]\n"
     ]
    },
    {
     "name": "stderr",
     "output_type": "stream",
     "text": [
      "/usr/local/lib/python3.8/site-packages/scipy/integrate/_ivp/common.py:47: UserWarning: `rtol` is too low, setting to 2.220446049250313e-14\n",
      "  warn(\"`rtol` is too low, setting to {}\".format(100 * EPS))\n"
     ]
    },
    {
     "name": "stdout",
     "output_type": "stream",
     "text": [
      "y0 =  [-2.84 -3.16]\n"
     ]
    },
    {
     "name": "stderr",
     "output_type": "stream",
     "text": [
      "/usr/local/lib/python3.8/site-packages/scipy/integrate/_ivp/common.py:47: UserWarning: `rtol` is too low, setting to 2.220446049250313e-14\n",
      "  warn(\"`rtol` is too low, setting to {}\".format(100 * EPS))\n"
     ]
    },
    {
     "name": "stdout",
     "output_type": "stream",
     "text": [
      "y0 =  [2.04 1.88]\n"
     ]
    },
    {
     "name": "stderr",
     "output_type": "stream",
     "text": [
      "/usr/local/lib/python3.8/site-packages/scipy/integrate/_ivp/common.py:47: UserWarning: `rtol` is too low, setting to 2.220446049250313e-14\n",
      "  warn(\"`rtol` is too low, setting to {}\".format(100 * EPS))\n"
     ]
    },
    {
     "name": "stdout",
     "output_type": "stream",
     "text": [
      "y0 =  [3.56 3.08]\n"
     ]
    },
    {
     "name": "stderr",
     "output_type": "stream",
     "text": [
      "/usr/local/lib/python3.8/site-packages/scipy/integrate/_ivp/common.py:47: UserWarning: `rtol` is too low, setting to 2.220446049250313e-14\n",
      "  warn(\"`rtol` is too low, setting to {}\".format(100 * EPS))\n"
     ]
    },
    {
     "name": "stdout",
     "output_type": "stream",
     "text": [
      "y0 =  [-0.84  2.04]\n"
     ]
    },
    {
     "name": "stderr",
     "output_type": "stream",
     "text": [
      "/usr/local/lib/python3.8/site-packages/scipy/integrate/_ivp/common.py:47: UserWarning: `rtol` is too low, setting to 2.220446049250313e-14\n",
      "  warn(\"`rtol` is too low, setting to {}\".format(100 * EPS))\n"
     ]
    },
    {
     "name": "stdout",
     "output_type": "stream",
     "text": [
      "y0 =  [1.88 2.2 ]\n"
     ]
    },
    {
     "name": "stderr",
     "output_type": "stream",
     "text": [
      "/usr/local/lib/python3.8/site-packages/scipy/integrate/_ivp/common.py:47: UserWarning: `rtol` is too low, setting to 2.220446049250313e-14\n",
      "  warn(\"`rtol` is too low, setting to {}\".format(100 * EPS))\n"
     ]
    },
    {
     "name": "stdout",
     "output_type": "stream",
     "text": [
      "y0 =  [-0.28  1.24]\n"
     ]
    },
    {
     "name": "stderr",
     "output_type": "stream",
     "text": [
      "/usr/local/lib/python3.8/site-packages/scipy/integrate/_ivp/common.py:47: UserWarning: `rtol` is too low, setting to 2.220446049250313e-14\n",
      "  warn(\"`rtol` is too low, setting to {}\".format(100 * EPS))\n"
     ]
    },
    {
     "name": "stdout",
     "output_type": "stream",
     "text": [
      "y0 =  [-0.36 -2.44]\n"
     ]
    },
    {
     "name": "stderr",
     "output_type": "stream",
     "text": [
      "/usr/local/lib/python3.8/site-packages/scipy/integrate/_ivp/common.py:47: UserWarning: `rtol` is too low, setting to 2.220446049250313e-14\n",
      "  warn(\"`rtol` is too low, setting to {}\".format(100 * EPS))\n"
     ]
    },
    {
     "name": "stdout",
     "output_type": "stream",
     "text": [
      "y0 =  [-2.2   1.16]\n"
     ]
    },
    {
     "name": "stderr",
     "output_type": "stream",
     "text": [
      "/usr/local/lib/python3.8/site-packages/scipy/integrate/_ivp/common.py:47: UserWarning: `rtol` is too low, setting to 2.220446049250313e-14\n",
      "  warn(\"`rtol` is too low, setting to {}\".format(100 * EPS))\n"
     ]
    },
    {
     "name": "stdout",
     "output_type": "stream",
     "text": [
      "y0 =  [0.68 0.68]\n"
     ]
    },
    {
     "name": "stderr",
     "output_type": "stream",
     "text": [
      "/usr/local/lib/python3.8/site-packages/scipy/integrate/_ivp/common.py:47: UserWarning: `rtol` is too low, setting to 2.220446049250313e-14\n",
      "  warn(\"`rtol` is too low, setting to {}\".format(100 * EPS))\n"
     ]
    },
    {
     "name": "stdout",
     "output_type": "stream",
     "text": [
      "y0 =  [-2.28  3.72]\n"
     ]
    },
    {
     "name": "stderr",
     "output_type": "stream",
     "text": [
      "/usr/local/lib/python3.8/site-packages/scipy/integrate/_ivp/common.py:47: UserWarning: `rtol` is too low, setting to 2.220446049250313e-14\n",
      "  warn(\"`rtol` is too low, setting to {}\".format(100 * EPS))\n"
     ]
    },
    {
     "name": "stdout",
     "output_type": "stream",
     "text": [
      "y0 =  [-0.12 -0.92]\n"
     ]
    },
    {
     "name": "stderr",
     "output_type": "stream",
     "text": [
      "/usr/local/lib/python3.8/site-packages/scipy/integrate/_ivp/common.py:47: UserWarning: `rtol` is too low, setting to 2.220446049250313e-14\n",
      "  warn(\"`rtol` is too low, setting to {}\".format(100 * EPS))\n"
     ]
    },
    {
     "name": "stdout",
     "output_type": "stream",
     "text": [
      "y0 =  [2.68 0.36]\n"
     ]
    },
    {
     "name": "stderr",
     "output_type": "stream",
     "text": [
      "/usr/local/lib/python3.8/site-packages/scipy/integrate/_ivp/common.py:47: UserWarning: `rtol` is too low, setting to 2.220446049250313e-14\n",
      "  warn(\"`rtol` is too low, setting to {}\".format(100 * EPS))\n"
     ]
    },
    {
     "name": "stdout",
     "output_type": "stream",
     "text": [
      "y0 =  [-2.44 -2.6 ]\n"
     ]
    },
    {
     "name": "stderr",
     "output_type": "stream",
     "text": [
      "/usr/local/lib/python3.8/site-packages/scipy/integrate/_ivp/common.py:47: UserWarning: `rtol` is too low, setting to 2.220446049250313e-14\n",
      "  warn(\"`rtol` is too low, setting to {}\".format(100 * EPS))\n"
     ]
    },
    {
     "name": "stdout",
     "output_type": "stream",
     "text": [
      "y0 =  [ 1.24 -1.88]\n"
     ]
    },
    {
     "name": "stderr",
     "output_type": "stream",
     "text": [
      "/usr/local/lib/python3.8/site-packages/scipy/integrate/_ivp/common.py:47: UserWarning: `rtol` is too low, setting to 2.220446049250313e-14\n",
      "  warn(\"`rtol` is too low, setting to {}\".format(100 * EPS))\n"
     ]
    },
    {
     "name": "stdout",
     "output_type": "stream",
     "text": [
      "y0 =  [-0.68 -1.4 ]\n"
     ]
    },
    {
     "name": "stderr",
     "output_type": "stream",
     "text": [
      "/usr/local/lib/python3.8/site-packages/scipy/integrate/_ivp/common.py:47: UserWarning: `rtol` is too low, setting to 2.220446049250313e-14\n",
      "  warn(\"`rtol` is too low, setting to {}\".format(100 * EPS))\n"
     ]
    },
    {
     "name": "stdout",
     "output_type": "stream",
     "text": [
      "y0 =  [3.16 0.04]\n"
     ]
    },
    {
     "name": "stderr",
     "output_type": "stream",
     "text": [
      "/usr/local/lib/python3.8/site-packages/scipy/integrate/_ivp/common.py:47: UserWarning: `rtol` is too low, setting to 2.220446049250313e-14\n",
      "  warn(\"`rtol` is too low, setting to {}\".format(100 * EPS))\n"
     ]
    },
    {
     "name": "stdout",
     "output_type": "stream",
     "text": [
      "y0 =  [-3.   -3.48]\n"
     ]
    },
    {
     "name": "stderr",
     "output_type": "stream",
     "text": [
      "/usr/local/lib/python3.8/site-packages/scipy/integrate/_ivp/common.py:47: UserWarning: `rtol` is too low, setting to 2.220446049250313e-14\n",
      "  warn(\"`rtol` is too low, setting to {}\".format(100 * EPS))\n"
     ]
    },
    {
     "name": "stdout",
     "output_type": "stream",
     "text": [
      "y0 =  [2.84 2.6 ]\n"
     ]
    },
    {
     "name": "stderr",
     "output_type": "stream",
     "text": [
      "/usr/local/lib/python3.8/site-packages/scipy/integrate/_ivp/common.py:47: UserWarning: `rtol` is too low, setting to 2.220446049250313e-14\n",
      "  warn(\"`rtol` is too low, setting to {}\".format(100 * EPS))\n"
     ]
    },
    {
     "name": "stdout",
     "output_type": "stream",
     "text": [
      "y0 =  [ 2.36 -2.84]\n"
     ]
    },
    {
     "name": "stderr",
     "output_type": "stream",
     "text": [
      "/usr/local/lib/python3.8/site-packages/scipy/integrate/_ivp/common.py:47: UserWarning: `rtol` is too low, setting to 2.220446049250313e-14\n",
      "  warn(\"`rtol` is too low, setting to {}\".format(100 * EPS))\n"
     ]
    },
    {
     "name": "stdout",
     "output_type": "stream",
     "text": [
      "y0 =  [-2.68  3.88]\n"
     ]
    },
    {
     "name": "stderr",
     "output_type": "stream",
     "text": [
      "/usr/local/lib/python3.8/site-packages/scipy/integrate/_ivp/common.py:47: UserWarning: `rtol` is too low, setting to 2.220446049250313e-14\n",
      "  warn(\"`rtol` is too low, setting to {}\".format(100 * EPS))\n"
     ]
    },
    {
     "name": "stdout",
     "output_type": "stream",
     "text": [
      "y0 =  [3.24 1.64]\n"
     ]
    },
    {
     "name": "stderr",
     "output_type": "stream",
     "text": [
      "/usr/local/lib/python3.8/site-packages/scipy/integrate/_ivp/common.py:47: UserWarning: `rtol` is too low, setting to 2.220446049250313e-14\n",
      "  warn(\"`rtol` is too low, setting to {}\".format(100 * EPS))\n"
     ]
    },
    {
     "name": "stdout",
     "output_type": "stream",
     "text": [
      "y0 =  [3.32 2.12]\n"
     ]
    },
    {
     "name": "stderr",
     "output_type": "stream",
     "text": [
      "/usr/local/lib/python3.8/site-packages/scipy/integrate/_ivp/common.py:47: UserWarning: `rtol` is too low, setting to 2.220446049250313e-14\n",
      "  warn(\"`rtol` is too low, setting to {}\".format(100 * EPS))\n"
     ]
    },
    {
     "name": "stdout",
     "output_type": "stream",
     "text": [
      "y0 =  [ 2.52 -0.52]\n"
     ]
    },
    {
     "name": "stderr",
     "output_type": "stream",
     "text": [
      "/usr/local/lib/python3.8/site-packages/scipy/integrate/_ivp/common.py:47: UserWarning: `rtol` is too low, setting to 2.220446049250313e-14\n",
      "  warn(\"`rtol` is too low, setting to {}\".format(100 * EPS))\n"
     ]
    },
    {
     "name": "stdout",
     "output_type": "stream",
     "text": [
      "y0 =  [-1.4  -1.32]\n"
     ]
    },
    {
     "name": "stderr",
     "output_type": "stream",
     "text": [
      "/usr/local/lib/python3.8/site-packages/scipy/integrate/_ivp/common.py:47: UserWarning: `rtol` is too low, setting to 2.220446049250313e-14\n",
      "  warn(\"`rtol` is too low, setting to {}\".format(100 * EPS))\n"
     ]
    },
    {
     "name": "stdout",
     "output_type": "stream",
     "text": [
      "y0 =  [-0.04  0.76]\n"
     ]
    },
    {
     "name": "stderr",
     "output_type": "stream",
     "text": [
      "/usr/local/lib/python3.8/site-packages/scipy/integrate/_ivp/common.py:47: UserWarning: `rtol` is too low, setting to 2.220446049250313e-14\n",
      "  warn(\"`rtol` is too low, setting to {}\".format(100 * EPS))\n"
     ]
    },
    {
     "name": "stdout",
     "output_type": "stream",
     "text": [
      "y0 =  [-0.44  2.76]\n"
     ]
    },
    {
     "name": "stderr",
     "output_type": "stream",
     "text": [
      "/usr/local/lib/python3.8/site-packages/scipy/integrate/_ivp/common.py:47: UserWarning: `rtol` is too low, setting to 2.220446049250313e-14\n",
      "  warn(\"`rtol` is too low, setting to {}\".format(100 * EPS))\n"
     ]
    },
    {
     "name": "stdout",
     "output_type": "stream",
     "text": [
      "y0 =  [-2.04 -0.04]\n"
     ]
    },
    {
     "name": "stderr",
     "output_type": "stream",
     "text": [
      "/usr/local/lib/python3.8/site-packages/scipy/integrate/_ivp/common.py:47: UserWarning: `rtol` is too low, setting to 2.220446049250313e-14\n",
      "  warn(\"`rtol` is too low, setting to {}\".format(100 * EPS))\n"
     ]
    },
    {
     "name": "stdout",
     "output_type": "stream",
     "text": [
      "y0 =  [-1.8  -0.68]\n"
     ]
    },
    {
     "name": "stderr",
     "output_type": "stream",
     "text": [
      "/usr/local/lib/python3.8/site-packages/scipy/integrate/_ivp/common.py:47: UserWarning: `rtol` is too low, setting to 2.220446049250313e-14\n",
      "  warn(\"`rtol` is too low, setting to {}\".format(100 * EPS))\n"
     ]
    },
    {
     "name": "stdout",
     "output_type": "stream",
     "text": [
      "y0 =  [ 3.   -2.28]\n"
     ]
    },
    {
     "name": "stderr",
     "output_type": "stream",
     "text": [
      "/usr/local/lib/python3.8/site-packages/scipy/integrate/_ivp/common.py:47: UserWarning: `rtol` is too low, setting to 2.220446049250313e-14\n",
      "  warn(\"`rtol` is too low, setting to {}\".format(100 * EPS))\n"
     ]
    },
    {
     "name": "stdout",
     "output_type": "stream",
     "text": [
      "y0 =  [ 1. -3.]\n"
     ]
    },
    {
     "name": "stderr",
     "output_type": "stream",
     "text": [
      "/usr/local/lib/python3.8/site-packages/scipy/integrate/_ivp/common.py:47: UserWarning: `rtol` is too low, setting to 2.220446049250313e-14\n",
      "  warn(\"`rtol` is too low, setting to {}\".format(100 * EPS))\n"
     ]
    },
    {
     "name": "stdout",
     "output_type": "stream",
     "text": [
      "y0 =  [-3.88  2.36]\n"
     ]
    },
    {
     "name": "stderr",
     "output_type": "stream",
     "text": [
      "/usr/local/lib/python3.8/site-packages/scipy/integrate/_ivp/common.py:47: UserWarning: `rtol` is too low, setting to 2.220446049250313e-14\n",
      "  warn(\"`rtol` is too low, setting to {}\".format(100 * EPS))\n"
     ]
    },
    {
     "name": "stdout",
     "output_type": "stream",
     "text": [
      "y0 =  [ 0.92 -1.  ]\n"
     ]
    },
    {
     "name": "stderr",
     "output_type": "stream",
     "text": [
      "/usr/local/lib/python3.8/site-packages/scipy/integrate/_ivp/common.py:47: UserWarning: `rtol` is too low, setting to 2.220446049250313e-14\n",
      "  warn(\"`rtol` is too low, setting to {}\".format(100 * EPS))\n"
     ]
    },
    {
     "name": "stdout",
     "output_type": "stream",
     "text": [
      "y0 =  [ 1.96 -2.76]\n"
     ]
    },
    {
     "name": "stderr",
     "output_type": "stream",
     "text": [
      "/usr/local/lib/python3.8/site-packages/scipy/integrate/_ivp/common.py:47: UserWarning: `rtol` is too low, setting to 2.220446049250313e-14\n",
      "  warn(\"`rtol` is too low, setting to {}\".format(100 * EPS))\n"
     ]
    },
    {
     "name": "stdout",
     "output_type": "stream",
     "text": [
      "y0 =  [ 0.76 -2.36]\n"
     ]
    },
    {
     "name": "stderr",
     "output_type": "stream",
     "text": [
      "/usr/local/lib/python3.8/site-packages/scipy/integrate/_ivp/common.py:47: UserWarning: `rtol` is too low, setting to 2.220446049250313e-14\n",
      "  warn(\"`rtol` is too low, setting to {}\".format(100 * EPS))\n"
     ]
    },
    {
     "name": "stdout",
     "output_type": "stream",
     "text": [
      "y0 =  [-0.2  -0.36]\n"
     ]
    },
    {
     "name": "stderr",
     "output_type": "stream",
     "text": [
      "/usr/local/lib/python3.8/site-packages/scipy/integrate/_ivp/common.py:47: UserWarning: `rtol` is too low, setting to 2.220446049250313e-14\n",
      "  warn(\"`rtol` is too low, setting to {}\".format(100 * EPS))\n"
     ]
    },
    {
     "name": "stdout",
     "output_type": "stream",
     "text": [
      "y0 =  [-2.92  2.84]\n"
     ]
    },
    {
     "name": "stderr",
     "output_type": "stream",
     "text": [
      "/usr/local/lib/python3.8/site-packages/scipy/integrate/_ivp/common.py:47: UserWarning: `rtol` is too low, setting to 2.220446049250313e-14\n",
      "  warn(\"`rtol` is too low, setting to {}\".format(100 * EPS))\n"
     ]
    },
    {
     "name": "stdout",
     "output_type": "stream",
     "text": [
      "y0 =  [-3.8   2.44]\n"
     ]
    },
    {
     "name": "stderr",
     "output_type": "stream",
     "text": [
      "/usr/local/lib/python3.8/site-packages/scipy/integrate/_ivp/common.py:47: UserWarning: `rtol` is too low, setting to 2.220446049250313e-14\n",
      "  warn(\"`rtol` is too low, setting to {}\".format(100 * EPS))\n"
     ]
    },
    {
     "name": "stdout",
     "output_type": "stream",
     "text": [
      "y0 =  [ 3.72 -3.24]\n"
     ]
    },
    {
     "name": "stderr",
     "output_type": "stream",
     "text": [
      "/usr/local/lib/python3.8/site-packages/scipy/integrate/_ivp/common.py:47: UserWarning: `rtol` is too low, setting to 2.220446049250313e-14\n",
      "  warn(\"`rtol` is too low, setting to {}\".format(100 * EPS))\n"
     ]
    },
    {
     "name": "stdout",
     "output_type": "stream",
     "text": [
      "y0 =  [-2.52 -2.52]\n"
     ]
    },
    {
     "name": "stderr",
     "output_type": "stream",
     "text": [
      "/usr/local/lib/python3.8/site-packages/scipy/integrate/_ivp/common.py:47: UserWarning: `rtol` is too low, setting to 2.220446049250313e-14\n",
      "  warn(\"`rtol` is too low, setting to {}\".format(100 * EPS))\n"
     ]
    },
    {
     "name": "stdout",
     "output_type": "stream",
     "text": [
      "y0 =  [-2.76  1.  ]\n"
     ]
    },
    {
     "name": "stderr",
     "output_type": "stream",
     "text": [
      "/usr/local/lib/python3.8/site-packages/scipy/integrate/_ivp/common.py:47: UserWarning: `rtol` is too low, setting to 2.220446049250313e-14\n",
      "  warn(\"`rtol` is too low, setting to {}\".format(100 * EPS))\n"
     ]
    },
    {
     "name": "stdout",
     "output_type": "stream",
     "text": [
      "y0 =  [-1.56 -1.16]\n"
     ]
    },
    {
     "name": "stderr",
     "output_type": "stream",
     "text": [
      "/usr/local/lib/python3.8/site-packages/scipy/integrate/_ivp/common.py:47: UserWarning: `rtol` is too low, setting to 2.220446049250313e-14\n",
      "  warn(\"`rtol` is too low, setting to {}\".format(100 * EPS))\n"
     ]
    },
    {
     "name": "stdout",
     "output_type": "stream",
     "text": [
      "y0 =  [-0.92  0.44]\n"
     ]
    },
    {
     "name": "stderr",
     "output_type": "stream",
     "text": [
      "/usr/local/lib/python3.8/site-packages/scipy/integrate/_ivp/common.py:47: UserWarning: `rtol` is too low, setting to 2.220446049250313e-14\n",
      "  warn(\"`rtol` is too low, setting to {}\".format(100 * EPS))\n"
     ]
    },
    {
     "name": "stdout",
     "output_type": "stream",
     "text": [
      "y0 =  [ 1.56 -2.04]\n"
     ]
    },
    {
     "name": "stderr",
     "output_type": "stream",
     "text": [
      "/usr/local/lib/python3.8/site-packages/scipy/integrate/_ivp/common.py:47: UserWarning: `rtol` is too low, setting to 2.220446049250313e-14\n",
      "  warn(\"`rtol` is too low, setting to {}\".format(100 * EPS))\n"
     ]
    },
    {
     "name": "stdout",
     "output_type": "stream",
     "text": [
      "y0 =  [2.12 1.08]\n"
     ]
    },
    {
     "name": "stderr",
     "output_type": "stream",
     "text": [
      "/usr/local/lib/python3.8/site-packages/scipy/integrate/_ivp/common.py:47: UserWarning: `rtol` is too low, setting to 2.220446049250313e-14\n",
      "  warn(\"`rtol` is too low, setting to {}\".format(100 * EPS))\n"
     ]
    },
    {
     "name": "stdout",
     "output_type": "stream",
     "text": [
      "y0 =  [2.44 1.32]\n"
     ]
    },
    {
     "name": "stderr",
     "output_type": "stream",
     "text": [
      "/usr/local/lib/python3.8/site-packages/scipy/integrate/_ivp/common.py:47: UserWarning: `rtol` is too low, setting to 2.220446049250313e-14\n",
      "  warn(\"`rtol` is too low, setting to {}\".format(100 * EPS))\n"
     ]
    },
    {
     "name": "stdout",
     "output_type": "stream",
     "text": [
      "y0 =  [2.28 1.72]\n"
     ]
    },
    {
     "name": "stderr",
     "output_type": "stream",
     "text": [
      "/usr/local/lib/python3.8/site-packages/scipy/integrate/_ivp/common.py:47: UserWarning: `rtol` is too low, setting to 2.220446049250313e-14\n",
      "  warn(\"`rtol` is too low, setting to {}\".format(100 * EPS))\n"
     ]
    },
    {
     "name": "stdout",
     "output_type": "stream",
     "text": [
      "y0 =  [-1.48 -3.56]\n"
     ]
    },
    {
     "name": "stderr",
     "output_type": "stream",
     "text": [
      "/usr/local/lib/python3.8/site-packages/scipy/integrate/_ivp/common.py:47: UserWarning: `rtol` is too low, setting to 2.220446049250313e-14\n",
      "  warn(\"`rtol` is too low, setting to {}\".format(100 * EPS))\n"
     ]
    },
    {
     "name": "stdout",
     "output_type": "stream",
     "text": [
      "y0 =  [ 3.8 -0.2]\n"
     ]
    },
    {
     "name": "stderr",
     "output_type": "stream",
     "text": [
      "/usr/local/lib/python3.8/site-packages/scipy/integrate/_ivp/common.py:47: UserWarning: `rtol` is too low, setting to 2.220446049250313e-14\n",
      "  warn(\"`rtol` is too low, setting to {}\".format(100 * EPS))\n"
     ]
    },
    {
     "name": "stdout",
     "output_type": "stream",
     "text": [
      "y0 =  [ 0.04 -0.28]\n"
     ]
    },
    {
     "name": "stderr",
     "output_type": "stream",
     "text": [
      "/usr/local/lib/python3.8/site-packages/scipy/integrate/_ivp/common.py:47: UserWarning: `rtol` is too low, setting to 2.220446049250313e-14\n",
      "  warn(\"`rtol` is too low, setting to {}\".format(100 * EPS))\n"
     ]
    },
    {
     "name": "stdout",
     "output_type": "stream",
     "text": [
      "y0 =  [-3.24  3.8 ]\n"
     ]
    },
    {
     "name": "stderr",
     "output_type": "stream",
     "text": [
      "/usr/local/lib/python3.8/site-packages/scipy/integrate/_ivp/common.py:47: UserWarning: `rtol` is too low, setting to 2.220446049250313e-14\n",
      "  warn(\"`rtol` is too low, setting to {}\".format(100 * EPS))\n"
     ]
    },
    {
     "name": "stdout",
     "output_type": "stream",
     "text": [
      "y0 =  [2.76 3.32]\n"
     ]
    },
    {
     "name": "stderr",
     "output_type": "stream",
     "text": [
      "/usr/local/lib/python3.8/site-packages/scipy/integrate/_ivp/common.py:47: UserWarning: `rtol` is too low, setting to 2.220446049250313e-14\n",
      "  warn(\"`rtol` is too low, setting to {}\".format(100 * EPS))\n"
     ]
    },
    {
     "name": "stdout",
     "output_type": "stream",
     "text": [
      "y0 =  [-2.6   0.28]\n"
     ]
    },
    {
     "name": "stderr",
     "output_type": "stream",
     "text": [
      "/usr/local/lib/python3.8/site-packages/scipy/integrate/_ivp/common.py:47: UserWarning: `rtol` is too low, setting to 2.220446049250313e-14\n",
      "  warn(\"`rtol` is too low, setting to {}\".format(100 * EPS))\n"
     ]
    },
    {
     "name": "stdout",
     "output_type": "stream",
     "text": [
      "y0 =  [ 1.32 -0.76]\n"
     ]
    },
    {
     "name": "stderr",
     "output_type": "stream",
     "text": [
      "/usr/local/lib/python3.8/site-packages/scipy/integrate/_ivp/common.py:47: UserWarning: `rtol` is too low, setting to 2.220446049250313e-14\n",
      "  warn(\"`rtol` is too low, setting to {}\".format(100 * EPS))\n"
     ]
    },
    {
     "name": "stdout",
     "output_type": "stream",
     "text": [
      "y0 =  [0.36 1.8 ]\n"
     ]
    },
    {
     "name": "stderr",
     "output_type": "stream",
     "text": [
      "/usr/local/lib/python3.8/site-packages/scipy/integrate/_ivp/common.py:47: UserWarning: `rtol` is too low, setting to 2.220446049250313e-14\n",
      "  warn(\"`rtol` is too low, setting to {}\".format(100 * EPS))\n"
     ]
    },
    {
     "name": "stdout",
     "output_type": "stream",
     "text": [
      "y0 =  [-3.08 -1.56]\n"
     ]
    },
    {
     "name": "stderr",
     "output_type": "stream",
     "text": [
      "/usr/local/lib/python3.8/site-packages/scipy/integrate/_ivp/common.py:47: UserWarning: `rtol` is too low, setting to 2.220446049250313e-14\n",
      "  warn(\"`rtol` is too low, setting to {}\".format(100 * EPS))\n"
     ]
    },
    {
     "name": "stdout",
     "output_type": "stream",
     "text": [
      "y0 =  [-3.32  1.96]\n"
     ]
    },
    {
     "name": "stderr",
     "output_type": "stream",
     "text": [
      "/usr/local/lib/python3.8/site-packages/scipy/integrate/_ivp/common.py:47: UserWarning: `rtol` is too low, setting to 2.220446049250313e-14\n",
      "  warn(\"`rtol` is too low, setting to {}\".format(100 * EPS))\n"
     ]
    },
    {
     "name": "stdout",
     "output_type": "stream",
     "text": [
      "y0 =  [ 3.48 -1.64]\n"
     ]
    },
    {
     "name": "stderr",
     "output_type": "stream",
     "text": [
      "/usr/local/lib/python3.8/site-packages/scipy/integrate/_ivp/common.py:47: UserWarning: `rtol` is too low, setting to 2.220446049250313e-14\n",
      "  warn(\"`rtol` is too low, setting to {}\".format(100 * EPS))\n"
     ]
    },
    {
     "name": "stdout",
     "output_type": "stream",
     "text": [
      "y0 =  [1.48 1.48]\n"
     ]
    },
    {
     "name": "stderr",
     "output_type": "stream",
     "text": [
      "/usr/local/lib/python3.8/site-packages/scipy/integrate/_ivp/common.py:47: UserWarning: `rtol` is too low, setting to 2.220446049250313e-14\n",
      "  warn(\"`rtol` is too low, setting to {}\".format(100 * EPS))\n"
     ]
    },
    {
     "name": "stdout",
     "output_type": "stream",
     "text": [
      "y0 =  [-1.32 -1.96]\n"
     ]
    },
    {
     "name": "stderr",
     "output_type": "stream",
     "text": [
      "/usr/local/lib/python3.8/site-packages/scipy/integrate/_ivp/common.py:47: UserWarning: `rtol` is too low, setting to 2.220446049250313e-14\n",
      "  warn(\"`rtol` is too low, setting to {}\".format(100 * EPS))\n"
     ]
    },
    {
     "name": "stdout",
     "output_type": "stream",
     "text": [
      "y0 =  [0.12 0.92]\n"
     ]
    },
    {
     "name": "stderr",
     "output_type": "stream",
     "text": [
      "/usr/local/lib/python3.8/site-packages/scipy/integrate/_ivp/common.py:47: UserWarning: `rtol` is too low, setting to 2.220446049250313e-14\n",
      "  warn(\"`rtol` is too low, setting to {}\".format(100 * EPS))\n"
     ]
    },
    {
     "name": "stdout",
     "output_type": "stream",
     "text": [
      "y0 =  [-1.64 -2.92]\n"
     ]
    },
    {
     "name": "stderr",
     "output_type": "stream",
     "text": [
      "/usr/local/lib/python3.8/site-packages/scipy/integrate/_ivp/common.py:47: UserWarning: `rtol` is too low, setting to 2.220446049250313e-14\n",
      "  warn(\"`rtol` is too low, setting to {}\".format(100 * EPS))\n"
     ]
    },
    {
     "name": "stdout",
     "output_type": "stream",
     "text": [
      "y0 =  [1.8 3. ]\n"
     ]
    },
    {
     "name": "stderr",
     "output_type": "stream",
     "text": [
      "/usr/local/lib/python3.8/site-packages/scipy/integrate/_ivp/common.py:47: UserWarning: `rtol` is too low, setting to 2.220446049250313e-14\n",
      "  warn(\"`rtol` is too low, setting to {}\".format(100 * EPS))\n"
     ]
    },
    {
     "name": "stdout",
     "output_type": "stream",
     "text": [
      "y0 =  [-2.12  0.12]\n"
     ]
    },
    {
     "name": "stderr",
     "output_type": "stream",
     "text": [
      "/usr/local/lib/python3.8/site-packages/scipy/integrate/_ivp/common.py:47: UserWarning: `rtol` is too low, setting to 2.220446049250313e-14\n",
      "  warn(\"`rtol` is too low, setting to {}\".format(100 * EPS))\n"
     ]
    },
    {
     "name": "stdout",
     "output_type": "stream",
     "text": [
      "y0 =  [-3.16  2.28]\n"
     ]
    },
    {
     "name": "stderr",
     "output_type": "stream",
     "text": [
      "/usr/local/lib/python3.8/site-packages/scipy/integrate/_ivp/common.py:47: UserWarning: `rtol` is too low, setting to 2.220446049250313e-14\n",
      "  warn(\"`rtol` is too low, setting to {}\".format(100 * EPS))\n"
     ]
    },
    {
     "name": "stdout",
     "output_type": "stream",
     "text": [
      "y0 =  [-3.64  2.68]\n"
     ]
    },
    {
     "name": "stderr",
     "output_type": "stream",
     "text": [
      "/usr/local/lib/python3.8/site-packages/scipy/integrate/_ivp/common.py:47: UserWarning: `rtol` is too low, setting to 2.220446049250313e-14\n",
      "  warn(\"`rtol` is too low, setting to {}\".format(100 * EPS))\n"
     ]
    },
    {
     "name": "stdout",
     "output_type": "stream",
     "text": [
      "y0 =  [ 0.6  -3.72]\n"
     ]
    },
    {
     "name": "stderr",
     "output_type": "stream",
     "text": [
      "/usr/local/lib/python3.8/site-packages/scipy/integrate/_ivp/common.py:47: UserWarning: `rtol` is too low, setting to 2.220446049250313e-14\n",
      "  warn(\"`rtol` is too low, setting to {}\".format(100 * EPS))\n"
     ]
    },
    {
     "name": "stdout",
     "output_type": "stream",
     "text": [
      "y0 =  [ 2.2 -1.8]\n"
     ]
    },
    {
     "name": "stderr",
     "output_type": "stream",
     "text": [
      "/usr/local/lib/python3.8/site-packages/scipy/integrate/_ivp/common.py:47: UserWarning: `rtol` is too low, setting to 2.220446049250313e-14\n",
      "  warn(\"`rtol` is too low, setting to {}\".format(100 * EPS))\n"
     ]
    },
    {
     "name": "stdout",
     "output_type": "stream",
     "text": [
      "y0 =  [-1.72  0.84]\n"
     ]
    },
    {
     "name": "stderr",
     "output_type": "stream",
     "text": [
      "/usr/local/lib/python3.8/site-packages/scipy/integrate/_ivp/common.py:47: UserWarning: `rtol` is too low, setting to 2.220446049250313e-14\n",
      "  warn(\"`rtol` is too low, setting to {}\".format(100 * EPS))\n"
     ]
    },
    {
     "name": "stdout",
     "output_type": "stream",
     "text": [
      "y0 =  [ 3.08 -0.44]\n"
     ]
    },
    {
     "name": "stderr",
     "output_type": "stream",
     "text": [
      "/usr/local/lib/python3.8/site-packages/scipy/integrate/_ivp/common.py:47: UserWarning: `rtol` is too low, setting to 2.220446049250313e-14\n",
      "  warn(\"`rtol` is too low, setting to {}\".format(100 * EPS))\n"
     ]
    },
    {
     "name": "stdout",
     "output_type": "stream",
     "text": [
      "y0 =  [-1.24  3.16]\n"
     ]
    },
    {
     "name": "stderr",
     "output_type": "stream",
     "text": [
      "/usr/local/lib/python3.8/site-packages/scipy/integrate/_ivp/common.py:47: UserWarning: `rtol` is too low, setting to 2.220446049250313e-14\n",
      "  warn(\"`rtol` is too low, setting to {}\".format(100 * EPS))\n"
     ]
    },
    {
     "name": "stdout",
     "output_type": "stream",
     "text": [
      "y0 =  [-1.08 -0.84]\n"
     ]
    },
    {
     "name": "stderr",
     "output_type": "stream",
     "text": [
      "/usr/local/lib/python3.8/site-packages/scipy/integrate/_ivp/common.py:47: UserWarning: `rtol` is too low, setting to 2.220446049250313e-14\n",
      "  warn(\"`rtol` is too low, setting to {}\".format(100 * EPS))\n"
     ]
    },
    {
     "data": {
      "image/png": "[encoded data removed]",
      "text/plain": [
       "<Figure size 864x576 with 2 Axes>"
      ]
     },
     "metadata": {
      "needs_background": "light"
     },
     "output_type": "display_data"
    }
   ],
   "source": [
    "### Generating Training Data\n",
    "\n",
    "fig, ax1 = plt.subplots(figsize=(12, 8))\n",
    "ax2      = ax1.twinx()  # instantiate a second axes that shares the same x-axis\n",
    "for iSample in range(NTraining):\n",
    "    y0         = y0Mat[iSample,:]\n",
    "    print('y0 = ', y0)\n",
    "    \n",
    "    output     = solve_ivp( fOrig, tout[[0,-1]], y0, method=SOLVER, t_eval=tout, rtol=1.e-15, atol=1.e-10 )\n",
    "    \n",
    "    tMatTemp   = tout[...,np.newaxis]\n",
    "    uMatTemp   = np.tile(y0, (Nt, 1))\n",
    "    \n",
    "    color = 'tab:red'\n",
    "    ax1.plot(output.t, output.y[0,:], color=color)\n",
    "\n",
    "    color = 'k'\n",
    "    ax2.plot(output.t, output.y[1,:], color=color)\n",
    "    \n",
    "    \n",
    "    ySourceTemp = np.zeros_like(output.y)\n",
    "    JJTauMat    = np.zeros((output.y.shape[1], output.y.shape[0]*2))\n",
    "    for it in range(Nt):\n",
    "        ySourceTemp[:,it] = fOrig_Source(output.t, output.y[:,it])\n",
    "        JJ                = fOrig_Jacobian(it, output.y[:,it])        \n",
    "        JJEig, JJVec      = np.linalg.eig(JJ)\n",
    "        JJTauMat[it,0:2]  = 1./JJEig.real\n",
    "        JJTauMat[it,2:4]  = 1./JJEig.imag\n",
    "\n",
    "    if (iSample == 0):\n",
    "        tMat    = tMatTemp\n",
    "        uMat    = uMatTemp\n",
    "        yMat    = output.y.T \n",
    "        ySource = ySourceTemp.T\n",
    "    else:\n",
    "        tMat    = np.concatenate((tMat,    tMatTemp), axis=0)\n",
    "        uMat    = np.concatenate((uMat,    uMatTemp), axis=0)\n",
    "        yMat    = np.concatenate((yMat,    output.y.T), axis=0)\n",
    "        ySource = np.concatenate((ySource, ySourceTemp.T), axis=0)\n",
    "\n",
    "#     Header   = 't,x,v'\n",
    "#     FileName = OutputDir+'/y.csv.'+str(iSample+1)\n",
    "#     np.savetxt(FileName, np.concatenate((tMatTemp,output.y.T), axis=1), delimiter=',', header=Header, comments='')\n",
    "        \n",
    "        \n",
    "color = 'tab:red'\n",
    "ax1.set_xlabel('time [s]')\n",
    "ax1.set_ylabel('x [m]', color=color)\n",
    "ax1.tick_params(axis='y', labelcolor=color)\n",
    "ax1.set_ylim([-6.,6.])\n",
    "\n",
    "color = 'k'\n",
    "ax2.set_ylabel('v [m/s]', color=color)  # we already handled the x-label with ax1\n",
    "ax2.tick_params(axis='y', labelcolor=color)\n",
    "ax2.set_ylim([-6.,6.])\n",
    "\n",
    "fig.tight_layout()  # otherwise the right y-label is slightly clipped\n",
    "plt.show()"
   ]
  },
  {
   "cell_type": "code",
   "execution_count": 8,
   "metadata": {},
   "outputs": [
    {
     "name": "stdout",
     "output_type": "stream",
     "text": [
      "y0 =  [1.2 2.8]\n"
     ]
    },
    {
     "name": "stderr",
     "output_type": "stream",
     "text": [
      "/usr/local/lib/python3.8/site-packages/scipy/integrate/_ivp/common.py:47: UserWarning: `rtol` is too low, setting to 2.220446049250313e-14\n",
      "  warn(\"`rtol` is too low, setting to {}\".format(100 * EPS))\n"
     ]
    },
    {
     "name": "stdout",
     "output_type": "stream",
     "text": [
      "y0 =  [ 3.6 -3.6]\n"
     ]
    },
    {
     "name": "stderr",
     "output_type": "stream",
     "text": [
      "/usr/local/lib/python3.8/site-packages/scipy/integrate/_ivp/common.py:47: UserWarning: `rtol` is too low, setting to 2.220446049250313e-14\n",
      "  warn(\"`rtol` is too low, setting to {}\".format(100 * EPS))\n"
     ]
    },
    {
     "name": "stdout",
     "output_type": "stream",
     "text": [
      "y0 =  [0.4 0.4]\n"
     ]
    },
    {
     "name": "stderr",
     "output_type": "stream",
     "text": [
      "/usr/local/lib/python3.8/site-packages/scipy/integrate/_ivp/common.py:47: UserWarning: `rtol` is too low, setting to 2.220446049250313e-14\n",
      "  warn(\"`rtol` is too low, setting to {}\".format(100 * EPS))\n"
     ]
    },
    {
     "name": "stdout",
     "output_type": "stream",
     "text": [
      "y0 =  [ 2.8 -2.8]\n"
     ]
    },
    {
     "name": "stderr",
     "output_type": "stream",
     "text": [
      "/usr/local/lib/python3.8/site-packages/scipy/integrate/_ivp/common.py:47: UserWarning: `rtol` is too low, setting to 2.220446049250313e-14\n",
      "  warn(\"`rtol` is too low, setting to {}\".format(100 * EPS))\n"
     ]
    },
    {
     "name": "stdout",
     "output_type": "stream",
     "text": [
      "y0 =  [-1.2  2. ]\n"
     ]
    },
    {
     "name": "stderr",
     "output_type": "stream",
     "text": [
      "/usr/local/lib/python3.8/site-packages/scipy/integrate/_ivp/common.py:47: UserWarning: `rtol` is too low, setting to 2.220446049250313e-14\n",
      "  warn(\"`rtol` is too low, setting to {}\".format(100 * EPS))\n"
     ]
    },
    {
     "name": "stdout",
     "output_type": "stream",
     "text": [
      "y0 =  [-0.4 -0.4]\n"
     ]
    },
    {
     "name": "stderr",
     "output_type": "stream",
     "text": [
      "/usr/local/lib/python3.8/site-packages/scipy/integrate/_ivp/common.py:47: UserWarning: `rtol` is too low, setting to 2.220446049250313e-14\n",
      "  warn(\"`rtol` is too low, setting to {}\".format(100 * EPS))\n"
     ]
    },
    {
     "name": "stdout",
     "output_type": "stream",
     "text": [
      "y0 =  [-2.  -1.2]\n"
     ]
    },
    {
     "name": "stderr",
     "output_type": "stream",
     "text": [
      "/usr/local/lib/python3.8/site-packages/scipy/integrate/_ivp/common.py:47: UserWarning: `rtol` is too low, setting to 2.220446049250313e-14\n",
      "  warn(\"`rtol` is too low, setting to {}\".format(100 * EPS))\n"
     ]
    },
    {
     "name": "stdout",
     "output_type": "stream",
     "text": [
      "y0 =  [2.  3.6]\n"
     ]
    },
    {
     "name": "stderr",
     "output_type": "stream",
     "text": [
      "/usr/local/lib/python3.8/site-packages/scipy/integrate/_ivp/common.py:47: UserWarning: `rtol` is too low, setting to 2.220446049250313e-14\n",
      "  warn(\"`rtol` is too low, setting to {}\".format(100 * EPS))\n"
     ]
    },
    {
     "name": "stdout",
     "output_type": "stream",
     "text": [
      "y0 =  [-2.8 -2. ]\n"
     ]
    },
    {
     "name": "stderr",
     "output_type": "stream",
     "text": [
      "/usr/local/lib/python3.8/site-packages/scipy/integrate/_ivp/common.py:47: UserWarning: `rtol` is too low, setting to 2.220446049250313e-14\n",
      "  warn(\"`rtol` is too low, setting to {}\".format(100 * EPS))\n"
     ]
    },
    {
     "name": "stdout",
     "output_type": "stream",
     "text": [
      "y0 =  [-3.6  1.2]\n"
     ]
    },
    {
     "name": "stderr",
     "output_type": "stream",
     "text": [
      "/usr/local/lib/python3.8/site-packages/scipy/integrate/_ivp/common.py:47: UserWarning: `rtol` is too low, setting to 2.220446049250313e-14\n",
      "  warn(\"`rtol` is too low, setting to {}\".format(100 * EPS))\n"
     ]
    },
    {
     "data": {
      "image/png": "[encoded data removed]",
      "text/plain": [
       "<Figure size 864x576 with 2 Axes>"
      ]
     },
     "metadata": {
      "needs_background": "light"
     },
     "output_type": "display_data"
    }
   ],
   "source": [
    "### Generating Test Data\n",
    "\n",
    "\n",
    "fig, ax1 = plt.subplots(figsize=(12, 8))\n",
    "ax2      = ax1.twinx()  # instantiate a second axes that shares the same x-axis\n",
    "for iSample in range(NTest):\n",
    "    y0         = y0MatTest[iSample,:]\n",
    "    print('y0 = ', y0)\n",
    "    \n",
    "    output     = solve_ivp( fOrig, tout[[0,-1]], y0, method=SOLVER, t_eval=tout, rtol=1.e-15, atol=1.e-10 )\n",
    "    \n",
    "    tMatTemp   = tout[...,np.newaxis]\n",
    "    uMatTemp   = np.tile(y0, (Nt, 1))\n",
    "    \n",
    "    color = 'tab:red'\n",
    "    ax1.plot(output.t, output.y[0,:], color=color)\n",
    "\n",
    "    color = 'k'\n",
    "    ax2.plot(output.t, output.y[1,:], color=color)\n",
    "    \n",
    "    ySourceTemp = np.zeros_like(output.y)\n",
    "    for it in range(Nt):\n",
    "        ySourceTemp[:,it] = fOrig_Source(output.t, output.y[:,it])\n",
    "\n",
    "    if (iSample == 0):\n",
    "        tMatTest    = tMatTemp\n",
    "        uMatTest    = uMatTemp\n",
    "        yMatTest    = output.y.T \n",
    "        ySourceTest = ySourceTemp.T\n",
    "    else:\n",
    "        tMatTest    = np.concatenate((tMatTest,    tMatTemp), axis=0)\n",
    "        uMatTest    = np.concatenate((uMatTest,    uMatTemp), axis=0)\n",
    "        yMatTest    = np.concatenate((yMatTest,    output.y.T), axis=0)\n",
    "        ySourceTest = np.concatenate((ySourceTest, ySourceTemp.T), axis=0)\n",
    "        \n",
    "#     Header   = 't,x,v'\n",
    "#     FileName = TestDir+'/y.csv.'+str(iSample+1)\n",
    "#     np.savetxt(FileName, np.concatenate((tMatTemp,output.y.T), axis=1), delimiter=',', header=Header, comments='')\n",
    "        \n",
    "        \n",
    "color = 'tab:red'\n",
    "ax1.set_xlabel('time [s]')\n",
    "ax1.set_ylabel('x [m]', color=color)\n",
    "ax1.tick_params(axis='y', labelcolor=color)\n",
    "ax1.set_ylim([-6.,6.])\n",
    "\n",
    "color = 'k'\n",
    "ax2.set_ylabel('v [m/s]', color=color)  # we already handled the x-label with ax1\n",
    "ax2.tick_params(axis='y', labelcolor=color)\n",
    "ax2.set_ylim([-6.,6.])\n",
    "\n",
    "fig.tight_layout()  # otherwise the right y-label is slightly clipped\n",
    "plt.show()"
   ]
  },
  {
   "cell_type": "code",
   "execution_count": 9,
   "metadata": {},
   "outputs": [],
   "source": [
    "# ### Saving Data\n",
    "\n",
    "# Header   = 't,x,v'\n",
    "# FileName = OutputDir+'/Input.csv'\n",
    "# np.savetxt(FileName, np.concatenate((tMat,uMat), axis=1), delimiter=',', header=Header, comments='')\n",
    "        \n",
    "# Header   = 't,x,v'\n",
    "# FileName = OutputDir+'/Output.csv'\n",
    "# np.savetxt(FileName, np.concatenate((tMat,yMat), axis=1), delimiter=',', header=Header, comments='')\n",
    "\n",
    "# Header   = 't,dx,dv'\n",
    "# FileName = OutputDir+'/dOutput.csv'\n",
    "# np.savetxt(FileName, np.concatenate((tMat,ySource), axis=1), delimiter=',', header=Header, comments='')\n",
    "\n",
    "\n",
    "# Header   = 'real_1,real_2,imag_1,imag_2'\n",
    "# FileName = OutputDir + '/Jacobian.csv'\n",
    "# np.savetxt(FileName, JJTauMat,    delimiter=',', header=Header, comments='')\n",
    "\n",
    "\n",
    "# Header   = 't,x,v'\n",
    "# FileName = TestDir+'/Input.csv'\n",
    "# np.savetxt(FileName, np.concatenate((tMatTest,uMatTest), axis=1), delimiter=',', header=Header, comments='')\n",
    "        \n",
    "# Header   = 't,x,v'\n",
    "# FileName = TestDir+'/Output.csv'\n",
    "# np.savetxt(FileName, np.concatenate((tMatTest,yMatTest), axis=1), delimiter=',', header=Header, comments='')\n",
    "\n",
    "# Header   = 't,dx,dv'\n",
    "# FileName = TestDir+'/dOutput.csv'\n",
    "# np.savetxt(FileName, np.concatenate((tMatTest,ySourceTest), axis=1), delimiter=',', header=Header, comments='')"
   ]
  },
  {
   "cell_type": "code",
   "execution_count": null,
   "metadata": {},
   "outputs": [],
   "source": []
  },
  {
   "cell_type": "code",
   "execution_count": null,
   "metadata": {},
   "outputs": [],
   "source": []
  },
  {
   "cell_type": "code",
   "execution_count": null,
   "metadata": {},
   "outputs": [],
   "source": []
  }
 ],
 "metadata": {
  "kernelspec": {
   "display_name": "Python 3",
   "language": "python",
   "name": "python3"
  },
  "language_info": {
   "codemirror_mode": {
    "name": "ipython",
    "version": 3
   },
   "file_extension": ".py",
   "mimetype": "text/x-python",
   "name": "python",
   "nbconvert_exporter": "python",
   "pygments_lexer": "ipython3",
   "version": "3.8.11"
  }
 },
 "nbformat": 4,
 "nbformat_minor": 4
}
