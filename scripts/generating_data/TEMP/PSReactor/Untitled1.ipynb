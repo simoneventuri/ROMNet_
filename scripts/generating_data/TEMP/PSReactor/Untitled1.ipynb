{
 "cells": [
  {
   "cell_type": "code",
   "execution_count": 1,
   "id": "ea193410",
   "metadata": {},
   "outputs": [],
   "source": [
    "### Loading Libraries\n",
    "\n",
    "import os\n",
    "import sys\n",
    "import numpy                              as np\n",
    "import pandas                             as pd\n",
    "\n",
    "import matplotlib\n",
    "from matplotlib                           import pyplot as plt\n",
    "WORKSPACE_PATH  = os.environ['WORKSPACE_PATH']\n",
    "plt.style.use(WORKSPACE_PATH+'/ROMNet/romnet/extra/postprocessing/presentation.mplstyle')\n",
    "\n",
    "from tensorflow                           import keras\n",
    "\n",
    "import romnet                             as rmnt"
   ]
  },
  {
   "cell_type": "code",
   "execution_count": 2,
   "id": "8d2d4276",
   "metadata": {},
   "outputs": [],
   "source": [
    "### Input Data\n",
    "\n",
    "ROMNet_fld    = WORKSPACE_PATH + '/ROMNet/romnet/'\n",
    "\n",
    "OutputDir     = WORKSPACE_PATH+'/ROMNet/Data/PSR_10Cases/'\n",
    "TestDir       = WORKSPACE_PATH+'/ROMNet/Data/PSR_10Cases_Test/'\n",
    "\n",
    "path_to_run_fld  = WORKSPACE_PATH + '/ROMNet/PSR_10Cases/DeepONet/Deterministic/Run_24/'\n",
    "#path_to_run_fld  = WORKSPACE_PATH + '/ROMNet/PSR_10Cases/DeepONet/MCDropOut/Run_2/'\n",
    "#path_to_run_fld  = WORKSPACE_PATH + '/ROMNet/PSR_10Cases/DeepONet/BayesByBackprop/Run_1/'\n",
    "\n",
    "CasesVec      = [0] \n",
    "DirDir        = OutputDir #OutputDir #TestDir\n",
    "\n",
    "NSamples      = 2\n",
    "\n",
    "NVarsRed      = 3\n",
    "TestInputVars = ['PC_'+str(i+1) for i in range(NVarsRed)]"
   ]
  },
  {
   "cell_type": "code",
   "execution_count": 3,
   "id": "8efeaf54",
   "metadata": {},
   "outputs": [],
   "source": [
    "Var = 'H'\n",
    "\n",
    "FileName       = DirDir + '/Orig/train/ext/y.csv.' + str(1)\n",
    "Data           = pd.read_csv(FileName, header=0)\n",
    "tVec           = Data['t']\n",
    "VarNames_Orig  = list(Data.columns)\n",
    "iS_Orig        = VarNames_Orig.index(Var)\n",
    "y_Orig         = Data.to_numpy()[:,1:]\n",
    "y_Orig_i       = Data[Var].to_numpy()\n",
    "\n",
    "FileName       = DirDir + '/Orig/train/ext/ySource.csv.' + str(1)\n",
    "DataSource     = pd.read_csv(FileName, header=0)\n",
    "tVec           = DataSource['t'].to_numpy()\n",
    "VarNames_Orig  = list(DataSource.columns)\n",
    "iS_Orig        = VarNames_Orig.index(Var)\n",
    "dy_dt_Orig     = DataSource.to_numpy()[:,1:]\n",
    "dy_dt_Orig_i   = DataSource[Var].to_numpy()\n",
    "\n",
    "dy_dt_i        = np.gradient(y_Orig_i, tVec, edge_order=1)"
   ]
  },
  {
   "cell_type": "code",
   "execution_count": 13,
   "id": "579cb848",
   "metadata": {},
   "outputs": [],
   "source": [
    "# y_Masked = [y_Orig[:,i] for i in range(y_Orig.shape[1]) if any(np.abs(y_Orig[:,i]) > 0)]\n",
    "# y_Masked = np.stack(y_Masked,axis=1)\n",
    "# y_Masked.shape\n",
    "\n",
    "to_orig  = pd.read_csv(DirDir+'/3PC/ROM/ToOrig_Mask.csv',   header=None).to_numpy(int)[:,0]\n",
    "n_mask   = len(to_orig)\n",
    "y_Masked = y_Orig[:,to_orig]"
   ]
  },
  {
   "cell_type": "code",
   "execution_count": 14,
   "id": "228fbe9a",
   "metadata": {},
   "outputs": [
    {
     "data": {
      "image/png": "[encoded data removed]",
      "text/plain": [
       "<Figure size 432x288 with 1 Axes>"
      ]
     },
     "metadata": {
      "needs_background": "light"
     },
     "output_type": "display_data"
    }
   ],
   "source": [
    "plt.plot(tVec, dy_dt_Orig_i)\n",
    "plt.plot(tVec, dy_dt_i)\n",
    "plt.xscale('log')"
   ]
  },
  {
   "cell_type": "code",
   "execution_count": 15,
   "id": "4ac691b5",
   "metadata": {},
   "outputs": [
    {
     "name": "stdout",
     "output_type": "stream",
     "text": [
      "\n",
      "[ROMNet]: Reading Input File from:  /Users/sventur/WORKSPACE//ROMNet/PSR_10Cases/DeepONet/Deterministic/Run_24/\n",
      "\n",
      "[ROMNet]: Keep Loading Modules and Functions...\n",
      "\n",
      "[ROMNet]: Initializing Input ...\n"
     ]
    }
   ],
   "source": [
    "print(\"\\n[ROMNet]: Reading Input File from: \", path_to_run_fld)\n",
    "sys.path.insert(0, path_to_run_fld)\n",
    "\n",
    "print(\"\\n[ROMNet]: Keep Loading Modules and Functions...\")\n",
    "from ROMNet_Input import inputdata\n",
    "\n",
    "print(\"\\n[ROMNet]: Initializing Input ...\")\n",
    "InputData               = inputdata(WORKSPACE_PATH, ROMNet_fld)\n",
    "\n",
    "\n",
    "InputData.InputFilePath = path_to_run_fld+'/ROMNet_Input.py'\n",
    "InputData.train_int_flg   = 0\n",
    "InputData.path_to_run_fld  = path_to_run_fld"
   ]
  },
  {
   "cell_type": "code",
   "execution_count": 16,
   "id": "322f7d7e",
   "metadata": {},
   "outputs": [],
   "source": [
    "Var        = 'H'\n",
    "\n",
    "\n",
    "FileName   = DirDir + '/Orig/train/ext/RestVecTot.csv'\n",
    "DataRest   = pd.read_csv(FileName, header=None)\n",
    "Rest       = DataRest.to_numpy()\n",
    "\n",
    "PSR        = rmnt.pinn.system.PSR(InputData)\n",
    "\n",
    "dy_dt_Pred = PSR.f_temp(0., y_Masked, np.log10(Rest))"
   ]
  },
  {
   "cell_type": "code",
   "execution_count": 17,
   "id": "af75b2c5",
   "metadata": {},
   "outputs": [
    {
     "data": {
      "text/plain": [
       "array([-6.33907912e+00, -5.00152913e+00, -1.71957091e+00, -2.13994880e+01,\n",
       "        6.77096619e+03, -5.43593707e+01, -2.42763169e+02, -5.24223892e-02,\n",
       "       -2.50687552e-03, -7.87165031e-09, -9.46922582e-10, -1.94239549e-07,\n",
       "       -6.69702821e-09, -3.18507260e-07,  1.72039890e+03, -1.49554911e+02,\n",
       "       -1.70090329e+02, -5.66256309e-04, -4.73340691e-06, -2.77295203e-10,\n",
       "       -7.14058038e-12, -6.72401859e-12, -3.06187464e-14, -2.50904512e-13,\n",
       "       -2.23353898e-17, -2.90991999e-18, -3.75583956e-22, -6.65548274e-24,\n",
       "       -9.73884737e-12, -2.25420213e-12, -1.58282676e-14,  0.00000000e+00,\n",
       "        0.00000000e+00,  0.00000000e+00,  0.00000000e+00,  0.00000000e+00,\n",
       "        0.00000000e+00,  0.00000000e+00,  0.00000000e+00,  0.00000000e+00,\n",
       "        0.00000000e+00,  0.00000000e+00,  0.00000000e+00,  0.00000000e+00,\n",
       "        0.00000000e+00,  0.00000000e+00,  0.00000000e+00,  0.00000000e+00,\n",
       "        0.00000000e+00,  0.00000000e+00, -1.48488521e-34, -1.58496302e-36,\n",
       "       -3.20491386e-13, -5.43058899e-15])"
      ]
     },
     "execution_count": 17,
     "metadata": {},
     "output_type": "execute_result"
    }
   ],
   "source": [
    "dy_dt_Orig[0,:]"
   ]
  },
  {
   "cell_type": "code",
   "execution_count": 18,
   "id": "f1a889af",
   "metadata": {},
   "outputs": [
    {
     "data": {
      "text/plain": [
       "array([-6.33907912e+00, -5.00152913e+00, -1.71957091e+00, -2.13994880e+01,\n",
       "        6.77096619e+03, -5.43593707e+01, -2.42763169e+02, -5.24223892e-02,\n",
       "       -2.50687553e-03, -7.87165031e-09, -9.46922582e-10, -1.94239549e-07,\n",
       "       -6.69702821e-09, -3.18507260e-07,  1.72039890e+03, -1.49554911e+02,\n",
       "       -1.70090329e+02, -5.66256309e-04, -4.73340691e-06, -2.77295203e-10,\n",
       "       -7.14058038e-12, -6.72401859e-12, -3.06187464e-14, -2.50904512e-13,\n",
       "       -2.23353898e-17, -2.90991999e-18, -6.32122731e-20, -9.73884737e-12,\n",
       "       -2.25420213e-12, -1.58282676e-14, -3.20491386e-13, -5.43058899e-15])"
      ]
     },
     "execution_count": 18,
     "metadata": {},
     "output_type": "execute_result"
    }
   ],
   "source": [
    "dy_dt_Pred[0,:]"
   ]
  },
  {
   "cell_type": "code",
   "execution_count": null,
   "id": "3223378b",
   "metadata": {},
   "outputs": [],
   "source": []
  }
 ],
 "metadata": {
  "kernelspec": {
   "display_name": "Python 3",
   "language": "python",
   "name": "python3"
  },
  "language_info": {
   "codemirror_mode": {
    "name": "ipython",
    "version": 3
   },
   "file_extension": ".py",
   "mimetype": "text/x-python",
   "name": "python",
   "nbconvert_exporter": "python",
   "pygments_lexer": "ipython3",
   "version": "3.8.11"
  }
 },
 "nbformat": 4,
 "nbformat_minor": 5
}
