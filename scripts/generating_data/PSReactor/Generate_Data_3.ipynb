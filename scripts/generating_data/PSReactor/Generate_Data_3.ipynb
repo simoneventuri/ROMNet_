{
 "cells": [
  {
   "cell_type": "markdown",
   "metadata": {},
   "source": [
    "## Finilizing Data Generation for PSR System"
   ]
  },
  {
   "cell_type": "code",
   "execution_count": 1,
   "metadata": {},
   "outputs": [
    {
     "name": "stdout",
     "output_type": "stream",
     "text": [
      "3.8.12 (default, Aug 31 2021, 04:09:21) \n",
      "[Clang 12.0.5 (clang-1205.0.22.9)]\n"
     ]
    }
   ],
   "source": [
    "### Importing Libraries\n",
    "\n",
    "import sys\n",
    "print(sys.version)\n",
    "import os\n",
    "import numpy as np\n",
    "import pandas as pd\n",
    "import time\n",
    "\n",
    "import matplotlib.pyplot as plt\n",
    "WORKSPACE_PATH  = os.environ['WORKSPACE_PATH']\n",
    "plt.style.use(WORKSPACE_PATH+'/ROMNet/romnet/extra/postprocessing/presentation.mplstyle')\n",
    "\n",
    "from scipy.integrate import solve_ivp"
   ]
  },
  {
   "cell_type": "code",
   "execution_count": 2,
   "metadata": {},
   "outputs": [],
   "source": [
    "### Input Data\n",
    "\n",
    "OutputDir  = WORKSPACE_PATH+'/ROMNet/Data/PSR_100Cases/'\n",
    "TestDir    = WORKSPACE_PATH+'/ROMNet/Data/PSR_100Cases_Test/'\n",
    "try:\n",
    "    os.makedirs(OutputDir)\n",
    "except OSError as e:\n",
    "    pass\n",
    "try:\n",
    "    os.makedirs(TestDir)\n",
    "except OSError as e:\n",
    "    pass\n",
    "\n",
    "tStratch           = 1.\n",
    "SOLVER             = 'BDF'\n",
    "\n",
    "ValidPerc          = 20.\n",
    "\n",
    "FixedMinVal        = 1.e-10"
   ]
  },
  {
   "cell_type": "code",
   "execution_count": 3,
   "metadata": {},
   "outputs": [],
   "source": [
    "### Retrieving Data\n",
    "\n",
    "FileName = OutputDir + '/Orig/train/ext/Cleanvars.csv'\n",
    "Vars     = pd.read_csv(FileName, header=None)\n",
    "Vars     = list(Vars.to_numpy()[0,:])\n",
    "\n",
    "\n",
    "FileName     = OutputDir + '/Orig/train/ext/RestVecTot.csv'\n",
    "Data         = pd.read_csv(FileName, header=None)\n",
    "RestVecTot   = np.log10(Data.to_numpy())\n",
    "    \n",
    "# FileName     = OutputDir+'/orig_data/t.csv'\n",
    "# Data         = pd.read_csv(FileName, header=None)\n",
    "# tVec         = Data.to_numpy()[:,0]\n",
    "\n",
    "# FileName     = OutputDir + '/orig_data/yCleaned.csv'\n",
    "# yMatOrig     = pd.read_csv(FileName, header=0)\n",
    "# VarNames     = list(yMatOrig.columns)\n",
    "# yMat         = yMatOrig.to_numpy()\n",
    "\n",
    "FileName             = OutputDir+'/Orig/train/ext/yCleaned.csv'\n",
    "Data                 = pd.read_csv(FileName, header=0)\n",
    "Data.rename(columns={\"# t\": \"t\"}, inplace=True)\n",
    "Data[Data.t == 0.].t = FixedMinVal\n",
    "Data['log(t)']       = np.log(Data.t.to_numpy())\n",
    "Data['log10(t)']     = np.log10(Data.t.to_numpy())\n",
    "Data['log10(Rest)']  = RestVecTot\n",
    "Data['Rest']         = 10.**RestVecTot\n",
    "yMat                 = Data[Vars].to_numpy()\n",
    "\n",
    "\n",
    "### Writing Input\n",
    "InputVar     = ['t', 'log10(t)', 'Rest', 'log10(Rest)']\n",
    "DataInput    = Data[InputVar]\n",
    "DataInput.to_csv(OutputDir+'/Orig/train/ext/Input.csv', index=False)\n",
    "tVec         = DataInput.t.to_numpy()\n",
    "\n",
    "\n",
    "### Writing PCs\n",
    "Data.to_csv(OutputDir+'/Orig/train/ext/Output.csv', index=False)"
   ]
  },
  {
   "cell_type": "code",
   "execution_count": null,
   "metadata": {},
   "outputs": [],
   "source": []
  },
  {
   "cell_type": "code",
   "execution_count": null,
   "metadata": {},
   "outputs": [],
   "source": []
  },
  {
   "cell_type": "code",
   "execution_count": null,
   "metadata": {},
   "outputs": [],
   "source": []
  },
  {
   "cell_type": "code",
   "execution_count": 4,
   "metadata": {},
   "outputs": [],
   "source": [
    "from sklearn.model_selection import train_test_split\n",
    "\n",
    "n_points             = len(Data)\n",
    "\n",
    "idx                  = np.arange(n_points)\n",
    "train_idx, valid_idx = train_test_split(idx, test_size=ValidPerc/100, random_state=42)\n",
    "\n",
    "n_valid              = len(valid_idx)\n",
    "n_train              = len(train_idx)\n",
    "\n",
    "try:\n",
    "    os.makedirs(OutputDir+'/Orig/train/')\n",
    "except:\n",
    "    pass\n",
    "try:\n",
    "    os.makedirs(OutputDir+'/Orig/valid/')\n",
    "except:\n",
    "    pass"
   ]
  },
  {
   "cell_type": "code",
   "execution_count": 5,
   "metadata": {},
   "outputs": [],
   "source": [
    "data_id    = 'pts'\n",
    "\n",
    "try:\n",
    "    os.makedirs(OutputDir+'/Orig/train/'+data_id+'/')\n",
    "except:\n",
    "    pass\n",
    "try:\n",
    "    os.makedirs(OutputDir+'/Orig/valid/'+data_id+'/')\n",
    "except:\n",
    "    pass\n",
    "\n",
    "DataInput  = Data[['t', 'log10(t)', 'log(t)', 'log10(Rest)']]\n",
    "DataInput.iloc[train_idx].to_csv(OutputDir+'/Orig/train/'+data_id+'/Input.csv', index=False)\n",
    "DataInput.iloc[valid_idx].to_csv(OutputDir+'/Orig/valid/'+data_id+'/Input.csv', index=False)\n",
    "\n",
    "DataOutput = Data[['t', 'log10(t)', 'log(t)'] + Vars]\n",
    "DataOutput.iloc[train_idx].to_csv(OutputDir+'/Orig/train/'+data_id+'/Output.csv', index=False)\n",
    "DataOutput.iloc[valid_idx].to_csv(OutputDir+'/Orig/valid/'+data_id+'/Output.csv', index=False)"
   ]
  },
  {
   "cell_type": "code",
   "execution_count": 6,
   "metadata": {},
   "outputs": [
    {
     "name": "stderr",
     "output_type": "stream",
     "text": [
      "<ipython-input-6-47a756bd24f1>:17: SettingWithCopyWarning: \n",
      "A value is trying to be set on a copy of a slice from a DataFrame.\n",
      "Try using .loc[row_indexer,col_indexer] = value instead\n",
      "\n",
      "See the caveats in the documentation: https://pandas.pydata.org/pandas-docs/stable/user_guide/indexing.html#returning-a-view-versus-a-copy\n",
      "  DataOutput[Vars] = DataOutput[Vars].to_numpy() * 0.\n",
      "/usr/local/lib/python3.8/site-packages/pandas/core/frame.py:3069: SettingWithCopyWarning: \n",
      "A value is trying to be set on a copy of a slice from a DataFrame\n",
      "\n",
      "See the caveats in the documentation: https://pandas.pydata.org/pandas-docs/stable/user_guide/indexing.html#returning-a-view-versus-a-copy\n",
      "  self.iloc._setitem_with_indexer((slice(None), indexer), value)\n",
      "/usr/local/lib/python3.8/site-packages/pandas/core/frame.py:3034: SettingWithCopyWarning: \n",
      "A value is trying to be set on a copy of a slice from a DataFrame\n",
      "\n",
      "See the caveats in the documentation: https://pandas.pydata.org/pandas-docs/stable/user_guide/indexing.html#returning-a-view-versus-a-copy\n",
      "  self._setitem_array(key, value)\n"
     ]
    }
   ],
   "source": [
    "data_id    = 'res'\n",
    "\n",
    "try:\n",
    "    os.makedirs(OutputDir+'/Orig/train/'+data_id+'/')\n",
    "except:\n",
    "    pass\n",
    "try:\n",
    "    os.makedirs(OutputDir+'/Orig/valid/'+data_id+'/')\n",
    "except:\n",
    "    pass\n",
    "\n",
    "DataInput  = Data[['t', 'log10(t)', 'log10(t)', 'log10(Rest)']]\n",
    "DataInput.iloc[train_idx].to_csv(OutputDir+'/Orig/train/'+data_id+'/Input.csv', index=False)\n",
    "DataInput.iloc[valid_idx].to_csv(OutputDir+'/Orig/valid/'+data_id+'/Input.csv', index=False)\n",
    "\n",
    "DataOutput       = Data[['t', 'log10(t)', 'log(t)'] + Vars]\n",
    "DataOutput[Vars] = DataOutput[Vars].to_numpy() * 0.\n",
    "DataOutput.iloc[train_idx].to_csv(OutputDir+'/Orig/train/'+data_id+'/Output.csv', index=False)\n",
    "DataOutput.iloc[valid_idx].to_csv(OutputDir+'/Orig/valid/'+data_id+'/Output.csv', index=False)"
   ]
  },
  {
   "cell_type": "code",
   "execution_count": 7,
   "metadata": {},
   "outputs": [
    {
     "ename": "ValueError",
     "evalue": "With n_samples=0, test_size=0.2 and train_size=None, the resulting train set will be empty. Adjust any of the aforementioned parameters.",
     "output_type": "error",
     "traceback": [
      "\u001b[0;31m---------------------------------------------------------------------------\u001b[0m",
      "\u001b[0;31mValueError\u001b[0m                                Traceback (most recent call last)",
      "\u001b[0;32m<ipython-input-7-a346f53dbeb2>\u001b[0m in \u001b[0;36m<module>\u001b[0;34m\u001b[0m\n\u001b[1;32m     13\u001b[0m \u001b[0mn_points_ics\u001b[0m                 \u001b[0;34m=\u001b[0m \u001b[0mlen\u001b[0m\u001b[0;34m(\u001b[0m\u001b[0mData_ics\u001b[0m\u001b[0;34m)\u001b[0m\u001b[0;34m\u001b[0m\u001b[0;34m\u001b[0m\u001b[0m\n\u001b[1;32m     14\u001b[0m \u001b[0midx_ics\u001b[0m                      \u001b[0;34m=\u001b[0m \u001b[0mnp\u001b[0m\u001b[0;34m.\u001b[0m\u001b[0marange\u001b[0m\u001b[0;34m(\u001b[0m\u001b[0mn_points_ics\u001b[0m\u001b[0;34m)\u001b[0m\u001b[0;34m\u001b[0m\u001b[0;34m\u001b[0m\u001b[0m\n\u001b[0;32m---> 15\u001b[0;31m \u001b[0mtrain_idx_ics\u001b[0m\u001b[0;34m,\u001b[0m \u001b[0mvalid_idx_ics\u001b[0m \u001b[0;34m=\u001b[0m \u001b[0mtrain_test_split\u001b[0m\u001b[0;34m(\u001b[0m\u001b[0midx_ics\u001b[0m\u001b[0;34m,\u001b[0m \u001b[0mtest_size\u001b[0m\u001b[0;34m=\u001b[0m\u001b[0mValidPerc\u001b[0m\u001b[0;34m/\u001b[0m\u001b[0;36m100\u001b[0m\u001b[0;34m,\u001b[0m \u001b[0mrandom_state\u001b[0m\u001b[0;34m=\u001b[0m\u001b[0;36m42\u001b[0m\u001b[0;34m)\u001b[0m\u001b[0;34m\u001b[0m\u001b[0;34m\u001b[0m\u001b[0m\n\u001b[0m\u001b[1;32m     16\u001b[0m \u001b[0;34m\u001b[0m\u001b[0m\n\u001b[1;32m     17\u001b[0m \u001b[0mDataInput\u001b[0m      \u001b[0;34m=\u001b[0m \u001b[0mData_ics\u001b[0m\u001b[0;34m[\u001b[0m\u001b[0;34m[\u001b[0m\u001b[0;34m't'\u001b[0m\u001b[0;34m,\u001b[0m \u001b[0;34m'log10(t)'\u001b[0m\u001b[0;34m,\u001b[0m \u001b[0;34m'log(t)'\u001b[0m\u001b[0;34m,\u001b[0m \u001b[0;34m'log10(Rest)'\u001b[0m\u001b[0;34m]\u001b[0m\u001b[0;34m]\u001b[0m\u001b[0;34m\u001b[0m\u001b[0;34m\u001b[0m\u001b[0m\n",
      "\u001b[0;32m/usr/local/lib/python3.8/site-packages/sklearn/model_selection/_split.py\u001b[0m in \u001b[0;36mtrain_test_split\u001b[0;34m(*arrays, **options)\u001b[0m\n\u001b[1;32m   2128\u001b[0m \u001b[0;34m\u001b[0m\u001b[0m\n\u001b[1;32m   2129\u001b[0m     \u001b[0mn_samples\u001b[0m \u001b[0;34m=\u001b[0m \u001b[0m_num_samples\u001b[0m\u001b[0;34m(\u001b[0m\u001b[0marrays\u001b[0m\u001b[0;34m[\u001b[0m\u001b[0;36m0\u001b[0m\u001b[0;34m]\u001b[0m\u001b[0;34m)\u001b[0m\u001b[0;34m\u001b[0m\u001b[0;34m\u001b[0m\u001b[0m\n\u001b[0;32m-> 2130\u001b[0;31m     n_train, n_test = _validate_shuffle_split(n_samples, test_size, train_size,\n\u001b[0m\u001b[1;32m   2131\u001b[0m                                               default_test_size=0.25)\n\u001b[1;32m   2132\u001b[0m \u001b[0;34m\u001b[0m\u001b[0m\n",
      "\u001b[0;32m/usr/local/lib/python3.8/site-packages/sklearn/model_selection/_split.py\u001b[0m in \u001b[0;36m_validate_shuffle_split\u001b[0;34m(n_samples, test_size, train_size, default_test_size)\u001b[0m\n\u001b[1;32m   1808\u001b[0m \u001b[0;34m\u001b[0m\u001b[0m\n\u001b[1;32m   1809\u001b[0m     \u001b[0;32mif\u001b[0m \u001b[0mn_train\u001b[0m \u001b[0;34m==\u001b[0m \u001b[0;36m0\u001b[0m\u001b[0;34m:\u001b[0m\u001b[0;34m\u001b[0m\u001b[0;34m\u001b[0m\u001b[0m\n\u001b[0;32m-> 1810\u001b[0;31m         raise ValueError(\n\u001b[0m\u001b[1;32m   1811\u001b[0m             \u001b[0;34m'With n_samples={}, test_size={} and train_size={}, the '\u001b[0m\u001b[0;34m\u001b[0m\u001b[0;34m\u001b[0m\u001b[0m\n\u001b[1;32m   1812\u001b[0m             \u001b[0;34m'resulting train set will be empty. Adjust any of the '\u001b[0m\u001b[0;34m\u001b[0m\u001b[0;34m\u001b[0m\u001b[0m\n",
      "\u001b[0;31mValueError\u001b[0m: With n_samples=0, test_size=0.2 and train_size=None, the resulting train set will be empty. Adjust any of the aforementioned parameters."
     ]
    }
   ],
   "source": [
    "data_id = 'ics'\n",
    "\n",
    "try:\n",
    "    os.makedirs(OutputDir+'/Orig/train/'+data_id+'/')\n",
    "except:\n",
    "    pass\n",
    "try:\n",
    "    os.makedirs(OutputDir+'/Orig/valid/'+data_id+'/')\n",
    "except:\n",
    "    pass\n",
    "\n",
    "Data_ics                     = Data[Data['t'] == 0.]\n",
    "n_points_ics                 = len(Data_ics)\n",
    "idx_ics                      = np.arange(n_points_ics)\n",
    "train_idx_ics, valid_idx_ics = train_test_split(idx_ics, test_size=ValidPerc/100, random_state=42)\n",
    "\n",
    "DataInput      = Data_ics[['t', 'log10(t)', 'log(t)', 'log10(Rest)']]\n",
    "DataInput.iloc[train_idx_ics].to_csv(OutputDir+'/Orig/train/'+data_id+'/Input.csv', index=False)\n",
    "DataInput.iloc[valid_idx_ics].to_csv(OutputDir+'/Orig/valid/'+data_id+'/Input.csv', index=False)\n",
    "\n",
    "DataOutput       = Data_ics[['t', 'log10(t)', 'log(t)'] + Vars]\n",
    "DataOutput.iloc[train_idx_ics].to_csv(OutputDir+'/Orig/train/'+data_id+'/Output.csv', index=False)\n",
    "DataOutput.iloc[valid_idx_ics].to_csv(OutputDir+'/Orig/valid/'+data_id+'/Output.csv', index=False)"
   ]
  },
  {
   "cell_type": "code",
   "execution_count": null,
   "metadata": {},
   "outputs": [],
   "source": []
  },
  {
   "cell_type": "code",
   "execution_count": null,
   "metadata": {},
   "outputs": [],
   "source": []
  },
  {
   "cell_type": "code",
   "execution_count": null,
   "metadata": {},
   "outputs": [],
   "source": []
  },
  {
   "cell_type": "code",
   "execution_count": null,
   "metadata": {},
   "outputs": [],
   "source": [
    "# ### Retrieving Data\n",
    "\n",
    "# Vars = []\n",
    "# for iVars in range(1,NVarsRed+1):\n",
    "#     Vars.append('PC_'+str(iVars))\n",
    "\n",
    "# SVars = []\n",
    "# for iVars in range(1,NVarsRed+1):\n",
    "#     SVars.append('SPC_'+str(iVars))\n",
    "\n",
    "# FileName     = TestDir + '/orig_data/RestVecTot.csv'\n",
    "# Data         = pd.read_csv(FileName, header=None)\n",
    "# RestVecTot   = np.log10(Data.to_numpy())\n",
    "    \n",
    "# # FileName     = TestDir+'/orig_data/t.csv'\n",
    "# # Data         = pd.read_csv(FileName, header=None)\n",
    "# # tVec         = Data.to_numpy()[:,0]\n",
    "\n",
    "# # FileName     = TestDir + '/orig_data/yCleaned.csv'\n",
    "# # yMatOrig     = pd.read_csv(FileName, header=0)\n",
    "# # VarNames     = list(yMatOrig.columns)\n",
    "# # yMat         = yMatOrig.to_numpy()\n",
    "\n",
    "# FileName             = TestDir+'/'+str(NVarsRed)+'PC/PC.csv'\n",
    "# Data                 = pd.read_csv(FileName, header=0)\n",
    "# Data['log10(t)']     = np.log10(Data.t.to_numpy()+1.e-15)\n",
    "# Data['log10(Rest)']  = RestVecTot\n",
    "# Data['Rest']         = 10.**RestVecTot\n",
    "# yMat_pca             = Data[Vars].to_numpy()\n",
    "\n",
    "# FileName             = TestDir+'/'+str(NVarsRed)+'PC/PCSource.csv'\n",
    "# DataS                = pd.read_csv(FileName, header=0)\n",
    "# DataS['log10(t)']    = np.log10(Data.t.to_numpy()+1.e-15)\n",
    "# DataS['log10(Rest)'] = RestVecTot\n",
    "# DataS['Rest']        = 10.**RestVecTot\n",
    "# ySource_pca          = DataS[SVars].to_numpy()\n",
    "\n",
    "\n",
    "# ### Writing Input\n",
    "# InputVar     = ['t', 'log10(t)', 'Rest', 'log10(Rest)']\n",
    "# DataInput    = Data[InputVar]\n",
    "# DataInput.to_csv(TestDir+'/'+str(NVarsRed)+'PC/Input.csv', index=False)\n",
    "# tVec         = DataInput.t.to_numpy()\n",
    "\n",
    "\n",
    "# ### Writing PCs\n",
    "# Data.to_csv(TestDir+'/'+str(NVarsRed)+'PC/Output.csv', index=False)\n",
    "\n",
    "\n",
    "# ### Normalizing PCs' Source Terms\n",
    "# ySourcee_pca = (ySource_pca - yMin)/yRange\n",
    "# #ySourcee_pca = (ySource_pca - yMin)/yRange[0]\n",
    "\n",
    "# for iPC in range(NVarsRed):\n",
    "#     DataS['SPC_'+str(iPC+1)+'_Scaled'] = ySourcee_pca[:,iPC]\n",
    "# DataS.to_csv(TestDir+'/'+str(NVarsRed)+'PC/dOutput.csv', index=False)"
   ]
  }
 ],
 "metadata": {
  "kernelspec": {
   "display_name": "Python 3",
   "language": "python",
   "name": "python3"
  },
  "language_info": {
   "codemirror_mode": {
    "name": "ipython",
    "version": 3
   },
   "file_extension": ".py",
   "mimetype": "text/x-python",
   "name": "python",
   "nbconvert_exporter": "python",
   "pygments_lexer": "ipython3",
   "version": "3.8.12"
  }
 },
 "nbformat": 4,
 "nbformat_minor": 4
}
