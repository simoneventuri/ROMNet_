{
 "cells": [
  {
   "cell_type": "code",
   "execution_count": 1,
   "id": "a37f6b15",
   "metadata": {},
   "outputs": [
    {
     "name": "stdout",
     "output_type": "stream",
     "text": [
      "3.8.11 (default, Jun 29 2021, 03:17:05) \n",
      "[Clang 12.0.0 (clang-1200.0.32.29)]\n"
     ]
    }
   ],
   "source": [
    "import sys\n",
    "print(sys.version)\n",
    "import os\n",
    "import numpy as np\n",
    "import pandas as pd\n",
    "import time\n",
    "\n",
    "import matplotlib.pyplot as plt\n",
    "WORKSPACE_PATH  = os.environ['WORKSPACE_PATH']\n",
    "plt.style.use(WORKSPACE_PATH+'/ROMNet/romnet/extra/postprocessing/presentation.mplstyle')\n",
    "\n",
    "import cantera as ct\n",
    "from scipy.integrate import solve_ivp\n",
    "\n",
    "\n",
    "##########################################################################################\n",
    "### Input Data\n",
    "\n",
    "OutputDir          = WORKSPACE_PATH + '/ROMNet/Data_31PSR_Clean/'\n",
    "FigDir             = OutputDir + '/fig/'\n",
    "\n",
    "MixtureFile        = 'gri30.yaml'\n",
    "NRests             = 31\n",
    "RestVec            = np.logspace(np.log10(1.e-6), np.log10(1.e-4), NRests) # [2.e-5]\n",
    "#RestVec            = np.concatenate([np.linspace(1.e-6, 1.e-5, 20), np.linspace(2.e-5, 1.e-4, 19)])# [2.e-5]\n",
    "NPerRest           = 1000\n",
    "\n",
    "tStratch           = 1.\n",
    "Nt                 = NPerRest*2\n",
    "\n",
    "T0Inlet            = 300.\n",
    "P0Inlet            = ct.one_atm\n",
    "EqRatioInlet       = 1."
   ]
  },
  {
   "cell_type": "code",
   "execution_count": 23,
   "id": "b6c61a38",
   "metadata": {},
   "outputs": [
    {
     "name": "stdout",
     "output_type": "stream",
     "text": [
      "Rest =  1e-06\n"
     ]
    }
   ],
   "source": [
    "##########################################################################################\n",
    "### Generating Training Data\n",
    "\n",
    "### Writing Residence Times\n",
    "FileName = OutputDir+'/orig_data/ResidenceTimes.csv'\n",
    "np.savetxt(FileName, RestVec)\n",
    "\n",
    "\n",
    "\n",
    "### Iterating Over Residence Times\n",
    "DataMat  = None\n",
    "iStart   = np.zeros(len(RestVec))\n",
    "iEnd     = np.zeros(len(RestVec))\n",
    "iSim     = 0\n",
    "Rest = RestVec[0]\n",
    "print('Rest = ', Rest)\n",
    "\n",
    "\n",
    "### Create Mixture\n",
    "gas   = ct.Solution(MixtureFile)\n",
    "cpi   = gas.partial_molar_cp/gas.molecular_weights\n",
    "NSpec = gas.n_species\n",
    "\n",
    "\n",
    "### Create Inlet\n",
    "gas.TP      = T0Inlet, P0Inlet \n",
    "gas.set_equivalence_ratio(EqRatioInlet, 'CH4:1.0', 'O2:1.0, N2:0.0', basis='mass')\n",
    "YIn_        = gas.Y\n",
    "hIn_        = np.dot(gas.X/gas.volume_mole, gas.partial_molar_enthalpies) / gas.density\n",
    "\n",
    "### Create Combustor\n",
    "gas.equilibrate('HP')\n",
    "gas_       = gas\n",
    "P_         = gas.P\n",
    "V_         = 1.0\n",
    "h0         = np.dot(gas.X/gas.volume_mole, gas.partial_molar_enthalpies)/gas.density\n",
    "gas_.HP    = h0, gas.P\n",
    "Ny         = gas.n_species+1\n",
    "\n",
    "Rest_      = Rest\n",
    "mdot_      = gas.density * V_ / Rest_\n",
    "\n",
    "y0         = np.array(np.hstack((h0*gas.density*V_, gas.Y*gas.density*V_)), dtype=np.float64)"
   ]
  },
  {
   "cell_type": "code",
   "execution_count": 25,
   "id": "57412827",
   "metadata": {},
   "outputs": [
    {
     "data": {
      "text/plain": [
       "6.766612905833977e-14"
      ]
     },
     "execution_count": 25,
     "metadata": {},
     "output_type": "execute_result"
    }
   ],
   "source": []
  },
  {
   "cell_type": "code",
   "execution_count": 13,
   "id": "202ad096",
   "metadata": {},
   "outputs": [],
   "source": [
    "species = [gas.species_name(i) for i in range(len(gas.Y))]"
   ]
  },
  {
   "cell_type": "code",
   "execution_count": 20,
   "id": "c86432ac",
   "metadata": {},
   "outputs": [
    {
     "data": {
      "text/plain": [
       "'H2O'"
      ]
     },
     "execution_count": 20,
     "metadata": {},
     "output_type": "execute_result"
    }
   ],
   "source": [
    "species[5]"
   ]
  },
  {
   "cell_type": "code",
   "execution_count": null,
   "id": "7868a02f",
   "metadata": {},
   "outputs": [],
   "source": []
  }
 ],
 "metadata": {
  "kernelspec": {
   "display_name": "Python 3",
   "language": "python",
   "name": "python3"
  },
  "language_info": {
   "codemirror_mode": {
    "name": "ipython",
    "version": 3
   },
   "file_extension": ".py",
   "mimetype": "text/x-python",
   "name": "python",
   "nbconvert_exporter": "python",
   "pygments_lexer": "ipython3",
   "version": "3.8.11"
  }
 },
 "nbformat": 4,
 "nbformat_minor": 5
}
